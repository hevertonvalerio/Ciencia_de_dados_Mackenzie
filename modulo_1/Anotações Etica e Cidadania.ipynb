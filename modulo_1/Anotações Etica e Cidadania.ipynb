{
  "nbformat": 4,
  "nbformat_minor": 0,
  "metadata": {
    "colab": {
      "provenance": [],
      "authorship_tag": "ABX9TyMun6AKSbZmIbgvWe1mHv+s"
    },
    "kernelspec": {
      "name": "python3",
      "display_name": "Python 3"
    },
    "language_info": {
      "name": "python"
    }
  },
  "cells": [
    {
      "cell_type": "markdown",
      "source": [
        "# Anotações Etica e Cidadania\n"
      ],
      "metadata": {
        "id": "RB2DpBHRrhWh"
      }
    },
    {
      "cell_type": "markdown",
      "source": [
        "## Aula 1 - Porque estudar ética e cidadania: Conceituação e Problematização"
      ],
      "metadata": {
        "id": "pE_qQmcyqSJq"
      }
    },
    {
      "cell_type": "markdown",
      "source": [
        "**Objetivo da aula**\n",
        "\n",
        "A partir da compreensão dos diversos modos de estruturação social e dos desafios que eles impõem, definir os conceitos de ética, moral e cidadania, além do desenvolvimento histórico de cada um deles e sua importância para o bem comum."
      ],
      "metadata": {
        "id": "c9_0tpoGupsN"
      }
    },
    {
      "cell_type": "markdown",
      "source": [
        "## Aula 2 - Panorama das teorias ético-normativas e suas aplicabilidades"
      ],
      "metadata": {
        "id": "XtD4m3fkqRpf"
      }
    },
    {
      "cell_type": "markdown",
      "source": [
        "**Objetivo da aula**\n",
        "\n",
        "Conhecer as teorias ético-normativas mais sublinhadas da atualidade e entender como elas influenciam as decisões pessoais e coletivas nos mais diferentes espaços, do privado ao público."
      ],
      "metadata": {
        "id": "JinTy-CWqoyz"
      }
    }
  ]
}