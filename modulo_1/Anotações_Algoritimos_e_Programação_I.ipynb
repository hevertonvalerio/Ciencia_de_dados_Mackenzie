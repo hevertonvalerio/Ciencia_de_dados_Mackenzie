{
  "nbformat": 4,
  "nbformat_minor": 0,
  "metadata": {
    "colab": {
      "provenance": [],
      "toc_visible": true,
      "authorship_tag": "ABX9TyMwJ1nri8yv7TPqRhTuzNDu",
      "include_colab_link": true
    },
    "kernelspec": {
      "name": "python3",
      "display_name": "Python 3"
    },
    "language_info": {
      "name": "python"
    }
  },
  "cells": [
    {
      "cell_type": "markdown",
      "metadata": {
        "id": "view-in-github",
        "colab_type": "text"
      },
      "source": [
        "<a href=\"https://colab.research.google.com/github/hevertonvalerio/Ciencia_de_dados_Mackenzie/blob/main/modulo_1/Anota%C3%A7%C3%B5es_Algoritimos_e_Programa%C3%A7%C3%A3o_I.ipynb\" target=\"_parent\"><img src=\"https://colab.research.google.com/assets/colab-badge.svg\" alt=\"Open In Colab\"/></a>"
      ]
    },
    {
      "cell_type": "markdown",
      "source": [
        "# Algoritimos e Programação I\n"
      ],
      "metadata": {
        "id": "RB2DpBHRrhWh"
      }
    },
    {
      "cell_type": "markdown",
      "source": [
        "# Aula 1 - Fundamentos de Algoritimo e Programação\n",
        "\n",
        "\n",
        "**Objetivo da aula desta aula são:**\n",
        "\n",
        "\n",
        "- compreender a origem e o significado do termo algoritmo;\n",
        "\n",
        "- aplicar este conceito para resolver alguns problemas simples;\n",
        "\n",
        "- entender a relação de algoritmos com programas de computadores;\n",
        "\n",
        "- implementar algoritmos em fluxograma, pseudocódigo e Python."
      ],
      "metadata": {
        "id": "c9_0tpoGupsN"
      }
    },
    {
      "cell_type": "markdown",
      "source": [
        "----"
      ],
      "metadata": {
        "id": "NUn0SVbQutFF"
      }
    },
    {
      "cell_type": "markdown",
      "source": [
        "IDE - Integrated Development Enviroment ()\n",
        "\n",
        "\n",
        "1.   Rodar\n",
        "2.   Debugar\n",
        "3.   Runtime Error\n",
        "\n",
        "Exemplos:\n",
        "*   Visual Studios - Microsoft\n",
        "*   VS Code -\n",
        "\n"
      ],
      "metadata": {
        "id": "5k5HNiZakPYX"
      }
    },
    {
      "cell_type": "markdown",
      "source": [
        "Algorotimo: procedimentos definidos para resolver problemas ou realizar\n",
        "\n"
      ],
      "metadata": {
        "id": "LHp1d1X8u9ge"
      }
    },
    {
      "cell_type": "markdown",
      "source": [
        "Do ponto de vista computacional, um algoritmo pode ser visto como um\n",
        "conjunto de regras e procedimentos lógicos perfeitamente definidos que le-\n",
        "vam à solução de um problema em um número finito de passos"
      ],
      "metadata": {
        "id": "2trw6CuyyVGQ"
      }
    },
    {
      "cell_type": "markdown",
      "source": [
        "Requisitos para um Algoritimo:\n",
        "\n",
        "1.   Finitude\n",
        "2.   Definição\n",
        "3.   Entrada\n",
        "4.   Saída\n",
        "5.   Eficácia\n",
        "\n"
      ],
      "metadata": {
        "id": "4bnhayyvyjdH"
      }
    },
    {
      "cell_type": "markdown",
      "source": [
        "Embora os requisitos de Knuth sejam intuitivos, falta-lhes rigor formal. A for-\n",
        "malidade pode ser conseguida com o uso de lógica  algoritmo seja uma sequência lógica de passos com começo, meio e fim.\n",
        "\n",
        "Comumente, essa lógica é conhecida como lógica de programação, e isso ocu-\n",
        "pará grande parte de nossa disciplina"
      ],
      "metadata": {
        "id": "T4TVnjt2zH-4"
      }
    },
    {
      "cell_type": "markdown",
      "source": [
        "A fim de resolver um problema computacionalmente, duas coisas são\n",
        "necessárias: uma representação que capta todos os aspectos relevantes\n",
        "do problema, e um algoritmo que resolve o problema pelo uso da repre-\n",
        "sentação."
      ],
      "metadata": {
        "id": "yaMAMJxazH41"
      }
    },
    {
      "cell_type": "markdown",
      "source": [
        "![Fluxograma da troca de um pneu](https://3.bp.blogspot.com/-0PC1u24EmOU/V6neO-ua2jI/AAAAAAAAALY/D6jR6MZfhJcV76yLe26ijwcyf4LhXHMZgCLcB/s1600/ScreenHunter_51%2BAug.%2B09%2B10.38.jpg)"
      ],
      "metadata": {
        "id": "dbP6YPfwzvML"
      }
    },
    {
      "cell_type": "markdown",
      "source": [
        "O que é um algoritimo?\n",
        "\n",
        "https://www.youtube.com/watch?v=1APsFtPWKdM\n",
        "\n",
        "receita de bolo. Proceso executável por etapas\n",
        "\n",
        "inicio -> entrada -> elaboração - > saída"
      ],
      "metadata": {
        "id": "pdP6TbD5kQPe"
      }
    },
    {
      "cell_type": "markdown",
      "source": [
        "Formas de represeentação da resolução de um problema"
      ],
      "metadata": {
        "id": "IfaHn5Am0Ucs"
      }
    },
    {
      "cell_type": "markdown",
      "source": [
        "**A) Fluxograma**\n",
        "\n",
        "RAPTOR – Flowchart Interpreter - para a instalação https://raptorflowchart.softonic.com.br/\n",
        "\n",
        "Sobre fluxograma, saiba mais em: https://www.citisystems.com.br/fluxo-grama/"
      ],
      "metadata": {
        "id": "fe5vPvP_0YK1"
      }
    },
    {
      "cell_type": "markdown",
      "source": [
        "**B) Pseudocódigo**\n",
        "\n",
        "Para instalação do Visualg, acesse o site: http://www.apoioinformatica.inf.br/produtos/visualg"
      ],
      "metadata": {
        "id": "eGUubc560d-h"
      }
    },
    {
      "cell_type": "markdown",
      "source": [
        "**C) Linguagem de Programação: Python**\n",
        "\n",
        "A página oficial do Python no Brasil, disponível em: https://python.org.br/empresas/"
      ],
      "metadata": {
        "id": "UNSsJYXh0f81"
      }
    },
    {
      "cell_type": "markdown",
      "source": [
        "Teórico sobre VARIÁVEIS:\n",
        "\n",
        "Muitas vezes, em nossos programas, precisamos reservar espaço na memória\n",
        "para guardar valores que o programa acessará e modificará. A este espaço de me-\n",
        "mória, devidamente rotulado por um nome (identificador), chamamos variável.\n",
        "Quando o espaço de memória possui um valor que não será modificado durante\n",
        "o programa, o chamamos de\n",
        "\n",
        "Uma variável tem um nome (identificador) que está associado a um espaço\n",
        "em memória que armazena um valor. Uma variável pode receber diferentes\n",
        "valores durante a execução de um programa, por isso o nome “variável”.\n",
        "\n",
        "Teórico sobre IDENTIFICADOR:\n",
        "\n",
        "Um **nome** ou **identificador** de uma variável é formado por uma sequência de\n",
        "um ou mais caracteres. Regras:\n",
        "* Pode conter apenas letras, dígitos e underscores (sublinhas).\n",
        "* Pode começar por uma letra ou underscore.\n",
        "* Não é permitido o uso de outros caracteres especiais (por exemplo, espaço).\n",
        "* Não é permitido o uso de palavras reservadas da linguagem a ser utilizada.\n",
        "* O identificador deve ser conciso, porém descritivo (idade é melhor que i,\n",
        "tamanho_nome é melhor que tamanho_do_nome_da_pessoa)"
      ],
      "metadata": {
        "id": "nM8GT_Pq0f2d"
      }
    },
    {
      "cell_type": "markdown",
      "source": [
        "**Tipos de Dados**\n",
        "\n",
        "* Integer (int) - 3\n",
        "* Float (float) - 3.2\n",
        "* String (str) - 'Hello World' ou '3.2'\n",
        "* Boolean (bool) - True ou False"
      ],
      "metadata": {
        "id": "7rnRQUOq4jJt"
      }
    },
    {
      "cell_type": "markdown",
      "source": [
        "A1 - Momento com o Professor - Fórum de Discussão\n",
        "Agora que você aprendeu os conceitos básicos sobre criação de algoritmos, entendeu que existem várias formas de apresentá-los (fluxograma, pseudocódigo, linguagem de programação) e foi apresentada a linguagem de programação Python, vamos discutir sobre as IDLEs disponíveis online para a programação em Python.\n",
        "\n",
        "Pesquise sobre as ferramentas disponíveis que permitem que você faça programas em Python Online e compartilhe com seus colegas, neste fórum.\n",
        "\n",
        "  \n",
        "\n",
        "Este fórum não é avaliativ"
      ],
      "metadata": {
        "id": "P4G9oYszyzVg"
      }
    },
    {
      "cell_type": "markdown",
      "source": [
        "Eu utilizo o Google Colab na maior parte do tempo, apesar de não se enquadrar exatamente na definição de uma IDLE, especialmente pela falta de funcionalidades avançadas de depuração ou gerenciamento de projetos. Até o momento esta é a minha opção favorita, por poder utiliza-la online direto do navegador, possuir uma grande quantidade de bibliotecas pré-instaladas no ambiente virtual e ampla integração com o Google Drive e Github."
      ],
      "metadata": {
        "id": "1i8_AA7vy2Ac"
      }
    },
    {
      "cell_type": "markdown",
      "source": [
        "O Google Colab, apesar de não se enquadrar exatamente na definição de uma IDLE, especialmente pela falta de funcionalidades de depuração ou gerenciamento de projetos, até o momento é a minha opção favorita, por poder utiliza-lo online direto do navegador, possuir uma grande quantidade de bibliotecas pré-instaladas no ambiente virtual e ampla integração com o Google Drive e Github.\n",
        "\n",
        "Porém para utilizar algo mais robusto, utilizo o Visual Studios Code, realmente é uma IDLE muito interessante, e possui versões ainda mais amplas, como a IDE Visual Studio Enterprise que pretendo experimentar algum dia, também tenho interesse em avaliar outras opções como a Eclipse e Android Studios."
      ],
      "metadata": {
        "id": "dk9a2iQ82qmf"
      }
    },
    {
      "cell_type": "markdown",
      "source": [
        "Texto de Apoio"
      ],
      "metadata": {
        "id": "MOcfCHt01hHS"
      }
    },
    {
      "cell_type": "code",
      "source": [],
      "metadata": {
        "id": "GLyIq_QGhvBU"
      },
      "execution_count": null,
      "outputs": []
    },
    {
      "cell_type": "markdown",
      "source": [
        "Do ponto de vista computacional, um algoritmo pode ser visto como um\n",
        "conjunto de regras e procedimentos lógicos perfeitamente definidos que le-\n",
        "vam à solução de um problema em um número finito de passos."
      ],
      "metadata": {
        "id": "oXfakZCX3Qi7"
      }
    },
    {
      "cell_type": "markdown",
      "source": [
        "A este espaço de me-\n",
        "mória, devidamente rotulado por um nome (identificador), chamamos **variável**.\n",
        "Quando o espaço de memória possui um valor que não será modificado durante\n",
        "o programa, o chamamos de **constante**.\n"
      ],
      "metadata": {
        "id": "rtCgb-Ni4E1W"
      }
    },
    {
      "cell_type": "code",
      "source": [
        "(X) = 1\n"
      ],
      "metadata": {
        "id": "qTcgjpHFbYVD"
      },
      "execution_count": null,
      "outputs": []
    },
    {
      "cell_type": "code",
      "source": [
        "B52 = 1"
      ],
      "metadata": {
        "id": "7A190wo4bzlx"
      },
      "execution_count": null,
      "outputs": []
    },
    {
      "cell_type": "code",
      "source": [
        "ASDRUBAL = 1"
      ],
      "metadata": {
        "id": "l4W-hcU5b1WY"
      },
      "execution_count": null,
      "outputs": []
    },
    {
      "cell_type": "code",
      "source": [
        "\n",
        "#55 = 1\n"
      ],
      "metadata": {
        "id": "7-7JvKxAb87_"
      },
      "execution_count": null,
      "outputs": []
    },
    {
      "cell_type": "code",
      "source": [
        "\n",
        "AB*C = 1\n"
      ],
      "metadata": {
        "colab": {
          "base_uri": "https://localhost:8080/",
          "height": 106
        },
        "id": "hYhSsoQcb93P",
        "outputId": "ac83e3f6-221b-4b05-a377-12dd890e41dd"
      },
      "execution_count": null,
      "outputs": [
        {
          "output_type": "error",
          "ename": "SyntaxError",
          "evalue": "cannot assign to expression here. Maybe you meant '==' instead of '='? (<ipython-input-33-7998a7e0e24e>, line 1)",
          "traceback": [
            "\u001b[0;36m  File \u001b[0;32m\"<ipython-input-33-7998a7e0e24e>\"\u001b[0;36m, line \u001b[0;32m1\u001b[0m\n\u001b[0;31m    AB*C = 1\u001b[0m\n\u001b[0m    ^\u001b[0m\n\u001b[0;31mSyntaxError\u001b[0m\u001b[0;31m:\u001b[0m cannot assign to expression here. Maybe you meant '==' instead of '='?\n"
          ]
        }
      ]
    },
    {
      "cell_type": "code",
      "source": [
        "\n",
        "U2 = 1\n"
      ],
      "metadata": {
        "id": "Wj_j1RwJb-0_"
      },
      "execution_count": null,
      "outputs": []
    },
    {
      "cell_type": "code",
      "source": [
        "\n",
        "KM/L = 1\n"
      ],
      "metadata": {
        "colab": {
          "base_uri": "https://localhost:8080/",
          "height": 106
        },
        "id": "-MXKZXRIb_07",
        "outputId": "b0a48ab3-6a21-4914-d568-a05de90588b6"
      },
      "execution_count": null,
      "outputs": [
        {
          "output_type": "error",
          "ename": "SyntaxError",
          "evalue": "cannot assign to expression here. Maybe you meant '==' instead of '='? (<ipython-input-34-8ade720e4d60>, line 1)",
          "traceback": [
            "\u001b[0;36m  File \u001b[0;32m\"<ipython-input-34-8ade720e4d60>\"\u001b[0;36m, line \u001b[0;32m1\u001b[0m\n\u001b[0;31m    KM/L = 1\u001b[0m\n\u001b[0m    ^\u001b[0m\n\u001b[0;31mSyntaxError\u001b[0m\u001b[0;31m:\u001b[0m cannot assign to expression here. Maybe you meant '==' instead of '='?\n"
          ]
        }
      ]
    },
    {
      "cell_type": "code",
      "source": [
        "\n",
        "O&O = 1\n",
        "\n"
      ],
      "metadata": {
        "colab": {
          "base_uri": "https://localhost:8080/",
          "height": 106
        },
        "id": "GgCE5yg0cApP",
        "outputId": "a4e1d5c0-453d-4790-9dd1-00b2ed142ac3"
      },
      "execution_count": null,
      "outputs": [
        {
          "output_type": "error",
          "ename": "SyntaxError",
          "evalue": "cannot assign to expression here. Maybe you meant '==' instead of '='? (<ipython-input-24-da16a43c52d3>, line 1)",
          "traceback": [
            "\u001b[0;36m  File \u001b[0;32m\"<ipython-input-24-da16a43c52d3>\"\u001b[0;36m, line \u001b[0;32m1\u001b[0m\n\u001b[0;31m    O&O = 1\u001b[0m\n\u001b[0m    ^\u001b[0m\n\u001b[0;31mSyntaxError\u001b[0m\u001b[0;31m:\u001b[0m cannot assign to expression here. Maybe you meant '==' instead of '='?\n"
          ]
        }
      ]
    },
    {
      "cell_type": "code",
      "source": [
        "\n",
        "AH! = 1\n"
      ],
      "metadata": {
        "colab": {
          "base_uri": "https://localhost:8080/",
          "height": 106
        },
        "id": "UpT0z6KjcBj3",
        "outputId": "1bb628f1-62a3-4e14-84be-7ed3aa886049"
      },
      "execution_count": null,
      "outputs": [
        {
          "output_type": "error",
          "ename": "SyntaxError",
          "evalue": "invalid syntax (<ipython-input-26-1b9121c5a6af>, line 1)",
          "traceback": [
            "\u001b[0;36m  File \u001b[0;32m\"<ipython-input-26-1b9121c5a6af>\"\u001b[0;36m, line \u001b[0;32m1\u001b[0m\n\u001b[0;31m    AH! = 1\u001b[0m\n\u001b[0m      ^\u001b[0m\n\u001b[0;31mSyntaxError\u001b[0m\u001b[0;31m:\u001b[0m invalid syntax\n"
          ]
        }
      ]
    },
    {
      "cell_type": "code",
      "source": [
        "\n",
        "UYT = 1\n"
      ],
      "metadata": {
        "id": "EH1xz9-mcClv"
      },
      "execution_count": null,
      "outputs": []
    },
    {
      "cell_type": "code",
      "source": [
        "\n",
        "P{O} = 1\n",
        "\n"
      ],
      "metadata": {
        "colab": {
          "base_uri": "https://localhost:8080/",
          "height": 106
        },
        "id": "VvHzELPOcDx3",
        "outputId": "53833e41-2cf4-4ec3-806b-d6fd72129e2c"
      },
      "execution_count": null,
      "outputs": [
        {
          "output_type": "error",
          "ename": "SyntaxError",
          "evalue": "invalid syntax (<ipython-input-30-0acc35843c1a>, line 1)",
          "traceback": [
            "\u001b[0;36m  File \u001b[0;32m\"<ipython-input-30-0acc35843c1a>\"\u001b[0;36m, line \u001b[0;32m1\u001b[0m\n\u001b[0;31m    P{O} = 1\u001b[0m\n\u001b[0m     ^\u001b[0m\n\u001b[0;31mSyntaxError\u001b[0m\u001b[0;31m:\u001b[0m invalid syntax\n"
          ]
        }
      ]
    },
    {
      "cell_type": "code",
      "source": [
        "“ALUNO”  = 1\n",
        "\n"
      ],
      "metadata": {
        "colab": {
          "base_uri": "https://localhost:8080/",
          "height": 106
        },
        "id": "RQ-bwD0ecFRw",
        "outputId": "0017ee98-1929-48a6-be87-b06f7bde2b57"
      },
      "execution_count": null,
      "outputs": [
        {
          "output_type": "error",
          "ename": "SyntaxError",
          "evalue": "invalid character '“' (U+201C) (<ipython-input-31-8952598340e0>, line 1)",
          "traceback": [
            "\u001b[0;36m  File \u001b[0;32m\"<ipython-input-31-8952598340e0>\"\u001b[0;36m, line \u001b[0;32m1\u001b[0m\n\u001b[0;31m    “ALUNO”  = 1\u001b[0m\n\u001b[0m    ^\u001b[0m\n\u001b[0;31mSyntaxError\u001b[0m\u001b[0;31m:\u001b[0m invalid character '“' (U+201C)\n"
          ]
        }
      ]
    },
    {
      "cell_type": "code",
      "source": [
        "n1 = int(input('Digite o primeiro número: '))\n",
        "n2 = int(input('Digite o segundo número: '))\n",
        "\n",
        "soma = n1 + n2\n",
        "subtracao = n1 - n2\n",
        "multiplicacao = n1 * n2\n",
        "divisao = n1 / n2\n",
        "divisao_truncada = n1 // n2\n",
        "resto = n1 % n2\n",
        "exponenciacao = n1 ** n2\n",
        "\n",
        "print(f'Aqui estão os resultados das seguintes operações:'\n",
        "        '{soma}'\n",
        "        '{subtracao}',\n",
        "        '{multiplicacao}',\n",
        "        '{divisao}',\n",
        "        '{divisao_truncada}',\n",
        "        '{resto}',\n",
        "        '{exponenciacao}')\n",
        "\n",
        "\n",
        "#print(f'Aqui estão os resultados das seguintes operações: {soma} {subtracao} {multiplicacao}{divisao}{divisao_truncada}{resto}{exponenciacao}'\n",
        "# print(\n",
        "    # f'Aqui estão os resultados das seguintes operações:',\n",
        "    # f'{soma}'/n {subtracao} {multiplicacao}{divisao}{divisao_truncada}{resto}{exponenciacao}'\n",
        "\n"
      ],
      "metadata": {
        "colab": {
          "base_uri": "https://localhost:8080/"
        },
        "id": "kRN3DkKpwntp",
        "outputId": "533059db-18c8-480e-95af-6eb537009b06"
      },
      "execution_count": null,
      "outputs": [
        {
          "output_type": "stream",
          "name": "stdout",
          "text": [
            "Digite o primeiro número: 2\n",
            "Digite o segundo número: 10\n",
            "Aqui estão os resultados das seguintes operações:{soma}{subtracao} {multiplicacao} {divisao} {divisao_truncada} {resto} {exponenciacao}\n"
          ]
        }
      ]
    },
    {
      "cell_type": "markdown",
      "source": [
        "# Aula 2 - Estrutura Sequencial\n",
        "\n",
        "\n",
        "**Os objetivos desta aula são:**\n",
        "\n",
        "- Formalizar a estrutura sequencial em programas, construindo programas que recebem dados, efetuam cálculos e produzem resultados, utilizando operadores, expressões e funções matemáticas.  \n",
        "\n",
        "- Resolver problemas envolvendo estrutura sequencial.\n"
      ],
      "metadata": {
        "id": "NXJeYYovuqG0"
      }
    },
    {
      "cell_type": "markdown",
      "source": [
        "A2 - Momento com professor -\n",
        "\n",
        "Tema: Funções Matemáticas em Python\n",
        "\n",
        "e link da gravação do encontro síncrono:\n",
        "\n",
        "https://mackenzie365-my.sharepoint.com/:v:/g/personal/1085926_mackenzie_br/EWA67u-fEQdOsUREnu3STVMBMJI3QpKwCwC_44OrPVYSrg?referrer=Teams.TEAMS-ELECTRON&referrerScenario=MeetingChicletGetLink.view.viewLinks to an external site.\n",
        "\n",
        "Esta aula ao vivo mostrará aplicações em Python que utilizam funções matemáticas em Python, tal como funções trigonométricas, e/ou funções de arredondamento. Após a apresentação dos exemplos em código, abra um espaço para a turma tirar dúvidas.\n",
        "\n",
        "Para saber mais sobre funções matemáticas em Python, você pode acessar os seguintes links:\n",
        "\n",
        "https://docs.python.org/pt-br/3/library/numeric.html Links to an external site.\n",
        "\n",
        "https://code.tutsplus.com/pt/tutorials/mathematical-modules-in-python-math-and-cmath--cms-26913Links to an external site.\n",
        "\n"
      ],
      "metadata": {
        "id": "CZnAovdpvwCu"
      }
    },
    {
      "cell_type": "markdown",
      "source": [
        "---\n"
      ],
      "metadata": {
        "id": "l1IEY8eC1XF7"
      }
    },
    {
      "cell_type": "markdown",
      "source": [
        "EXERCÍCIO 1 – Escreva um programa em Python que permita ao usuário digitar dois números inteiros e exibir o resultado para cada uma das seguintes operações, nesta ordem: soma, subtração, multiplicação, divisão, divisão truncada, resto e exponenciação.\n",
        "\n",
        "Confira, no material do curso, os operadores matemáticos."
      ],
      "metadata": {
        "id": "y4ej0IMGvI_b"
      }
    },
    {
      "cell_type": "code",
      "source": [
        "1# Exercício 1\n",
        "\n",
        "n1 = int(input('Digite o primeiro número: '))\n",
        "n2 = int(input('Digite o segundo número: '))\n",
        "\n",
        "print('soma =', n1 + n2)\n",
        "print('subtracao =', n1 - n2)\n",
        "print('subtracao =', n1 - n2)\n",
        "print('multiplicacao =', n1 * n2)\n",
        "print('divisao =', n1 / n2)\n",
        "print('divisao_truncada =', n1 // n2)\n",
        "print('resto =', n1 % n2)\n",
        "print('exponenciacao =', n1 ** n2)"
      ],
      "metadata": {
        "colab": {
          "base_uri": "https://localhost:8080/"
        },
        "id": "47FPLuy8zcA4",
        "outputId": "0de27608-ba93-40f6-d592-21bb01397d89"
      },
      "execution_count": null,
      "outputs": [
        {
          "output_type": "stream",
          "name": "stdout",
          "text": [
            "Digite o primeiro número: 10\n",
            "Digite o segundo número: 2\n",
            "soma = 12\n",
            "subtracao = 8\n",
            "subtracao = 8\n",
            "multiplicacao = 20\n",
            "divisao = 5.0\n",
            "divisao_truncada = 5\n",
            "resto = 0\n",
            "exponenciacao = 100\n"
          ]
        }
      ]
    },
    {
      "cell_type": "markdown",
      "source": [
        "EXERCÍCIO 2 – Faça um programa em Python que leia dois números inteiros e exiba o quadrado da diferença do primeiro valor pelo segundo.\n"
      ],
      "metadata": {
        "id": "0S2jPjHNv6rL"
      }
    },
    {
      "cell_type": "code",
      "source": [
        "# Exercício 2\n",
        "\n",
        "n1 = int(input('Digite o primeiro número: '))\n",
        "n2 = int(input('Digite o segundo número: '))\n",
        "\n",
        "sub = n1 - n2\n",
        "sub **2"
      ],
      "metadata": {
        "colab": {
          "base_uri": "https://localhost:8080/"
        },
        "id": "rrURmfPu1aOp",
        "outputId": "10cf6424-7d58-4e78-ce8d-d6afe76168a9"
      },
      "execution_count": null,
      "outputs": [
        {
          "name": "stdout",
          "output_type": "stream",
          "text": [
            "Digite o primeiro número: 2\n",
            "Digite o segundo número: 1\n"
          ]
        },
        {
          "output_type": "execute_result",
          "data": {
            "text/plain": [
              "1"
            ]
          },
          "metadata": {},
          "execution_count": 51
        }
      ]
    },
    {
      "cell_type": "markdown",
      "source": [
        "EXERCÍCIO 3 – Faça um programa em Python que resolva o seguinte problema:\n",
        "\n",
        "Um concurso possui um prêmio no montante de R$ 780.000,00 para dividir entre três ganhadores da seguinte forma:\n",
        "\n",
        "- o primeiro ganhador receberá 46% do prêmio;\n",
        "\n",
        "- o segundo ganhador receberá 32% do prêmio;\n",
        "\n",
        "- o terceiro ganhador receberá o restante do prêmio.\n",
        "\n",
        "Calcule e mostre o valor do prêmio de cada ganhador, nesta ordem: primeiro colocado, segundo colocado e terceiro colocado.\n",
        "\n",
        "Observe que este programa não tem valor de entrada feita pelo usuário."
      ],
      "metadata": {
        "id": "Wb9NwGvcv9rH"
      }
    },
    {
      "cell_type": "code",
      "source": [
        "# Exercício 3\n",
        "\n",
        "premio_total =  780000.00\n",
        "\n",
        "ganhador_1 = premio_total * 0.46\n",
        "ganhador_2 = premio_total * 0.32\n",
        "ganhador_3 = premio_total - (ganhador_1 + ganhador_2) #* (1 + (-0.46 - 0.32))\n",
        "\n",
        "print(ganhador_1, ganhador_2, ganhador_3)"
      ],
      "metadata": {
        "colab": {
          "base_uri": "https://localhost:8080/"
        },
        "id": "Op65274h1-We",
        "outputId": "c73a8f4e-488e-48b8-e60c-d52b1e56070f"
      },
      "execution_count": null,
      "outputs": [
        {
          "output_type": "stream",
          "name": "stdout",
          "text": [
            "358800.0 249600.0 171600.0\n"
          ]
        }
      ]
    },
    {
      "cell_type": "markdown",
      "source": [
        "Aplicando COnhecimento\n",
        "\n",
        "Faça um programa em Python que receba o custo (valor em reais) de um espetáculo teatral e o preço do convite (valor em reais) desse espetáculo. Esse programa deve calcular e mostrar:  \n",
        "\n",
        "\n",
        "\n",
        "\n",
        "a) A quantidade de convites que devem ser vendidos para que, pelo menos, o custo do espetáculo seja alcançado.  \n",
        "\n",
        "b) A quantidade de convites que devem ser vendidos para que se tenha um lucro de 23%.\n",
        "\n",
        "\n",
        "\n",
        "\n",
        "Observe que as quantidades calculadas devem ser um número inteiro, portanto, o resultado da quantidade de convites deve ser arredondada para cima, usando a função matemática apropriada em Python.\n",
        "\n",
        "\n",
        "\n",
        "\n",
        "Entrada\n",
        "o custo (valor em reais) de um espetáculo teatral e o preço do convite (valor em reais) desse espetáculo\n",
        "\n",
        "\n",
        "\n",
        "\n",
        "Saída\n",
        "a) A quantidade de convites que devem ser vendidos para que, pelo menos, o custo do espetáculo seja alcançado.  \n",
        "\n",
        "b) A quantidade de convites que devem ser vendidos para que se tenha um lucro de 23%."
      ],
      "metadata": {
        "id": "kQP4yRS06uA0"
      }
    },
    {
      "cell_type": "code",
      "source": [
        "custo_do_espetaculo = 200\n",
        "preco = 1\n",
        "\n",
        "#a\n",
        "qtd_1 = (custo_do_espetaculo/preco)\n",
        "\n",
        "#b\n",
        "\n",
        "lucro = custo_do_espetaculo * 0.23\n",
        "\n",
        "qtd_2 = lucro + custo_do_espetaculo\n",
        "\n",
        "qtd_1, qtd_2"
      ],
      "metadata": {
        "id": "xhSDBlbS7Ujk",
        "colab": {
          "base_uri": "https://localhost:8080/"
        },
        "outputId": "b22bd42a-306e-4cee-d264-979715e94291"
      },
      "execution_count": null,
      "outputs": [
        {
          "output_type": "execute_result",
          "data": {
            "text/plain": [
              "(200.0, 246.0)"
            ]
          },
          "metadata": {},
          "execution_count": 102
        }
      ]
    },
    {
      "cell_type": "code",
      "source": [
        "custo_do_espetaculo = int(input('Digite aqui o custo do espetáculo: '))\n",
        "preco = int(input('Digite aqui o preço do ingresso: '))\n",
        "\n",
        "#a\n",
        "qtd_1 = (custo_do_espetaculo/preco)\n",
        "\n",
        "#b\n",
        "lucro = custo_do_espetaculo * 0.23\n",
        "qtd_2 = lucro + custo_do_espetaculo\n",
        "\n",
        "\n",
        "print(f'Para alcançar o ponto de equilíbrio será necesário vender: {qtd_1:,.0f} ingressos.')\n",
        "print(f'Para realizar 23% de lucro será necesário vender: {qtd_2:,.0f} ingressos.')"
      ],
      "metadata": {
        "colab": {
          "base_uri": "https://localhost:8080/"
        },
        "outputId": "eb123dd0-af48-4aad-90de-822737b97cc5",
        "id": "p16doCUTI86z"
      },
      "execution_count": null,
      "outputs": [
        {
          "output_type": "stream",
          "name": "stdout",
          "text": [
            "Digite aqui o custo do espetáculo: 100\n",
            "Digite aqui o preço do ingresso: 1\n",
            "Para alcançar o ponto de equilíbrio será necesário vender: 100 ingressos.\n",
            "Para realizar 23% de lucro será necesário vender: 123 ingressos.\n"
          ]
        }
      ]
    },
    {
      "cell_type": "code",
      "source": [
        "12300*3"
      ],
      "metadata": {
        "colab": {
          "base_uri": "https://localhost:8080/"
        },
        "id": "92mqIt1LJgo9",
        "outputId": "1bbc6040-3e28-4ce7-d541-5c34928deef5"
      },
      "execution_count": null,
      "outputs": [
        {
          "output_type": "execute_result",
          "data": {
            "text/plain": [
              "36900"
            ]
          },
          "metadata": {},
          "execution_count": 97
        }
      ]
    },
    {
      "cell_type": "code",
      "source": [
        "36900 - 10000"
      ],
      "metadata": {
        "colab": {
          "base_uri": "https://localhost:8080/"
        },
        "id": "TKxNDAy7O8mg",
        "outputId": "a90ce86e-be58-4dad-ef39-a42286984c34"
      },
      "execution_count": null,
      "outputs": [
        {
          "output_type": "execute_result",
          "data": {
            "text/plain": [
              "26900"
            ]
          },
          "metadata": {},
          "execution_count": 98
        }
      ]
    },
    {
      "cell_type": "code",
      "source": [
        "custo / preco"
      ],
      "metadata": {
        "colab": {
          "base_uri": "https://localhost:8080/"
        },
        "id": "_oV1m7_jSYaH",
        "outputId": "9db5fa5f-999b-4c20-ffa4-e70d048bd6c4"
      },
      "execution_count": null,
      "outputs": [
        {
          "output_type": "execute_result",
          "data": {
            "text/plain": [
              "200.0"
            ]
          },
          "metadata": {},
          "execution_count": 100
        }
      ]
    },
    {
      "cell_type": "code",
      "source": [
        "custo_do_espetaculo = 100\n",
        "preco = 1\n",
        "\n",
        "#a\n",
        "qtd_1 = (custo_do_espetaculo/preco)\n",
        "\n",
        "#b\n",
        "\n",
        "lucro = custo_do_espetaculo / 0.67\n",
        "lucro\n",
        "# qtd_2 = lucro + custo_do_espetaculo\n",
        "\n",
        "# qtd_1, qtd_2"
      ],
      "metadata": {
        "colab": {
          "base_uri": "https://localhost:8080/"
        },
        "id": "R2kkG6P5Vv_l",
        "outputId": "92aea564-ad77-465a-ab0d-3cecf614a607"
      },
      "execution_count": null,
      "outputs": [
        {
          "output_type": "execute_result",
          "data": {
            "text/plain": [
              "149.25373134328356"
            ]
          },
          "metadata": {},
          "execution_count": 105
        }
      ]
    },
    {
      "cell_type": "code",
      "source": [
        "custo = 1000\n",
        "ingresso = 2\n",
        "\n",
        "receita = 2000\n",
        "qtd = 1000\n",
        "lucro = 1000\n",
        "\n",
        "\n",
        "margem_de_contribuição = receita – custo\n",
        "\n",
        "PE = (custo + lucro_min) ÷ margem_de_contribuição"
      ],
      "metadata": {
        "id": "SzNPAFztXYpN"
      },
      "execution_count": null,
      "outputs": []
    },
    {
      "cell_type": "code",
      "source": [
        "receita = 149.25\n",
        "custo = 100\n",
        "\n",
        "(receita - custo) / receita"
      ],
      "metadata": {
        "colab": {
          "base_uri": "https://localhost:8080/"
        },
        "id": "luEvsXYZXxEj",
        "outputId": "32a5d954-871a-47f9-8861-0fe0cf0e1a8b"
      },
      "execution_count": null,
      "outputs": [
        {
          "output_type": "execute_result",
          "data": {
            "text/plain": [
              "0.32998324958123953"
            ]
          },
          "metadata": {},
          "execution_count": 110
        }
      ]
    },
    {
      "cell_type": "markdown",
      "source": [
        "# Aula 3 - Estrutura de decisão simples e composta\n",
        "\n",
        "\n",
        "**Os objetivos desta aula são:**\n",
        "\n",
        "- Apresentar o que é uma estrutura de controle de fluxo e conhecer os operadores relacionais e os operadores lógicos.\n",
        "\n",
        "- Utilizar os principais comandos condicionais: simples e composto em Python e ser capaz de ler, escrever e implementar programas que empregam estruturas condicionais."
      ],
      "metadata": {
        "id": "xNGx0tVrX7cs"
      }
    },
    {
      "cell_type": "markdown",
      "source": [
        "Exercicio 1 - Criar um código que da multa para que estvier a cima de 50km/h"
      ],
      "metadata": {
        "id": "e7Opxi_EZx-Q"
      }
    },
    {
      "cell_type": "markdown",
      "source": [
        "Exercicio 2 - Criar um código que diz se o número par ou impar"
      ],
      "metadata": {
        "id": "qkTRx3gZYrGg"
      }
    },
    {
      "cell_type": "markdown",
      "source": [
        "Exercicio 3 - Criar um código que Calcula a potencia do número maior utilizando 2 opções de números e a biblioteca Math"
      ],
      "metadata": {
        "id": "LZJcF8kRZ9a2"
      }
    },
    {
      "cell_type": "markdown",
      "source": [
        "Tabela verdade - Tabela demonstrando a correlação entre expressões com os operadores lógicos\n",
        "\n",
        "- not\n",
        "- and\n",
        "- or\n",
        "- nor (Inversão da Disjunção, operador or)\n"
      ],
      "metadata": {
        "id": "ImB-vcyyazSW"
      }
    },
    {
      "cell_type": "markdown",
      "source": [
        "operadores Relacionais\n",
        "\n",
        "\n",
        "- '>\n",
        "- <\n",
        "- =<\n",
        "- =>\n",
        "- =\n",
        "- ==\n",
        "- !=\n"
      ],
      "metadata": {
        "id": "dNuxsElBa_Jy"
      }
    },
    {
      "cell_type": "markdown",
      "source": [
        "APLICANDO CONHECIMENTO - Aula 3\n",
        "\n",
        "Faça um programa em Python para resolver o seguinte problema:\n",
        "\n",
        "O programa deve receber um número inteiro, digitado pelo usuário, e apresentar uma mensagem:\n",
        "- se o número que o usuário digitou for divisível por 3 e por 5 ao mesmo tempo, a mensagem será: \"o número é divisível por 3 e 5\"\n",
        "\n",
        "- se o número que o usuário digitou não for divisível por 3 e por 5 ao mesmo temop, a mensagem será: \"o número não é divisível por 3 e 5\""
      ],
      "metadata": {
        "id": "UYOe5OEkm5Fw"
      }
    },
    {
      "cell_type": "code",
      "source": [
        "n = int(input())\n",
        "if n%3 == 0 and n%5 == 0:\n",
        "  print('O número é divisível por 3 e 5')\n",
        "else:\n",
        "  print('O número não é divisível por 3 e 5')"
      ],
      "metadata": {
        "colab": {
          "base_uri": "https://localhost:8080/"
        },
        "id": "BaTmMm3TbE-Z",
        "outputId": "6050b3ec-485f-4b50-de99-702bc0735132"
      },
      "execution_count": null,
      "outputs": [
        {
          "output_type": "stream",
          "name": "stdout",
          "text": [
            "30\n",
            "O número é divisível por 3 e 5\n"
          ]
        }
      ]
    },
    {
      "cell_type": "markdown",
      "source": [
        "# Aula 4 - Estrutura de decisão encadeada\n",
        "\n",
        "\n",
        "**Os objetivos desta aula são:**\n",
        "\n",
        "- Apresentar a estrutura condicional encadeada, sua sintaxe em Python e as aplicações deste tipo de desvio condicional.\n",
        "\n",
        "- Exercitar estrutura condicional em Python."
      ],
      "metadata": {
        "id": "hcyQ7ogBrtPk"
      }
    },
    {
      "cell_type": "markdown",
      "source": [
        "Tema: Resolução desafio – fórmula de Bhaskara.  \n",
        "\n",
        "Escreva um programa que faz a leitura de três valores reais (A, B e C), representando os coeficientes de uma equação do 2o. grau, calcula o valor do delta e os valores das raízes reais, caso existam.\n",
        "\n",
        "\n",
        "exercício resolvido: https://www.youtube.com/watch?v=v_QoUdfahng"
      ],
      "metadata": {
        "id": "q8M0PzjbpmP7"
      }
    },
    {
      "cell_type": "markdown",
      "source": [
        "### Explorando Conceitos\n"
      ],
      "metadata": {
        "id": "_rlHXO1hp6oI"
      }
    },
    {
      "cell_type": "markdown",
      "source": [
        "![image.png](data:image/png;base64,iVBORw0KGgoAAAANSUhEUgAAAeMAAAB2CAYAAAD7q/t8AAAgAElEQVR4AeydBXRURxuGaaFFCqXQlr84BdriLoEgAQIEJ0hwd7cCxbVYcXcp7hYIHnd3d3fPZvX5z+4mIQbFCXBzTs7e3Zk78o48d76RWwzhT1BAUEBQQFBAUEBQ4KMoIJfL1wFfFfsosQuRCgoICggKCAoICggKIMBYqASCAoICggKCAoICH1kBAcYfuQCE6AUFBAUEBQQFBAUEGAt1QFBAUEBQQFBAUOAjK/BSGIvFYhITE4V/QQOhDgh1QKgDQh0Q6sAr1oGEhAQyMjJeC+8vhfGVK1eoW7culSpV4scffxT+BQ2EOlAE60DFihX55ZdfVG21atWqQhkVwTIS+s8vgx/KtqjkZa1atdiyZQsKheKVgfxSGB8+fJhixYrRrl07hg0bxpAhQ4R/QQOhDhSxOjBy5EhVG1W21UaNGqGnpyeUURErI6Hv/DLYMXz4cLp27co333zDnDlz3h2Mjxw5ooKxgYHBK9Nd8CgoICjw4RVQttHy5cuzb9++Dx+5EKOggKBAjgLOzs7UrFmTmTNnvnsY379/Pyci4UJQ4PNSQAFS6SefpXv37qlgvGfPnk8+L0IGPpQC8s+i7n8otV41HkdHx/cHY319/VdNh+DvFRVQiEXIMkQo5K8+p/CKQX8h3hRIY4JItXVAFJnE66soQ+JpRNjy6bjpDsZr8T/EO4Yhl6Qgcnci1c0faebrh/qxxL97964Kxrt37/5YSRDi/VAKyDIR+7qQ4uKFJEXy+rEqxGQ63iN40STcdPXwWb2fJM8oZPERpDnakRYSx2tMdb5+/J/5Hfb29gKMkaYjDgsg3dOTdE8v9aeXD+L4tP+sXPIEfxIuHiPi0mMy4l5vFdxr1y1RPAnHV+M9Zw2x1oFvAJLXjvHzuyEzlKgVuljVaEPgVTte/5kmleRbB/CbPBGPfm0wK/kzzvOOkh7rSej4Dlg30SHsUcAnUzYCjN++iivSkxAH+uT0HxlBkciKoNFE6nUfny71sNWZRZx78utnXBxN0qVteE+ehFvXJpj9VB231VdJeXQC9w6/Yz9sPcnh77kPfP1UfzJ3CDAGpG4GBIzuil3zZtg1bYZt40bYNmmF9w4DxGkvL8tMiyM4VirGs/9pE2ke+HLPb+uaHEjw0LoYlv4Nv9PmyN42vC/wfqnLDTyaV8S8+RhiHaLfQAEpUh8LovZtwGtwe6xqtMBn/2OkEhHJ+8ZjUb4SLn+eRiR6g6A/wi0CjN9W9HRSbu/Cs5sGds2aqvoPew0t3CYtJfKhE9I3GIC+bYoKvV+eTtKxmVj9+DPOMw6QkSov1NtLf5SLyXQ1IuKflXjqtMKyQQcCztogibQhcGgzzKpqEHTH8z8HMC+N4wt2FGAMZD47jHOtYjwrVgarxi2wb9sG+zYd8d37CEnOg54ChUSMXJz3kVcW6UzUPysJ3HmR1IjUF1elfJZLdViSVxtByaUopDJIDSF05B8Yla2H/xmLvDCWS5GLxa8WHqjyopAW3iBVaZPkzWeBjCmkKF7kR5leseTtGqVUgkKWWzSl/i/p2WQSdf5z31Ig0emknJmPzXff4TB1P2nxhXhWyArkS5E/LTFORKweh329Kpj++Cvuqy+QKQKJ/Smca32PRadpxHm8pC4USNfH+0GA8dtqH0vsjnFYFC+Gae12eIwdi2uH+pgWK4Z5M13CnxViJZFJUcjytj2FVFyg3uVOmbJNvk17VSS5EzKmFWb/a4zfSavCLUKy/25z0iBbQufrYlenEqZVmuC9Qx+xKIn4bWOw+LESLksuIBYV0q5yZ0a4LlQBAcZKGBsdwbnm15hU1yHczB1xfBzi6GikqZkgSUfk8IjwdfPwGDIQt2ETCdx3hfRwdWerSAwk7swuws4/ISMslOQbxwjZfYJE9yiV4NIgayL37Sb6kTMSsRRpgA1Ru1biNUIX18Ej8d1wlETP6BdAVEKm/X1ClkzDY8JsgnYdxEenFsbfN8T/X0tUzVmSTOrjcwTMGoPrwKH4LN9NglNY4Y0NUJrV409twXvUENxGTSfk/DMyVU/JCqTBdkTvXonnsEG46Y0nYMc5UgIS1BUnI4SEK+eIvmlEioU+ocum4zl2KkEnDBAlitV+ZGmkG10maO543PoPwmvJPyS4xyGPCyDh0jEizj0gI1E9ZJR4mhB19BDRT1xQ9kvyUAdizp8lztCapNvH8J82Fq+5a4k190ES5Ej09qV4jh6P//bzpIal5FRmRUoIiVf24zd5BG4Dh+K9ZCuxFr7IC3uWSA8lcm5HTEtWx2uXASq0Z8aSYnCByOuPSTF/QNjauXiOnU7w6UeIIsJIvn0Yvylj8Zq3nhgzP+SyTKShnqRYGBJzaBF2Fb7Cov0U4gNlKGJs8e9WDeNqHQm5656TxqJ8IcD4bUsnjrgd47AsVQq7kZtJC0lG6qOPT8+6PPu6Eh7rbyFLjSXtyS2iL+mT8OgCQQtnELD/LpkpChSJ/sSd3orP6CG4DZ9E4IFrpEWk5fQH8mgvYo/9rWqv7uNmE3bFmMx0ZcuXIfGzInL7Mjz1dHEbMZHAvZdIDU4sNEMytyt4tqyMef2+RJipLULySGdiz54n9rEpifdO4j9jHF7z1hFj4o440Jmo3SvwHDMB/3/OkhqcjEImRhzgRrLJE6I2TcL6hzJY9VxCckwGIv3N2FetgHXvxSRGfiJmoUKV+ng/CjDOgXFxTH4dSLSnGqLZRSL1vIt3pzpY1m6IfQdNbOtUwujbn3BZckZlipS638Kj6feYtp5IvI0jMWv6Y168JPaT95MWGkDUom6Y/VAH78PGiKPdCR7ZFosadbFr1wH7hjUxKV4GW701JIVkZkeZ8yl1vY5Xp1oYf1Uck/I/YVa+IqalvuJZuSb4X7BFIReRcm4Z9rV+wrxWPexaNsaiXGksO0wi2i4ip0FnB6hI8SViYR8svi+HZd0m2DeohVXznoQZRiL1eYxfv8aYlauAVdPW2NerhknJstgO/IvEwAwUkQ/x1mqCZeXa2DT+FfOfK2JSrBhGFRrgc8hI+eYQMo0P4NKkKuZVf8O+TQtsmmrgc9iSTMvLeLT6BbP6esR4xqiSk3J8HjY/l8d+7C4yRCB+tB3HJjUw/7UBtrWqYF6+NEZflcaqiSZOWq2w/OUnTL8phmHJX3BbcR6RGBQZQUQtG4JVhe+x+LUR9i0aYVG2JGb1dAjVd0Oed/CBPNKegD61MPqxBYFX7NT6RNkSNKIFptXqYlP3Vyz+VwGTEsUx/fkPnHp0wbZudczKlsKo2NdYas0i3t2D+ON/4dyqCdZ1qmFerSGea8+RoZzOSA0kbFJLjEvXxvvgEwp7Hsgui6LyKcD4bUtCCePxWJYug92EvWSqRoU+hExoi2GxCrguv4o0woaQid2wqlgd69+V1pRKOE3fQ7KzM5FLB2L1049Y1W+OXYOamJavjNOMPaTGiVEkehA2pxcW5b/Hsm5j7Or/inX7QYQbhSFxuYtP74aYfl8R6yatsPu9KqZlKmA/YhWJ/s8fVtW5UyDS34pD9R+w6jSd+EC1uU9kvBeXerWxrPEr1n9Ux6x8GYyKl8SyaXucOrTFqnJFTEp+jWHJyrituIgoNIT4XTNwaNUIq5pVsajbFp/td5BkKpA6nMGt4U+YNx1MlG3824r6Rd4vwFgJY+OjuNT9FqPSVXDso4vH8GG4j55LlLk/4hB3Ys+eIs7UGXF8NMlXN2D/YzFM20wjMTgTidsN3H4rjlE9PeLcY5A6X8a9UXmMf26G56yx2FWtgFW3WSQEpqPICCfh8imiDcwRRcWRYX4atz9KY1SjG+FPgvJWQEU68X8PwbzE11h2Gk/41dtEbJyG3S+leFamMYFX7ZFEGOOr+Qsm1dsTeMkWcbATEXM6Y1L8f7hvuoU4j1VXjujhFuwrlcSsySDCH7ogcjEj7vptUnx8iF2jh0XJktjqriTB2Z8M66t4daiCYamaeB8yQxL6AJ+ONTAsVhq7IYuJvHKF4EmdMClWHLsxW0lLSCdhmx5m35TCftxWkn0CSXO0IjUoEYnVOdwa/YBJHV2i3dRP5clHZmJVriS2w/9Rw/jhNhyqfYPhd7VwX7yX6LPbcWtVDaNixbBoPYSQk5cIXz4My1LFsOgyh8SADDKf7cShSmnM6vcl9LYjIj9rwuf3xLRYcWzHbCM1KmvEnqWsNOA+Xq1+xrhmV8Ie+Kp/jbAmaHA9DIsVx7r7dMIvniNoanfMvyqGUfnf8Vh5iJgTf+PaqALGP9TH/5I9mT5OxF04QfjRE8Q+siYzIetBShRB9NKemJT4Gbd1V8jMo3/e4i0q3wQYv21JxBG3cwKWpUtjM2glCTauJF3cgNNvZTH6oSH+5xyRxdsTPLq1qi6btxxE8ImbJLt5kXx5Aw7VK2DdZSoxdgFkWCkfvqth8qs2UfedyLi/GfvK32HRYijhBo6kO5kSd/seKW4uRP01CIvSZbEfvpZEZ3/STM7i2b4KxuXrqR6O88zwICXl1CJsKpbFZsBKkuPVj4miZ7twql4ao1I1cVu4g6hTu3DXqIahss211CXo2FnCVo7GqlwJLDrOJMklDImvJdFnjhF+7Axxhg6Is+aeZf638dKoimktLUIN8vVlbyvxF3K/AONsGP9RUlUJjUt8g3GJEhiVqYPPyax52bRwkh9dIXzvdvxnDsPmh68waTqGBJ9kJO43cfvjW4zr6xHrHA+KVOK3j8eqzFcYl/gao5+a4Xfa9vn8rjiRdPN7RB7cRdBf03CoUQqjyh0JveuZt8qJfQkZ0RSjbyvjueOJ2i3Zk6ABv2JcthGBl61IN92NY5XSmFZrice8dQRvXo1X/6aqRm8/5SDpSbmDFJGwdShmJb7DcdYhMnKv/kq0JqB/PYzL1ML3tFPWiDqDuNX9MCv2HU7zT5AWeB/v9lUwqdSGkHthqoAzb6/E5vtvse77F8nhItKuLsf251KY/K8R7nM3EWetni+T2Z/HrXFFTH8bTLR7FoyPzlaZuexGbs8aGW/F/pcyWLSdTFy4srOIIWJKW0xKVcJ9o77KJC91PoFz1ZKYt5lAnEMEidtHYP5NGRym7Sc9i7sZT3biUKkEZq0nkuASm1sAJD5X8WhQAeM6vYh4ltVhRNgQpKvM+x/4XbBT+U+7tha7H0tgoTWPpDDl8NqH4FEtMS1THZ+DVgUsDjmRSKKJWzsAkxLlcV56loz0HJcieyHA+G2LJo64XZOxKv01xhWqYdO4MVaVK2DyfTVc5+whNVoCyXYEDWuOyXfV8dzxFDUoU4nbNAzzMqWwbNMfv3WbCV4+F6eGFTEs04DwQ9eI3zoc8zI/4DT3CBmSXPOw4Ub49/kdk4oN8T/vnJWBOKKX9cbsmwo4LzyR1z9iEg/OxPqH77DT20hKorrxZxjuwqnad1i0GU+shwyk4UTM1cK05P9wX3cNiUKBxOYcrn+Uw7zZCBLsI14oliz8IT4da2FSuR3BNzx5cSN5YRBfvIMA42wzda3imFTtSshdE9K9PEn38EWSJkbqb0jgyI5Y16qNTWtN7Ns0xrzUV5g0G0eCbz4YO6g7/7Qb61Wj5yfFimFcowthT9TwUiR6Er5oEDa1f8W6aRvs27fBsvw3GFbpRKh+PhhnOBHY7w+Myv2G30lbdUUVRxE2tgFG3zci8IIFafobsP2lFMYVqmPbvguOXbRw7NAO+9Zd8dt/n8ycxWfKFVvpxC7vhenX5XD+8wx5jOKRhvhp18S4YkMCbvpltSMpiTtGYP51GRxnHiTVXw1j0xqdCDdUm6FE99dhW6Gkap4oSdlOReHE7p6PY4MqqgcaszodCLhgh8jyPO5Nf8T096HEeKk1Sj01H+sKZcgD4/+VxVJrHokJSgDGEzGjPSblauK1+6kq/xK3M7jUKIN52wnE2oYQu7oPpiXK47L4DNlbezMtjuFcoxSmTUaR4BCZp4FLfK7joRzh1tYh4mnWyvdsGJdrRqC+i8p/+vWN2Ff+Fqu+K0iNVnZcPoSM08D0uxr4HLJAnvtBJncM4ihiV/fDtMQPOC87x2ue9547pA92LcD4baVWjownYVW6OKa1W+M2chJ+f60n4qYJGXFZc6cJ1gQObYppxfr4n3NVty9JLNHL+mJeugRmNRri0KULjp074aDRBsf+M4i7+0wN19I/47riPOJcLMbvHj5aNTCp3Jqgu37qDMiTiNs0FPOS5XGafZD07AahchWTeFj58FsW26Hr8sG4LJZdZhHvp4DMUCIXdce0TC08d95TPTSIrS7i1rh8FozDXyiWLNQAnw41Ma2iSchNbwHGL1TqxQ4CjLNhXLM4JrUHEeOfewGEiOTj07D4uji2ehtIiRWTaf0vLr+WwKRxISNj9yRI8yB4dCtMy1XFulYljL+tgNOcY2SmKxAbbcfup28xbzueGPckpCEm+Gj+hNEvmoWMjAMIHd0co+IVcFt7WzUyVISa4qtVGcPvskbG5ntxqPQNZi1HE+OgHJXL1SuYVauv889YZpKwbTjmX3+Nte4qUrK2GUqjwhH7GxOo2wCjb6vguT975JdE1HwtjItXwHX1NUTBBni3q4xp9Y6EPVXP+4r01+bAODFYjCJTvZpbFulO5JIBmJcogY3ueuIfnca95c+YVNMmwlG5ICyF2NWDMCtdCrvRuUbGShh3nkNCrDLtsURMb4dJuRp47nys6sAkLqfVMFaOjO0jSNw5GvPi32A3ehtpWf1e+u012H3/FZZdF5Lkm3dfmizoCd7tK2FcpSOh+h7qVhGZNTIu15SA22qrQPq1Ddj/8i1WvZeREqm0NXsRMrbtf8M4PZSoBV0wKfEL7ptvIn4RtF/cHj+4iwDjt5U8e864NHajtpAWlkr+bQSKHBjXw++Ms3rhpTyJ+M3DMC9dFodJO0iNl6jab869GXHErR+M+bdlcJiyh/RsGiskyAKf4t+3Hkbf1cHnqE0W+CIIn9UJk1L/w33NlXx1T0bq+b+w/aks1r0WkxStNiOpR8bKNjeDeB8FiEKIXKiNaZmaeG6/i1QBYssLuDX6bxhLPa7h0fJ/mNbRzhl8vK2yX9r9AoyVMDY8hFOVYhhX60u0R+69p+kkH5qIebFiWHadTNjZswTN6K3axmDcYJTaTO12HdfaxTD6YxhxjgGknF+EdZkS2AxaTfT5HbjUKYnRj20J0Xcl4/FW7Cp8g2mDXgQdu0D4mgnYlC/G0x/bEXInCw45NVBE4u6xWHyr3DKhifefS/Ea0Aaz4sV48k0DAi7ZIYm2wr97LYxKV8Z1+kairt8i5sJRQjbvIc7KN5+lSEGm4R6capTEsEx1nMctJGDhJNyGTSbioR1xm5UrQr/CouVgQk6cJ3L3Qhyql8a4eidCHwUhi3iAV8uKmPzSjtDHao1Ed1ZhU/YrrHQWkxiQRPL5rfit2kTkleuELRqIecmS2AzeQorTffx61cWoWFnsB0zGb5oedtW+40mxb7AbuU1tpn6wCbuKJbHQnJkD4/AprTEuVRmPfx6qYex8EufK32DWbBRxLklkmh3CqWYpjH9ujPe6I0Sd2YuXdl2MlXO266/ltQwojQMxrgQN+h3j7xvg/2/WFESENYH96mBUqgH+Nx1V8aRfUZqpi2HZYwkpEUoYexI8sgUm31bG+4D5i0fG8Z6EDG+Acdl6+J40fT41kVOmRe9CgPHblkkccdtGY1H8G2xH/UN6XMEnMEWCFQG6DTApVwffU45qGCMj49EuHGuWxbSGBj6bjhNz8yZRR3YSeugyacFxpN/fikOVUphU08Bny0miTuwicN1WYo2siVk3EotSJbBsN4KQE2eJ2DoH+2plMa3bg9AHBdu+6MlunH4tj0VbpUlaPX8ierodx/8p29xU4r2VMA4mYp4WJiWq4LH1thrGFkozdRnMGg4lwU5t4StMMeXiTafffsC81ShiXPPMjxXmXfitEAUEGIN6gVHzSli0Gk+cb1wumRRIPPTx6dEQ09JlMK1UEzuNTji0/A3LrspFRKnIfAzw0vgFC62ZxBo+IFivOea1NAm+5Y5CEkPMyoFYlKuA84LjpHnZETqlGxblymBasTI2zTRxat8Ai2YDCH+YtaAoV+yyIBMCR7bD7NuveFasBJaNO+Latz0Wv3Uh6KojCoWU9McHcdP4FdMy5TCvXBWLn8tjVleb4DvO+WAMClEEcdunYVulrGp+XLVQQ2MU0fbxyMNtCZ3eA8sK5TD98WfMypfF/Ne2+O67j1i5cjnGCD/telg2Vm6NUJupM5/uwLFWZexH/k1KVAbJZxZjX/snzCtVwky5ArRpH4JvuaCQJJF0ZKGqs1DGafK/xrgNG4Bdo8Y4zTiIKBPExvtwrlcd2/7LSEpQdmgJRC/WwaJGE3yOmKryIvW6gkeTqlh3m0m8l3Jjbyzx++Zh/+uPmH5fAfMff8C0QnWcp28nKaiQE4Yyo4hZ0RvTb7NgrTT9xTmrTNDmNToT/EC9HSnj3k6c6v+C7fBNpMYo0xJAxKweWFVrgv8ZuwKrtLOLTBbwAO9WP2FSR4fwJ+/5AJjsSN/yU4DxWwpIIgmH52FbvSpOcw6TEV8IjJMcCZnUCcs6GgRecc+CMSjSQojdOQv7XytiWq4CFlWrYFahIjb95pPgkYIiLYDoNaOw/qkUJqXLYvbDD1h3GEW0RQTSQDOCJ2tjoWyvFZU7LcphXq8T/ocfIknPbdNW50/ufw+fDtUx+7ULoQ9CVT9mWh7FtZGyzS0hMVA5DA4nZs1gLKs1xefgIxWMJfY38exQC2utqSS55N1p8lw5GSln/sSmUnlsB68nJS7vwsnn/oSrlykgwFg5YspIItPPk3T/MGQFbIsyJIHOxF09R+TFO6R4BZEZ6k96YAQyiRyFOJVMf0/SA8ORpiSQ6etBum8Iskz1vhp5YgTp7i5kBEUjlyqQxfiTpH+ZyH+vkOjgQ2ZYIOn+wUhTC6/A0ggvEu9cIvLCLZLdApHEhJHhE4gkKWtCWCFBEuhCwu2LRB45QuTl2yQ5+SFJf8FSXlEc6TZPiPn3FFHX7pPiHYYsy6s8IZwUk3tEnTxG5PlbJDkHPD9nWZqmPvLPNwhJurrDUaTFIfL2IiM0RgUoRVoMaZYPiTp1XK2VR0jOsYCK9DjSzO4Tde4i8aYuiONiyAwMQBSRoLLMKdLjEfl6kREclQU7GdKoQNK9fREnqJ/kFZnJZPp6kqHUPttsJ04iw9mc2POniDh5njgTR8SJuSfLc1d/MWm31mNfsSQ2QzaQolwophAjCfMn3TsAiXJfubI+pMYh8vEkIzQ2axQsQRIeRIaXL+KsfdK5Q82+Fj3chF2lclj3XUpiSOHlme23qHwKMH7bkpAjS4gkw8tLXZfzbadThS4XIVEet+vtjyQ5z2oNECWS4WRG7IVTRBw7RYz+M9IConLaJNJkUs6vxrHuT9j0XUCsVUBOm5LFhZBiqE/0yeNEXrpDslsQ0ux2kT9b6UFEzNHCtGJtvHY8VM0HK0SJZPqo25yqD1BIkUYHk66s5wnqKR6FKJnMAG8yAsORZeaf+sqKRBJK1J99MK9QFY9N94rOqWP5NSji3wUYF/ECEpL3bhWQBT3Dt2tVjCtrEfbIu4D14I1jk0Sq54vLVMVjyz0kBQdIbxz0+7xRgPH7VPctw1Y+KAa7k3BkGQ5/VMaq32pS8m3Xe/UYJKTdWIvtz2WxGbiM5PB8DwWvHlABn1L3m3i2q4qpcpeCmXrUXcCT8MN/KiDA+D8lEjx8VgrIE0k6twH3geMIM3DN2mby9jlUpPkQsWwSHpNXEu/26Rx6IMD47cv+vYWgSCbl2lZcNRpg+XtrvDZeITP5BaPTV0iEPMqZ8KVj8Zi9iUSvdzevK7a+jv9EPXy2XEWU9AKL3Cuk70v3IsD4S68BX2D+laY3cVgY4pR3eGyfTIQ0MhxxTOILjyItilILMC6KpZKdJhky5es+rcxJtnXNma7Jdn39TznyxGgyI2KQid4c6vnjlaclIQ4PUx8fnN9R+P7KCggwfmWpBI+CAp+fAgKMP78yFXL0aSrwXmF87969T1MVIdWCAl+IAvr6+pQvX549e/Z8ITkWsikoUDQVcHBwoGbNmsycOROFouCK+BelWi6XrwO+KlaYhyNHjlCsWDEePXpUmLPwm6CAoEARUeDhw4f88MMPHDhwoIikSEiGoMCXqYCbmxu1atV6tzA+duyYCsbNmzdHR0dH+Bc0EOpAEawDvXr1okWLFpQoUYL69esLZVQEy0joP78cfrRr145vvvmGBQsWvLuRcTaMK1WqRO3atVW0VxJf+Bc0EOpA0akDdevWRdlGv/76aypWrCi0VaGPEvroj1QH6tSpQ5UqVShevDiLFi16dzDONlNfunSJlJQUEhIShH9BA6EOFLE6kJGRwcWLFylXrhybN28mOTlZKKMiVkZC3/llsCMtLQ1DQ0OqV6/OrFmz3j2MDQwMvkzjv5BrQYFPRIH79++rFnDt3bv3E0mxkExBgc9TAWdnZ5Vl4r0s4FKu1BT+BAUEBYquAsLWpqJbNkLKviwF3uvWJgHGn0dlkqTFExWTkO+F5Z9H3r70XAgwLrwGyGUSJBJpzhsNC/eV71d5JgmxMSQkiwoes6qQIZFIkMpffctKvtDf/VeFmITocELDo0l7h4eAvPuEfhkhCjD+Msr5jXMpT/bi5OoZLNx+jYCk/zpwWUZibDTxyaKcN9PkRCyKx9vBnKdPnmHjFkzauzsAKCcK4eL1FficYCxJj8XL2YmA4NiCMHwdaeRJWN45zaHjN4lIeNUznCV4PjjI/HnLuGQRXKD+p/gaceLAfm5ah1EUDoyUZ8ZgfHYLY/pp02vwbAwM3V5HoQ/oV0p8uB8uTp4kpLxqWXzA5L3DqAQYv0MxP8WgMmK8MLh5Gxuf6AIdCKRj/e8K+vUZw+EnvmS+5KFelhyI/qG/GDRoNFsuWZH7LW4ZEU4cWTaazocc//8AACAASURBVBqtad2iOc1ad2H2zhsEJX4abzb6FMv1VdP8OcE41v0K47W1WbXpiur1f6+qQQF/shCOLhmOTv/5uAa+2hnOqX5PWTV2AKOXn8QtviBuo57uZpB2F+Yft0P9DrICsX7QH+LtzzGuuwbdRi3j6Lm7+Pm8+F3FHzRhBSKLRX//PPp0Gc1Tq4ACrp/TDwKMP6fSfFlessxk+d/wFmVzhsEdurHqnAUFTmqWxvHswgGO37Im6YUgVhDj+YQts3RpU78aJcvVZtyWu8/9y2K4u20szVpos2TvVczMn7B3/kAaNezIhpvOpL0w3JdlRnB7Vwp8TjAWJfhjpK+PraN/wQdLhRxZ/sqfS0SZVPr8Hnkox5aOoNeABbgFvQqMFUS5PuPMmStYB+T1r5DLVKP0OOP9DO3RlfnH7QvAWCGXIn1Z4nKlU32pQPZCc7faHP5C56ywfK+tp3fXHqy56VuoFUEuk+U9Y12uDDeXRgXSBMr3jb4sXmWYr9/cRQS7mWNw9xlh0am5YpUjlUheWqa5PH8SlwKMP4lievNEitMisLh1kg1L5zJ14iRmL9/OfftQJApICzJn95/D+L1yDToOmMjaXUd56q428UlTgnh4ahtzJo9j8qxlHLtlRbSosN4sHdvb+1mx7G+On1hHz5YaTNp8h8SsVicKNGSudlN6LTiKT9ZrhqXet5nUpRE9Fp4hKPn1m+ebqyHcmV+BzwnGkpQwrAwfY+8ZDnIxwU7mPDWyxNr0NjtXzmHS9D85fNuKWFF2nVOQEGDF6X+WMWXCBGYu2cx1c1/SRKGcXD6K3gMX4h6cDGTgYfWEe09sicl6l7csIxKrJ/d5ZuOLRK4gxt2UGzcNcItSV3JZSghPzu1g7tTJLFyzi1P/LKCPtjaLTj2HsTQ5BMNLe/lzxiTGTZrO2n2XcQ5NKQRYcmJ87Hn21BRb6yec2LaUyZNns/mUAQFZb0mSpUdj9+A8m1YsYNqkycxeuoUb5r6kF6CjmGBHAzaO7cbvtX9He+wiDlx9hk9oOC5WRhgZm3Dn+FYWzP2LM4ZeJCREYn7zGGsXz2HK5CksWLOXx04hqGxamYm4WxhiZGaFqcG/rJ43lWkLN3LVzJu0XDNa4gR/7p/cypzJE1m44SD3nprw9LEhzqFJKGRJuJs/4L6JC3HZ/UNSEBaP9TF0DFVZ42L8HHj21JzwhEyU7zR3N77BrrWLmTF1MjMWruXsI2cSX/Qe5/wVvgh/F2BchAvn7ZOmIMTuEvNHDGX8zD9ZvXIBgzo2omX/RTz1SiTR7Q4Lh3emSoWfaNBai2HTlnDBMgJZShDnVo5CS3sg81ZvZt38UXRsr82SEyaFVHo5melpiCQSEn2vMLR9eyZuvp0D41Dzo/Rp2ob5R5+SM2bIcGLD6E601l2HU3hRMNq9vdKfagifE4wTvPWZPqA3q3ffQyFJ4uGOmXRs1ZIu/QcxfupUhuu0oX6rvmy96YKSFRlBRqwa3ZWW7XoyfsZMRusOZNyivdiE+XBy5Vj66i7EIzQNCObwkpHojFiNdYjyO2RGGbFkZF/GLTtHcqYUtwtr0e0zgoOmYSikCdzbNYN2TVvSa9gkJo8eiGbDqlSq04ol/zqpQZYRwPn142nXQoOBY2cwe/IwNJs2ovukzZgG528TUhwubKBv+5Z06NmHUZOmMm5QVxo1as/svY9JkSpIcb3F8umjGDV5PiuXL2KYdhva6Ezmgl2UKq/P62c6bk9OMa1bE/5X6Rcad+rH/O3nsXQwZ8fsAbRorkHPXrpMnL2CC8bO2BleZPGY4UyctZhVf82if8fmdNBbzjP/DEjy4fA8Xdq01EBnyAgmTZlI3w5NaN5jKpesw1WWBkVaEFc2jqNNs9b0GzWZCcN10WrRkAYt+7PtkTeSdG8OLxhA72m7sI9QPyRleNzlzxE9GLfZgDiJGJNTfzGg70SeOUUhCbFi+4LRDJ8wi+UrlzKufydadBzGwcfeal2fZ/STuxJg/MkV2eskWEFqQjiBwdE5FdX3/gbaN+/GvmvOqoDCLY/Tr3VHlp40QjkGUP753d9O7/ZdWXPJNmuxSQwnFunSof8ijIKyfWV5zvWR5HORwRrt8sDY+9FmOjTqzOrzlrnM4L7snqFDyx4LMXtJeLmCFi7fkwKfFYw9bjK+uxZLtt1GIU7i/oZh1KvXirmHn5KQKSPJ/Q4TO7VhyF+nCRZlYH5wBu01dNh4w1XVPjLjw/D28ic2OYDjy0fRZ6ASxkowBrFv3iA6D1yKeXAWjCOfME+3G8MWnlLB2PnMX/TQGshe0zDiPW4zXacVveYewStJhjQlgPMrBtOwXgsWnXZBuXYx5NFO+rdvy9hNNwlTjtTlKZieWIBG8078edQs3/SNDLvTi9Fo8DuDVp7FP0mCJMaeNUO10Bq2EstYEdK0WIJConPWaoQ+3smALp2Zf8Sa9AIGLSmuF1bRq1sv1t/2UsFaFu/AusEtqVm/G1vvupGhukdGclw4waExWf2HDPtra+jWoR9H7/mgSPZhz0RNfmvZl+367mTIpHje20XvVprMPfSYVAVEWp5jdMdWDF1xmoB0OZnxHhya158/amuy/r4n4jQv9s/sQZdx27AJz4Kx601mD+yI3tq7xIozeXpkPt27DOeBdQhyUTIhwaEkZy03ibO7wsQumkzYfovIAlaA99Ro3lOwAozfk7BFKVhJYhBm9y5y9OA+1swZzB+/a7Lvko0qidE2pxnQtjPL/jXLgmUqD3ZNpEHtloydv5pdu3aya/cOpvZpS72WQznvFlmIGU2d20TvgjD2fLARzYZarLlgxfO1kP7sm9Wb1j0WCDD+yBXls4Kx5y0m9uzKX//cUcH47rpRdO43leueWXON8e5sHtGN/vP24hAZwOHpfegyaAFPI/ItJJSHcvyvkSozdTaM9y8YQpdBy7DIgfFTFgzuzog/T6tg7PLvcnp1G8R+sxCc7+5mYPuOrLxmn/MAGq1cwNW9CwtPOZGpEPNg62Q6dxrMSbvInBqQ7HuPKVrt0Ft6HH/lPFLOnwSbE4vp2aUfu54Fq9ufLJbzfw5Fe+Bs7maNpOUp4Vg9vMbxQ3vYMH8oLZu3ZeYe4zwmY3WQCjwur6GPdh/+1vdXhaeIt2X1cG10JmzGKSEvvTPi/DC+c4HD+3ezZMoAmjXrztHbrioY757UA50pm7GJU6c30UWfWT07Mn77LeIUUhyur0KrbV+233TJ2SbmfmsHAztos/6eB+I0Tw7M1qHbhH+wzYax2y3mDurM8PX6Khg/O7qQnt1G8sAqRJ33jFicjG9z8vB+tiydQtemzRi58QoheTTLEe+TuRBg/MkU1ZskVEG8x33+GtWTTt36MWHGLMYP6kSN2u05cMlWFWCk1Un6t+nEX6dNUD/zx3B9ox61qzWm77CJzJkzm1mzZjJl4mQWrj+BY55FFHnTVBiM/Z/tomuDdiw5ZUzO8guZB9sma9N2wGocBDN1XhE/8LfPF8aJ3F03hq4DZnDDM0WlqiLOnW1jujNw3h6sg93YNq4n3Ueuwioh3+rnQmC8TwnjwcuxzDJTS2KM+HNoT0bmgfFgDpgHYnl5M701tNn6wCXHIhVnfIBhOt1ZdNqZTHkKl1eNonO38Vz3icsp8bQQU/7spYnuwv145Nm6IMH6xFIV7PcYBamBJI7m0l/D6D5oDvdD0kkNNGHLdF06d+nNmCnTmThUi/oNWzFrX2EwluF2cTW9u/Vmwx0fVXjyOBtWj+qN7ux9+KRmw1hGmP0NFo/SobN2fyZMn8GIfh2p16g7x+5kw1iH3tO2Yp0F4wSXe8zp3Znx/yhhLMLi3ELaaw7l8AN1PMrMeuvvZaiWTh4Ya0/cjl0WjDM97rJgSJd8MB7FI7swJLHOHFw8ii6dtRk2cTpTRvSj5R+NGfX3VUKluR9gcmT9ZC4EGH8yRfUGCZUlcH/jYBpp6nHwoR9pUgmBxgfRadOFfResVAFGWJ2gX+tOLD9rnjVyTeP+zvE0aarLSWNfRBIRynNTRZlS5P/xjk1R0HX02msyZbtBzoggzvEKes3rM3LzDaKzsxBpxIJ+LdGefRz/pOyGn+0ofH5IBT57GPefznUP9dSKItaNraO7M2DeHuzDAjk8TYcOA+bwKCwfjKUhHMszMg7h4ILBaPVfjFm4es+BJPQ+0/p2Qm/RGVIypWSPjA+YheByZzf9Ndqx9JJtTjsIf7CNflqdWHjaGbFCwsOtE+mg2Z+j1lE5xZ3seY2xWh0Yu/YiEXn24WfDWJfdhoE5ML64dBg9hszDICCSp/vmodVOhy13nEgUSYiyOs6o3t2YuceQ1FyLqdSRvQjGvRg4cw9eKVk3ZIRxdfUQWmuP5ugTZf+RifO93QzU6sOxm85ZI2Mdek3dglWsGoQJzvrMVsH4pmpk7Hh9NZ1b6bD5hnPOyNj12mb6aHRTwVgi8uLgHB20Rm/GPlIdRprzFab2botenpHxWJ7Ze+J+dyNd22iz/NhTYtKlxDvfY2F/LUZtuCSMjHNqUq6L7BdFCCdw5RLlY1zKYrm2tAe/dRjLZdcMkMSg/88YatVsxZ7z1qoUxTleYnCzBoxcdw6v6DhSxRDwaC+9mzVCb9W/+KhGDXLiQ71x9QohLbNAyyYjIQJvVweeXd1I5wYN6TvjH57ZOhEYK0IR7872sW2p12EcZ4wDSEgI5cHuGbRu0p4Vl+xIE1j8MWpGTpyfFYw9bjJOuxNLtirnjBO5s2YknfpM4ap7Noxd2TyiC71n7MQ5IRWrY7Np3aQtc/Y9JDQ2Dm/ze5w/fxvHEC+OLh2JTv95uIco7Tlp3P57HK1bdGPzbQfCgtw4t2YktatUp9+f/5KWKcX59FK0O/dnj0kYid76zOzRFM2RGzHxjSDI7RGrR7ahcvWGKhgrORv2ZBd9WjWi95wD2AXFER/uxunlQ2jRth877nmr5pVzCgkJVsf+pIdWf3Y+C8iB8fk/h9BNdw73/MPQ3zKJdhr9VHBXyBIxPDCdFo2aMHW3UaEwdj2/kp6de7LutnfWyNialcN70G/aLjyzYZwWyL+LdGjWYyo33DNQZIRxcf0IGtTvzCGl2TnZm53ju9Nj0iYss2HsdJcZPTUZs+UqUQoFsTYXGavZmO7T/8EqMIIA+5ssHNCSalU12XjfA5kihstr9GjWWpcDD9wI9XPgyJ8DqVu1KkM33CNOLObp4XlodxnNMzs3HC7/hUaLHmy+6YFCkY7dxbV0rVcfvbUCjIs9rzDPrwQYP9fi417JCDI6jF6nlmh07cfIsRMYM6QvbTv15dhNe1XSZPGu7JikRd269eg0YDxHnoYgSY/i7s4ZdGjZgk49BzB0qC49evRi+tYbhCXnh7EUN4ODjOvRjmaN6lKpYkUq1/iNZhraLD9tTapcSqjZSUZ1bk7jlpr07NGJpk1aMmLZKTzi8s3VfVyxvsjYPycYJ/roM0O3N6v23EchScZg8xR6D5vPHe+sRYfxHuye0p+hC/fhlg7iSBu2TetDkwZN6dxNm46anRm3/BguUUGcWz+ZwSOX4xGiNnFH219mZt9W/N64DV10+qCrN5zuXbWZuv4yKSIZ7hfXodt3JAfNwlDIUzA8tgStpvVp0b4LPXv1ZuCgnnTu2p/1F5zVFihRCDf+mUXHJg1p3UmbHl3a0axlF+bvvk1wgc33Uuz/Xa0O3zRrzlgcw7U14+k/egmPw1KJtL3E9D7taN2pF8PHjmHk8L5ode7FimPmhcBYjufVvxncdzDbDPzUMI635+9JugxfeAjfbBgrMnG/v4ehWq1p37Ufo8aOZ7hubzr10OOMgSeKZD8OzhrEoLk7sYtXj2qT3AxYPKQX03ffIlJpSRNFoL97Ju0b1aelZld0evWje/vWNG6izd/3XJGiINT0NBO6NKV+szZ01+nD0OED6andnVnbHxMnlWJ6ehkD+03G0CmcdL/HLBnahVbtujF01BjGDh+IdscezNxxmzDBTF2wDxNgXFCTj/aLPINA+yecObKfoxcNcPIKICAwgLhE9QwxyEkIcuDG6YMcOHkNB9W+SpBnxOFhYcDpQ7vZvms/Z28+xiUwDkmBkayclJggnKzNMTO3xNrGBmsrC8wsrPAKiVevxlaIifCw4OqJ/ezcdYDLD6wIS3q+nOujaSNEzOcEY1lmEkG+voRHJ4NCRlJEEL7+ISRlW3OkIqKDfPFTrjrOqsdp0b4Y3jrL/r0HuHDXGN/IFOQKKfERgfj5hyESZz18KjIJ97Tg8slDHDt/B3vfMMKCAwmJiEemZE58OL6+AcSkqR8wle3H1eQOxw4e4twdI7xDQgkODCIiPj3ncBFZegyuZvc4dXA3ew+d4aGVB/HqZcwFamZaXDi+Pv454aOQkhAeiG9AKMlKK7tcRIirKRePH+TYudtYe/gTGBBIRGxavq1N6qBFCRH4+vgRlZzVDmXpRAT64h8STWauNq6QpOBr84gzRw5w8spDnL0CCQoKUh15iyyT6GBffEOiyNp+jUy52tnPh+CopJzRvSQlCvvH1zl68DBXH1lhcGIjg7SUo3JHVFu+ZWkEOxtx4dghTly+j0tgKGEhgYREJavCSI0Lw9cnkOR0pU1BQrSPDdfPHOHQyauYO3ur0hManVQkjhktUHCv8YMwZ/waYn3aXhVq89YLM6HImdPJ40V1ctG7WhghR67suYS/IqPA5wTjtxFV8crbYl6z/r6Kd4X8pSdXvV6+/qudv15oz32/u3A9b+9kYPturL7pQEYeffJ8eR71C65ez/cLAilCPwswLkKFISRFUOBDKyDA+EMrLsTnY3CESbrD2PHQNWeBm6AKCDAWaoGgwBesgADjL7jwP1LW02NDcHFwJDAuNcdk/5GSUqSiFWBcpIpDSIygwIdVQIDxh9VbiE1Q4EUKCDB+kTLC74ICX4ACAoy/gEIWsvhJKCDA+JMoJiGRggLvRwEBxu9HVyFUQYHXVUCA8esqJvgXFPiMFBBg/OkXZnyAI48emxAUV+CN5J9+5r6gHAgw/twLWyFF/LKXgme5v9NtAnIRCdHhhIZFkKA80quQP1FyLOGhoUTGpRS6D7KQW4Sf3oMCAozfg6jvIEi5VEJGehqpqWmkZ2S+ZKGTHKsLmxg3dRlPvdUHlPxn9DIJEqnsP7Y6/mcogod3rIAA43csaFEKLtbTkL2rlrHt9ENCCnlojsl2P/OI0ELcXz8vMuL9zDiwcgaDemvTSVMTneHzOWvo+fzYS2kqTvoHmTm8D507aNK5xxBWHXtIaEqew3hfP2rhjjdSQIDxG8n2fm+Sx2J2ZS/zxo9ET28Yw0aMZd7qPRjYBZKRcwCegqRgJ64dWMUAjbr8XLUhI5YewMwrmhceRKVIw8PwEptWrOX0I6ecV6a+38wIob+qAgKMX1WpT8ifIj0ai6s7GN2tCT8U/46247bikPR87JvtPirLXWP8Vuxzub9xVuXJWF/cxPgJs1i/+whHdqygb7Ma1NOZw30v5YlfcoIN9zNAozndRy1i//EjrJ7ah4b1NVl+1pKknI7mjVMg3PiaCggwfk3BPoR3sSs7pvXkj980mTR/GSv/nEbP1g1orDWak6YhqlGyOMKKbdP70LJtN8bNXsxf8ybRt88A5u26S6zqWKu8CU2P9ODq7kV0b1KDcmVrMWbrTcKE9pZXpI/8TYDxRy6A9xF9rO0NFk8eyZxlqxnRviFaEzZhm/gcxjEq91HM/ivLfeLmPO550qSQkxTmwaOrp9izfRs7D53D1COi8KPn5GISIoIJjc0+alOE0a7hVK+nzW6DIBBHc2q2Ni16zuS2Cs6giLRgad8mtB27BbuIfG/PyZMQ4cv7UECA8ftQ9S3DFDmxeUpvOg5ei0uc8mxKBb73NtO1RROGrrmpOms69N4mumu0Zdp+U9JVTVtCRIAnbr7hiPIbmRRiHK7uYNqkKcxfMIderVoybus1QgUYv2VBvdvbBRi/Wz2LRGii+Aj8g8NJiPJmq157uk74Ow9sM+IjCMhxb0e3iZuwyQXr3JnIDHNk30I9evYewIhRw+mp2ZzWvaZzySr0JfNY2SEkcGt1X+q0HMK/NrFIYiyZ160VAxYewS9nKjmCc8v6Ur/jVO45x2bfKHx+IAUEGH8goV8nGpEzm6f2QWvYJnzVpCXV7hj92jVHd/lVlDM6EQ+30a1FIwavvkpoxn8FLiMxIoigyDiCbW8zs0d7xm65SogA4/8S7oO6CzD+oHJ/4MhS/dkyuC1d8sE4JxWpfir3rhNeAuO4EGxMjXAOjCFTJiHM4gxDW7Vg4s47ROY6UD4nTEkqAU6m6N+6xoF1s+jRvjMz/7lFlARS/a8zTKMtY9ZdITrn3gTubh9L4xbDuGAZnBOMcPFhFBBg/GF0fq1YMl3YNq0XzTVHc+iKAY8fXGH91AF06jGSg4/9VAsepbGO7J3Tl3q//k7X4fM5eOUp3uFJ/xlNvOMtpnZrJ8D4P5X68B4EGH94zT9cjEm+bH4ZjJN8VO4vg3F2YpMifLA2NeT+ma3oKp/I11wgoLAXL6WHcGfPQvp106Rx3epUqaPBvH33ic6QkeJ7Ed3WbRm34QbxOTBO5v6eSTRrMZSz5oHZ0QmfH0gBAcYfSOjXiUbsxq7pPahesTpNWzSjzi/fU75GO/W6ipx2A6nhrlw/uI6xfTtRv04dWvaayGEDF1Jy+ckfbYz9TQHG+UUpIt8FGBeRgngvyXgXMM6I4Mnx1Qzrq0MfXT30+nXhj8q1GLTmIoGFrcBWSEiKDsHX2wtXm8fsWahL/d/as/qKNUE+txjZtg0j11zKNapWj4ybtBnNNZvQ9yKDEOiLFRBg/GJtPppLpjPbpvWmVedJ/Hv3KfdOrqZfp/aMWHGWgEJImxYbgMm13QzXrEdTnZncds96f3MhGRBgXIgoReQnAcZFpCDeSzIygvlnqAbdJm/FOb2QGERBKnftSdtwKswdBYHG++jdsg1jlh3Bwj0QP4vrTO/aiiGrzhPwn3NVkOZxC70Gv9B98WkcPS1Y0LUZOnP2450zZxzO6UU9aNprIU+8XtyJFJJ64ad3oIAA43cg4rsOQuTMlql96DRkPW4JytVZSVxfO5LWbfuy52ngC9ZqSDHePoombXqw9V7IC/cQJ7nqM6N7e8Zvv0XU8zWd7zoHQnhvoIAA4zcQrcjfIhOTmpxAjL81K/u2oMOI5TzyiyEpVaR+b2q2u58VK/u2pOOIFTz0iyFR6Z7HxCXF7sJ8mvzRlR0P1PO5yfYX0GtWj4ErzxWAsTwjCXc7cxz9wlFbsDNxvb0Jzeo1GPr3baISIzkztwv12g/ntEWkSsZ4h0uM1mxA3yWn8X3FMwuKvP6fUAIFGBfBwlIu4JrSmw66q7GPVJufYqxOMKRDK3SXniU0XUKEhzWGRma4+YcRHR1JoPNj1g7XpGn3iVx2SiyQKZk4naTEeDyfnGFsp1borTqOU3QiqRmSF4K7QCDCD+9VAQHG71XejxN4qvczNs/Ro1unttQs/y2llXNPnXoydeMlotMg08+QTbndf6yhcp+28RIRCTlDVlXiY50vM65jM9r1HsuytauZP64PjWr8hu6qCwXM1PLkYE4uGYRmp+6MmjaPedNGotnoVxr3mMk1+yjVFo0wi5MM02hIE80+TJ01hb4dmtJMeyqXrEPJvyPj46j3ZcUqwLgIlrfIib8ndKdtvxXYhavNT/I0Pw5N06aF1hguOUZgf30bel1bo9G5B31696RT2xa06arHlovmxBfYISjD7+kp5o3pS/sWDfm59LdUrP47Gn1Gsfm0MWl5m3wRFOTLSJIA48+wnEXR3jy6epIDBw5y5Ogxjh49zP4Dh7hoYEuKGCSxPjy8cqKA+6UHtiSl59vvIEvH2/Qam/+aw8yFazh98wGGT55i5hKk2u+YRz6FhEgPM84e2MTCWVOZPG0ua3acxMQtDHG2SUyejq/FTXasnM/kiVNZtG4fDxyCKOScgjxBC1/ejwICjN+Prm8VqiwBV4snGBg6EZ9z5JaUSHcT7tx7jHtYOqLkKJyfXWDJCC2aaw5k5aFrWLqFkJ7HspWdCgUxXpZcO6PsBw5zVNknHD7I/iNneGTliyRfk8++S/j8sAoIMP6wen+yscky00nLeNVHaAWitGSSU9JfeO60QpJBcnIKmUJH8FHrhADjjyr/W0Yei8HOhUxZcRS3jOyn3bcMUrj9oykgwPijSS9ELCjw8RUQYPzxy+CNUyBLxdfGiCeWHiQWOiJ+45CFGz+CAgKMP4LoQpSCAkVFAQHGRaUkhHR86QoIMP7Sa4CQ/y9aAQHGX3TxC5kvQgoIMC5ChSEkRVDgQysgwPhDKy7EJyhQuAICjAvXRfhVUOCLUECA8RdRzEImPwEFBBh/AoUkJFFQ4H0pIMD4fSn74cJNiw3Bzd2b2JQCG4w/XCKEmN5aAQHGby1hEQpAIc93glYRShsgl8tfetrPf7kXrdx8HqkRYPzpl6Ob/kHmL/4bs1c5wk7ZRwi7oIpkoQswLpLF8jqJkpES6szVgxuZO2Uso0ZPZOXeq7hHphcAX2KANZfOnuORXSCvumP4VVMijvFE/9JZrj9zIVWau7XLiXJ7zN5VcxkzYgQTZq/ivKFHrgND5ES5qt3HjlS7nzN0z+X+qikQ/L2JAgKM30S193yPIgUPk9sc2LqBNWvWsnbDVo5deYx3VGqeNi1Lj8XZ8CILh3agbiMtlh95SHCCKI8fdUqlJIU4c+PoVuZPm8DocVNZs/cqruFp7zkjQvCvo4AA49dRqyj6FYdxe+dc+vYZwpS5C5kxoif1a9Vl0Iqz+CWpT9RQNlr7O/sZp92Q7yvVZ8oOA97ZMdDSVPzNr7B4mCaVfqpKj7nHCMk5BkhBvOstZvVtR9uug5g5fy7Du7emYZtB7H/grToQJNHtJjNzu/doRcM2uux/4Jl1vnVRFP3zSZMA+IRUUQAAGelJREFU4yJYlmIPDs4fQP1ajenRfzBD+vegZaNGdB21HAOPeFWC5ck+nNs4mc6tW9NZuxe9tDvSqkNPFu57QEK+V5sqJCHc2LmIoX0HM3XeQqYN60792vXoN/8InvHv+rG8COr5iSRJgPEnUlAvTGZmPF4O1jj6RqqOlJQluPDP2JZUazeZ+y7KA+MluNzdyZh+fdAb3Zf6tZswftNtknIPXvMFnpkUgbOlIff172Fs50XCC8+qVBDueJm5g/swePRgWtevT/ep+whMzTpWSxLL9VUDadpxOMdNg1VnTye43mJyx/p0m3sc3+gY7qzVpVnHERw3DVG7u9xiSsf6dJ25H9d44XiufEXzzr8KMH7nkr59gCInNk/WoX2/ZVgGJSFJi8XoyDzaNmnGuG0PUZ6QGfVsD/07tGHE2qsEJGQiSY3E1vgBD83cSZXkbdwKSTxejna4+EQgkkNmjB0bR3bkjya6nHaIeMFboN4+G0IIr6eAAOPX0+sT8B3CsVkdqNVhGgauShjLCHa1wNTKBR+n8+i1b8eEv2+RmLe95uQr1ucx66cORaenDr26a6HRVotpmy7ik1AYGBXEBTli9MwGP/+nLNLtTK8pewlIVR8HJImyYUnPVujM2oNH9usWZcGcXNCdJn3+5N7Th6zo15Zes/Y+d5cHc3JhDxp2m8ND94ScdAkX70cBAcbvR9e3CjXrFYqd9TbgkfXULHL9l8EdWtF/yQWSpBB8ZwNarVoyea8Zr38SZhTnlgymeZM+HLIOK8Ss/VapF25+QwUEGL+hcEXqNqmIuMgQ/H3duHd0JX3aazLln1uEpuUlbqr/FYa21XgJjOVEeBlx9vhZHlm6EuDrxPn1w2nUaiAnHvu/PMtp1iwa0JGeuWCc7HeTERqtGbnmElE5x/XFc3vrKFp0GMux83sZ3bE9o9fmdo/j9rZRNGo1ksvWoS+PU3B9awUEGL+1hO8+AJEzW6f2RkNnPg8cAggLcePixol0aNedNRcdUa6Zzgh6ytIhGtRt2JEZG49j4hpM2isuppZFm7NiqCbNdRbyLEh4h/i7L8A3C1GA8ZvpVrTuirLnwF9j6dK+Bb/+8hO1NYZzzMjv+ZuSslKb6HOJIS+FsSLHZCVJSyAiJJBn/y5Do0ln9v2/vfOOqurK93jmn5n1Zr01yczkrcybvCTjJJOYqPSmFAERAUWQYleIQRAVBUVNlESxAHYsEbFFwZooUgQ7FgTsGIkgSpEO0sul3/t5iyogWFGucbMWi3vPPnvv3/789uG7z2/vs8+BK09ss6w0hjkjW8W4eRBQfHcfo9Q0sFt2hKI2MS4jwtcBzUFj2bBzOaMGavP18qAO6cc3fIOyig17otOeWKdIfHkCQoxfnmGPl1D7G+unGfPx3z9BVUsLhc8/4p+faTF7wzEyWqeAqCPzZjheLmPRURlA3/7qWM/04WR87pNfRSqTELVjDjrKmrj4RVL8jALe420UBT5GQIjxY0jewAM1xSTFXeJEeCj7ty5jjL4SykOdORKX0+HCfLoYg1SSy/l9q5k+eQyjx4xm+GAlPvhYix8PPlmMpV2IcUnSQWzV1Jm45BD5bWJcwrG19mjoTmJrwGrGDBrI5CU/d0gPX/c1SurjOXgl4w10xptlshBjOfRX7W3WOJmioDaK5Ru24DNnDOoq2jivP0FBJ/GU1pSTGneObUud0P7yU3QnLCYqo3VOqHPbGkg544etnipmMzbya1515xPE914kIMS4F+G/qqpvH/oe9Y8+YcrmSNqvgSpvDFNrDWSKd1g3q6mriDuwCH2NQUyc58vRU6fZ7+uKpsJgNh+4/GRzK67gbqGHieNm0luu8aqMMzhqK2ExZxup9a3Zc9m3yBy14XM4En6I6YNVsOyUvt/DAsUhMzkR37xytDWn+NvzBIQY9zzTly6xZc5Yz9qT+CIZ1D3Af5Y5aoMnsO9GfjfFlxDmaU1/dRPWnsjsYh5YRtaVAzgO12Go3VIupvbY8xTd2CMOPy8BIcbPS0zOzq+TlJOXk0NZuxHzzf3fofphH6ZuvUBJ07orGTKZlMK7+7HW1MJ+eRCF9V1swFGXywFXffoaOXM8vbmhqadWoqugx6b9sd22XCaVUld0CTdzHYwdNnC/tK75n0F5Mr4TNVAwmUH4/ebnLRoyzuNqMoAhs7ZxJ+Uem+00O6Wfw81UAQPnjdwubLud7rZukfByBIQYvxy/V5K7RYx1rX7gZl7zo0fpJ9diqqHGJO9jFNVKqXiYRXpmDqWSWhoa6qkpTmbXbBMUdWzYFv2woxjL6sm5GYSr1WD0beYRdiu3Kb1pk52Oy0peSXNEoc9GQIjxs3GS27Oq0mLxcrTAxmEu6/x34eczl2Eq/6avwTSO/to4ipaRcS2UVd/OwM5Wjw/+/Gc+GmCA3XR3dpxMoMMOerIKLm1xRKH/QJxW/MSRA9tws9bkb/+rxLq9XYtxUUosWz3n4mg3nP+8/9/89RM1RttPY+3BSxTW1JIYuhz9r/qiP9qNDVs3MGe8Af1UzVkXkYiUehJCljP4qy+b0/0a0/XppzKCdeHxdBdsk1tnvIGGCTGWQ6dVxbF0kj4qJgu4mi1pMrC+KI4VoweiaOhIaGIeVw+tYvwII6wmT8PNdQaTLAxRVdXDeeVh0so7DmJlxXGsttPkz3/4L74ysMJxhgsznKbiMHshuyJuUd0WtZJDFm+RSUKM33RnVz0k6uf1uHw9GrNhxhibmDPZxZOgyyktjzxISb18FK+5zkx1nIqTkxNOjlNxnO7G1vB4yjo981+Vd5s9y12wHmGGlb0bazf7s3GTH1E3W26VO/EqTI5i8/euOE1tKdvJkalTnfAJiCS7UU1rH3I+0IdvbEZgNMQI83HObAyKpaB1Y4LqfM41pQ9/lH6kXXqn+sTXniUgxLhnefZIaXXZnN7vh++OCDJbR8vSahJP/oTPWj/OJ5VQkhFPsP9ixg9R4fP+gxg3ayl7wmLJLn9cWaWlSRz1W4azgwPTpk/H2dkZJ0cHvnH5lu1hN6h6PEuPNEMU8nwEhBg/Hy+5PbtOUkxmWgppmfnP/IhDt42pl5CflU52YXnb6upuz32mBCkVhTmkpqSRX9rVopGnpT9TJeKkFyAgxPgFoMlLFlkeYT4zmODqy/XuNg6QF1uFHU8lIMT4qYjECYLA75eAEOM32LcNJdwKP0hAaDR5Xe3J8wY37W00XYjx2+h10WZBoIWAEOM3uCvIpNTVVFNdW9dDEaw3mMXvwHQhxr8DJ4omCAIvSkCI8YuSE/kEgZ4lIMS4Z3mK0gSBN4qAEOM3yl3C2N8xASHGv2PniqYJAk8jIMT4aYREuiDweggIMX49nEUtgoBcEhBiLJduEUa9hQSEGL+FThdNFgRaCQgxbiXx5v6VFGVxNymZwop22/C9uc15ay0XYvzWuv4VN7yhgrTE2ySk5lPXcUOgV1yxKP55CAgxfh5a8nluwvFtzF3gzaVksd+0fHro2awSYvxsnF7ZWZLcO4QfOMCpGyl0eP1wQyk3I3bh4erE1187snDtXm5mdL7YGsi9c54DB4K5kVIoV483SCvi8JkxkRnLfqGi8WXoF/ay2GMpwXF5vPwjkTLqqispr5BQLxWb675M5xRi/DL0XlVeGQVJsRza7ouPtzfePmvYGhDMjeSCDm9hk1YXkxAdxIIJ+nyhZMSSXZFkl9d03Je6ycQGcn67wF6/tXg3lue1gmVeq9h++ALZ7Te1f1XNEeU+EwEhxs+EqedPktWWkXguEBdLTf7xXh8mrgwmu1WlZJXEBizCSEMNY9spTHcYy6ABXzHUYTU385p3bK4tyyZyzzIsNfrw108NWRX8aw+IXA+2szIWN3NdRk73p6xWRlKYL1PtndgVldH0cvSXq6mWqD0rcFmwkVsFnfbzfLmC37rcQozl0eV1nPNzQ+erPqgammFpYYa2Sn/UjO3wP53UJMiyilQOrXTGUEsdbf0hGOppoaJtgvuPpyhu3Wq2tWmyCk5snImu4pfoGI/E2sqSERa2zFweSEKB2AG+FVNv/xVi3EseSD3jz9c2I7CyskT14z7YLD1ARsuUT03qSVxMlNB3WM/NnEoa6kq5sHEaqgMG4nHkLlIqiNz2HTYjzbGy1OWTf+uw7NC1p4hcPfnJv3Lh7Bku3bhHSTsNq5OUUVwmoaFOQsada0Rduk56yxXdUJZFXGwUV26nNd3hPgmXTPKQO9cuEXXlNpkZ53G3NcLaZRvFVTKQFJCakk5hZUvFDRKykuK4GHmG8zFxZJU82iZTWiehpLiM2oZ6SrPuEhMVRdz9XFre+0RlURKbZ45ETXc8uyNvkJlfRFXbdFlVUxvOnYnkSvwDKlsHOE8y/C1OE2Isj86vJtzbAZ2Bw9kclUyFpISEU5uwVB+A0TfruCepJ//iFkbpajLaYz9JDyuQFD/g0qkQws7fpry2U7SooZhfvKZiZjuL43dyqa6uoqKigsqqGhpknc6VRxxviU1CjHvJ0dm3ozgVfYvEaxE46ylg63mA9BZBuRfqw5ABmngcvkmrRNUm7MN6kBKWHiGU1pWRGBNJ9K93uBbhjZ6iIUsPPEGMa/M5u9uT8RYjMB9pjvFQExx+2EV8y8vF757ZxcLvvmfFojlMMjdAVVkNyxmrCT9xhFXz7DAapIbywGEs2H6Wh1VdTwBXZ19n8/wJ6GqqM1DXCJvJNmgoKjHKdVfTm6Fyo/fiscCTkIQiZOWpBK2fyygzU0xNjNHV1makw3LOJhU0eaM88QxrFi5k6QoPnO0s0FFXRt3QltXBt6kuz+bkFjc0/v0B7/7tQxTVBzHx2y1cz5FC5QOC1rtjM8IM8xHDMTK2wN03iNQysRN+d91ciHF3ZHrzeDURPo4YDLYl8E5psyHV8Sy11kV75HxiiqtJa3wbmroajj/GUvM0PW0SY0dGTvyWmJx2o/DebKKo+zECQowfQ/J6D9SmRjJNZwA2bWJcR9QOF9QGmOF/4X7bPLCs6CxORhoYTd1ChuSRIKZGrkRHwQDPbsVYSuLxdVjqD8Vt/WHi7iUTfXAFIwfrMdv/EhKZjGsB81D+8APUzWewM/Q0QZvc0e37CV+oGDBt2XaOnw7GY5weCtqTOfxbs2B2oCQr4dhqB1T6a+Pme4hzp4+w3NGY//nbPzCZvRtJA9zd/x2DNYey6lwG9SX3CQ3cwZ6gM9y8k8DFQE+GqSkzZd0pSmVQemUPVsr/x7/UhvPDtiAijwfibKqK6oj5RKXmkZt0jkXjGl+1aIan/z7OXU+ipLKSKz/Nx8TIgsV7zpCYdIcIv7kY6JnjdfhWy111B6vFF0CIsTx2g2oiVjqiN9CM9Wfiyc/P5eqRVVjoaDHOYx/ZtTKq0k7jbqnB5wqGuK3ey+W7OVR3FwWSlhK0wh5NFS3s3TzwWuXL3mMxZLQPj8kjhrfMJiHGvexwyf0zOGm3F+MqTm92QFFhFHui09qsk1VE42qqhaHdOu63e03a/TPeTxbjugx2zx2GkuFUAs/eISMjk4zEcGaZqzJogi9Zkipu7JuHZj89VgTFNYe6C6JwH6GAosX3XM5oDg4n7P2WwRqGrDie/Hg4vCCGb6010Z28njtFzSZX3j/KRAM1zF12NoW3kw4uwlDblDWRKY8WoTTUUFKQR+a1g0wdpoyZWyDZtVB2ZTe2WgqMXn6ErJaB/Pl1TmhrWbLjZl7jexkJ9pyMvtlMzmY0v++Vil/xHGuAjtU8jsfdJzMzk6RL+xmvpYjV/J2kiRuCtr7U/oMQ4/Y05OVzLafWT0P54/f5QkOHgar9+Pijzxk+Yy2xaS13ytSQfvUoSxyt0FTsTz8lbcbP9eVc4sMu1o5UczN4M7PsxzBxsh1jRhqhMkAFy5lruZJZKS+NfuvtEGLcy13gcTGu5uwWJ5T7m7PjYkrbykhZeRQuJgMxcthEeruJ0KeKcdFtfCYo849PlRhqMYaxY8YydrQ5msqKDJu2lbwqCdf3zkdnkA27Yx400yi/xpIJgxnmvJ3Ulmv/QfByjHWGsDj4Lp11rSExGIehSlh5HqMl8g3lV3C3NsRq1g4axw5JBz0YomPG2sjGOmp5cC0U77mOjBs3jjGjhtD3Xx8xzC2A7JpmMR6rq83s3dGUtfjnxs55DNEZyY+XswAJR36YgJ6JMydTSprOqM89ybQhCnzyHw0sbEY3lTt6lCkqX6pit3QfaW1zyr3scDmrXoixnDmkyZxaTqxxYqCCCl8vXs2apTMwUFbCfMZG4gs7TrnUS4pJunqCTYumoNH3M/TtlhKT2Tq59aht0oZaaqqrqJJUUV6QQpDXZJQHaDBnRyxV3d1RP8ouPr0GAkKMXwPkJ1VR0xSmVsB22SGymqLPjWHjBWh+ocPKEwltd5HSjFAmGahhMf8gBe0miRrD1LqKhiw7dLMtpN2hvsJbeI1V4gujb9gQGMbxY2GEhIQSFnGSK3dyqKeOy3vc0Rlkza5LKc1Zy66yZIIew6b5k1zcHBJPe5IYJxzlGyMFLBaHPRJjyVXmdyHGvpeyKbx7EtcRWujbzmTj3hDCD65lrIESZq57yKpuDFPvplGMZ+2Kollq4foOd4boWrAltlGMK/mlUYxNp3OqZbRQnxOBg6EqmiNcCQwKIyI8jNDQEMKOR3IrOU+EqTt0ikdfhBg/YiE/n1rmjPWs+el2ITKqufjjTLQ1DPn+YFzXfVlWSPAPlvRXM2Xdyay2QXx3bSq7thNLHXVsFv5MaefRdXeZxPFXSkCI8SvF+/TCK++dbg5TL9nPg5ZVkPlR/pgrfoatVygPW0at9w5/j46yBu5746huW7Ah495pr+Yw9f6rdF5E2VR7Y5jabSj9DKYTkdQS0u1gVgMxu+e+lBhTEMMCKzXUR3vxa0GzeOfGbsNU9StMZ7aGqRvvjIezKTaTm0dWoN9PgyVhic2W5J/DdaQaJrN+ekYxruLw4nEMGvIN4Skt984Vt1liq4u2zfdcL+7QQPHlCQSEGD8BTq8lNYuxvq4VO+Pym4S1OjWCGcM0MLJfxa2iGiqL8snJe0hFTT1SqZS6sjQC5pihqG2Nf1RznlbzZfW1VFfXtAtfNxB/yAM9NVUcN5wXTxy0gurlv0KMe8kBhfGn2OS1EOeJ5nz6lz/yT0UDJsxexM6I32goSWTrLBP+01eXmSu28JPfUkYNGsAgWw8uZlQAdcSfCsRr4Swmmqvxlz++h5KBFbMXrSTsZl7b3XRz06Qkn9qEhVo/9MfOZfvP4YQH7WX9ihUEnL1HHTKit89EScGkacFYU57SWL4bpYKO3SbuFTUrf8phD7SVtPj2cMJjYWoo4+R6R5Q++wobN2/8Nq7AwUKH9997H0PnbU1zxomB89BS0md1VBYZsYGM0fgSk+neHAkPYbPHZPp/+Hf0nHc0i3HMdkaqKOHof55WXb3iNxMtlaGsv5TeZGLsVhdUP+/P6DnLCAyPJqOwghv7F6GvrMhwR0/2BUcQenAbXit9CY5OpaFtANNLDpfTaoUYy6NjqghdOgl1FRP8rmY33+XWFxLsaUM/paGsCblF7MFVTLY0ZezU2Xy3YC4OtsNQU9HGYfkBkss6xp1r06LxW76AOYvXsWfffvx83DHTGICWxRyO3SmURwBvpU1CjHvJ7Xk3Qljh7oSdnT329nbY2U1iwpQZ+B6MpV4GFSmX2LBgCuZDh2BoZMI4l2Uci8tqWTwl4VqIH+5O9tjZ22NvZ8fkSZOY4rKQQzGZ1HUWnvripvNnTbbG1NiYYaYjGO/4LQdjHjSNltNifsbHewvR91tWSlc/INTfh/WBFylouZkujDvGWu81hN7qLPbNAGvz4wn0no3lMCNMLSexaP1Ofly/mu1HoptWeeZdDWaNzwZO3yuBugIuBHphZ2WG2chxzPX2xXfNKnYcuUxJPVSnxeC/0ocD0fdpvZdPj/qZNSs3cy61eYVYVVo0vu6TMdLTx95jG7fypFCTR2TASqaOGYmxsTEmZuZMnrOSE7dynxq266Vu0OvVCjHudRd0YUAd8ccDWLVyC5cyWhdsyXgYH86qpT78cjaBgtQb/Lx5IbYGynzeTwvbaYvwP3yB9C5WSEuL7xHiv4RJ1iMwNjLC2MwSh/mribiR3sXAugtzxKHXQkCI8WvB/IKV1JaTnXqPpORMSrt9buHZy64tf0ja/bvcS82kRNJ4T9zDPw1V5Gek8SCniJpHT191U0kdRTkPSEnPeXyTgm5ydD5cLykiPTWF7ILydtEAGZLiHJKT7pLcWHYPcOtc7+/puxDjN9ib0lxCvJwZN2stV1siWN23po6ygmySk5JIzXzYbpOc7nOIlNdLQIjx6+UtahME5IqAEGO5csfzGdNQwo3Qvfx0NIrcjpHp5ytHnC0XBF6pGF+4cEEuGimMEAQEga4JnDt3jvfee49t27Z1fYI4KggIAq+FwP379+nTpw/Ozs7InmObUqlU6gn84Z2urPT39+edd95h9uzZ7NmzR/wKBqIPyGEfCAgIwNXVlT/96U+MHz9e+EgOffS0/58BAYEEBgYI372Bvmvv28ZrccmSJbz77rvMnDmz58S4cZTdKMbiVzAQfUD0AdEHRB8QfeDZ+8CcOXN6TozT09Ob9rwNDg7m6NGj4lcwEH1ATvtA4zXaOG8cEhIifCSnPhL/Q98ODWm8FkNDQ0lISOgq4NztsSeGqbvNJRIEAUFAEBAEBAFBoMcICDHuMZSiIEFAEBAEBAFB4MUICDF+MW4ilyAgCAgCgoAg0GMEhBj3GEpRkCAgCAgCgoAg8GIEhBi/GDeRSxAQBAQBQUAQ6DECQox7DKUoSBAQBAQBQUAQeDECbWL8jvgRBAQBQUAQEAQEgV4l8P/eWz4vIhNuzgAAAABJRU5ErkJggg==)"
      ],
      "metadata": {
        "id": "0g7mnwo8qGMr"
      }
    },
    {
      "cell_type": "markdown",
      "source": [
        "![image.png](data:image/png;base64,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)"
      ],
      "metadata": {
        "id": "w1cSNvAlqT7A"
      }
    },
    {
      "cell_type": "markdown",
      "source": [
        "![image.png](data:image/png;base64,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)"
      ],
      "metadata": {
        "id": "0hCjX2c2qZcO"
      }
    },
    {
      "cell_type": "markdown",
      "source": [
        "![image.png](data:image/png;base64,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)"
      ],
      "metadata": {
        "id": "WyEdzQ-FqcTg"
      }
    },
    {
      "cell_type": "markdown",
      "source": [
        "![image.png](data:image/png;base64,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)"
      ],
      "metadata": {
        "id": "UGt8c3ZxqfZK"
      }
    },
    {
      "cell_type": "markdown",
      "source": [
        "1. Faça um programa em Python para resolver o seguinte problema:\n",
        "\n",
        "A empresa local de abastecimento de água, a Saneamento Básico da Cidade (SBC), está promovendo uma campanha de conservação de água, distribuindo cartilhas e articulando ações que demonstrem a importância da água para a vida e para o meio ambiente.\n",
        "\n",
        "Para incentivar mais ainda a economia de água, a SBC alterou os preços de seu fornecimento, de forma que, proporcionalmente, aqueles clientes que consumirem menos água paguem menos pelo metro cúbico.  \n",
        "\n",
        "Todo cliente paga mensalmente uma assinatura de R$ 7, que inclui uma franquia de 10m³ de água. Isto é, para qualquer consumo entre 0 e 10m³, o consumidor paga a mesma quantia de R$ 7 reais (note que o valor da assinatura deve ser pago mesmo que o consumidor não tenha consumido água).   \n",
        "\n",
        "Acima de 10m³, cada metro cúbico subsequente tem um valor diferente, dependendo da faixa de consumo. A SBC cobra apenas por quantidades inteiras de metros cúbicos consumidos. A tabela abaixo especifica o preço por metro cúbico para cada faixa de consumo:  \n",
        "\n",
        "\n",
        "\n",
        "\n",
        "\n",
        "Assim, por exemplo, se o consumo foi de 120 m³, o valor da conta é:\n",
        "\n",
        "7 reais da assinatura básica;\n",
        "\n",
        "20 reais pelo consumo no intervalo 11 - 30m³;\n",
        "\n",
        "140 reais pelo consumo no intervalo 31 - 100m³;\n",
        "\n",
        "100 reais pelo consumo no intervalo 101 - 120m³.\n",
        "\n",
        "\n",
        "\n",
        "Logo, o valor total da conta de água é R$ 267 .00.\n",
        "\n",
        "Faça um programa em Python que receba o consumo de uma residência em m3, calcule e mostre o valor da conta de água daquela residência.\n",
        "\n",
        "\n",
        "\n",
        "Casos de teste:\n",
        "\n",
        "\n",
        "\n",
        "\n",
        "\n",
        "Solução\n",
        "\n",
        "n = int  (input (\"Consumo em metros cúbicos:\"))\n",
        "\n",
        "if n <= 10:\n",
        "\n",
        "    conta = 7  \n",
        "\n",
        "elif n>=11 and  n<=30:\n",
        "\n",
        "    conta = (n-10) * 1 + 7  \n",
        "\n",
        "elif n>=31 and  n<=100:\n",
        "\n",
        "    conta = (n-30) * 2 + 27  \n",
        "\n",
        "else:\n",
        "\n",
        "    conta = (n-100) * 5 + 167  \n",
        "\n",
        "print(f'Valor  da conta = {conta}')\n",
        "\n",
        "\n",
        "\n",
        "Arquivo: conta_agua.py\n",
        "\n",
        "\n",
        "\n",
        "2. Faça um programa em Python que receba um valor referente a ano e emita mensagem se este ano é ou não bissexto. Por exemplo: Bissextos: 800, 1004, 1852, 2020\n",
        "\n",
        "Casos de Teste: https://www.ponteiro.com.br/bisse.phpLinks to an external site.  \n",
        "\n",
        "\n",
        "\n",
        "\n",
        "\n",
        "\n",
        "\n",
        "Solução: bissexto.py\n",
        "\n",
        "\n",
        "\n",
        "print(\"Insira o ano a ser analisado:\\n\")  \n",
        "\n",
        "a = int(input())  \n",
        "\n",
        "if (a % 400 == 0) or (a % 4 == 0 and a % 100 != 0):\n",
        "\n",
        "    print( \"O ano é bissexto!\")\n",
        "\n",
        "else:\n",
        "\n",
        "    print( \"O ano não é bissexto\")\n",
        "\n",
        "\n",
        "\n",
        "3 . Faça um programa em Python que leia a quantidade em k m e a quantidade de litros de gasolina consumidos por um carro em um percurso, calcule o consumo em km/litros e escreva uma mensagem de acordo com a tabela abaixo:  \n",
        "\n",
        "\n",
        "\n",
        "\n",
        "\n",
        "Casos de teste:  \n",
        "\n",
        "\n",
        "\n",
        "\n",
        "Solução: rendimento_automovel.py\n",
        "\n",
        "\n",
        "\n",
        "print(\"insira o valor de km:\\n\")  \n",
        "\n",
        "km = float (input())\n",
        "\n",
        "print(\"Insira o valor de litros:\\n\")  \n",
        "\n",
        "l = float(input())\n",
        "\n",
        "cons = km/l\n",
        "\n",
        "if cons  < 8:\n",
        "\n",
        "    print( \"Venda o carro!\")\n",
        "\n",
        "elif cons <= 12:\n",
        "\n",
        "    print(\" Econômico!\")\n",
        "\n",
        "else:\n",
        "\n",
        "    print( \"Supereconômico!\")\n",
        "\n",
        ""
      ],
      "metadata": {
        "id": "QTPtOaozp-FH"
      }
    },
    {
      "cell_type": "markdown",
      "source": [
        "APLICANDO CONHECIMENTO - Aula 4\n",
        "\n",
        "\n",
        "Faça um programa em Python que, dada a idade de um atleta que será digitada pelo usuário, apresente a mensagem da coluna CATEGORIA de acordo com a tabela abaixo, onde a categoria depende da idade de entrada.\n",
        "\n",
        "\n",
        "\n",
        "Lembre-se de exibir a Categoria, exatamente como consta na tabela abaixo.\n",
        "\n",
        "\n",
        "\n",
        "CATEGORIA\tIDADE\n",
        "NÃO TEM IDADE PARA SER ATLETA\tMenor que 5\n",
        "INFANTIL A\t5 a 7\n",
        "INFANTIL B\t8 a 10\n",
        "JUVENIL A\t11 a 13\n",
        "JUVENIL B\t14 a 17\n",
        "SÊNIOR\tMaior ou igual a 18\n",
        "\n",
        "Entrada\n",
        "A idade do atleta\n",
        "\n",
        "\n",
        "\n",
        "Saída\n",
        "A CATEGORIA, conforme a idade do atleta, indicada na tabela acima."
      ],
      "metadata": {
        "id": "Jjpi-W95SClY"
      }
    },
    {
      "cell_type": "code",
      "source": [
        "idade = int(input(''))\n",
        "if idade < 5:\n",
        "    print('NÃO TEM IDADE PARA SER ATLETA')\n",
        "elif idade >=5 and idade <=7:\n",
        "    print('INFANTIL A')\n",
        "elif idade >=8 and idade <=10:\n",
        "    print('INFANTIL B')\n",
        "elif idade >=11 and idade <=13:\n",
        "    print('JUVENIL A')\n",
        "elif idade >=14 and idade <=17:\n",
        "    print('JUVENIL B')\n",
        "else:\n",
        "    print('SÊNIOR')\n"
      ],
      "metadata": {
        "colab": {
          "base_uri": "https://localhost:8080/"
        },
        "id": "JvoSjn5UcnDD",
        "outputId": "17e5a24e-fc17-48de-e5da-d0567ee8b98d"
      },
      "execution_count": null,
      "outputs": [
        {
          "output_type": "stream",
          "name": "stdout",
          "text": [
            "18\n",
            "SÊNIOR\n"
          ]
        }
      ]
    },
    {
      "cell_type": "code",
      "source": [
        "# -*- coding: utf-8 -*-\n",
        "\n",
        "idade = int(input(''))\n",
        "if idade < 5:\n",
        "    print('NÃO TEM IDADE PARA SER ATLETA')\n",
        "elif idade >=5 and idade <=7:\n",
        "    print('INFANTIL A')\n",
        "elif idade >=8 and idade <=10:\n",
        "    print('INFANTIL B')\n",
        "elif idade >=11 and idade <=13:\n",
        "    print('JUVENIL A')\n",
        "elif idade >=14 and idade <=17:\n",
        "    print('JUVENIL B')\n",
        "else:\n",
        "    print('SÊNIOR')"
      ],
      "metadata": {
        "id": "IvRO0w2jfEZf"
      },
      "execution_count": null,
      "outputs": []
    },
    {
      "cell_type": "markdown",
      "source": [
        "# Aula 5 - Estrutura de repetição - While\n",
        "\n",
        "**Os objetivo da aula:**\n",
        "\n",
        "Nesta aula, trataremos de estrutura de repetição em Python com teste no início. Conheceremos o comando while para repetir um bloco de instruções e mostraremos o uso de contador e acumulador, além de validação de entrada de dados. Resolveremos, também, problemas com while.\n",
        "\n"
      ],
      "metadata": {
        "id": "s7rlAzPX85sX"
      }
    },
    {
      "cell_type": "code",
      "source": [
        "ct = 1\n",
        "while ct<=60:\n",
        "  print(ct)\n",
        "  ct= ct+1"
      ],
      "metadata": {
        "colab": {
          "base_uri": "https://localhost:8080/"
        },
        "id": "ZzfLFWRc_Apm",
        "outputId": "1cbc626b-5ac2-4d42-bc57-c274c2cafec5"
      },
      "execution_count": null,
      "outputs": [
        {
          "output_type": "stream",
          "name": "stdout",
          "text": [
            "1\n",
            "2\n",
            "3\n",
            "4\n",
            "5\n",
            "6\n",
            "7\n",
            "8\n",
            "9\n",
            "10\n",
            "11\n",
            "12\n",
            "13\n",
            "14\n",
            "15\n",
            "16\n",
            "17\n",
            "18\n",
            "19\n",
            "20\n",
            "21\n",
            "22\n",
            "23\n",
            "24\n",
            "25\n",
            "26\n",
            "27\n",
            "28\n",
            "29\n",
            "30\n",
            "31\n",
            "32\n",
            "33\n",
            "34\n",
            "35\n",
            "36\n",
            "37\n",
            "38\n",
            "39\n",
            "40\n",
            "41\n",
            "42\n",
            "43\n",
            "44\n",
            "45\n",
            "46\n",
            "47\n",
            "48\n",
            "49\n",
            "50\n",
            "51\n",
            "52\n",
            "53\n",
            "54\n",
            "55\n",
            "56\n",
            "57\n",
            "58\n",
            "59\n",
            "60\n"
          ]
        }
      ]
    },
    {
      "cell_type": "code",
      "source": [
        "soma = 0\n",
        "cont = 1\n",
        "while cont<=5:\n",
        "  num = int(input())\n",
        "  soma = soma + num\n",
        "  cont = cont+1\n",
        "print(soma)"
      ],
      "metadata": {
        "colab": {
          "base_uri": "https://localhost:8080/"
        },
        "id": "UfCXAIjK_CqN",
        "outputId": "32fbae73-a0a3-4803-89f0-57778f534e2d"
      },
      "execution_count": null,
      "outputs": [
        {
          "output_type": "stream",
          "name": "stdout",
          "text": [
            "2\n",
            "2\n",
            "2\n",
            "2\n",
            "2\n",
            "10\n"
          ]
        }
      ]
    },
    {
      "cell_type": "code",
      "source": [
        "num = int(input())\n",
        "\n",
        "while num < 0 or num >50:\n",
        "  num = int(input(\"invalid, try agin: \"))\n",
        "print(num)"
      ],
      "metadata": {
        "colab": {
          "base_uri": "https://localhost:8080/"
        },
        "id": "WjCowctlAg1F",
        "outputId": "9a672156-ad9d-47ee-aa58-2c9d14a48834"
      },
      "execution_count": null,
      "outputs": [
        {
          "output_type": "stream",
          "name": "stdout",
          "text": [
            "100\n",
            "invalid, try agin: 111\n",
            "invalid, try agin: 101\n",
            "invalid, try agin: 59\n",
            "invalid, try agin: 50\n",
            "50\n"
          ]
        }
      ]
    },
    {
      "cell_type": "markdown",
      "source": [
        "### Explorando conceitos\n",
        "\n",
        "Uso do while com menu\n",
        "\n",
        "Faremos um programa em Python para resolver o seguinte problema:\n",
        "\n",
        "Elabore um programa em Python que mostre um menu para o usuário escolher uma operação ou sair do programa. Por exemplo:  \\\n",
        "\n",
        "\n",
        "\n",
        "Soma .................... +\n",
        "\n",
        "Subtração ............. -\n",
        "\n",
        "Multiplicação......... *\n",
        "\n",
        "Divisão................... /\n",
        "\n",
        "Sair ....................... 0\n",
        "\n",
        "\n",
        "\n",
        "O programa deve reconhecer a opção escolhida pelo usuário e solicitar a entrada de dois números caso a opção escolhida seja uma das operações. Depois de fazer a operação e mostrar o resultado , o programa deve continuar em execução para que o usuário selecione operação e outros números. O programa só terminará , caso o usuário digite 0.\n",
        "\n",
        "\n",
        "\n",
        "\n",
        "\n",
        "\n",
        "Laço para achar maior, menor e acumular\n",
        "\n",
        "Faremos o programa em Python para resolver o seguinte problema:\n",
        "\n",
        "Elabore um programa em Python que solicite um conjunto de números (encerrando a entrada de dados com 0) .  \n",
        "\n",
        "Determine o menor e o  maior valor do conjunto e a soma dos valores  digitados.\n",
        "\n",
        "\n",
        "\n"
      ],
      "metadata": {
        "id": "7RwcprhJr2oP"
      }
    },
    {
      "cell_type": "markdown",
      "source": [
        "Aplicando Conhecimento - Aula 5\n",
        "\n",
        "\n",
        "\n",
        "Faça um programa em Python que solicite a quantidade de alunos de uma determinada turma.\n",
        "\n",
        "\n",
        "Após esta informação, o usuário deve digitar a média de cada aluno da turma, e o programa apresentará a mensagem PARABÉNS VOCÊ ESTÁ APROVADO aos alunos com média maior ou igual a 6.0.\n",
        "\n",
        "\n",
        "O programa deve calcular e mostrar, no final da entrada de dados, a média geral da turma.\n",
        "\n",
        "\n",
        "Obs.: Caso a quantidade informada de alunos da turma for igual a zero, o programa deve emitir a seguinte mensagem: NÃO HOUVE PROCESSAMENTO\n",
        "\n",
        "\n",
        "\n",
        "Entrada\n",
        "* a quantidade de alunos de uma determinada turma\n",
        "* a média de cada um desses alunos (uma de cada vez)\n",
        "\n",
        "\n",
        "Saída\n",
        "* Para cada aluno que teve a média informada, maior ou igual a 6.0, exibir a mensagem PARABÉNS VOCÊ ESTÁ APROVADO\n",
        "* No final, exibir a média geral da turma\n"
      ],
      "metadata": {
        "id": "ZtyJ-jxs8_eg"
      }
    },
    {
      "cell_type": "code",
      "source": [
        "\n",
        "qtd_alunos = int(input())\n",
        "if qtd_alunos == 0:\n",
        "  print('NÃO HOUVE PROCESSAMENTO')\n",
        "else:\n",
        "  cont = 1\n",
        "  soma = 0\n",
        "\n",
        "  while cont <= qtd_alunos:\n",
        "    media = int(input())\n",
        "    soma = soma + media\n",
        "    if media >= 6:\n",
        "      print('PARABÉNS VOCÊ ESTÁ APROVADO')\n",
        "    else:\n",
        "      print('VOCÊ ESTÁ REPROVADO')\n",
        "    cont+=1\n",
        "  print('media geral da turma', soma/qtd_alunos)\n",
        "\n",
        "# Avaliar se a média respondidade é superior a 6\n",
        "\n",
        "# printar sucesso para >= 6 e fracasso para <6\n",
        "\n",
        "# Caso a quantidade informada de alunos da turma for igual a zero,\n",
        "\n",
        "# Somar media geral da turma"
      ],
      "metadata": {
        "colab": {
          "base_uri": "https://localhost:8080/"
        },
        "id": "vZA178Tq9Mpq",
        "outputId": "c27338ea-cf27-4864-fad9-855985eb528e"
      },
      "execution_count": null,
      "outputs": [
        {
          "output_type": "stream",
          "name": "stdout",
          "text": [
            "3\n",
            "5\n",
            "VOCÊ ESTÁ REPROVADO\n",
            "10\n",
            "PARABÉNS VOCÊ ESTÁ APROVADO\n",
            "5\n",
            "VOCÊ ESTÁ REPROVADO\n",
            "media geral da turma 6.666666666666667\n"
          ]
        }
      ]
    },
    {
      "cell_type": "code",
      "source": [
        "qtd_alunos = int(input())\n",
        "if qtd_alunos == 0:\n",
        "  print('NÃO HOUVE PROCESSAMENTO')\n",
        "else:\n",
        "  cont = 1\n",
        "  soma = 0\n",
        "\n",
        "  while cont <= qtd_alunos:\n",
        "    media = float(input())\n",
        "    soma = soma + media\n",
        "    if media >= 6:\n",
        "      print('PARABÉNS VOCÊ ESTÁ APROVADO')\n",
        "    cont+=1\n",
        "  print(soma/qtd_alunos)"
      ],
      "metadata": {
        "id": "RjImabPmGIHZ",
        "colab": {
          "base_uri": "https://localhost:8080/"
        },
        "outputId": "115d7122-d643-4a31-80fc-536a952f313d"
      },
      "execution_count": null,
      "outputs": [
        {
          "output_type": "stream",
          "name": "stdout",
          "text": [
            "3\n",
            "5\n",
            "5\n",
            "5\n",
            "5.0\n"
          ]
        }
      ]
    },
    {
      "cell_type": "code",
      "source": [
        "qtd_alunos = int(input())\n",
        "if qtd_alunos == 0:\n",
        "  print('NÃO HOUVE PROCESSAMENTO')\n",
        "else:\n",
        "  cont = 1\n",
        "  soma = 0\n",
        "\n",
        "  while cont <= qtd_alunos:\n",
        "    media = float(input())\n",
        "    soma = soma + media\n",
        "    if media >= 6:\n",
        "      print('PARABÉNS VOCÊ ESTÁ APROVADO')\n",
        "    cont+=1\n",
        "  print(soma/qtd_alunos)"
      ],
      "metadata": {
        "colab": {
          "base_uri": "https://localhost:8080/"
        },
        "id": "mrOyzn7U00kM",
        "outputId": "7e1cdcfb-a021-472a-b6b7-1dfe4975801c"
      },
      "execution_count": null,
      "outputs": [
        {
          "output_type": "stream",
          "name": "stdout",
          "text": [
            "3\n",
            "10\n",
            "PARABÉNS VOCÊ ESTÁ APROVADO\n",
            "5\n",
            "8\n",
            "PARABÉNS VOCÊ ESTÁ APROVADO\n",
            "7.666666666666667\n"
          ]
        }
      ]
    },
    {
      "cell_type": "code",
      "source": [
        "n2 = int (input())"
      ],
      "metadata": {
        "colab": {
          "base_uri": "https://localhost:8080/",
          "height": 298
        },
        "id": "VzOmQNh9-bT4",
        "outputId": "4aae40cb-4d91-4888-b0b1-84b27b58a6cb"
      },
      "execution_count": null,
      "outputs": [
        {
          "output_type": "error",
          "ename": "KeyboardInterrupt",
          "evalue": "Interrupted by user",
          "traceback": [
            "\u001b[0;31m---------------------------------------------------------------------------\u001b[0m",
            "\u001b[0;31mKeyboardInterrupt\u001b[0m                         Traceback (most recent call last)",
            "\u001b[0;32m<ipython-input-1-adc1f5f4cd87>\u001b[0m in \u001b[0;36m<cell line: 1>\u001b[0;34m()\u001b[0m\n\u001b[0;32m----> 1\u001b[0;31m \u001b[0mn2\u001b[0m \u001b[0;34m=\u001b[0m \u001b[0mint\u001b[0m \u001b[0;34m(\u001b[0m\u001b[0minput\u001b[0m\u001b[0;34m(\u001b[0m\u001b[0;34m)\u001b[0m\u001b[0;34m)\u001b[0m\u001b[0;34m\u001b[0m\u001b[0;34m\u001b[0m\u001b[0m\n\u001b[0m",
            "\u001b[0;32m/usr/local/lib/python3.10/dist-packages/ipykernel/kernelbase.py\u001b[0m in \u001b[0;36mraw_input\u001b[0;34m(self, prompt)\u001b[0m\n\u001b[1;32m    849\u001b[0m                 \u001b[0;34m\"raw_input was called, but this frontend does not support input requests.\"\u001b[0m\u001b[0;34m\u001b[0m\u001b[0;34m\u001b[0m\u001b[0m\n\u001b[1;32m    850\u001b[0m             )\n\u001b[0;32m--> 851\u001b[0;31m         return self._input_request(str(prompt),\n\u001b[0m\u001b[1;32m    852\u001b[0m             \u001b[0mself\u001b[0m\u001b[0;34m.\u001b[0m\u001b[0m_parent_ident\u001b[0m\u001b[0;34m,\u001b[0m\u001b[0;34m\u001b[0m\u001b[0;34m\u001b[0m\u001b[0m\n\u001b[1;32m    853\u001b[0m             \u001b[0mself\u001b[0m\u001b[0;34m.\u001b[0m\u001b[0m_parent_header\u001b[0m\u001b[0;34m,\u001b[0m\u001b[0;34m\u001b[0m\u001b[0;34m\u001b[0m\u001b[0m\n",
            "\u001b[0;32m/usr/local/lib/python3.10/dist-packages/ipykernel/kernelbase.py\u001b[0m in \u001b[0;36m_input_request\u001b[0;34m(self, prompt, ident, parent, password)\u001b[0m\n\u001b[1;32m    893\u001b[0m             \u001b[0;32mexcept\u001b[0m \u001b[0mKeyboardInterrupt\u001b[0m\u001b[0;34m:\u001b[0m\u001b[0;34m\u001b[0m\u001b[0;34m\u001b[0m\u001b[0m\n\u001b[1;32m    894\u001b[0m                 \u001b[0;31m# re-raise KeyboardInterrupt, to truncate traceback\u001b[0m\u001b[0;34m\u001b[0m\u001b[0;34m\u001b[0m\u001b[0m\n\u001b[0;32m--> 895\u001b[0;31m                 \u001b[0;32mraise\u001b[0m \u001b[0mKeyboardInterrupt\u001b[0m\u001b[0;34m(\u001b[0m\u001b[0;34m\"Interrupted by user\"\u001b[0m\u001b[0;34m)\u001b[0m \u001b[0;32mfrom\u001b[0m \u001b[0;32mNone\u001b[0m\u001b[0;34m\u001b[0m\u001b[0;34m\u001b[0m\u001b[0m\n\u001b[0m\u001b[1;32m    896\u001b[0m             \u001b[0;32mexcept\u001b[0m \u001b[0mException\u001b[0m \u001b[0;32mas\u001b[0m \u001b[0me\u001b[0m\u001b[0;34m:\u001b[0m\u001b[0;34m\u001b[0m\u001b[0;34m\u001b[0m\u001b[0m\n\u001b[1;32m    897\u001b[0m                 \u001b[0mself\u001b[0m\u001b[0;34m.\u001b[0m\u001b[0mlog\u001b[0m\u001b[0;34m.\u001b[0m\u001b[0mwarning\u001b[0m\u001b[0;34m(\u001b[0m\u001b[0;34m\"Invalid Message:\"\u001b[0m\u001b[0;34m,\u001b[0m \u001b[0mexc_info\u001b[0m\u001b[0;34m=\u001b[0m\u001b[0;32mTrue\u001b[0m\u001b[0;34m)\u001b[0m\u001b[0;34m\u001b[0m\u001b[0;34m\u001b[0m\u001b[0m\n",
            "\u001b[0;31mKeyboardInterrupt\u001b[0m: Interrupted by user"
          ]
        }
      ]
    },
    {
      "cell_type": "code",
      "source": [
        "a = input()\n",
        "b = input()\n",
        "\n",
        "print(a+b)"
      ],
      "metadata": {
        "colab": {
          "base_uri": "https://localhost:8080/"
        },
        "id": "0BQcd9Gh-4Xc",
        "outputId": "b2f1ce23-a684-4735-e643-58cffbd0b1f4"
      },
      "execution_count": null,
      "outputs": [
        {
          "output_type": "stream",
          "name": "stdout",
          "text": [
            "18\n",
            "45\n",
            "1845\n"
          ]
        }
      ]
    },
    {
      "cell_type": "code",
      "source": [
        "saldo_medio = float(input('Digite aqui o seu saldo médio'))\n",
        "\n",
        "if saldo_medio < 100:\n",
        "  ISMB = 0\n",
        "elif saldo_medio >= 100 and saldo_medio < 1000:\n",
        "  ISMB = 0.85\n",
        "elif saldo_medio >= 1000 and saldo_medio < 10000:\n",
        "  ISMB = 1.7\n",
        "elif saldo_medio >= 10000 and saldo_medio < 100000:\n",
        "  ISMB = 3.4\n",
        "elif saldo_medio >= 100000:\n",
        "  ISMB = 6.8\n",
        "\n",
        "#1000 e 10000\n",
        "#10000 e 100000\n",
        "#100000\n",
        "\n",
        "\n",
        "\n",
        "print('O valor do seu imposto devido é de:', saldo_medio * ISMB)"
      ],
      "metadata": {
        "colab": {
          "base_uri": "https://localhost:8080/"
        },
        "id": "M7TEHMBfBbB5",
        "outputId": "bf4af9a9-3482-4d57-ec6f-24c322812824"
      },
      "execution_count": null,
      "outputs": [
        {
          "output_type": "stream",
          "name": "stdout",
          "text": [
            "Digite aqui o seu saldo médio-1\n",
            "O valor do seu imposto devido é de: -0.0\n"
          ]
        }
      ]
    },
    {
      "cell_type": "code",
      "source": [
        "saldo_medio = float(input('Digite aqui o seu saldo médio: M$ '))\n",
        "\n",
        "if saldo_medio < 100:\n",
        "  ISMB = 'Isento'\n",
        "elif saldo_medio >= 100 and saldo_medio < 1000:\n",
        "  ISMB = 0.0085 * saldo_medio\n",
        "elif saldo_medio >= 1000 and saldo_medio < 10000:\n",
        "  ISMB = 0.017 * saldo_medio\n",
        "elif saldo_medio >= 10000 and saldo_medio < 100000:\n",
        "  ISMB = 0.034 * saldo_medio\n",
        "elif saldo_medio >= 100000:\n",
        "  ISMB = 0.068 * saldo_medio\n",
        "\n",
        "#1000 e 10000\n",
        "#10000 e 100000\n",
        "#100000\n",
        "\n",
        "\n",
        "\n",
        "print(f'O seu ISMB é: M$:{ISMB:,.2f}')"
      ],
      "metadata": {
        "colab": {
          "base_uri": "https://localhost:8080/",
          "height": 201
        },
        "outputId": "bda9965b-43f2-4143-e78c-a162d7d75f68",
        "id": "WP98adcPD8p6"
      },
      "execution_count": null,
      "outputs": [
        {
          "name": "stdout",
          "output_type": "stream",
          "text": [
            "Digite aqui o seu saldo médio: M$ 0\n"
          ]
        },
        {
          "output_type": "error",
          "ename": "ValueError",
          "evalue": "Unknown format code 'f' for object of type 'str'",
          "traceback": [
            "\u001b[0;31m---------------------------------------------------------------------------\u001b[0m",
            "\u001b[0;31mValueError\u001b[0m                                Traceback (most recent call last)",
            "\u001b[0;32m<ipython-input-29-a07c208bed93>\u001b[0m in \u001b[0;36m<cell line: 20>\u001b[0;34m()\u001b[0m\n\u001b[1;32m     18\u001b[0m \u001b[0;34m\u001b[0m\u001b[0m\n\u001b[1;32m     19\u001b[0m \u001b[0;34m\u001b[0m\u001b[0m\n\u001b[0;32m---> 20\u001b[0;31m \u001b[0mprint\u001b[0m\u001b[0;34m(\u001b[0m\u001b[0;34mf'O seu ISMB é: M$:{ISMB:,.2f}'\u001b[0m\u001b[0;34m)\u001b[0m\u001b[0;34m\u001b[0m\u001b[0;34m\u001b[0m\u001b[0m\n\u001b[0m",
            "\u001b[0;31mValueError\u001b[0m: Unknown format code 'f' for object of type 'str'"
          ]
        }
      ]
    },
    {
      "cell_type": "code",
      "source": [
        "saldo_medio = float(input('Digite aqui o seu saldo médio: M$ '))\n",
        "\n",
        "if saldo_medio < 100:\n",
        "  IPVA = 'Isento'\n",
        "elif saldo_medio >= 100 and saldo_medio < 1000:\n",
        "  ISMB = 0.0085 * saldo_medio\n",
        "elif saldo_medio >= 1000 and saldo_medio < 10000:\n",
        "  ISMB = 0.017 * saldo_medio\n",
        "elif saldo_medio >= 10000 and saldo_medio < 100000:\n",
        "  ISMB = 0.034 * saldo_medio\n",
        "elif saldo_medio >= 100000:\n",
        "  ISMB = 0.068 * saldo_medio\n",
        "\n",
        "print('O seu IPVA devido é:', IPVA)"
      ],
      "metadata": {
        "id": "sxVJabg_Fosb",
        "colab": {
          "base_uri": "https://localhost:8080/",
          "height": 372
        },
        "outputId": "21ff6153-3c7d-4872-d10d-a438d9f1d137"
      },
      "execution_count": null,
      "outputs": [
        {
          "output_type": "error",
          "ename": "KeyboardInterrupt",
          "evalue": "Interrupted by user",
          "traceback": [
            "\u001b[0;31m---------------------------------------------------------------------------\u001b[0m",
            "\u001b[0;31mKeyboardInterrupt\u001b[0m                         Traceback (most recent call last)",
            "\u001b[0;32m<ipython-input-9-b3fa3ae91970>\u001b[0m in \u001b[0;36m<cell line: 1>\u001b[0;34m()\u001b[0m\n\u001b[0;32m----> 1\u001b[0;31m \u001b[0msaldo_medio\u001b[0m \u001b[0;34m=\u001b[0m \u001b[0mfloat\u001b[0m\u001b[0;34m(\u001b[0m\u001b[0minput\u001b[0m\u001b[0;34m(\u001b[0m\u001b[0;34m'Digite aqui o seu saldo médio: M$ '\u001b[0m\u001b[0;34m)\u001b[0m\u001b[0;34m)\u001b[0m\u001b[0;34m\u001b[0m\u001b[0;34m\u001b[0m\u001b[0m\n\u001b[0m\u001b[1;32m      2\u001b[0m \u001b[0;34m\u001b[0m\u001b[0m\n\u001b[1;32m      3\u001b[0m \u001b[0;32mif\u001b[0m \u001b[0msaldo_medio\u001b[0m \u001b[0;34m<\u001b[0m \u001b[0;36m100\u001b[0m\u001b[0;34m:\u001b[0m\u001b[0;34m\u001b[0m\u001b[0;34m\u001b[0m\u001b[0m\n\u001b[1;32m      4\u001b[0m   \u001b[0mIPVA\u001b[0m \u001b[0;34m=\u001b[0m \u001b[0;34m'Isento'\u001b[0m\u001b[0;34m\u001b[0m\u001b[0;34m\u001b[0m\u001b[0m\n\u001b[1;32m      5\u001b[0m \u001b[0;32melif\u001b[0m \u001b[0msaldo_medio\u001b[0m \u001b[0;34m>=\u001b[0m \u001b[0;36m100\u001b[0m \u001b[0;32mand\u001b[0m \u001b[0msaldo_medio\u001b[0m \u001b[0;34m<\u001b[0m \u001b[0;36m1000\u001b[0m\u001b[0;34m:\u001b[0m\u001b[0;34m\u001b[0m\u001b[0;34m\u001b[0m\u001b[0m\n",
            "\u001b[0;32m/usr/local/lib/python3.10/dist-packages/ipykernel/kernelbase.py\u001b[0m in \u001b[0;36mraw_input\u001b[0;34m(self, prompt)\u001b[0m\n\u001b[1;32m    849\u001b[0m                 \u001b[0;34m\"raw_input was called, but this frontend does not support input requests.\"\u001b[0m\u001b[0;34m\u001b[0m\u001b[0;34m\u001b[0m\u001b[0m\n\u001b[1;32m    850\u001b[0m             )\n\u001b[0;32m--> 851\u001b[0;31m         return self._input_request(str(prompt),\n\u001b[0m\u001b[1;32m    852\u001b[0m             \u001b[0mself\u001b[0m\u001b[0;34m.\u001b[0m\u001b[0m_parent_ident\u001b[0m\u001b[0;34m,\u001b[0m\u001b[0;34m\u001b[0m\u001b[0;34m\u001b[0m\u001b[0m\n\u001b[1;32m    853\u001b[0m             \u001b[0mself\u001b[0m\u001b[0;34m.\u001b[0m\u001b[0m_parent_header\u001b[0m\u001b[0;34m,\u001b[0m\u001b[0;34m\u001b[0m\u001b[0;34m\u001b[0m\u001b[0m\n",
            "\u001b[0;32m/usr/local/lib/python3.10/dist-packages/ipykernel/kernelbase.py\u001b[0m in \u001b[0;36m_input_request\u001b[0;34m(self, prompt, ident, parent, password)\u001b[0m\n\u001b[1;32m    893\u001b[0m             \u001b[0;32mexcept\u001b[0m \u001b[0mKeyboardInterrupt\u001b[0m\u001b[0;34m:\u001b[0m\u001b[0;34m\u001b[0m\u001b[0;34m\u001b[0m\u001b[0m\n\u001b[1;32m    894\u001b[0m                 \u001b[0;31m# re-raise KeyboardInterrupt, to truncate traceback\u001b[0m\u001b[0;34m\u001b[0m\u001b[0;34m\u001b[0m\u001b[0m\n\u001b[0;32m--> 895\u001b[0;31m                 \u001b[0;32mraise\u001b[0m \u001b[0mKeyboardInterrupt\u001b[0m\u001b[0;34m(\u001b[0m\u001b[0;34m\"Interrupted by user\"\u001b[0m\u001b[0;34m)\u001b[0m \u001b[0;32mfrom\u001b[0m \u001b[0;32mNone\u001b[0m\u001b[0;34m\u001b[0m\u001b[0;34m\u001b[0m\u001b[0m\n\u001b[0m\u001b[1;32m    896\u001b[0m             \u001b[0;32mexcept\u001b[0m \u001b[0mException\u001b[0m \u001b[0;32mas\u001b[0m \u001b[0me\u001b[0m\u001b[0;34m:\u001b[0m\u001b[0;34m\u001b[0m\u001b[0;34m\u001b[0m\u001b[0m\n\u001b[1;32m    897\u001b[0m                 \u001b[0mself\u001b[0m\u001b[0;34m.\u001b[0m\u001b[0mlog\u001b[0m\u001b[0;34m.\u001b[0m\u001b[0mwarning\u001b[0m\u001b[0;34m(\u001b[0m\u001b[0;34m\"Invalid Message:\"\u001b[0m\u001b[0;34m,\u001b[0m \u001b[0mexc_info\u001b[0m\u001b[0;34m=\u001b[0m\u001b[0;32mTrue\u001b[0m\u001b[0;34m)\u001b[0m\u001b[0;34m\u001b[0m\u001b[0;34m\u001b[0m\u001b[0m\n",
            "\u001b[0;31mKeyboardInterrupt\u001b[0m: Interrupted by user"
          ]
        }
      ]
    },
    {
      "cell_type": "code",
      "source": [
        "input(\"QUAL SUA IDADE?\")"
      ],
      "metadata": {
        "colab": {
          "base_uri": "https://localhost:8080/",
          "height": 54
        },
        "id": "5cqAZI5Ncq7O",
        "outputId": "3adcd30e-bb4a-423a-9067-a7456a563147"
      },
      "execution_count": null,
      "outputs": [
        {
          "name": "stdout",
          "output_type": "stream",
          "text": [
            "QUAL SUA IDADE?24\n"
          ]
        },
        {
          "output_type": "execute_result",
          "data": {
            "text/plain": [
              "'24'"
            ],
            "application/vnd.google.colaboratory.intrinsic+json": {
              "type": "string"
            }
          },
          "metadata": {},
          "execution_count": 5
        }
      ]
    },
    {
      "cell_type": "code",
      "source": [
        "print('Hello world')"
      ],
      "metadata": {
        "colab": {
          "base_uri": "https://localhost:8080/"
        },
        "id": "1UHbwBIqbnHC",
        "outputId": "643bb8c9-214b-45dd-ee24-4ff4c380c484"
      },
      "execution_count": null,
      "outputs": [
        {
          "output_type": "stream",
          "name": "stdout",
          "text": [
            "Olá mundo\n"
          ]
        }
      ]
    },
    {
      "cell_type": "code",
      "source": [
        "# Solicita ao usuário para inserir o primeiro número\n",
        "numero1 = float(input(\"Digite o primeiro número: \"))\n",
        "\n",
        "# Solicita ao usuário para inserir o segundo número\n",
        "numero2 = float(input(\"Digite o segundo número: \"))\n",
        "\n",
        "# Multiplica os dois números\n",
        "resultado = numero1 * numero2\n",
        "\n",
        "# Exibe o resultado da multiplicação\n",
        "print(\"O resultado da multiplicação é:\", resultado)\n"
      ],
      "metadata": {
        "colab": {
          "base_uri": "https://localhost:8080/"
        },
        "id": "5yz8-JVScCYj",
        "outputId": "5b8b580a-b28c-4466-8655-d50ddc3cd9f3"
      },
      "execution_count": null,
      "outputs": [
        {
          "output_type": "stream",
          "name": "stdout",
          "text": [
            "Digite o primeiro número: 5\n",
            "Digite o segundo número: 2\n",
            "O resultado da multiplicação é: 10.0\n"
          ]
        }
      ]
    },
    {
      "cell_type": "code",
      "source": [
        "for x in range(1,4,1):\n",
        "  print(x)"
      ],
      "metadata": {
        "colab": {
          "base_uri": "https://localhost:8080/"
        },
        "id": "TD7wSlyu7G80",
        "outputId": "0b8d8973-6ff7-4d5c-eb32-3498f2081cc1"
      },
      "execution_count": null,
      "outputs": [
        {
          "output_type": "stream",
          "name": "stdout",
          "text": [
            "1\n",
            "2\n",
            "3\n"
          ]
        }
      ]
    },
    {
      "cell_type": "code",
      "source": [
        "soma_geral=0\n",
        "ct=0\n",
        "\n",
        "for time in range(2):\n",
        "  print(f'Time{time+1}')\n",
        "  soma=0\n",
        "  for jogador in range(2):\n",
        "    print(f'Idade do jogador {jogador+1}')\n",
        "    idade = int(input())\n",
        "    if idade < 18:\n",
        "      ct+=1\n",
        "    soma += idade\n",
        "  print(f'Média de idade do tima {time+1} é igual a {soma/2}')\n",
        "  soma_geral += soma\n",
        "print(f'Média de idade dos ateltas do campeonato é igual a {soma_geral/4}')\n",
        "print(f'Quantidade de atletas menor de idade é igual a {ct}')"
      ],
      "metadata": {
        "colab": {
          "base_uri": "https://localhost:8080/"
        },
        "id": "adOira3G9GZV",
        "outputId": "99ad31a9-96e7-48f1-ae01-6f825b075eac"
      },
      "execution_count": null,
      "outputs": [
        {
          "output_type": "stream",
          "name": "stdout",
          "text": [
            "Time1\n",
            "Idade do jogador 1\n",
            "20\n",
            "Idade do jogador 2\n",
            "15\n",
            "Média de idade do tima 1 é igual a 17.5\n",
            "Time2\n",
            "Idade do jogador 1\n",
            "21\n",
            "Idade do jogador 2\n",
            "23\n",
            "Média de idade do tima 2 é igual a 22.0\n",
            "Média de idade dos ateltas do campeonato é igual a 19.75\n",
            "Quantidade de atletas menor de idade é igual a 1\n"
          ]
        }
      ]
    },
    {
      "cell_type": "markdown",
      "source": [
        "# Aula 6 - Estrutura de repetição - for\n",
        "\n",
        "**Os objetivo da aula:**\n",
        "\n",
        "Nesta aula, trataremos de estrutura de repetição em Python com variável de controle. Conheceremos o comando for para repetir um bloco de instruções e mostraremos o uso de contador e acumulador nesta estrutura de repetição. Resolveremos, também, problemas utilizando for."
      ],
      "metadata": {
        "id": "6OX4qKljICr0"
      }
    },
    {
      "cell_type": "markdown",
      "source": [
        "Faça um programa em Python que solicite ao usuário a quantidade de números inteiros aleatórios entre 1 e 10 que ele deseja que este programa gere. Após gerar e apresentar esses números randômicos, o programa deve mostrar a soma destes valores.\n",
        "\n",
        "Dica: use a função randint(inicio, fim) do módulo random para gerar um número aleatório entre 1 e 10.  "
      ],
      "metadata": {
        "id": "PxIUEDdMtBaK"
      }
    },
    {
      "cell_type": "markdown",
      "source": [
        "Problema clássico usando for: Fatorial\n",
        "\n",
        "Nesta videoaula, resolveremos o seguinte problema em Python:\n",
        "\n",
        "Faça um programa em Python que calcule e apresente o fatorial de um número inteiro e natural fornecido pelo usuário.  \n",
        "\n",
        "\n",
        "\n",
        "Exemplo: 5! = 5 x 4 x 3 x 2 x 1=120.   \n",
        "\n",
        "Por definição 0! = 1.\n",
        "\n",
        "\n",
        "\n",
        "\n",
        "\n",
        "\n",
        "\n",
        "Problema clássico usando for: Série de Fibonacci\n",
        "\n",
        "Nesta videoaula, resolver emos o seguinte problema em Python:\n",
        "\n",
        "A Sequência de Fibonacci é a sequência numérica proposta pelo matemático Leonardo Pisa, mais conhecido como Fibonacci:  \n",
        "\n",
        "1, 1, 2, 3, 5, 8, 13, 21, 34, 55, 89, ...\n",
        "\n",
        "\n",
        "\n",
        "Foi a partir de um problema criado por ele que Fibonacci detectou a existência de uma regularidade matemática. Trata-se do exemplo clássico  que aparece em muitos fenômenos da natureza.\n",
        "\n",
        "Analisaremos o que acontece nesta série, que é infinita, pela perspectiva da lógica de programação e implementaremos um programa em Python que mostre os oito primeiros números desta série.  \n",
        "\n",
        "\n",
        "\n",
        "Curiosidade: Veja o link a seguir  para conhecer como a série de Fibonacci está presente na natureza.  \n",
        "\n",
        "https://planetabiologia.com/a-sequencia-de-fibonacci-na-natureza/Links to an external site.\n",
        "\n",
        "\n",
        "\n",
        "\n",
        "\n",
        "\n",
        "Problema clássico usando for: Séries Numéricas\n",
        "\n",
        "Nesta videoaula, resolveremos o seguinte problema em Python:\n",
        "\n",
        "Escreva um programa em Python que calcule e apresente a soma da seguinte série :\n",
        "\n",
        "1 + 3/2 + 5/3 + 7/4 + ... + 90/50\n",
        "\n",
        "\n",
        "\n"
      ],
      "metadata": {
        "id": "3PdZEmjttRbH"
      }
    },
    {
      "cell_type": "markdown",
      "source": [
        "Aplicando o conhecimento Aula 6"
      ],
      "metadata": {
        "id": "JA7DQwHXsNOH"
      }
    },
    {
      "cell_type": "code",
      "source": [
        "numero = int(input())\n",
        "\n",
        "while numero <= 0:\n",
        "  print('VALOR INVÁLIDO')\n",
        "  numero = int(input())\n",
        "for i in range(numero):\n",
        "  divisor = (i+1)\n",
        "  if numero % divisor == 0:\n",
        "    print(divisor)\n",
        "  else:\n",
        "    continue"
      ],
      "metadata": {
        "colab": {
          "base_uri": "https://localhost:8080/"
        },
        "id": "h5xzURjZHdYp",
        "outputId": "7d0ddcc3-7315-48d8-e5c0-a09ef0ce7e22"
      },
      "execution_count": null,
      "outputs": [
        {
          "output_type": "stream",
          "name": "stdout",
          "text": [
            "5\n",
            "1\n",
            "5\n"
          ]
        }
      ]
    },
    {
      "cell_type": "code",
      "source": [
        "numero = int(input())\n",
        "\n",
        "while numero < 0 or numero > 10:\n",
        "  print('VALOR INVÁLIDO')\n",
        "  numero = int(input())\n",
        "for i in range(1,11):\n",
        "  multiplicador = (i)\n",
        "  print(f'{numero}x{i}={numero*(i)}')\n",
        "\n",
        "\n",
        "#  if numero % divisor == 0:\n",
        "#    print(divisor)\n",
        "#  else:\n",
        "#    continue"
      ],
      "metadata": {
        "colab": {
          "base_uri": "https://localhost:8080/"
        },
        "id": "5-QJp0lxIEwJ",
        "outputId": "cfcf367c-98f3-48d2-f010-95f12cb06f0b"
      },
      "execution_count": null,
      "outputs": [
        {
          "output_type": "stream",
          "name": "stdout",
          "text": [
            "10\n",
            "10x1=10\n",
            "10x2=20\n",
            "10x3=30\n",
            "10x4=40\n",
            "10x5=50\n",
            "10x6=60\n",
            "10x7=70\n",
            "10x8=80\n",
            "10x9=90\n",
            "10x10=100\n"
          ]
        }
      ]
    },
    {
      "cell_type": "markdown",
      "source": [
        "# Aula 7 - Funções e procedimentos\n",
        "\n",
        "**Os objetivo da aula:**\n",
        "\n",
        "Os objetivos desta aula são usar em Python o conceito de modularização. Aprender a escrever funções que podem ter passagem de parâmetros, variáveis locais e retorno ou podem simplesmente realizar uma tarefa sem retorno e/ou sem parâmetro. Estudaremos alguns problemas com funções e procedimentos."
      ],
      "metadata": {
        "id": "_ncW3KRvuNQT"
      }
    },
    {
      "cell_type": "markdown",
      "source": [
        "Praticando\n",
        "\n",
        "Faça um programa modularizado em Python com as seguintes funções:\n",
        "\n",
        "\n",
        "a) atualiza_preco(valor): a função deve receber como parâmetro o valor de um produto, calcular e retornar este valor com aumento de 10%\n",
        "\n",
        "b) taxa(valor): a função calcula e retorna o valor da taxa de 2.5% sobre o valor do produto atualizado (após a chamada da função atualiza_preco).\n",
        "\n",
        "c) main(): terá o programa principal que deve, nesta ordem, fazer a entrada via teclado (digitada pelo usuário) do valor do produto, depois chamar as funções atualiza_preco e taxa e apresentar os valores calculados do valor atualizado com duas casas decimais e do valor da taxa também com duas casas decimais.\n",
        "\n",
        "Ao final, chame a função main() para que o programa seja executado."
      ],
      "metadata": {
        "id": "zpxFUpA7uvGU"
      }
    },
    {
      "cell_type": "code",
      "source": [
        "def atualiza_preco(valor):\n",
        "  return valor *1.1\n",
        "\n",
        "def taxa(valor):\n",
        "  return valor * 0.025\n",
        "\n",
        "def main():\n",
        "  valor = float(input())\n",
        "  print(f'{atualiza_preco(valor):.2f}')\n",
        "  print(f'{taxa(valor):.2f}')\n",
        "\n",
        "main()"
      ],
      "metadata": {
        "id": "uJS9R6wluwnf",
        "colab": {
          "base_uri": "https://localhost:8080/"
        },
        "outputId": "e51f7162-fad5-49d4-b48d-39088b3b828f"
      },
      "execution_count": 2,
      "outputs": [
        {
          "output_type": "stream",
          "name": "stdout",
          "text": [
            "100\n",
            "110.00\n",
            "2.50\n"
          ]
        }
      ]
    },
    {
      "cell_type": "markdown",
      "source": [
        "Aplicando o conceito A7\n",
        "\n"
      ],
      "metadata": {
        "id": "VeW2rqGodsl-"
      }
    },
    {
      "cell_type": "code",
      "source": [
        "def soma (n1,n2):\n",
        "  return n1+n2\n",
        "\n",
        "def sub (n1,n2):\n",
        "  return n1-n2\n",
        "\n",
        "def mult (n1,n2):\n",
        "  return n1*n2\n",
        "\n",
        "def div (n1,n2):\n",
        "  return n1/n2\n",
        "\n",
        "def menu():\n",
        "   print(' 1-soma \\n 2-sub \\n 3-mult \\n 4-Divide \\n 5-Sair' )\n",
        "   op = int (input())\n",
        "   while (op < 1 or op > 5):\n",
        "     print('Opção inválida')\n",
        "     op = int (input())\n",
        "   return op\n",
        "\n",
        "\n",
        "def escolha(op, n1, n2):\n",
        "  if op == 1:\n",
        "    result = soma(n1,n2)\n",
        "  elif op == 2:\n",
        "    result = sub(n1,n2)\n",
        "  elif op == 3:\n",
        "    result = mult(n1,n2)\n",
        "  elif op == 4:\n",
        "    result = div(n1,n2)\n",
        "  else:\n",
        "    result = None\n",
        "  return result\n",
        "\n",
        "def entrada():\n",
        "  return int(input())\n",
        "\n",
        "def main():\n",
        "  while True:\n",
        "    op = menu()\n",
        "    if op == 5:\n",
        "      break\n",
        "    print('Digite 2 números')\n",
        "    n1 = entrada()\n",
        "    n2 = entrada()\n",
        "    if escolha(op, n1, n2) == None:\n",
        "      print('Opção inválida')\n",
        "    else:\n",
        "      print(escolha(op, n1, n2))\n",
        "\n",
        "main()"
      ],
      "metadata": {
        "colab": {
          "base_uri": "https://localhost:8080/"
        },
        "id": "Kt1wf1-heTIx",
        "outputId": "1daff607-d5ab-4e18-9368-d0cff345602d"
      },
      "execution_count": null,
      "outputs": [
        {
          "name": "stdout",
          "output_type": "stream",
          "text": [
            " 1-soma \n",
            " 2-sub \n",
            " 3-mult \n",
            " 4-Divide \n",
            " 5-Sair\n",
            "1\n",
            "Digite 2 números\n",
            "10\n",
            "50\n",
            "60\n",
            " 1-soma \n",
            " 2-sub \n",
            " 3-mult \n",
            " 4-Divide \n",
            " 5-Sair\n",
            "2\n",
            "Digite 2 números\n",
            "10\n",
            "50\n",
            "-40\n",
            " 1-soma \n",
            " 2-sub \n",
            " 3-mult \n",
            " 4-Divide \n",
            " 5-Sair\n",
            "5\n"
          ]
        }
      ]
    },
    {
      "cell_type": "code",
      "source": [
        "# a) atualiza_preco(valor): a função deve receber como parâmetro o valor de um produto, calcular e retornar este valor com aumento de 10%\n",
        "\n",
        "# b) taxa(valor): a função calcula e retorna o valor da taxa de 2.5% sobre o valor do produto atualizado (após a chamada da função atualiza_preco).\n",
        "\n",
        "# c) main(): terá o programa principal que deve, nesta ordem, fazer a entrada via teclado (digitada pelo usuário) do valor do produto, depois chamar as funções atualiza_preco e taxa e apresentar os valores calculados do valor atualizado com duas casas decimais e do valor da taxa também com duas casas decimais.\n",
        "\n",
        "# Ao final, chame a função main() para que o programa seja executado."
      ],
      "metadata": {
        "id": "1477Z9jTgmq8"
      },
      "execution_count": null,
      "outputs": []
    },
    {
      "cell_type": "code",
      "source": [
        "def atualiza_preco(valor):\n",
        "  return valor * 1.1\n",
        "\n",
        "def taxa(valor):\n",
        "  return valor * 0.025\n",
        "\n",
        "\n",
        "def main():\n",
        "  valor = float(input())\n",
        "  print(f'{atualiza_preco(valor):.2f}')\n",
        "  print(f'{taxa(valor):.2f}')\n",
        "\n",
        "main()"
      ],
      "metadata": {
        "colab": {
          "base_uri": "https://localhost:8080/"
        },
        "id": "WKO5rT5JiecT",
        "outputId": "9d8b748c-7308-48b9-f83f-92992409103e"
      },
      "execution_count": null,
      "outputs": [
        {
          "output_type": "stream",
          "name": "stdout",
          "text": [
            "10\n",
            "11.00\n",
            "0.25\n"
          ]
        }
      ]
    },
    {
      "cell_type": "code",
      "source": [
        "def valorPagamento(valor, dias):\n",
        "  if dias <=0:\n",
        "    return valor\n",
        "  return valor * 1.03 + valor *0.001 * dias\n",
        "\n",
        "def main():\n",
        "  valor = float(input())\n",
        "  dias = int(input())\n",
        "  print(valorPagamento(valor, dias))\n",
        "\n",
        "main()"
      ],
      "metadata": {
        "colab": {
          "base_uri": "https://localhost:8080/"
        },
        "id": "ogmORoRSgrl0",
        "outputId": "fcff9f1a-b283-4c09-ff9a-c95f3db99f5d"
      },
      "execution_count": null,
      "outputs": [
        {
          "output_type": "stream",
          "name": "stdout",
          "text": [
            "1000\n",
            "5\n",
            "1035.0\n"
          ]
        }
      ]
    },
    {
      "cell_type": "code",
      "source": [
        "for k in range(0,4,-1):\n",
        "  print(k)"
      ],
      "metadata": {
        "id": "niGdWGvca2L9"
      },
      "execution_count": null,
      "outputs": []
    },
    {
      "cell_type": "code",
      "source": [
        "def checa_list(list):\n",
        "  elem=list[0]\n",
        "  for a in list:\n",
        "    if a>elem:\n",
        "      elem=a\n",
        "  return elem\n",
        "\n",
        "print(checa_list([4,4,8,-3]))"
      ],
      "metadata": {
        "colab": {
          "base_uri": "https://localhost:8080/"
        },
        "id": "4xt9nbfWbf6E",
        "outputId": "e0380c9b-e7a2-4405-da61-46e39483d1c0"
      },
      "execution_count": null,
      "outputs": [
        {
          "output_type": "stream",
          "name": "stdout",
          "text": [
            "8\n"
          ]
        }
      ]
    },
    {
      "cell_type": "code",
      "source": [
        "def dobra(y):\n",
        "  x=y+y\n",
        "  return x\n",
        "\n",
        "y=5\n",
        "dobra(y)\n",
        "dobra(y)\n",
        "print(x)"
      ],
      "metadata": {
        "colab": {
          "base_uri": "https://localhost:8080/"
        },
        "id": "zPa5lwNabiQs",
        "outputId": "2f98e0b6-55ef-4807-80a3-c1b6b9605863"
      },
      "execution_count": null,
      "outputs": [
        {
          "output_type": "stream",
          "name": "stdout",
          "text": [
            "5\n"
          ]
        }
      ]
    },
    {
      "cell_type": "code",
      "source": [
        "y=5\n",
        "\n",
        "\n",
        "def dobra(y):\n",
        "  x=y+y\n",
        "  return x\n",
        "\n",
        "dobra(y)\n",
        "dobra(y)"
      ],
      "metadata": {
        "colab": {
          "base_uri": "https://localhost:8080/"
        },
        "id": "AlRzFTFEdwO-",
        "outputId": "3d813939-3d7a-47a3-d273-75262e05c943"
      },
      "execution_count": null,
      "outputs": [
        {
          "output_type": "execute_result",
          "data": {
            "text/plain": [
              "10"
            ]
          },
          "metadata": {},
          "execution_count": 26
        }
      ]
    },
    {
      "cell_type": "code",
      "source": [
        "s=0\n",
        "c=1\n",
        "while c<7:\n",
        "  s=s+c\n",
        "  c=c+1\n",
        "print(s)"
      ],
      "metadata": {
        "colab": {
          "base_uri": "https://localhost:8080/"
        },
        "id": "BdlsNlUJdzg4",
        "outputId": "f33a3bc2-c21f-47f9-af8d-1f4c6c312214"
      },
      "execution_count": null,
      "outputs": [
        {
          "output_type": "stream",
          "name": "stdout",
          "text": [
            "21\n"
          ]
        }
      ]
    },
    {
      "cell_type": "code",
      "source": [
        "s=0\n",
        "for C in range(1,8):\n",
        "  s=s+C\n",
        "print(s)"
      ],
      "metadata": {
        "colab": {
          "base_uri": "https://localhost:8080/"
        },
        "id": "_B_u2e-1eS9k",
        "outputId": "7f791694-ee99-4f0c-f8c6-e414436a2947"
      },
      "execution_count": null,
      "outputs": [
        {
          "output_type": "stream",
          "name": "stdout",
          "text": [
            "28\n"
          ]
        }
      ]
    },
    {
      "cell_type": "code",
      "source": [
        "s=0\n",
        "for C in range(1,7):\n",
        "  s+=C\n",
        "print(s)"
      ],
      "metadata": {
        "colab": {
          "base_uri": "https://localhost:8080/"
        },
        "id": "wl-gFWcdegOk",
        "outputId": "6d274ab0-e141-4aeb-8eed-b0be073b722a"
      },
      "execution_count": null,
      "outputs": [
        {
          "output_type": "stream",
          "name": "stdout",
          "text": [
            "21\n"
          ]
        }
      ]
    },
    {
      "cell_type": "code",
      "source": [
        "x = 0\n",
        "i = 0\n",
        "while i<10:\n",
        "  x+=1\n",
        "  i+=1\n",
        "print(x)"
      ],
      "metadata": {
        "colab": {
          "base_uri": "https://localhost:8080/"
        },
        "id": "g5m4TlwXeoIO",
        "outputId": "ed606ac4-c013-4715-b571-e6132e3c1f97"
      },
      "execution_count": null,
      "outputs": [
        {
          "output_type": "stream",
          "name": "stdout",
          "text": [
            "10\n"
          ]
        }
      ]
    },
    {
      "cell_type": "markdown",
      "source": [
        "# Aula 8 - Vetores\n",
        "\n",
        "\n",
        "**Os objetivo da aula:**\n",
        "\n",
        "\n",
        "Os objetivos desta aula são entender o que é uma lista na programação de computadores. Conhecer algumas operações comumente efetuadas nas listas. E praticar criando e usando listas em Python para resolver problemas."
      ],
      "metadata": {
        "id": "yUDIdWRKvzhp"
      }
    },
    {
      "cell_type": "code",
      "source": [
        "def menu():\n",
        "  print(\"(1) Cadastrar um amigo (no final da lista)\")\n",
        "  print(\"(2) Mostrar os nomes de todos os amigos\")\n",
        "  print(\"(3) Cadastrar um amigo (no início da lista)\")\n",
        "  print(\"(4) Remover um nome\")\n",
        "  print(\"(5) Substituir um nome\")\n",
        "  print(\"(6) Mostrar o número total de amigos cadastrados\")\n",
        "  print(\"(7) Colocar os nomes dos amigos em ordem alfabética\")\n",
        "  print(\"(9) Sair do programa\")\n",
        "  op = int(input(\"Opção selecionada: \"))\n",
        "  while op <1 or op >9:\n",
        "    op = int(input(\"Opção selcionada: \"))\n",
        "  return op\n",
        "\n",
        "def inserir_amigo(amigo):\n",
        "  nome = input(\"Nome:\")\n",
        "  amigo.append(nome)\n",
        "\n",
        "def mostrar_nomes(amigo):\n",
        "  print(amigo)\n",
        "\n",
        "def inserir_amigo_final(amigo):\n",
        "  nome = input(\"Digite um nome : \")\n",
        "  amigo.insert(0,nome)\n",
        "\n",
        "def remover_amigo(amigo):\n",
        "  nome = input(\"Qual o nome a ser removido: \")\n",
        "  for i in range(0, len(amigo)):\n",
        "    if amigo[i] == nome:\n",
        "      pos = i\n",
        "      break\n",
        "  del amigo[pos]\n",
        "\n",
        "def substituir_nome(amigo):\n",
        "  nome = input(\"Qual o nome a ser substituido:\")\n",
        "  nomenovo = input(\"Qual o novo nome:\")\n",
        "  for i in range(0, len(amigo)):\n",
        "    if amigo[i] == nome:\n",
        "      amigo[i] = nomenovo\n",
        "      break\n",
        "\n",
        "def total_cadastro(amigo):\n",
        "  print(\"Total de amigos = %d\" %len(amigo))\n",
        "\n",
        "def ordenar_amigos(amigo):\n",
        "  amigo.sort()\n",
        "  mostrar_nomes(amigo)\n",
        "\n",
        "def main():\n",
        "  amigo = []\n",
        "  while True:\n",
        "    op = menu()\n",
        "    if op == 1:\n",
        "      inserir_amigo(amigo)\n",
        "    elif op == 2:\n",
        "      mostrar_nomes(amigo)\n",
        "    elif op == 3:\n",
        "      inserir_amigo_final(amigo)\n",
        "    elif op == 4:\n",
        "      remover_amigo(amigo)\n",
        "    elif op == 5:\n",
        "      substituir_nome(amigo)\n",
        "    elif op == 6:\n",
        "      total_cadastro(amigo)\n",
        "    elif op == 7:\n",
        "      ordenar_amigos(amigo)\n",
        "    if op == 9:\n",
        "      break\n"
      ],
      "metadata": {
        "id": "KfTrqiX8vwR8"
      },
      "execution_count": 4,
      "outputs": []
    },
    {
      "cell_type": "markdown",
      "source": [
        "Aplicando Conhecimento - Aula 8"
      ],
      "metadata": {
        "id": "Dq4btUBOvjrt"
      }
    },
    {
      "cell_type": "code",
      "source": [
        "# Descobrir o mais velho e o mais novo funcionario\n",
        "# Código que pergunte o código e a idade\n",
        "# O final da digitação de dados deve ser dado quando o usuário digitar 0 no campo código\n",
        "# Ao encerrar o programa deve informar o código e a respectiva idade do funcionário mais novo e do funcionário mais velho"
      ],
      "metadata": {
        "id": "aq28sFJ0esak"
      },
      "execution_count": null,
      "outputs": []
    },
    {
      "cell_type": "code",
      "source": [
        "# Inicializando variáveis para armazenar o código e idade do funcionário mais novo e mais velho\n",
        "codigo_mais_novo = None\n",
        "idade_mais_novo = float('inf')  # Definindo idade inicial como infinito\n",
        "codigo_mais_velho = None\n",
        "idade_mais_velho = float('-inf')  # Definindo idade inicial como negativo infinito\n",
        "\n",
        "# Loop para inserção de dados\n",
        "while True:\n",
        "    codigo = input(\"Digite o código do funcionário (ou 0 para sair): \")\n",
        "\n",
        "    # Verificando se o usuário deseja sair\n",
        "    if codigo == '0':\n",
        "        break\n",
        "\n",
        "    idade = int(input(\"Digite a idade do funcionário: \"))\n",
        "\n",
        "    # Atualizando funcionário mais novo\n",
        "    if idade < idade_mais_novo:\n",
        "        codigo_mais_novo = codigo\n",
        "        idade_mais_novo = idade\n",
        "\n",
        "    # Atualizando funcionário mais velho\n",
        "    if idade > idade_mais_velho:\n",
        "        codigo_mais_velho = codigo\n",
        "        idade_mais_velho = idade\n",
        "\n",
        "# Exibindo os resultados\n",
        "print(f\"O funcionário mais novo tem código {codigo_mais_novo} e idade {idade_mais_novo} anos.\")\n",
        "print(f\"O funcionário mais velho tem código {codigo_mais_velho} e idade {idade_mais_velho} anos.\")\n"
      ],
      "metadata": {
        "colab": {
          "base_uri": "https://localhost:8080/",
          "height": 356
        },
        "id": "eauKJuXKf3U5",
        "outputId": "1bbbf05e-381b-4dfa-f2b9-28e64d30252d"
      },
      "execution_count": null,
      "outputs": [
        {
          "output_type": "error",
          "ename": "KeyboardInterrupt",
          "evalue": "Interrupted by user",
          "traceback": [
            "\u001b[0;31m---------------------------------------------------------------------------\u001b[0m",
            "\u001b[0;31mKeyboardInterrupt\u001b[0m                         Traceback (most recent call last)",
            "\u001b[0;32m<ipython-input-38-74ba1dad12bd>\u001b[0m in \u001b[0;36m<cell line: 8>\u001b[0;34m()\u001b[0m\n\u001b[1;32m      7\u001b[0m \u001b[0;31m# Loop para inserção de dados\u001b[0m\u001b[0;34m\u001b[0m\u001b[0;34m\u001b[0m\u001b[0m\n\u001b[1;32m      8\u001b[0m \u001b[0;32mwhile\u001b[0m \u001b[0;32mTrue\u001b[0m\u001b[0;34m:\u001b[0m\u001b[0;34m\u001b[0m\u001b[0;34m\u001b[0m\u001b[0m\n\u001b[0;32m----> 9\u001b[0;31m     \u001b[0mcodigo\u001b[0m \u001b[0;34m=\u001b[0m \u001b[0minput\u001b[0m\u001b[0;34m(\u001b[0m\u001b[0;34m\"Digite o código do funcionário (ou 0 para sair): \"\u001b[0m\u001b[0;34m)\u001b[0m\u001b[0;34m\u001b[0m\u001b[0;34m\u001b[0m\u001b[0m\n\u001b[0m\u001b[1;32m     10\u001b[0m \u001b[0;34m\u001b[0m\u001b[0m\n\u001b[1;32m     11\u001b[0m     \u001b[0;31m# Verificando se o usuário deseja sair\u001b[0m\u001b[0;34m\u001b[0m\u001b[0;34m\u001b[0m\u001b[0m\n",
            "\u001b[0;32m/usr/local/lib/python3.10/dist-packages/ipykernel/kernelbase.py\u001b[0m in \u001b[0;36mraw_input\u001b[0;34m(self, prompt)\u001b[0m\n\u001b[1;32m    849\u001b[0m                 \u001b[0;34m\"raw_input was called, but this frontend does not support input requests.\"\u001b[0m\u001b[0;34m\u001b[0m\u001b[0;34m\u001b[0m\u001b[0m\n\u001b[1;32m    850\u001b[0m             )\n\u001b[0;32m--> 851\u001b[0;31m         return self._input_request(str(prompt),\n\u001b[0m\u001b[1;32m    852\u001b[0m             \u001b[0mself\u001b[0m\u001b[0;34m.\u001b[0m\u001b[0m_parent_ident\u001b[0m\u001b[0;34m,\u001b[0m\u001b[0;34m\u001b[0m\u001b[0;34m\u001b[0m\u001b[0m\n\u001b[1;32m    853\u001b[0m             \u001b[0mself\u001b[0m\u001b[0;34m.\u001b[0m\u001b[0m_parent_header\u001b[0m\u001b[0;34m,\u001b[0m\u001b[0;34m\u001b[0m\u001b[0;34m\u001b[0m\u001b[0m\n",
            "\u001b[0;32m/usr/local/lib/python3.10/dist-packages/ipykernel/kernelbase.py\u001b[0m in \u001b[0;36m_input_request\u001b[0;34m(self, prompt, ident, parent, password)\u001b[0m\n\u001b[1;32m    893\u001b[0m             \u001b[0;32mexcept\u001b[0m \u001b[0mKeyboardInterrupt\u001b[0m\u001b[0;34m:\u001b[0m\u001b[0;34m\u001b[0m\u001b[0;34m\u001b[0m\u001b[0m\n\u001b[1;32m    894\u001b[0m                 \u001b[0;31m# re-raise KeyboardInterrupt, to truncate traceback\u001b[0m\u001b[0;34m\u001b[0m\u001b[0;34m\u001b[0m\u001b[0m\n\u001b[0;32m--> 895\u001b[0;31m                 \u001b[0;32mraise\u001b[0m \u001b[0mKeyboardInterrupt\u001b[0m\u001b[0;34m(\u001b[0m\u001b[0;34m\"Interrupted by user\"\u001b[0m\u001b[0;34m)\u001b[0m \u001b[0;32mfrom\u001b[0m \u001b[0;32mNone\u001b[0m\u001b[0;34m\u001b[0m\u001b[0;34m\u001b[0m\u001b[0m\n\u001b[0m\u001b[1;32m    896\u001b[0m             \u001b[0;32mexcept\u001b[0m \u001b[0mException\u001b[0m \u001b[0;32mas\u001b[0m \u001b[0me\u001b[0m\u001b[0;34m:\u001b[0m\u001b[0;34m\u001b[0m\u001b[0;34m\u001b[0m\u001b[0m\n\u001b[1;32m    897\u001b[0m                 \u001b[0mself\u001b[0m\u001b[0;34m.\u001b[0m\u001b[0mlog\u001b[0m\u001b[0;34m.\u001b[0m\u001b[0mwarning\u001b[0m\u001b[0;34m(\u001b[0m\u001b[0;34m\"Invalid Message:\"\u001b[0m\u001b[0;34m,\u001b[0m \u001b[0mexc_info\u001b[0m\u001b[0;34m=\u001b[0m\u001b[0;32mTrue\u001b[0m\u001b[0;34m)\u001b[0m\u001b[0;34m\u001b[0m\u001b[0;34m\u001b[0m\u001b[0m\n",
            "\u001b[0;31mKeyboardInterrupt\u001b[0m: Interrupted by user"
          ]
        }
      ]
    },
    {
      "cell_type": "code",
      "source": [
        "# Inicializando variáveis para armazenar o código e idade do funcionário mais novo e mais velho\n",
        "codigo_mais_novo = \"\"\n",
        "idade_mais_novo = 1000  # Definindo idade inicial como idade máxima possível\n",
        "codigo_mais_velho = \"\"\n",
        "idade_mais_velho = 0  # Definindo idade inicial como idade mínima possível\n",
        "\n",
        "# Loop para inserção de dados\n",
        "while True:\n",
        "    codigo = input(\"Digite o código do funcionário (ou 0 para sair): \")\n",
        "\n",
        "    # Verificando se o usuário deseja sair\n",
        "    if codigo == '0':\n",
        "        break\n",
        "\n",
        "    idade = int(input(\"Digite a idade do funcionário: \"))\n",
        "\n",
        "    # Atualizando funcionário mais novo\n",
        "    if idade < idade_mais_novo:\n",
        "        codigo_mais_novo = codigo\n",
        "        idade_mais_novo = idade\n",
        "\n",
        "    # Atualizando funcionário mais velho\n",
        "    if idade > idade_mais_velho:\n",
        "        codigo_mais_velho = codigo\n",
        "        idade_mais_velho = idade\n",
        "\n",
        "# Exibindo os resultados\n",
        "print(f\"O funcionário mais novo tem código {codigo_mais_novo} e idade {idade_mais_novo} anos.\")\n",
        "print(f\"O funcionário mais velho tem código {codigo_mais_velho} e idade {idade_mais_velho} anos.\")\n",
        "3"
      ],
      "metadata": {
        "colab": {
          "base_uri": "https://localhost:8080/"
        },
        "id": "ILtWoa4ghKKb",
        "outputId": "7cb18597-553e-4032-e91d-aefba5011c63"
      },
      "execution_count": null,
      "outputs": [
        {
          "output_type": "stream",
          "name": "stdout",
          "text": [
            "Digite o código do funcionário (ou 0 para sair): 1\n",
            "Digite a idade do funcionário: -1\n",
            "Digite o código do funcionário (ou 0 para sair): 0\n",
            "O funcionário mais novo tem código 1 e idade -1 anos.\n",
            "O funcionário mais velho tem código  e idade 0 anos.\n"
          ]
        },
        {
          "output_type": "execute_result",
          "data": {
            "text/plain": [
              "3"
            ]
          },
          "metadata": {},
          "execution_count": 43
        }
      ]
    },
    {
      "cell_type": "code",
      "source": [
        "# Estabelecer variáveis para armazenar o código e idade do funcionário mais novo e mais velho:\n",
        "codigo_mais_novo = \"\"\n",
        "idade_mais_novo = 0\n",
        "codigo_mais_velho = \"\"\n",
        "idade_mais_velho = 0\n",
        "\n",
        "# Loop para digitação dos dados\n",
        "while True:\n",
        "    codigo = input(\"Digite o código do funcionário (ou 0 para sair): \")\n",
        "\n",
        "    if codigo == '0':\n",
        "        break\n",
        "\n",
        "    idade = int(input(\"Digite a idade do funcionário: \"))\n",
        "\n",
        "# Atualização das variáveis\n",
        "    if idade < idade_mais_novo:\n",
        "        codigo_mais_novo = codigo\n",
        "        idade_mais_novo = idade\n",
        "\n",
        "    if idade > idade_mais_velho:\n",
        "        codigo_mais_velho = codigo\n",
        "        idade_mais_velho = idade\n",
        "\n",
        "# Apresentar Resultados código e idade dos funcionários mais novo e mais velho\n",
        "print(f\"O funcionário mais novo tem código {codigo_mais_novo} e idade {idade_mais_novo} anos.\")\n",
        "print(f\"O funcionário mais velho tem código {codigo_mais_velho} e idade {idade_mais_velho} anos.\")\n"
      ],
      "metadata": {
        "colab": {
          "base_uri": "https://localhost:8080/"
        },
        "id": "Us_TTWyQhghT",
        "outputId": "d47ba445-3184-46a2-9f64-69990e87b95b"
      },
      "execution_count": null,
      "outputs": [
        {
          "output_type": "stream",
          "name": "stdout",
          "text": [
            "Digite o código do funcionário (ou 0 para sair): 1\n",
            "Digite a idade do funcionário: 0\n",
            "Digite o código do funcionário (ou 0 para sair): 2\n",
            "Digite a idade do funcionário: 10\n",
            "Digite o código do funcionário (ou 0 para sair): 3\n",
            "Digite a idade do funcionário: 200\n",
            "Digite o código do funcionário (ou 0 para sair): 4\n",
            "Digite a idade do funcionário: 500\n",
            "Digite o código do funcionário (ou 0 para sair): 6\n",
            "Digite a idade do funcionário: -1\n",
            "Digite o código do funcionário (ou 0 para sair): 0\n",
            "O funcionário mais novo tem código 6 e idade -1 anos.\n",
            "O funcionário mais velho tem código 4 e idade 500 anos.\n"
          ]
        }
      ]
    }
  ]
}