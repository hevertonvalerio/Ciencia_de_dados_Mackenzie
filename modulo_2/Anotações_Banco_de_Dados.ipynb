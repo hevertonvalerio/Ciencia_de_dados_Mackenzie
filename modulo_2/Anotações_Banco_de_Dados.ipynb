{
  "nbformat": 4,
  "nbformat_minor": 0,
  "metadata": {
    "colab": {
      "provenance": [],
      "authorship_tag": "ABX9TyOdSTOcwZDey1DDXAN6N0EG",
      "include_colab_link": true
    },
    "kernelspec": {
      "name": "python3",
      "display_name": "Python 3"
    },
    "language_info": {
      "name": "python"
    }
  },
  "cells": [
    {
      "cell_type": "markdown",
      "metadata": {
        "id": "view-in-github",
        "colab_type": "text"
      },
      "source": [
        "<a href=\"https://colab.research.google.com/github/hevertonvalerio/Ciencia_de_dados_Mackenzie/blob/main/modulo_2/Anota%C3%A7%C3%B5es_Banco_de_Dados.ipynb\" target=\"_parent\"><img src=\"https://colab.research.google.com/assets/colab-badge.svg\" alt=\"Open In Colab\"/></a>"
      ]
    },
    {
      "cell_type": "markdown",
      "source": [
        "# Anotações Banco de Dados"
      ],
      "metadata": {
        "id": "ZKwKlJKQoUal"
      }
    },
    {
      "cell_type": "markdown",
      "source": [
        "## Aula 1 - Conceitos Básicos e Arquitetura de um Banco de Dados"
      ],
      "metadata": {
        "id": "jx4nr--Coi-W"
      }
    },
    {
      "cell_type": "markdown",
      "source": [
        "**Objetivo da Aula**   \n",
        "Compreender os conceitos básicos relacionados a um banco de dados, analisar as vantagens de se utilizar um banco de dados, entender a arquitetura de três níveis (esquemas) e ter consciência da importância dos bancos de dados para as diversas áreas do conhecimento humano."
      ],
      "metadata": {
        "id": "4ra-ardKorP2"
      }
    },
    {
      "cell_type": "markdown",
      "source": [
        "Nessa disciplina utilizaremos bancos de dados tradicionais (relacionais) - Oracle, SQLserver, MySQL\n",
        "\n",
        "Novos tipos de bancos de dados como NoSQL serão vistos futuramente."
      ],
      "metadata": {
        "id": "nlVBpgzzpZnP"
      }
    },
    {
      "cell_type": "markdown",
      "source": [
        "Banco de Dados é\n",
        "* Uma coleção de dados organizados e relacionada\n",
        "* É proejtado, construido e preenchido com dados para um propósito específico"
      ],
      "metadata": {
        "id": "LbH2w8N_p5UT"
      }
    },
    {
      "cell_type": "markdown",
      "source": [
        "* Inserir\n",
        "* Pesquisar\n",
        "* Atualizar\n",
        "* Deletar"
      ],
      "metadata": {
        "id": "LKG6bcn6rSpR"
      }
    },
    {
      "cell_type": "markdown",
      "source": [
        "Componentes:\n",
        "* Dados\n",
        "* Hardware\n",
        "* Software\n",
        "* Usuários"
      ],
      "metadata": {
        "id": "v7gupt9zrT8U"
      }
    },
    {
      "cell_type": "markdown",
      "source": [
        "SGBD (Sistema Gerenciador de Bancos de dados)\n",
        "\n",
        "Oracle, SQLserver"
      ],
      "metadata": {
        "id": "w8_YYYGyrbGT"
      }
    },
    {
      "cell_type": "markdown",
      "source": [
        "Usuários\n",
        "\n",
        "Programador   \n",
        "Usuários   \n",
        "DA (Administrador dos dados)   \n",
        "DBA (Administrador do Banco de Dados)\n",
        "\n"
      ],
      "metadata": {
        "id": "AMtcaCfBv7Gy"
      }
    },
    {
      "cell_type": "markdown",
      "source": [
        "Níveis\n",
        "\n",
        "interno - Físico   \n",
        "conceitual - Intermediário  \n",
        "externo - Usuário"
      ],
      "metadata": {
        "id": "a25fhnOKl0IG"
      }
    },
    {
      "cell_type": "markdown",
      "source": [
        "---"
      ],
      "metadata": {
        "id": "6QiRtVpZmZma"
      }
    },
    {
      "cell_type": "markdown",
      "source": [
        "Video Explorando Conceitos\n",
        "\n",
        "https://youtu.be/XfO3TRvESBo"
      ],
      "metadata": {
        "id": "I9rgQyxlwvDm"
      }
    },
    {
      "cell_type": "markdown",
      "source": [
        "Motivos para banco de dados\n",
        "\n",
        "* Padronização de Acesso\n",
        "* Segurança do Acesso\n",
        "* Integridade das Infomrações\n",
        "* Escalabilidade (crescimento sustentável)\n",
        "* Trabalho em Equipe"
      ],
      "metadata": {
        "id": "wnBx5E9tmana"
      }
    },
    {
      "cell_type": "markdown",
      "source": [
        "Componentes de um Banco de Dados\n",
        "\n",
        "* Arquivos de Banco de Dados\n",
        "* SGBD - Acesso entre usuário e dados\n",
        "* Linguagem de Conversação - SQL (Structure Query Language)"
      ],
      "metadata": {
        "id": "mxGx9qkumf-5"
      }
    },
    {
      "cell_type": "markdown",
      "source": [
        "SQL (Structure Query Language)\n",
        "\n",
        "Linguagem Padronizada:\n",
        "* ISO - Internation Organization for Standar dization\n",
        "* ANSI - American National Standar ds Institute\n",
        "\n",
        "Dialetos\n",
        "* Transact-SQL-Microsoft\n",
        "* PL-SQL-Oracle\n",
        "\n",
        "Grupos de Comandos:    \n",
        "* DDL - Data Definition Language (Create, Alter, Drop) [DBA]  \n",
        "* DCL - Data Control Language (Grant, Revoke, Deny) [DBA]   \n",
        "* DML - Data Manipulation Language (Select, Inset, Update, Delete) [Geral]   "
      ],
      "metadata": {
        "id": "ox7wVnF9ovhZ"
      }
    }
  ]
}