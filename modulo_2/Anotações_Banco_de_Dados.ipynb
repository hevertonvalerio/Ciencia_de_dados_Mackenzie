{
  "nbformat": 4,
  "nbformat_minor": 0,
  "metadata": {
    "colab": {
      "provenance": [],
      "authorship_tag": "ABX9TyPEpJPcXCJWJo4VkTaoDhmS",
      "include_colab_link": true
    },
    "kernelspec": {
      "name": "python3",
      "display_name": "Python 3"
    },
    "language_info": {
      "name": "python"
    }
  },
  "cells": [
    {
      "cell_type": "markdown",
      "metadata": {
        "id": "view-in-github",
        "colab_type": "text"
      },
      "source": [
        "<a href=\"https://colab.research.google.com/github/hevertonvalerio/Ciencia_de_dados_Mackenzie/blob/main/modulo_2/Anota%C3%A7%C3%B5es_Banco_de_Dados.ipynb\" target=\"_parent\"><img src=\"https://colab.research.google.com/assets/colab-badge.svg\" alt=\"Open In Colab\"/></a>"
      ]
    },
    {
      "cell_type": "markdown",
      "source": [
        "# Anotações Banco de Dados"
      ],
      "metadata": {
        "id": "ZKwKlJKQoUal"
      }
    },
    {
      "cell_type": "markdown",
      "source": [
        "## Aula 1 - Conceitos Básicos e Arquitetura de um Banco de Dados"
      ],
      "metadata": {
        "id": "jx4nr--Coi-W"
      }
    },
    {
      "cell_type": "markdown",
      "source": [
        "**Objetivo da Aula**   \n",
        "Compreender os conceitos básicos relacionados a um banco de dados, analisar as vantagens de se utilizar um banco de dados, entender a arquitetura de três níveis (esquemas) e ter consciência da importância dos bancos de dados para as diversas áreas do conhecimento humano."
      ],
      "metadata": {
        "id": "4ra-ardKorP2"
      }
    },
    {
      "cell_type": "markdown",
      "source": [
        "Nessa disciplina utilizaremos bancos de dados tradicionais (relacionais) - Oracle, SQLserver, MySQL\n",
        "\n",
        "Novos tipos de bancos de dados como NoSQL serão vistos futuramente."
      ],
      "metadata": {
        "id": "nlVBpgzzpZnP"
      }
    },
    {
      "cell_type": "markdown",
      "source": [
        "Banco de Dados é\n",
        "* Uma coleção de dados organizados e relacionada\n",
        "* É proejtado, construido e preenchido com dados para um propósito específico"
      ],
      "metadata": {
        "id": "LbH2w8N_p5UT"
      }
    },
    {
      "cell_type": "markdown",
      "source": [
        "* Inserir\n",
        "* Pesquisar\n",
        "* Atualizar\n",
        "* Deletar"
      ],
      "metadata": {
        "id": "LKG6bcn6rSpR"
      }
    },
    {
      "cell_type": "markdown",
      "source": [
        "Componentes:\n",
        "* Dados\n",
        "* Hardware\n",
        "* Software\n",
        "* Usuários"
      ],
      "metadata": {
        "id": "v7gupt9zrT8U"
      }
    },
    {
      "cell_type": "markdown",
      "source": [
        "SGBD (Sistema Gerenciador de Bancos de dados)\n",
        "\n",
        "Oracle, SQLserver"
      ],
      "metadata": {
        "id": "w8_YYYGyrbGT"
      }
    },
    {
      "cell_type": "code",
      "source": [],
      "metadata": {
        "id": "AMtcaCfBv7Gy"
      },
      "execution_count": null,
      "outputs": []
    }
  ]
}