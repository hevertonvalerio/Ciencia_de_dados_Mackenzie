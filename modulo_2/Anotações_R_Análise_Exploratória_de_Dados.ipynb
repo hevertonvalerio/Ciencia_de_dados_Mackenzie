{
  "nbformat": 4,
  "nbformat_minor": 0,
  "metadata": {
    "colab": {
      "provenance": [],
      "authorship_tag": "ABX9TyOSNf9ElzhzWGqdrpMEpchh",
      "include_colab_link": true
    },
    "kernelspec": {
      "name": "ir",
      "display_name": "R"
    },
    "language_info": {
      "name": "R"
    }
  },
  "cells": [
    {
      "cell_type": "markdown",
      "metadata": {
        "id": "view-in-github",
        "colab_type": "text"
      },
      "source": [
        "<a href=\"https://colab.research.google.com/github/hevertonvalerio/Ciencia_de_dados_Mackenzie/blob/main/modulo_2/Anota%C3%A7%C3%B5es_R_An%C3%A1lise_Explorat%C3%B3ria_de_Dados.ipynb\" target=\"_parent\"><img src=\"https://colab.research.google.com/assets/colab-badge.svg\" alt=\"Open In Colab\"/></a>"
      ]
    },
    {
      "cell_type": "markdown",
      "source": [
        "# Extra"
      ],
      "metadata": {
        "id": "MrjTYAIcdx1N"
      }
    },
    {
      "cell_type": "code",
      "execution_count": null,
      "metadata": {
        "colab": {
          "base_uri": "https://localhost:8080/",
          "height": 1000
        },
        "id": "VZAFDRz-Jdjk",
        "outputId": "b588fefc-8c34-4036-ad6a-37c375644f49"
      },
      "outputs": [
        {
          "output_type": "display_data",
          "data": {
            "text/html": [
              "<table class=\"dataframe\">\n",
              "<caption>A data.frame: 6 × 2</caption>\n",
              "<thead>\n",
              "\t<tr><th></th><th scope=col>eruptions</th><th scope=col>waiting</th></tr>\n",
              "\t<tr><th></th><th scope=col>&lt;dbl&gt;</th><th scope=col>&lt;dbl&gt;</th></tr>\n",
              "</thead>\n",
              "<tbody>\n",
              "\t<tr><th scope=row>1</th><td>3.600</td><td>79</td></tr>\n",
              "\t<tr><th scope=row>2</th><td>1.800</td><td>54</td></tr>\n",
              "\t<tr><th scope=row>3</th><td>3.333</td><td>74</td></tr>\n",
              "\t<tr><th scope=row>4</th><td>2.283</td><td>62</td></tr>\n",
              "\t<tr><th scope=row>5</th><td>4.533</td><td>85</td></tr>\n",
              "\t<tr><th scope=row>6</th><td>2.883</td><td>55</td></tr>\n",
              "</tbody>\n",
              "</table>\n"
            ],
            "text/markdown": "\nA data.frame: 6 × 2\n\n| <!--/--> | eruptions &lt;dbl&gt; | waiting &lt;dbl&gt; |\n|---|---|---|\n| 1 | 3.600 | 79 |\n| 2 | 1.800 | 54 |\n| 3 | 3.333 | 74 |\n| 4 | 2.283 | 62 |\n| 5 | 4.533 | 85 |\n| 6 | 2.883 | 55 |\n\n",
            "text/latex": "A data.frame: 6 × 2\n\\begin{tabular}{r|ll}\n  & eruptions & waiting\\\\\n  & <dbl> & <dbl>\\\\\n\\hline\n\t1 & 3.600 & 79\\\\\n\t2 & 1.800 & 54\\\\\n\t3 & 3.333 & 74\\\\\n\t4 & 2.283 & 62\\\\\n\t5 & 4.533 & 85\\\\\n\t6 & 2.883 & 55\\\\\n\\end{tabular}\n",
            "text/plain": [
              "  eruptions waiting\n",
              "1 3.600     79     \n",
              "2 1.800     54     \n",
              "3 3.333     74     \n",
              "4 2.283     62     \n",
              "5 4.533     85     \n",
              "6 2.883     55     "
            ]
          },
          "metadata": {}
        },
        {
          "output_type": "display_data",
          "data": {
            "text/plain": [
              "   eruptions        waiting    \n",
              " Min.   :1.600   Min.   :43.0  \n",
              " 1st Qu.:2.163   1st Qu.:58.0  \n",
              " Median :4.000   Median :76.0  \n",
              " Mean   :3.488   Mean   :70.9  \n",
              " 3rd Qu.:4.454   3rd Qu.:82.0  \n",
              " Max.   :5.100   Max.   :96.0  "
            ]
          },
          "metadata": {}
        },
        {
          "output_type": "display_data",
          "data": {
            "text/plain": [
              "\n",
              "Call:\n",
              "lm(formula = eruptions ~ waiting, data = faithful)\n",
              "\n",
              "Residuals:\n",
              "     Min       1Q   Median       3Q      Max \n",
              "-1.29917 -0.37689  0.03508  0.34909  1.19329 \n",
              "\n",
              "Coefficients:\n",
              "             Estimate Std. Error t value Pr(>|t|)    \n",
              "(Intercept) -1.874016   0.160143  -11.70   <2e-16 ***\n",
              "waiting      0.075628   0.002219   34.09   <2e-16 ***\n",
              "---\n",
              "Signif. codes:  0 ‘***’ 0.001 ‘**’ 0.01 ‘*’ 0.05 ‘.’ 0.1 ‘ ’ 1\n",
              "\n",
              "Residual standard error: 0.4965 on 270 degrees of freedom\n",
              "Multiple R-squared:  0.8115,\tAdjusted R-squared:  0.8108 \n",
              "F-statistic:  1162 on 1 and 270 DF,  p-value: < 2.2e-16\n"
            ]
          },
          "metadata": {}
        },
        {
          "output_type": "display_data",
          "data": {
            "text/html": [
              "<style>\n",
              ".dl-inline {width: auto; margin:0; padding: 0}\n",
              ".dl-inline>dt, .dl-inline>dd {float: none; width: auto; display: inline-block}\n",
              ".dl-inline>dt::after {content: \":\\0020\"; padding-right: .5ex}\n",
              ".dl-inline>dt:not(:first-of-type) {padding-left: .5ex}\n",
              "</style><dl class=dl-inline><dt>1</dt><dd>4.17621984973828</dd><dt>2</dt><dd>7.20133776781279</dd></dl>\n"
            ],
            "text/markdown": "1\n:   4.176219849738282\n:   7.20133776781279\n\n",
            "text/latex": "\\begin{description*}\n\\item[1] 4.17621984973828\n\\item[2] 7.20133776781279\n\\end{description*}\n",
            "text/plain": [
              "       1        2 \n",
              "4.176220 7.201338 "
            ]
          },
          "metadata": {}
        },
        {
          "output_type": "display_data",
          "data": {
            "text/plain": [
              "plot without title"
            ],
            "image/png": "[encoded data removed]"
          },
          "metadata": {
            "image/png": {
              "width": 420,
              "height": 420
            }
          }
        }
      ],
      "source": [
        "# Data Exploration\n",
        "head(faithful)\n",
        "summary(faithful)\n",
        "\n",
        "#Linear Regression\n",
        "fit = lm(eruptions ~ waiting, data=faithful)\n",
        "summary(fit)\n",
        "\n",
        "# Prediction\n",
        "newdata = data.frame(waiting=c(80,120))\n",
        "prediction = predict(fit,newdata)\n",
        "prediction\n",
        "\n",
        "# Visualization\n",
        "plot(faithful$waiting, faithful$eruptions)\n",
        "abline(lm(eruptions ~waiting, data=faithful), col=2)"
      ]
    },
    {
      "cell_type": "markdown",
      "source": [
        "# Aula 2 - PROGRAMAÇÃO EM R"
      ],
      "metadata": {
        "id": "HcSBr6POS-Vd"
      }
    },
    {
      "cell_type": "markdown",
      "source": [
        "**Objetivo da Aula**\n",
        "\n",
        "Nesta aula, você aprenderá os conceitos de programação R e como lidar com dados tabulares para desenvolver análises de dados. Você aprenderá sobre:\n",
        "\n",
        "* Variáveis e tipos de dados em R.\n",
        "* Estruturas de controle de fluxo.\n",
        "* Organização de dados em tabelas (Tidy).\n",
        "* Aquisição e seleção de dados em R (dataframes)."
      ],
      "metadata": {
        "id": "lqmXcWvKTFOP"
      }
    },
    {
      "cell_type": "markdown",
      "source": [
        "## Ponto de Partida"
      ],
      "metadata": {
        "id": "l-CVnX9YdhMc"
      }
    },
    {
      "cell_type": "code",
      "source": [
        "R.version"
      ],
      "metadata": {
        "colab": {
          "base_uri": "https://localhost:8080/",
          "height": 277
        },
        "id": "Fav9GzBRTuVo",
        "outputId": "0077a0ba-6188-41bd-e882-0d4300ac759c"
      },
      "execution_count": 2,
      "outputs": [
        {
          "output_type": "display_data",
          "data": {
            "text/plain": [
              "               _                           \n",
              "platform       x86_64-pc-linux-gnu         \n",
              "arch           x86_64                      \n",
              "os             linux-gnu                   \n",
              "system         x86_64, linux-gnu           \n",
              "status                                     \n",
              "major          4                           \n",
              "minor          4.1                         \n",
              "year           2024                        \n",
              "month          06                          \n",
              "day            14                          \n",
              "svn rev        86737                       \n",
              "language       R                           \n",
              "version.string R version 4.4.1 (2024-06-14)\n",
              "nickname       Race for Your Life          "
            ]
          },
          "metadata": {}
        }
      ]
    },
    {
      "cell_type": "code",
      "source": [
        "x = 1\n",
        "y <- 2\n",
        "z = 'Rogério'\n",
        "\n",
        "x\n",
        "y\n",
        "z"
      ],
      "metadata": {
        "colab": {
          "base_uri": "https://localhost:8080/",
          "height": 69
        },
        "id": "VwauVP6oUC7G",
        "outputId": "1e4e3f86-9f84-4991-d6f6-afba2065af61"
      },
      "execution_count": 4,
      "outputs": [
        {
          "output_type": "display_data",
          "data": {
            "text/html": [
              "1"
            ],
            "text/markdown": "1",
            "text/latex": "1",
            "text/plain": [
              "[1] 1"
            ]
          },
          "metadata": {}
        },
        {
          "output_type": "display_data",
          "data": {
            "text/html": [
              "2"
            ],
            "text/markdown": "2",
            "text/latex": "2",
            "text/plain": [
              "[1] 2"
            ]
          },
          "metadata": {}
        },
        {
          "output_type": "display_data",
          "data": {
            "text/html": [
              "'Rogério'"
            ],
            "text/markdown": "'Rogério'",
            "text/latex": "'Rogério'",
            "text/plain": [
              "[1] \"Rogério\""
            ]
          },
          "metadata": {}
        }
      ]
    },
    {
      "cell_type": "code",
      "source": [
        "x = x + y + 1\n",
        "print(x)"
      ],
      "metadata": {
        "colab": {
          "base_uri": "https://localhost:8080/"
        },
        "id": "Z6teFY5aUwES",
        "outputId": "8d06409b-3beb-403d-d6b2-f8e5ee38b531"
      },
      "execution_count": 6,
      "outputs": [
        {
          "output_type": "stream",
          "name": "stdout",
          "text": [
            "[1] 4\n"
          ]
        }
      ]
    },
    {
      "cell_type": "code",
      "source": [
        "list = c(1,2,3)\n",
        "list"
      ],
      "metadata": {
        "colab": {
          "base_uri": "https://localhost:8080/",
          "height": 34
        },
        "id": "rtukBgt4U5Z0",
        "outputId": "5e24a1e8-1297-4e73-d5c7-351fc845bd16"
      },
      "execution_count": 9,
      "outputs": [
        {
          "output_type": "display_data",
          "data": {
            "text/html": [
              "<style>\n",
              ".list-inline {list-style: none; margin:0; padding: 0}\n",
              ".list-inline>li {display: inline-block}\n",
              ".list-inline>li:not(:last-child)::after {content: \"\\00b7\"; padding: 0 .5ex}\n",
              "</style>\n",
              "<ol class=list-inline><li>1</li><li>2</li><li>3</li></ol>\n"
            ],
            "text/markdown": "1. 1\n2. 2\n3. 3\n\n\n",
            "text/latex": "\\begin{enumerate*}\n\\item 1\n\\item 2\n\\item 3\n\\end{enumerate*}\n",
            "text/plain": [
              "[1] 1 2 3"
            ]
          },
          "metadata": {}
        }
      ]
    },
    {
      "cell_type": "code",
      "source": [
        "list[2:3]"
      ],
      "metadata": {
        "colab": {
          "base_uri": "https://localhost:8080/",
          "height": 34
        },
        "id": "ZOL4f5ZeU8OL",
        "outputId": "d8cc0b35-b39f-4c2f-fb0a-65788e43d9c5"
      },
      "execution_count": 10,
      "outputs": [
        {
          "output_type": "display_data",
          "data": {
            "text/html": [
              "<style>\n",
              ".list-inline {list-style: none; margin:0; padding: 0}\n",
              ".list-inline>li {display: inline-block}\n",
              ".list-inline>li:not(:last-child)::after {content: \"\\00b7\"; padding: 0 .5ex}\n",
              "</style>\n",
              "<ol class=list-inline><li>2</li><li>3</li></ol>\n"
            ],
            "text/markdown": "1. 2\n2. 3\n\n\n",
            "text/latex": "\\begin{enumerate*}\n\\item 2\n\\item 3\n\\end{enumerate*}\n",
            "text/plain": [
              "[1] 2 3"
            ]
          },
          "metadata": {}
        }
      ]
    },
    {
      "cell_type": "code",
      "source": [
        "length(list)"
      ],
      "metadata": {
        "colab": {
          "base_uri": "https://localhost:8080/",
          "height": 34
        },
        "id": "QUe_7JgZVDRq",
        "outputId": "2f7eb475-c7c5-4d3e-b4e5-01a8ec895b3e"
      },
      "execution_count": 12,
      "outputs": [
        {
          "output_type": "display_data",
          "data": {
            "text/html": [
              "3"
            ],
            "text/markdown": "3",
            "text/latex": "3",
            "text/plain": [
              "[1] 3"
            ]
          },
          "metadata": {}
        }
      ]
    },
    {
      "cell_type": "code",
      "source": [
        "y <- seq(1,10,0.5)\n",
        "z = c(1:10)\n",
        "nomes <- c(\"fulano\", \"Siclano\", \"Beltrano\")\n",
        "\n",
        "y\n",
        "z\n",
        "nomes"
      ],
      "metadata": {
        "colab": {
          "base_uri": "https://localhost:8080/",
          "height": 69
        },
        "id": "Qk7Ihb9AVQuu",
        "outputId": "ee4f785f-1d55-461f-bf6d-9e97b93003ff"
      },
      "execution_count": 17,
      "outputs": [
        {
          "output_type": "display_data",
          "data": {
            "text/html": [
              "<style>\n",
              ".list-inline {list-style: none; margin:0; padding: 0}\n",
              ".list-inline>li {display: inline-block}\n",
              ".list-inline>li:not(:last-child)::after {content: \"\\00b7\"; padding: 0 .5ex}\n",
              "</style>\n",
              "<ol class=list-inline><li>1</li><li>1.5</li><li>2</li><li>2.5</li><li>3</li><li>3.5</li><li>4</li><li>4.5</li><li>5</li><li>5.5</li><li>6</li><li>6.5</li><li>7</li><li>7.5</li><li>8</li><li>8.5</li><li>9</li><li>9.5</li><li>10</li></ol>\n"
            ],
            "text/markdown": "1. 1\n2. 1.5\n3. 2\n4. 2.5\n5. 3\n6. 3.5\n7. 4\n8. 4.5\n9. 5\n10. 5.5\n11. 6\n12. 6.5\n13. 7\n14. 7.5\n15. 8\n16. 8.5\n17. 9\n18. 9.5\n19. 10\n\n\n",
            "text/latex": "\\begin{enumerate*}\n\\item 1\n\\item 1.5\n\\item 2\n\\item 2.5\n\\item 3\n\\item 3.5\n\\item 4\n\\item 4.5\n\\item 5\n\\item 5.5\n\\item 6\n\\item 6.5\n\\item 7\n\\item 7.5\n\\item 8\n\\item 8.5\n\\item 9\n\\item 9.5\n\\item 10\n\\end{enumerate*}\n",
            "text/plain": [
              " [1]  1.0  1.5  2.0  2.5  3.0  3.5  4.0  4.5  5.0  5.5  6.0  6.5  7.0  7.5  8.0\n",
              "[16]  8.5  9.0  9.5 10.0"
            ]
          },
          "metadata": {}
        },
        {
          "output_type": "display_data",
          "data": {
            "text/html": [
              "<style>\n",
              ".list-inline {list-style: none; margin:0; padding: 0}\n",
              ".list-inline>li {display: inline-block}\n",
              ".list-inline>li:not(:last-child)::after {content: \"\\00b7\"; padding: 0 .5ex}\n",
              "</style>\n",
              "<ol class=list-inline><li>1</li><li>2</li><li>3</li><li>4</li><li>5</li><li>6</li><li>7</li><li>8</li><li>9</li><li>10</li></ol>\n"
            ],
            "text/markdown": "1. 1\n2. 2\n3. 3\n4. 4\n5. 5\n6. 6\n7. 7\n8. 8\n9. 9\n10. 10\n\n\n",
            "text/latex": "\\begin{enumerate*}\n\\item 1\n\\item 2\n\\item 3\n\\item 4\n\\item 5\n\\item 6\n\\item 7\n\\item 8\n\\item 9\n\\item 10\n\\end{enumerate*}\n",
            "text/plain": [
              " [1]  1  2  3  4  5  6  7  8  9 10"
            ]
          },
          "metadata": {}
        },
        {
          "output_type": "display_data",
          "data": {
            "text/html": [
              "<style>\n",
              ".list-inline {list-style: none; margin:0; padding: 0}\n",
              ".list-inline>li {display: inline-block}\n",
              ".list-inline>li:not(:last-child)::after {content: \"\\00b7\"; padding: 0 .5ex}\n",
              "</style>\n",
              "<ol class=list-inline><li>'fulano'</li><li>'Siclano'</li><li>'Beltrano'</li></ol>\n"
            ],
            "text/markdown": "1. 'fulano'\n2. 'Siclano'\n3. 'Beltrano'\n\n\n",
            "text/latex": "\\begin{enumerate*}\n\\item 'fulano'\n\\item 'Siclano'\n\\item 'Beltrano'\n\\end{enumerate*}\n",
            "text/plain": [
              "[1] \"fulano\"   \"Siclano\"  \"Beltrano\""
            ]
          },
          "metadata": {}
        }
      ]
    },
    {
      "cell_type": "code",
      "source": [
        "y * 2"
      ],
      "metadata": {
        "colab": {
          "base_uri": "https://localhost:8080/",
          "height": 34
        },
        "id": "SRVoQs9gVt-J",
        "outputId": "f38e9773-0956-41a1-f865-a11336f9216e"
      },
      "execution_count": 20,
      "outputs": [
        {
          "output_type": "display_data",
          "data": {
            "text/html": [
              "<style>\n",
              ".list-inline {list-style: none; margin:0; padding: 0}\n",
              ".list-inline>li {display: inline-block}\n",
              ".list-inline>li:not(:last-child)::after {content: \"\\00b7\"; padding: 0 .5ex}\n",
              "</style>\n",
              "<ol class=list-inline><li>2</li><li>3</li><li>4</li><li>5</li><li>6</li><li>7</li><li>8</li><li>9</li><li>10</li><li>11</li><li>12</li><li>13</li><li>14</li><li>15</li><li>16</li><li>17</li><li>18</li><li>19</li><li>20</li></ol>\n"
            ],
            "text/markdown": "1. 2\n2. 3\n3. 4\n4. 5\n5. 6\n6. 7\n7. 8\n8. 9\n9. 10\n10. 11\n11. 12\n12. 13\n13. 14\n14. 15\n15. 16\n16. 17\n17. 18\n18. 19\n19. 20\n\n\n",
            "text/latex": "\\begin{enumerate*}\n\\item 2\n\\item 3\n\\item 4\n\\item 5\n\\item 6\n\\item 7\n\\item 8\n\\item 9\n\\item 10\n\\item 11\n\\item 12\n\\item 13\n\\item 14\n\\item 15\n\\item 16\n\\item 17\n\\item 18\n\\item 19\n\\item 20\n\\end{enumerate*}\n",
            "text/plain": [
              " [1]  2  3  4  5  6  7  8  9 10 11 12 13 14 15 16 17 18 19 20"
            ]
          },
          "metadata": {}
        }
      ]
    },
    {
      "cell_type": "code",
      "source": [
        "x = c(1,2,3,NA,5,6,1/0,7,8,9,10)\n",
        "x"
      ],
      "metadata": {
        "colab": {
          "base_uri": "https://localhost:8080/",
          "height": 34
        },
        "id": "358pRm20V67i",
        "outputId": "7a5935d2-99bd-40a4-b4fa-f62f5a69e274"
      },
      "execution_count": 21,
      "outputs": [
        {
          "output_type": "display_data",
          "data": {
            "text/html": [
              "<style>\n",
              ".list-inline {list-style: none; margin:0; padding: 0}\n",
              ".list-inline>li {display: inline-block}\n",
              ".list-inline>li:not(:last-child)::after {content: \"\\00b7\"; padding: 0 .5ex}\n",
              "</style>\n",
              "<ol class=list-inline><li>1</li><li>2</li><li>3</li><li>&lt;NA&gt;</li><li>5</li><li>6</li><li>Inf</li><li>7</li><li>8</li><li>9</li><li>10</li></ol>\n"
            ],
            "text/markdown": "1. 1\n2. 2\n3. 3\n4. &lt;NA&gt;\n5. 5\n6. 6\n7. Inf\n8. 7\n9. 8\n10. 9\n11. 10\n\n\n",
            "text/latex": "\\begin{enumerate*}\n\\item 1\n\\item 2\n\\item 3\n\\item <NA>\n\\item 5\n\\item 6\n\\item Inf\n\\item 7\n\\item 8\n\\item 9\n\\item 10\n\\end{enumerate*}\n",
            "text/plain": [
              " [1]   1   2   3  NA   5   6 Inf   7   8   9  10"
            ]
          },
          "metadata": {}
        }
      ]
    },
    {
      "cell_type": "code",
      "source": [
        "# Basic statistics\n",
        "\n",
        "#mean\n",
        "x = c(1:3)\n",
        "mean(x)\n",
        "min(x)\n",
        "max(x)\n",
        "sum(x)"
      ],
      "metadata": {
        "colab": {
          "base_uri": "https://localhost:8080/",
          "height": 86
        },
        "id": "JOnLMcPQWNVh",
        "outputId": "9ecc1564-d5d6-4d4d-8129-72ec4dfea1b1"
      },
      "execution_count": 22,
      "outputs": [
        {
          "output_type": "display_data",
          "data": {
            "text/html": [
              "2"
            ],
            "text/markdown": "2",
            "text/latex": "2",
            "text/plain": [
              "[1] 2"
            ]
          },
          "metadata": {}
        },
        {
          "output_type": "display_data",
          "data": {
            "text/html": [
              "1"
            ],
            "text/markdown": "1",
            "text/latex": "1",
            "text/plain": [
              "[1] 1"
            ]
          },
          "metadata": {}
        },
        {
          "output_type": "display_data",
          "data": {
            "text/html": [
              "3"
            ],
            "text/markdown": "3",
            "text/latex": "3",
            "text/plain": [
              "[1] 3"
            ]
          },
          "metadata": {}
        },
        {
          "output_type": "display_data",
          "data": {
            "text/html": [
              "6"
            ],
            "text/markdown": "6",
            "text/latex": "6",
            "text/plain": [
              "[1] 6"
            ]
          },
          "metadata": {}
        }
      ]
    },
    {
      "cell_type": "code",
      "source": [
        "x = c(1,NA,3)\n",
        "mean(x, na.rm = T) #Remover os valores nulos para poder realizar a media"
      ],
      "metadata": {
        "colab": {
          "base_uri": "https://localhost:8080/",
          "height": 34
        },
        "id": "B4Xwy8lhWYQy",
        "outputId": "8d4e944b-ec48-4c23-8b41-323fa84987e1"
      },
      "execution_count": 23,
      "outputs": [
        {
          "output_type": "display_data",
          "data": {
            "text/html": [
              "2"
            ],
            "text/markdown": "2",
            "text/latex": "2",
            "text/plain": [
              "[1] 2"
            ]
          },
          "metadata": {}
        }
      ]
    },
    {
      "cell_type": "code",
      "source": [
        "x = c(1:10)\n",
        "hist(x)\n",
        "barplot(x)"
      ],
      "metadata": {
        "colab": {
          "base_uri": "https://localhost:8080/",
          "height": 857
        },
        "id": "ZBIsR_ebWh-U",
        "outputId": "96b91acb-bf3f-43ef-a5b8-2ca276ba8f51"
      },
      "execution_count": 24,
      "outputs": [
        {
          "output_type": "display_data",
          "data": {
            "text/plain": [
              "Plot with title “Histogram of x”"
            ],
            "image/png": "[encoded data removed]"
          },
          "metadata": {
            "image/png": {
              "width": 420,
              "height": 420
            }
          }
        },
        {
          "output_type": "display_data",
          "data": {
            "text/plain": [
              "plot without title"
            ],
            "image/png": "[encoded data removed]"
          },
          "metadata": {
            "image/png": {
              "width": 420,
              "height": 420
            }
          }
        }
      ]
    },
    {
      "cell_type": "code",
      "source": [
        "mtcars"
      ],
      "metadata": {
        "colab": {
          "base_uri": "https://localhost:8080/",
          "height": 1000
        },
        "id": "spFvubJEWqYP",
        "outputId": "82f2fce1-1a13-4dbf-8035-0c1782cd9ab0"
      },
      "execution_count": 25,
      "outputs": [
        {
          "output_type": "display_data",
          "data": {
            "text/html": [
              "<table class=\"dataframe\">\n",
              "<caption>A data.frame: 32 × 11</caption>\n",
              "<thead>\n",
              "\t<tr><th></th><th scope=col>mpg</th><th scope=col>cyl</th><th scope=col>disp</th><th scope=col>hp</th><th scope=col>drat</th><th scope=col>wt</th><th scope=col>qsec</th><th scope=col>vs</th><th scope=col>am</th><th scope=col>gear</th><th scope=col>carb</th></tr>\n",
              "\t<tr><th></th><th scope=col>&lt;dbl&gt;</th><th scope=col>&lt;dbl&gt;</th><th scope=col>&lt;dbl&gt;</th><th scope=col>&lt;dbl&gt;</th><th scope=col>&lt;dbl&gt;</th><th scope=col>&lt;dbl&gt;</th><th scope=col>&lt;dbl&gt;</th><th scope=col>&lt;dbl&gt;</th><th scope=col>&lt;dbl&gt;</th><th scope=col>&lt;dbl&gt;</th><th scope=col>&lt;dbl&gt;</th></tr>\n",
              "</thead>\n",
              "<tbody>\n",
              "\t<tr><th scope=row>Mazda RX4</th><td>21.0</td><td>6</td><td>160.0</td><td>110</td><td>3.90</td><td>2.620</td><td>16.46</td><td>0</td><td>1</td><td>4</td><td>4</td></tr>\n",
              "\t<tr><th scope=row>Mazda RX4 Wag</th><td>21.0</td><td>6</td><td>160.0</td><td>110</td><td>3.90</td><td>2.875</td><td>17.02</td><td>0</td><td>1</td><td>4</td><td>4</td></tr>\n",
              "\t<tr><th scope=row>Datsun 710</th><td>22.8</td><td>4</td><td>108.0</td><td> 93</td><td>3.85</td><td>2.320</td><td>18.61</td><td>1</td><td>1</td><td>4</td><td>1</td></tr>\n",
              "\t<tr><th scope=row>Hornet 4 Drive</th><td>21.4</td><td>6</td><td>258.0</td><td>110</td><td>3.08</td><td>3.215</td><td>19.44</td><td>1</td><td>0</td><td>3</td><td>1</td></tr>\n",
              "\t<tr><th scope=row>Hornet Sportabout</th><td>18.7</td><td>8</td><td>360.0</td><td>175</td><td>3.15</td><td>3.440</td><td>17.02</td><td>0</td><td>0</td><td>3</td><td>2</td></tr>\n",
              "\t<tr><th scope=row>Valiant</th><td>18.1</td><td>6</td><td>225.0</td><td>105</td><td>2.76</td><td>3.460</td><td>20.22</td><td>1</td><td>0</td><td>3</td><td>1</td></tr>\n",
              "\t<tr><th scope=row>Duster 360</th><td>14.3</td><td>8</td><td>360.0</td><td>245</td><td>3.21</td><td>3.570</td><td>15.84</td><td>0</td><td>0</td><td>3</td><td>4</td></tr>\n",
              "\t<tr><th scope=row>Merc 240D</th><td>24.4</td><td>4</td><td>146.7</td><td> 62</td><td>3.69</td><td>3.190</td><td>20.00</td><td>1</td><td>0</td><td>4</td><td>2</td></tr>\n",
              "\t<tr><th scope=row>Merc 230</th><td>22.8</td><td>4</td><td>140.8</td><td> 95</td><td>3.92</td><td>3.150</td><td>22.90</td><td>1</td><td>0</td><td>4</td><td>2</td></tr>\n",
              "\t<tr><th scope=row>Merc 280</th><td>19.2</td><td>6</td><td>167.6</td><td>123</td><td>3.92</td><td>3.440</td><td>18.30</td><td>1</td><td>0</td><td>4</td><td>4</td></tr>\n",
              "\t<tr><th scope=row>Merc 280C</th><td>17.8</td><td>6</td><td>167.6</td><td>123</td><td>3.92</td><td>3.440</td><td>18.90</td><td>1</td><td>0</td><td>4</td><td>4</td></tr>\n",
              "\t<tr><th scope=row>Merc 450SE</th><td>16.4</td><td>8</td><td>275.8</td><td>180</td><td>3.07</td><td>4.070</td><td>17.40</td><td>0</td><td>0</td><td>3</td><td>3</td></tr>\n",
              "\t<tr><th scope=row>Merc 450SL</th><td>17.3</td><td>8</td><td>275.8</td><td>180</td><td>3.07</td><td>3.730</td><td>17.60</td><td>0</td><td>0</td><td>3</td><td>3</td></tr>\n",
              "\t<tr><th scope=row>Merc 450SLC</th><td>15.2</td><td>8</td><td>275.8</td><td>180</td><td>3.07</td><td>3.780</td><td>18.00</td><td>0</td><td>0</td><td>3</td><td>3</td></tr>\n",
              "\t<tr><th scope=row>Cadillac Fleetwood</th><td>10.4</td><td>8</td><td>472.0</td><td>205</td><td>2.93</td><td>5.250</td><td>17.98</td><td>0</td><td>0</td><td>3</td><td>4</td></tr>\n",
              "\t<tr><th scope=row>Lincoln Continental</th><td>10.4</td><td>8</td><td>460.0</td><td>215</td><td>3.00</td><td>5.424</td><td>17.82</td><td>0</td><td>0</td><td>3</td><td>4</td></tr>\n",
              "\t<tr><th scope=row>Chrysler Imperial</th><td>14.7</td><td>8</td><td>440.0</td><td>230</td><td>3.23</td><td>5.345</td><td>17.42</td><td>0</td><td>0</td><td>3</td><td>4</td></tr>\n",
              "\t<tr><th scope=row>Fiat 128</th><td>32.4</td><td>4</td><td> 78.7</td><td> 66</td><td>4.08</td><td>2.200</td><td>19.47</td><td>1</td><td>1</td><td>4</td><td>1</td></tr>\n",
              "\t<tr><th scope=row>Honda Civic</th><td>30.4</td><td>4</td><td> 75.7</td><td> 52</td><td>4.93</td><td>1.615</td><td>18.52</td><td>1</td><td>1</td><td>4</td><td>2</td></tr>\n",
              "\t<tr><th scope=row>Toyota Corolla</th><td>33.9</td><td>4</td><td> 71.1</td><td> 65</td><td>4.22</td><td>1.835</td><td>19.90</td><td>1</td><td>1</td><td>4</td><td>1</td></tr>\n",
              "\t<tr><th scope=row>Toyota Corona</th><td>21.5</td><td>4</td><td>120.1</td><td> 97</td><td>3.70</td><td>2.465</td><td>20.01</td><td>1</td><td>0</td><td>3</td><td>1</td></tr>\n",
              "\t<tr><th scope=row>Dodge Challenger</th><td>15.5</td><td>8</td><td>318.0</td><td>150</td><td>2.76</td><td>3.520</td><td>16.87</td><td>0</td><td>0</td><td>3</td><td>2</td></tr>\n",
              "\t<tr><th scope=row>AMC Javelin</th><td>15.2</td><td>8</td><td>304.0</td><td>150</td><td>3.15</td><td>3.435</td><td>17.30</td><td>0</td><td>0</td><td>3</td><td>2</td></tr>\n",
              "\t<tr><th scope=row>Camaro Z28</th><td>13.3</td><td>8</td><td>350.0</td><td>245</td><td>3.73</td><td>3.840</td><td>15.41</td><td>0</td><td>0</td><td>3</td><td>4</td></tr>\n",
              "\t<tr><th scope=row>Pontiac Firebird</th><td>19.2</td><td>8</td><td>400.0</td><td>175</td><td>3.08</td><td>3.845</td><td>17.05</td><td>0</td><td>0</td><td>3</td><td>2</td></tr>\n",
              "\t<tr><th scope=row>Fiat X1-9</th><td>27.3</td><td>4</td><td> 79.0</td><td> 66</td><td>4.08</td><td>1.935</td><td>18.90</td><td>1</td><td>1</td><td>4</td><td>1</td></tr>\n",
              "\t<tr><th scope=row>Porsche 914-2</th><td>26.0</td><td>4</td><td>120.3</td><td> 91</td><td>4.43</td><td>2.140</td><td>16.70</td><td>0</td><td>1</td><td>5</td><td>2</td></tr>\n",
              "\t<tr><th scope=row>Lotus Europa</th><td>30.4</td><td>4</td><td> 95.1</td><td>113</td><td>3.77</td><td>1.513</td><td>16.90</td><td>1</td><td>1</td><td>5</td><td>2</td></tr>\n",
              "\t<tr><th scope=row>Ford Pantera L</th><td>15.8</td><td>8</td><td>351.0</td><td>264</td><td>4.22</td><td>3.170</td><td>14.50</td><td>0</td><td>1</td><td>5</td><td>4</td></tr>\n",
              "\t<tr><th scope=row>Ferrari Dino</th><td>19.7</td><td>6</td><td>145.0</td><td>175</td><td>3.62</td><td>2.770</td><td>15.50</td><td>0</td><td>1</td><td>5</td><td>6</td></tr>\n",
              "\t<tr><th scope=row>Maserati Bora</th><td>15.0</td><td>8</td><td>301.0</td><td>335</td><td>3.54</td><td>3.570</td><td>14.60</td><td>0</td><td>1</td><td>5</td><td>8</td></tr>\n",
              "\t<tr><th scope=row>Volvo 142E</th><td>21.4</td><td>4</td><td>121.0</td><td>109</td><td>4.11</td><td>2.780</td><td>18.60</td><td>1</td><td>1</td><td>4</td><td>2</td></tr>\n",
              "</tbody>\n",
              "</table>\n"
            ],
            "text/markdown": "\nA data.frame: 32 × 11\n\n| <!--/--> | mpg &lt;dbl&gt; | cyl &lt;dbl&gt; | disp &lt;dbl&gt; | hp &lt;dbl&gt; | drat &lt;dbl&gt; | wt &lt;dbl&gt; | qsec &lt;dbl&gt; | vs &lt;dbl&gt; | am &lt;dbl&gt; | gear &lt;dbl&gt; | carb &lt;dbl&gt; |\n|---|---|---|---|---|---|---|---|---|---|---|---|\n| Mazda RX4 | 21.0 | 6 | 160.0 | 110 | 3.90 | 2.620 | 16.46 | 0 | 1 | 4 | 4 |\n| Mazda RX4 Wag | 21.0 | 6 | 160.0 | 110 | 3.90 | 2.875 | 17.02 | 0 | 1 | 4 | 4 |\n| Datsun 710 | 22.8 | 4 | 108.0 |  93 | 3.85 | 2.320 | 18.61 | 1 | 1 | 4 | 1 |\n| Hornet 4 Drive | 21.4 | 6 | 258.0 | 110 | 3.08 | 3.215 | 19.44 | 1 | 0 | 3 | 1 |\n| Hornet Sportabout | 18.7 | 8 | 360.0 | 175 | 3.15 | 3.440 | 17.02 | 0 | 0 | 3 | 2 |\n| Valiant | 18.1 | 6 | 225.0 | 105 | 2.76 | 3.460 | 20.22 | 1 | 0 | 3 | 1 |\n| Duster 360 | 14.3 | 8 | 360.0 | 245 | 3.21 | 3.570 | 15.84 | 0 | 0 | 3 | 4 |\n| Merc 240D | 24.4 | 4 | 146.7 |  62 | 3.69 | 3.190 | 20.00 | 1 | 0 | 4 | 2 |\n| Merc 230 | 22.8 | 4 | 140.8 |  95 | 3.92 | 3.150 | 22.90 | 1 | 0 | 4 | 2 |\n| Merc 280 | 19.2 | 6 | 167.6 | 123 | 3.92 | 3.440 | 18.30 | 1 | 0 | 4 | 4 |\n| Merc 280C | 17.8 | 6 | 167.6 | 123 | 3.92 | 3.440 | 18.90 | 1 | 0 | 4 | 4 |\n| Merc 450SE | 16.4 | 8 | 275.8 | 180 | 3.07 | 4.070 | 17.40 | 0 | 0 | 3 | 3 |\n| Merc 450SL | 17.3 | 8 | 275.8 | 180 | 3.07 | 3.730 | 17.60 | 0 | 0 | 3 | 3 |\n| Merc 450SLC | 15.2 | 8 | 275.8 | 180 | 3.07 | 3.780 | 18.00 | 0 | 0 | 3 | 3 |\n| Cadillac Fleetwood | 10.4 | 8 | 472.0 | 205 | 2.93 | 5.250 | 17.98 | 0 | 0 | 3 | 4 |\n| Lincoln Continental | 10.4 | 8 | 460.0 | 215 | 3.00 | 5.424 | 17.82 | 0 | 0 | 3 | 4 |\n| Chrysler Imperial | 14.7 | 8 | 440.0 | 230 | 3.23 | 5.345 | 17.42 | 0 | 0 | 3 | 4 |\n| Fiat 128 | 32.4 | 4 |  78.7 |  66 | 4.08 | 2.200 | 19.47 | 1 | 1 | 4 | 1 |\n| Honda Civic | 30.4 | 4 |  75.7 |  52 | 4.93 | 1.615 | 18.52 | 1 | 1 | 4 | 2 |\n| Toyota Corolla | 33.9 | 4 |  71.1 |  65 | 4.22 | 1.835 | 19.90 | 1 | 1 | 4 | 1 |\n| Toyota Corona | 21.5 | 4 | 120.1 |  97 | 3.70 | 2.465 | 20.01 | 1 | 0 | 3 | 1 |\n| Dodge Challenger | 15.5 | 8 | 318.0 | 150 | 2.76 | 3.520 | 16.87 | 0 | 0 | 3 | 2 |\n| AMC Javelin | 15.2 | 8 | 304.0 | 150 | 3.15 | 3.435 | 17.30 | 0 | 0 | 3 | 2 |\n| Camaro Z28 | 13.3 | 8 | 350.0 | 245 | 3.73 | 3.840 | 15.41 | 0 | 0 | 3 | 4 |\n| Pontiac Firebird | 19.2 | 8 | 400.0 | 175 | 3.08 | 3.845 | 17.05 | 0 | 0 | 3 | 2 |\n| Fiat X1-9 | 27.3 | 4 |  79.0 |  66 | 4.08 | 1.935 | 18.90 | 1 | 1 | 4 | 1 |\n| Porsche 914-2 | 26.0 | 4 | 120.3 |  91 | 4.43 | 2.140 | 16.70 | 0 | 1 | 5 | 2 |\n| Lotus Europa | 30.4 | 4 |  95.1 | 113 | 3.77 | 1.513 | 16.90 | 1 | 1 | 5 | 2 |\n| Ford Pantera L | 15.8 | 8 | 351.0 | 264 | 4.22 | 3.170 | 14.50 | 0 | 1 | 5 | 4 |\n| Ferrari Dino | 19.7 | 6 | 145.0 | 175 | 3.62 | 2.770 | 15.50 | 0 | 1 | 5 | 6 |\n| Maserati Bora | 15.0 | 8 | 301.0 | 335 | 3.54 | 3.570 | 14.60 | 0 | 1 | 5 | 8 |\n| Volvo 142E | 21.4 | 4 | 121.0 | 109 | 4.11 | 2.780 | 18.60 | 1 | 1 | 4 | 2 |\n\n",
            "text/latex": "A data.frame: 32 × 11\n\\begin{tabular}{r|lllllllllll}\n  & mpg & cyl & disp & hp & drat & wt & qsec & vs & am & gear & carb\\\\\n  & <dbl> & <dbl> & <dbl> & <dbl> & <dbl> & <dbl> & <dbl> & <dbl> & <dbl> & <dbl> & <dbl>\\\\\n\\hline\n\tMazda RX4 & 21.0 & 6 & 160.0 & 110 & 3.90 & 2.620 & 16.46 & 0 & 1 & 4 & 4\\\\\n\tMazda RX4 Wag & 21.0 & 6 & 160.0 & 110 & 3.90 & 2.875 & 17.02 & 0 & 1 & 4 & 4\\\\\n\tDatsun 710 & 22.8 & 4 & 108.0 &  93 & 3.85 & 2.320 & 18.61 & 1 & 1 & 4 & 1\\\\\n\tHornet 4 Drive & 21.4 & 6 & 258.0 & 110 & 3.08 & 3.215 & 19.44 & 1 & 0 & 3 & 1\\\\\n\tHornet Sportabout & 18.7 & 8 & 360.0 & 175 & 3.15 & 3.440 & 17.02 & 0 & 0 & 3 & 2\\\\\n\tValiant & 18.1 & 6 & 225.0 & 105 & 2.76 & 3.460 & 20.22 & 1 & 0 & 3 & 1\\\\\n\tDuster 360 & 14.3 & 8 & 360.0 & 245 & 3.21 & 3.570 & 15.84 & 0 & 0 & 3 & 4\\\\\n\tMerc 240D & 24.4 & 4 & 146.7 &  62 & 3.69 & 3.190 & 20.00 & 1 & 0 & 4 & 2\\\\\n\tMerc 230 & 22.8 & 4 & 140.8 &  95 & 3.92 & 3.150 & 22.90 & 1 & 0 & 4 & 2\\\\\n\tMerc 280 & 19.2 & 6 & 167.6 & 123 & 3.92 & 3.440 & 18.30 & 1 & 0 & 4 & 4\\\\\n\tMerc 280C & 17.8 & 6 & 167.6 & 123 & 3.92 & 3.440 & 18.90 & 1 & 0 & 4 & 4\\\\\n\tMerc 450SE & 16.4 & 8 & 275.8 & 180 & 3.07 & 4.070 & 17.40 & 0 & 0 & 3 & 3\\\\\n\tMerc 450SL & 17.3 & 8 & 275.8 & 180 & 3.07 & 3.730 & 17.60 & 0 & 0 & 3 & 3\\\\\n\tMerc 450SLC & 15.2 & 8 & 275.8 & 180 & 3.07 & 3.780 & 18.00 & 0 & 0 & 3 & 3\\\\\n\tCadillac Fleetwood & 10.4 & 8 & 472.0 & 205 & 2.93 & 5.250 & 17.98 & 0 & 0 & 3 & 4\\\\\n\tLincoln Continental & 10.4 & 8 & 460.0 & 215 & 3.00 & 5.424 & 17.82 & 0 & 0 & 3 & 4\\\\\n\tChrysler Imperial & 14.7 & 8 & 440.0 & 230 & 3.23 & 5.345 & 17.42 & 0 & 0 & 3 & 4\\\\\n\tFiat 128 & 32.4 & 4 &  78.7 &  66 & 4.08 & 2.200 & 19.47 & 1 & 1 & 4 & 1\\\\\n\tHonda Civic & 30.4 & 4 &  75.7 &  52 & 4.93 & 1.615 & 18.52 & 1 & 1 & 4 & 2\\\\\n\tToyota Corolla & 33.9 & 4 &  71.1 &  65 & 4.22 & 1.835 & 19.90 & 1 & 1 & 4 & 1\\\\\n\tToyota Corona & 21.5 & 4 & 120.1 &  97 & 3.70 & 2.465 & 20.01 & 1 & 0 & 3 & 1\\\\\n\tDodge Challenger & 15.5 & 8 & 318.0 & 150 & 2.76 & 3.520 & 16.87 & 0 & 0 & 3 & 2\\\\\n\tAMC Javelin & 15.2 & 8 & 304.0 & 150 & 3.15 & 3.435 & 17.30 & 0 & 0 & 3 & 2\\\\\n\tCamaro Z28 & 13.3 & 8 & 350.0 & 245 & 3.73 & 3.840 & 15.41 & 0 & 0 & 3 & 4\\\\\n\tPontiac Firebird & 19.2 & 8 & 400.0 & 175 & 3.08 & 3.845 & 17.05 & 0 & 0 & 3 & 2\\\\\n\tFiat X1-9 & 27.3 & 4 &  79.0 &  66 & 4.08 & 1.935 & 18.90 & 1 & 1 & 4 & 1\\\\\n\tPorsche 914-2 & 26.0 & 4 & 120.3 &  91 & 4.43 & 2.140 & 16.70 & 0 & 1 & 5 & 2\\\\\n\tLotus Europa & 30.4 & 4 &  95.1 & 113 & 3.77 & 1.513 & 16.90 & 1 & 1 & 5 & 2\\\\\n\tFord Pantera L & 15.8 & 8 & 351.0 & 264 & 4.22 & 3.170 & 14.50 & 0 & 1 & 5 & 4\\\\\n\tFerrari Dino & 19.7 & 6 & 145.0 & 175 & 3.62 & 2.770 & 15.50 & 0 & 1 & 5 & 6\\\\\n\tMaserati Bora & 15.0 & 8 & 301.0 & 335 & 3.54 & 3.570 & 14.60 & 0 & 1 & 5 & 8\\\\\n\tVolvo 142E & 21.4 & 4 & 121.0 & 109 & 4.11 & 2.780 & 18.60 & 1 & 1 & 4 & 2\\\\\n\\end{tabular}\n",
            "text/plain": [
              "                    mpg  cyl disp  hp  drat wt    qsec  vs am gear carb\n",
              "Mazda RX4           21.0 6   160.0 110 3.90 2.620 16.46 0  1  4    4   \n",
              "Mazda RX4 Wag       21.0 6   160.0 110 3.90 2.875 17.02 0  1  4    4   \n",
              "Datsun 710          22.8 4   108.0  93 3.85 2.320 18.61 1  1  4    1   \n",
              "Hornet 4 Drive      21.4 6   258.0 110 3.08 3.215 19.44 1  0  3    1   \n",
              "Hornet Sportabout   18.7 8   360.0 175 3.15 3.440 17.02 0  0  3    2   \n",
              "Valiant             18.1 6   225.0 105 2.76 3.460 20.22 1  0  3    1   \n",
              "Duster 360          14.3 8   360.0 245 3.21 3.570 15.84 0  0  3    4   \n",
              "Merc 240D           24.4 4   146.7  62 3.69 3.190 20.00 1  0  4    2   \n",
              "Merc 230            22.8 4   140.8  95 3.92 3.150 22.90 1  0  4    2   \n",
              "Merc 280            19.2 6   167.6 123 3.92 3.440 18.30 1  0  4    4   \n",
              "Merc 280C           17.8 6   167.6 123 3.92 3.440 18.90 1  0  4    4   \n",
              "Merc 450SE          16.4 8   275.8 180 3.07 4.070 17.40 0  0  3    3   \n",
              "Merc 450SL          17.3 8   275.8 180 3.07 3.730 17.60 0  0  3    3   \n",
              "Merc 450SLC         15.2 8   275.8 180 3.07 3.780 18.00 0  0  3    3   \n",
              "Cadillac Fleetwood  10.4 8   472.0 205 2.93 5.250 17.98 0  0  3    4   \n",
              "Lincoln Continental 10.4 8   460.0 215 3.00 5.424 17.82 0  0  3    4   \n",
              "Chrysler Imperial   14.7 8   440.0 230 3.23 5.345 17.42 0  0  3    4   \n",
              "Fiat 128            32.4 4    78.7  66 4.08 2.200 19.47 1  1  4    1   \n",
              "Honda Civic         30.4 4    75.7  52 4.93 1.615 18.52 1  1  4    2   \n",
              "Toyota Corolla      33.9 4    71.1  65 4.22 1.835 19.90 1  1  4    1   \n",
              "Toyota Corona       21.5 4   120.1  97 3.70 2.465 20.01 1  0  3    1   \n",
              "Dodge Challenger    15.5 8   318.0 150 2.76 3.520 16.87 0  0  3    2   \n",
              "AMC Javelin         15.2 8   304.0 150 3.15 3.435 17.30 0  0  3    2   \n",
              "Camaro Z28          13.3 8   350.0 245 3.73 3.840 15.41 0  0  3    4   \n",
              "Pontiac Firebird    19.2 8   400.0 175 3.08 3.845 17.05 0  0  3    2   \n",
              "Fiat X1-9           27.3 4    79.0  66 4.08 1.935 18.90 1  1  4    1   \n",
              "Porsche 914-2       26.0 4   120.3  91 4.43 2.140 16.70 0  1  5    2   \n",
              "Lotus Europa        30.4 4    95.1 113 3.77 1.513 16.90 1  1  5    2   \n",
              "Ford Pantera L      15.8 8   351.0 264 4.22 3.170 14.50 0  1  5    4   \n",
              "Ferrari Dino        19.7 6   145.0 175 3.62 2.770 15.50 0  1  5    6   \n",
              "Maserati Bora       15.0 8   301.0 335 3.54 3.570 14.60 0  1  5    8   \n",
              "Volvo 142E          21.4 4   121.0 109 4.11 2.780 18.60 1  1  4    2   "
            ]
          },
          "metadata": {}
        }
      ]
    },
    {
      "cell_type": "code",
      "source": [
        "head(mtcars)"
      ],
      "metadata": {
        "colab": {
          "base_uri": "https://localhost:8080/",
          "height": 286
        },
        "id": "8ZzxB9nRW0Vc",
        "outputId": "3e96ca0b-3f65-4a9a-9c6a-2f9369879ff3"
      },
      "execution_count": 27,
      "outputs": [
        {
          "output_type": "display_data",
          "data": {
            "text/html": [
              "<table class=\"dataframe\">\n",
              "<caption>A data.frame: 6 × 11</caption>\n",
              "<thead>\n",
              "\t<tr><th></th><th scope=col>mpg</th><th scope=col>cyl</th><th scope=col>disp</th><th scope=col>hp</th><th scope=col>drat</th><th scope=col>wt</th><th scope=col>qsec</th><th scope=col>vs</th><th scope=col>am</th><th scope=col>gear</th><th scope=col>carb</th></tr>\n",
              "\t<tr><th></th><th scope=col>&lt;dbl&gt;</th><th scope=col>&lt;dbl&gt;</th><th scope=col>&lt;dbl&gt;</th><th scope=col>&lt;dbl&gt;</th><th scope=col>&lt;dbl&gt;</th><th scope=col>&lt;dbl&gt;</th><th scope=col>&lt;dbl&gt;</th><th scope=col>&lt;dbl&gt;</th><th scope=col>&lt;dbl&gt;</th><th scope=col>&lt;dbl&gt;</th><th scope=col>&lt;dbl&gt;</th></tr>\n",
              "</thead>\n",
              "<tbody>\n",
              "\t<tr><th scope=row>Mazda RX4</th><td>21.0</td><td>6</td><td>160</td><td>110</td><td>3.90</td><td>2.620</td><td>16.46</td><td>0</td><td>1</td><td>4</td><td>4</td></tr>\n",
              "\t<tr><th scope=row>Mazda RX4 Wag</th><td>21.0</td><td>6</td><td>160</td><td>110</td><td>3.90</td><td>2.875</td><td>17.02</td><td>0</td><td>1</td><td>4</td><td>4</td></tr>\n",
              "\t<tr><th scope=row>Datsun 710</th><td>22.8</td><td>4</td><td>108</td><td> 93</td><td>3.85</td><td>2.320</td><td>18.61</td><td>1</td><td>1</td><td>4</td><td>1</td></tr>\n",
              "\t<tr><th scope=row>Hornet 4 Drive</th><td>21.4</td><td>6</td><td>258</td><td>110</td><td>3.08</td><td>3.215</td><td>19.44</td><td>1</td><td>0</td><td>3</td><td>1</td></tr>\n",
              "\t<tr><th scope=row>Hornet Sportabout</th><td>18.7</td><td>8</td><td>360</td><td>175</td><td>3.15</td><td>3.440</td><td>17.02</td><td>0</td><td>0</td><td>3</td><td>2</td></tr>\n",
              "\t<tr><th scope=row>Valiant</th><td>18.1</td><td>6</td><td>225</td><td>105</td><td>2.76</td><td>3.460</td><td>20.22</td><td>1</td><td>0</td><td>3</td><td>1</td></tr>\n",
              "</tbody>\n",
              "</table>\n"
            ],
            "text/markdown": "\nA data.frame: 6 × 11\n\n| <!--/--> | mpg &lt;dbl&gt; | cyl &lt;dbl&gt; | disp &lt;dbl&gt; | hp &lt;dbl&gt; | drat &lt;dbl&gt; | wt &lt;dbl&gt; | qsec &lt;dbl&gt; | vs &lt;dbl&gt; | am &lt;dbl&gt; | gear &lt;dbl&gt; | carb &lt;dbl&gt; |\n|---|---|---|---|---|---|---|---|---|---|---|---|\n| Mazda RX4 | 21.0 | 6 | 160 | 110 | 3.90 | 2.620 | 16.46 | 0 | 1 | 4 | 4 |\n| Mazda RX4 Wag | 21.0 | 6 | 160 | 110 | 3.90 | 2.875 | 17.02 | 0 | 1 | 4 | 4 |\n| Datsun 710 | 22.8 | 4 | 108 |  93 | 3.85 | 2.320 | 18.61 | 1 | 1 | 4 | 1 |\n| Hornet 4 Drive | 21.4 | 6 | 258 | 110 | 3.08 | 3.215 | 19.44 | 1 | 0 | 3 | 1 |\n| Hornet Sportabout | 18.7 | 8 | 360 | 175 | 3.15 | 3.440 | 17.02 | 0 | 0 | 3 | 2 |\n| Valiant | 18.1 | 6 | 225 | 105 | 2.76 | 3.460 | 20.22 | 1 | 0 | 3 | 1 |\n\n",
            "text/latex": "A data.frame: 6 × 11\n\\begin{tabular}{r|lllllllllll}\n  & mpg & cyl & disp & hp & drat & wt & qsec & vs & am & gear & carb\\\\\n  & <dbl> & <dbl> & <dbl> & <dbl> & <dbl> & <dbl> & <dbl> & <dbl> & <dbl> & <dbl> & <dbl>\\\\\n\\hline\n\tMazda RX4 & 21.0 & 6 & 160 & 110 & 3.90 & 2.620 & 16.46 & 0 & 1 & 4 & 4\\\\\n\tMazda RX4 Wag & 21.0 & 6 & 160 & 110 & 3.90 & 2.875 & 17.02 & 0 & 1 & 4 & 4\\\\\n\tDatsun 710 & 22.8 & 4 & 108 &  93 & 3.85 & 2.320 & 18.61 & 1 & 1 & 4 & 1\\\\\n\tHornet 4 Drive & 21.4 & 6 & 258 & 110 & 3.08 & 3.215 & 19.44 & 1 & 0 & 3 & 1\\\\\n\tHornet Sportabout & 18.7 & 8 & 360 & 175 & 3.15 & 3.440 & 17.02 & 0 & 0 & 3 & 2\\\\\n\tValiant & 18.1 & 6 & 225 & 105 & 2.76 & 3.460 & 20.22 & 1 & 0 & 3 & 1\\\\\n\\end{tabular}\n",
            "text/plain": [
              "                  mpg  cyl disp hp  drat wt    qsec  vs am gear carb\n",
              "Mazda RX4         21.0 6   160  110 3.90 2.620 16.46 0  1  4    4   \n",
              "Mazda RX4 Wag     21.0 6   160  110 3.90 2.875 17.02 0  1  4    4   \n",
              "Datsun 710        22.8 4   108   93 3.85 2.320 18.61 1  1  4    1   \n",
              "Hornet 4 Drive    21.4 6   258  110 3.08 3.215 19.44 1  0  3    1   \n",
              "Hornet Sportabout 18.7 8   360  175 3.15 3.440 17.02 0  0  3    2   \n",
              "Valiant           18.1 6   225  105 2.76 3.460 20.22 1  0  3    1   "
            ]
          },
          "metadata": {}
        }
      ]
    },
    {
      "cell_type": "code",
      "source": [
        "nrow(mtcars)"
      ],
      "metadata": {
        "colab": {
          "base_uri": "https://localhost:8080/",
          "height": 34
        },
        "id": "3zKbmbnYW2Ji",
        "outputId": "6e9a799f-e4b1-4188-e8ad-3529c6ed9da0"
      },
      "execution_count": 28,
      "outputs": [
        {
          "output_type": "display_data",
          "data": {
            "text/html": [
              "32"
            ],
            "text/markdown": "32",
            "text/latex": "32",
            "text/plain": [
              "[1] 32"
            ]
          },
          "metadata": {}
        }
      ]
    },
    {
      "cell_type": "code",
      "source": [
        "ncol(mtcars)"
      ],
      "metadata": {
        "colab": {
          "base_uri": "https://localhost:8080/",
          "height": 34
        },
        "id": "f2Jr_5o9W4_p",
        "outputId": "8c81a8dc-6b29-4de4-cfdb-c05eec2f5776"
      },
      "execution_count": 29,
      "outputs": [
        {
          "output_type": "display_data",
          "data": {
            "text/html": [
              "11"
            ],
            "text/markdown": "11",
            "text/latex": "11",
            "text/plain": [
              "[1] 11"
            ]
          },
          "metadata": {}
        }
      ]
    },
    {
      "cell_type": "code",
      "source": [
        "str(mtcars) #Str = structur"
      ],
      "metadata": {
        "colab": {
          "base_uri": "https://localhost:8080/"
        },
        "id": "nUeTw5e9W6bx",
        "outputId": "dd262c06-e067-46fe-cd88-c68e503dc7f8"
      },
      "execution_count": 30,
      "outputs": [
        {
          "output_type": "stream",
          "name": "stdout",
          "text": [
            "'data.frame':\t32 obs. of  11 variables:\n",
            " $ mpg : num  21 21 22.8 21.4 18.7 18.1 14.3 24.4 22.8 19.2 ...\n",
            " $ cyl : num  6 6 4 6 8 6 8 4 4 6 ...\n",
            " $ disp: num  160 160 108 258 360 ...\n",
            " $ hp  : num  110 110 93 110 175 105 245 62 95 123 ...\n",
            " $ drat: num  3.9 3.9 3.85 3.08 3.15 2.76 3.21 3.69 3.92 3.92 ...\n",
            " $ wt  : num  2.62 2.88 2.32 3.21 3.44 ...\n",
            " $ qsec: num  16.5 17 18.6 19.4 17 ...\n",
            " $ vs  : num  0 0 1 1 0 1 0 1 1 1 ...\n",
            " $ am  : num  1 1 1 0 0 0 0 0 0 0 ...\n",
            " $ gear: num  4 4 4 3 3 3 3 4 4 4 ...\n",
            " $ carb: num  4 4 1 1 2 1 4 2 2 4 ...\n"
          ]
        }
      ]
    },
    {
      "cell_type": "code",
      "source": [
        "summary(mtcars)"
      ],
      "metadata": {
        "colab": {
          "base_uri": "https://localhost:8080/",
          "height": 382
        },
        "id": "aE-5bnsbW7rS",
        "outputId": "5874600b-69a2-4589-e856-dcf139943d21"
      },
      "execution_count": 31,
      "outputs": [
        {
          "output_type": "display_data",
          "data": {
            "text/plain": [
              "      mpg             cyl             disp             hp       \n",
              " Min.   :10.40   Min.   :4.000   Min.   : 71.1   Min.   : 52.0  \n",
              " 1st Qu.:15.43   1st Qu.:4.000   1st Qu.:120.8   1st Qu.: 96.5  \n",
              " Median :19.20   Median :6.000   Median :196.3   Median :123.0  \n",
              " Mean   :20.09   Mean   :6.188   Mean   :230.7   Mean   :146.7  \n",
              " 3rd Qu.:22.80   3rd Qu.:8.000   3rd Qu.:326.0   3rd Qu.:180.0  \n",
              " Max.   :33.90   Max.   :8.000   Max.   :472.0   Max.   :335.0  \n",
              "      drat             wt             qsec             vs        \n",
              " Min.   :2.760   Min.   :1.513   Min.   :14.50   Min.   :0.0000  \n",
              " 1st Qu.:3.080   1st Qu.:2.581   1st Qu.:16.89   1st Qu.:0.0000  \n",
              " Median :3.695   Median :3.325   Median :17.71   Median :0.0000  \n",
              " Mean   :3.597   Mean   :3.217   Mean   :17.85   Mean   :0.4375  \n",
              " 3rd Qu.:3.920   3rd Qu.:3.610   3rd Qu.:18.90   3rd Qu.:1.0000  \n",
              " Max.   :4.930   Max.   :5.424   Max.   :22.90   Max.   :1.0000  \n",
              "       am              gear            carb      \n",
              " Min.   :0.0000   Min.   :3.000   Min.   :1.000  \n",
              " 1st Qu.:0.0000   1st Qu.:3.000   1st Qu.:2.000  \n",
              " Median :0.0000   Median :4.000   Median :2.000  \n",
              " Mean   :0.4062   Mean   :3.688   Mean   :2.812  \n",
              " 3rd Qu.:1.0000   3rd Qu.:4.000   3rd Qu.:4.000  \n",
              " Max.   :1.0000   Max.   :5.000   Max.   :8.000  "
            ]
          },
          "metadata": {}
        }
      ]
    },
    {
      "cell_type": "markdown",
      "source": [
        "mais informações sobre o R\n",
        "\n",
        "https://www.r-tutor.com/\n",
        "\n",
        "https://www.w3schools.com/\n",
        "\n",
        "Livro: R for Data Science - Hdley e Garret\n",
        "\n",
        "help(Ferramenta a ser consultada)"
      ],
      "metadata": {
        "id": "vbsfeCMDXdSe"
      }
    },
    {
      "cell_type": "code",
      "source": [
        "# Selecionar só as motos com 6 cilindros?"
      ],
      "metadata": {
        "id": "F_QhMcZCXN9F"
      },
      "execution_count": null,
      "outputs": []
    },
    {
      "cell_type": "markdown",
      "source": [
        "## DataSet - Tips"
      ],
      "metadata": {
        "id": "-wMlKWnRdOzB"
      }
    },
    {
      "cell_type": "markdown",
      "source": [
        "### Aquisição dos Dados"
      ],
      "metadata": {
        "id": "0C-EQCJ9Zah2"
      }
    },
    {
      "cell_type": "code",
      "source": [
        "df = read.csv(\"http://meusite.mackenzie.br/rogerio/data_load/tips.csv\")\n",
        "head(df)"
      ],
      "metadata": {
        "colab": {
          "base_uri": "https://localhost:8080/",
          "height": 412
        },
        "id": "7zgLHOnlZLpw",
        "outputId": "5b54e823-8ad7-4be6-8c16-4fc004d6bbc5"
      },
      "execution_count": 36,
      "outputs": [
        {
          "output_type": "display_data",
          "data": {
            "text/html": [
              "<table class=\"dataframe\">\n",
              "<caption>A data.frame: 10 × 7</caption>\n",
              "<thead>\n",
              "\t<tr><th></th><th scope=col>total_bill</th><th scope=col>tip</th><th scope=col>sex</th><th scope=col>smoker</th><th scope=col>day</th><th scope=col>time</th><th scope=col>size</th></tr>\n",
              "\t<tr><th></th><th scope=col>&lt;dbl&gt;</th><th scope=col>&lt;dbl&gt;</th><th scope=col>&lt;chr&gt;</th><th scope=col>&lt;chr&gt;</th><th scope=col>&lt;chr&gt;</th><th scope=col>&lt;chr&gt;</th><th scope=col>&lt;int&gt;</th></tr>\n",
              "</thead>\n",
              "<tbody>\n",
              "\t<tr><th scope=row>1</th><td>16.99</td><td>1.01</td><td>Female</td><td>No</td><td>Sun</td><td>Dinner</td><td>2</td></tr>\n",
              "\t<tr><th scope=row>2</th><td>10.34</td><td>1.66</td><td>Male  </td><td>No</td><td>Sun</td><td>Dinner</td><td>3</td></tr>\n",
              "\t<tr><th scope=row>3</th><td>21.01</td><td>3.50</td><td>Male  </td><td>No</td><td>Sun</td><td>Dinner</td><td>3</td></tr>\n",
              "\t<tr><th scope=row>4</th><td>23.68</td><td>3.31</td><td>Male  </td><td>No</td><td>Sun</td><td>Dinner</td><td>2</td></tr>\n",
              "\t<tr><th scope=row>5</th><td>24.59</td><td>3.61</td><td>Female</td><td>No</td><td>Sun</td><td>Dinner</td><td>4</td></tr>\n",
              "\t<tr><th scope=row>6</th><td>25.29</td><td>4.71</td><td>Male  </td><td>No</td><td>Sun</td><td>Dinner</td><td>4</td></tr>\n",
              "\t<tr><th scope=row>7</th><td> 8.77</td><td>2.00</td><td>Male  </td><td>No</td><td>Sun</td><td>Dinner</td><td>2</td></tr>\n",
              "\t<tr><th scope=row>8</th><td>26.88</td><td>3.12</td><td>Male  </td><td>No</td><td>Sun</td><td>Dinner</td><td>4</td></tr>\n",
              "\t<tr><th scope=row>9</th><td>15.04</td><td>1.96</td><td>Male  </td><td>No</td><td>Sun</td><td>Dinner</td><td>2</td></tr>\n",
              "\t<tr><th scope=row>10</th><td>14.78</td><td>3.23</td><td>Male  </td><td>No</td><td>Sun</td><td>Dinner</td><td>2</td></tr>\n",
              "</tbody>\n",
              "</table>\n"
            ],
            "text/markdown": "\nA data.frame: 10 × 7\n\n| <!--/--> | total_bill &lt;dbl&gt; | tip &lt;dbl&gt; | sex &lt;chr&gt; | smoker &lt;chr&gt; | day &lt;chr&gt; | time &lt;chr&gt; | size &lt;int&gt; |\n|---|---|---|---|---|---|---|---|\n| 1 | 16.99 | 1.01 | Female | No | Sun | Dinner | 2 |\n| 2 | 10.34 | 1.66 | Male   | No | Sun | Dinner | 3 |\n| 3 | 21.01 | 3.50 | Male   | No | Sun | Dinner | 3 |\n| 4 | 23.68 | 3.31 | Male   | No | Sun | Dinner | 2 |\n| 5 | 24.59 | 3.61 | Female | No | Sun | Dinner | 4 |\n| 6 | 25.29 | 4.71 | Male   | No | Sun | Dinner | 4 |\n| 7 |  8.77 | 2.00 | Male   | No | Sun | Dinner | 2 |\n| 8 | 26.88 | 3.12 | Male   | No | Sun | Dinner | 4 |\n| 9 | 15.04 | 1.96 | Male   | No | Sun | Dinner | 2 |\n| 10 | 14.78 | 3.23 | Male   | No | Sun | Dinner | 2 |\n\n",
            "text/latex": "A data.frame: 10 × 7\n\\begin{tabular}{r|lllllll}\n  & total\\_bill & tip & sex & smoker & day & time & size\\\\\n  & <dbl> & <dbl> & <chr> & <chr> & <chr> & <chr> & <int>\\\\\n\\hline\n\t1 & 16.99 & 1.01 & Female & No & Sun & Dinner & 2\\\\\n\t2 & 10.34 & 1.66 & Male   & No & Sun & Dinner & 3\\\\\n\t3 & 21.01 & 3.50 & Male   & No & Sun & Dinner & 3\\\\\n\t4 & 23.68 & 3.31 & Male   & No & Sun & Dinner & 2\\\\\n\t5 & 24.59 & 3.61 & Female & No & Sun & Dinner & 4\\\\\n\t6 & 25.29 & 4.71 & Male   & No & Sun & Dinner & 4\\\\\n\t7 &  8.77 & 2.00 & Male   & No & Sun & Dinner & 2\\\\\n\t8 & 26.88 & 3.12 & Male   & No & Sun & Dinner & 4\\\\\n\t9 & 15.04 & 1.96 & Male   & No & Sun & Dinner & 2\\\\\n\t10 & 14.78 & 3.23 & Male   & No & Sun & Dinner & 2\\\\\n\\end{tabular}\n",
            "text/plain": [
              "   total_bill tip  sex    smoker day time   size\n",
              "1  16.99      1.01 Female No     Sun Dinner 2   \n",
              "2  10.34      1.66 Male   No     Sun Dinner 3   \n",
              "3  21.01      3.50 Male   No     Sun Dinner 3   \n",
              "4  23.68      3.31 Male   No     Sun Dinner 2   \n",
              "5  24.59      3.61 Female No     Sun Dinner 4   \n",
              "6  25.29      4.71 Male   No     Sun Dinner 4   \n",
              "7   8.77      2.00 Male   No     Sun Dinner 2   \n",
              "8  26.88      3.12 Male   No     Sun Dinner 4   \n",
              "9  15.04      1.96 Male   No     Sun Dinner 2   \n",
              "10 14.78      3.23 Male   No     Sun Dinner 2   "
            ]
          },
          "metadata": {}
        }
      ]
    },
    {
      "cell_type": "markdown",
      "source": [
        "### Exploração Inicial da Estrutura dos Dados"
      ],
      "metadata": {
        "id": "Pd0yo8QlZlTY"
      }
    },
    {
      "cell_type": "code",
      "source": [
        "nrow(df)\n",
        "ncol(df)"
      ],
      "metadata": {
        "colab": {
          "base_uri": "https://localhost:8080/",
          "height": 52
        },
        "id": "MtbMCVbAZqQA",
        "outputId": "66797f70-a373-4c05-d6b3-4415c339136e"
      },
      "execution_count": 38,
      "outputs": [
        {
          "output_type": "display_data",
          "data": {
            "text/html": [
              "244"
            ],
            "text/markdown": "244",
            "text/latex": "244",
            "text/plain": [
              "[1] 244"
            ]
          },
          "metadata": {}
        },
        {
          "output_type": "display_data",
          "data": {
            "text/html": [
              "7"
            ],
            "text/markdown": "7",
            "text/latex": "7",
            "text/plain": [
              "[1] 7"
            ]
          },
          "metadata": {}
        }
      ]
    },
    {
      "cell_type": "code",
      "source": [
        "colnames(df)"
      ],
      "metadata": {
        "colab": {
          "base_uri": "https://localhost:8080/",
          "height": 34
        },
        "id": "k6s8dfejZvgv",
        "outputId": "bd1121c5-14b4-426a-ab34-5a7f44469e12"
      },
      "execution_count": 39,
      "outputs": [
        {
          "output_type": "display_data",
          "data": {
            "text/html": [
              "<style>\n",
              ".list-inline {list-style: none; margin:0; padding: 0}\n",
              ".list-inline>li {display: inline-block}\n",
              ".list-inline>li:not(:last-child)::after {content: \"\\00b7\"; padding: 0 .5ex}\n",
              "</style>\n",
              "<ol class=list-inline><li>'total_bill'</li><li>'tip'</li><li>'sex'</li><li>'smoker'</li><li>'day'</li><li>'time'</li><li>'size'</li></ol>\n"
            ],
            "text/markdown": "1. 'total_bill'\n2. 'tip'\n3. 'sex'\n4. 'smoker'\n5. 'day'\n6. 'time'\n7. 'size'\n\n\n",
            "text/latex": "\\begin{enumerate*}\n\\item 'total\\_bill'\n\\item 'tip'\n\\item 'sex'\n\\item 'smoker'\n\\item 'day'\n\\item 'time'\n\\item 'size'\n\\end{enumerate*}\n",
            "text/plain": [
              "[1] \"total_bill\" \"tip\"        \"sex\"        \"smoker\"     \"day\"       \n",
              "[6] \"time\"       \"size\"      "
            ]
          },
          "metadata": {}
        }
      ]
    },
    {
      "cell_type": "code",
      "source": [
        "str(df)"
      ],
      "metadata": {
        "colab": {
          "base_uri": "https://localhost:8080/"
        },
        "id": "-gfVCY_BZzfo",
        "outputId": "5c997b29-43ac-44ce-cd5f-79b5321cc834"
      },
      "execution_count": 40,
      "outputs": [
        {
          "output_type": "stream",
          "name": "stdout",
          "text": [
            "'data.frame':\t244 obs. of  7 variables:\n",
            " $ total_bill: num  17 10.3 21 23.7 24.6 ...\n",
            " $ tip       : num  1.01 1.66 3.5 3.31 3.61 4.71 2 3.12 1.96 3.23 ...\n",
            " $ sex       : chr  \"Female\" \"Male\" \"Male\" \"Male\" ...\n",
            " $ smoker    : chr  \"No\" \"No\" \"No\" \"No\" ...\n",
            " $ day       : chr  \"Sun\" \"Sun\" \"Sun\" \"Sun\" ...\n",
            " $ time      : chr  \"Dinner\" \"Dinner\" \"Dinner\" \"Dinner\" ...\n",
            " $ size      : int  2 3 3 2 4 4 2 4 2 2 ...\n"
          ]
        }
      ]
    },
    {
      "cell_type": "code",
      "source": [
        "sapply(df, class)"
      ],
      "metadata": {
        "colab": {
          "base_uri": "https://localhost:8080/",
          "height": 52
        },
        "id": "Y1bNoTAnZ1hb",
        "outputId": "8550a99a-fd4f-4c84-b17a-bafb5f1a30f7"
      },
      "execution_count": 41,
      "outputs": [
        {
          "output_type": "display_data",
          "data": {
            "text/html": [
              "<style>\n",
              ".dl-inline {width: auto; margin:0; padding: 0}\n",
              ".dl-inline>dt, .dl-inline>dd {float: none; width: auto; display: inline-block}\n",
              ".dl-inline>dt::after {content: \":\\0020\"; padding-right: .5ex}\n",
              ".dl-inline>dt:not(:first-of-type) {padding-left: .5ex}\n",
              "</style><dl class=dl-inline><dt>total_bill</dt><dd>'numeric'</dd><dt>tip</dt><dd>'numeric'</dd><dt>sex</dt><dd>'character'</dd><dt>smoker</dt><dd>'character'</dd><dt>day</dt><dd>'character'</dd><dt>time</dt><dd>'character'</dd><dt>size</dt><dd>'integer'</dd></dl>\n"
            ],
            "text/markdown": "total_bill\n:   'numeric'tip\n:   'numeric'sex\n:   'character'smoker\n:   'character'day\n:   'character'time\n:   'character'size\n:   'integer'\n\n",
            "text/latex": "\\begin{description*}\n\\item[total\\textbackslash{}\\_bill] 'numeric'\n\\item[tip] 'numeric'\n\\item[sex] 'character'\n\\item[smoker] 'character'\n\\item[day] 'character'\n\\item[time] 'character'\n\\item[size] 'integer'\n\\end{description*}\n",
            "text/plain": [
              " total_bill         tip         sex      smoker         day        time \n",
              "  \"numeric\"   \"numeric\" \"character\" \"character\" \"character\" \"character\" \n",
              "       size \n",
              "  \"integer\" "
            ]
          },
          "metadata": {}
        }
      ]
    },
    {
      "cell_type": "code",
      "source": [
        "table(df$time)\n",
        "table(df$day)"
      ],
      "metadata": {
        "colab": {
          "base_uri": "https://localhost:8080/",
          "height": 121
        },
        "id": "2RrOx3rIaFyH",
        "outputId": "9a232a8c-5fed-46f6-af06-ea13ba417866"
      },
      "execution_count": 42,
      "outputs": [
        {
          "output_type": "display_data",
          "data": {
            "text/plain": [
              "\n",
              "Dinner  Lunch \n",
              "   176     68 "
            ]
          },
          "metadata": {}
        },
        {
          "output_type": "display_data",
          "data": {
            "text/plain": [
              "\n",
              " Fri  Sat  Sun Thur \n",
              "  19   87   76   62 "
            ]
          },
          "metadata": {}
        }
      ]
    },
    {
      "cell_type": "code",
      "source": [
        "summary(df)"
      ],
      "metadata": {
        "colab": {
          "base_uri": "https://localhost:8080/",
          "height": 260
        },
        "id": "pyrn-NXRaMbJ",
        "outputId": "33b0e304-378f-4a5b-cf2d-f6917e6f8003"
      },
      "execution_count": 45,
      "outputs": [
        {
          "output_type": "display_data",
          "data": {
            "text/plain": [
              "   total_bill         tip             sex               smoker         \n",
              " Min.   : 3.07   Min.   : 1.000   Length:244         Length:244        \n",
              " 1st Qu.:13.35   1st Qu.: 2.000   Class :character   Class :character  \n",
              " Median :17.80   Median : 2.900   Mode  :character   Mode  :character  \n",
              " Mean   :19.79   Mean   : 2.998                                        \n",
              " 3rd Qu.:24.13   3rd Qu.: 3.562                                        \n",
              " Max.   :50.81   Max.   :10.000                                        \n",
              "     day                time                size     \n",
              " Length:244         Length:244         Min.   :1.00  \n",
              " Class :character   Class :character   1st Qu.:2.00  \n",
              " Mode  :character   Mode  :character   Median :2.00  \n",
              "                                       Mean   :2.57  \n",
              "                                       3rd Qu.:3.00  \n",
              "                                       Max.   :6.00  "
            ]
          },
          "metadata": {}
        }
      ]
    },
    {
      "cell_type": "code",
      "source": [
        "unique(df$day)"
      ],
      "metadata": {
        "colab": {
          "base_uri": "https://localhost:8080/",
          "height": 34
        },
        "id": "bTh6rfEIaYGA",
        "outputId": "2c4b46a6-59a8-4ce6-e902-4dba915bce45"
      },
      "execution_count": 46,
      "outputs": [
        {
          "output_type": "display_data",
          "data": {
            "text/html": [
              "<style>\n",
              ".list-inline {list-style: none; margin:0; padding: 0}\n",
              ".list-inline>li {display: inline-block}\n",
              ".list-inline>li:not(:last-child)::after {content: \"\\00b7\"; padding: 0 .5ex}\n",
              "</style>\n",
              "<ol class=list-inline><li>'Sun'</li><li>'Sat'</li><li>'Thur'</li><li>'Fri'</li></ol>\n"
            ],
            "text/markdown": "1. 'Sun'\n2. 'Sat'\n3. 'Thur'\n4. 'Fri'\n\n\n",
            "text/latex": "\\begin{enumerate*}\n\\item 'Sun'\n\\item 'Sat'\n\\item 'Thur'\n\\item 'Fri'\n\\end{enumerate*}\n",
            "text/plain": [
              "[1] \"Sun\"  \"Sat\"  \"Thur\" \"Fri\" "
            ]
          },
          "metadata": {}
        }
      ]
    },
    {
      "cell_type": "markdown",
      "source": [
        "### Explorando uma Variável"
      ],
      "metadata": {
        "id": "vZxiWXPTanVm"
      }
    },
    {
      "cell_type": "code",
      "source": [
        "mean(df$tip)"
      ],
      "metadata": {
        "colab": {
          "base_uri": "https://localhost:8080/",
          "height": 34
        },
        "id": "094ZcKsKax1e",
        "outputId": "8742300d-e478-4f1a-85f8-273fc189f4b9"
      },
      "execution_count": 47,
      "outputs": [
        {
          "output_type": "display_data",
          "data": {
            "text/html": [
              "2.99827868852459"
            ],
            "text/markdown": "2.99827868852459",
            "text/latex": "2.99827868852459",
            "text/plain": [
              "[1] 2.998279"
            ]
          },
          "metadata": {}
        }
      ]
    },
    {
      "cell_type": "code",
      "source": [
        "sd(df$tip)"
      ],
      "metadata": {
        "colab": {
          "base_uri": "https://localhost:8080/",
          "height": 34
        },
        "id": "OGudSspAazX_",
        "outputId": "a8a11a92-204c-460d-87a3-aa70ebb904ce"
      },
      "execution_count": 49,
      "outputs": [
        {
          "output_type": "display_data",
          "data": {
            "text/html": [
              "1.38363818900118"
            ],
            "text/markdown": "1.38363818900118",
            "text/latex": "1.38363818900118",
            "text/plain": [
              "[1] 1.383638"
            ]
          },
          "metadata": {}
        }
      ]
    },
    {
      "cell_type": "code",
      "source": [
        "table(df$size)"
      ],
      "metadata": {
        "colab": {
          "base_uri": "https://localhost:8080/",
          "height": 69
        },
        "id": "UWeIcXyra3r3",
        "outputId": "1c4ceba1-46ce-4157-eab2-4c0692299b9f"
      },
      "execution_count": 50,
      "outputs": [
        {
          "output_type": "display_data",
          "data": {
            "text/plain": [
              "\n",
              "  1   2   3   4   5   6 \n",
              "  4 156  38  37   5   4 "
            ]
          },
          "metadata": {}
        }
      ]
    },
    {
      "cell_type": "code",
      "source": [
        "df[ df$sex == 'Female', ]$tip"
      ],
      "metadata": {
        "colab": {
          "base_uri": "https://localhost:8080/",
          "height": 69
        },
        "id": "fwT5JDq8a8J_",
        "outputId": "45abbe6d-7df9-4395-8c01-ed759120211b"
      },
      "execution_count": 52,
      "outputs": [
        {
          "output_type": "display_data",
          "data": {
            "text/html": [
              "<style>\n",
              ".list-inline {list-style: none; margin:0; padding: 0}\n",
              ".list-inline>li {display: inline-block}\n",
              ".list-inline>li:not(:last-child)::after {content: \"\\00b7\"; padding: 0 .5ex}\n",
              "</style>\n",
              "<ol class=list-inline><li>1.01</li><li>3.61</li><li>5</li><li>3.02</li><li>1.67</li><li>3.5</li><li>2.75</li><li>2.23</li><li>3</li><li>3</li><li>2.45</li><li>3.07</li><li>2.6</li><li>5.2</li><li>1.5</li><li>2.47</li><li>1</li><li>3</li><li>3.14</li><li>5</li><li>2.2</li><li>1.83</li><li>5.17</li><li>1</li><li>4.3</li><li>3.25</li><li>2.5</li><li>3</li><li>2.5</li><li>3.48</li><li>4.08</li><li>4</li><li>1</li><li>4</li><li>3.5</li><li>1.5</li><li>1.8</li><li>2.92</li><li>1.68</li><li>2.52</li><li>4.2</li><li>2</li><li>2</li><li>2.83</li><li>1.5</li><li>2</li><li>3.25</li><li>1.25</li><li>2</li><li>2</li><li>2.75</li><li>3.5</li><li>5</li><li>2.3</li><li>1.5</li><li>1.36</li><li>1.63</li><li>5.14</li><li>3.75</li><li>2.61</li><li>2</li><li>3</li><li>1.61</li><li>2</li><li>4</li><li>3.5</li><li>3.5</li><li>4.19</li><li>5</li><li>2</li><li>2.01</li><li>2</li><li>2.5</li><li>3.23</li><li>2.23</li><li>2.5</li><li>6.5</li><li>1.1</li><li>3.09</li><li>3.48</li><li>3</li><li>2.5</li><li>2</li><li>2.88</li><li>4.67</li><li>2</li><li>3</li></ol>\n"
            ],
            "text/markdown": "1. 1.01\n2. 3.61\n3. 5\n4. 3.02\n5. 1.67\n6. 3.5\n7. 2.75\n8. 2.23\n9. 3\n10. 3\n11. 2.45\n12. 3.07\n13. 2.6\n14. 5.2\n15. 1.5\n16. 2.47\n17. 1\n18. 3\n19. 3.14\n20. 5\n21. 2.2\n22. 1.83\n23. 5.17\n24. 1\n25. 4.3\n26. 3.25\n27. 2.5\n28. 3\n29. 2.5\n30. 3.48\n31. 4.08\n32. 4\n33. 1\n34. 4\n35. 3.5\n36. 1.5\n37. 1.8\n38. 2.92\n39. 1.68\n40. 2.52\n41. 4.2\n42. 2\n43. 2\n44. 2.83\n45. 1.5\n46. 2\n47. 3.25\n48. 1.25\n49. 2\n50. 2\n51. 2.75\n52. 3.5\n53. 5\n54. 2.3\n55. 1.5\n56. 1.36\n57. 1.63\n58. 5.14\n59. 3.75\n60. 2.61\n61. 2\n62. 3\n63. 1.61\n64. 2\n65. 4\n66. 3.5\n67. 3.5\n68. 4.19\n69. 5\n70. 2\n71. 2.01\n72. 2\n73. 2.5\n74. 3.23\n75. 2.23\n76. 2.5\n77. 6.5\n78. 1.1\n79. 3.09\n80. 3.48\n81. 3\n82. 2.5\n83. 2\n84. 2.88\n85. 4.67\n86. 2\n87. 3\n\n\n",
            "text/latex": "\\begin{enumerate*}\n\\item 1.01\n\\item 3.61\n\\item 5\n\\item 3.02\n\\item 1.67\n\\item 3.5\n\\item 2.75\n\\item 2.23\n\\item 3\n\\item 3\n\\item 2.45\n\\item 3.07\n\\item 2.6\n\\item 5.2\n\\item 1.5\n\\item 2.47\n\\item 1\n\\item 3\n\\item 3.14\n\\item 5\n\\item 2.2\n\\item 1.83\n\\item 5.17\n\\item 1\n\\item 4.3\n\\item 3.25\n\\item 2.5\n\\item 3\n\\item 2.5\n\\item 3.48\n\\item 4.08\n\\item 4\n\\item 1\n\\item 4\n\\item 3.5\n\\item 1.5\n\\item 1.8\n\\item 2.92\n\\item 1.68\n\\item 2.52\n\\item 4.2\n\\item 2\n\\item 2\n\\item 2.83\n\\item 1.5\n\\item 2\n\\item 3.25\n\\item 1.25\n\\item 2\n\\item 2\n\\item 2.75\n\\item 3.5\n\\item 5\n\\item 2.3\n\\item 1.5\n\\item 1.36\n\\item 1.63\n\\item 5.14\n\\item 3.75\n\\item 2.61\n\\item 2\n\\item 3\n\\item 1.61\n\\item 2\n\\item 4\n\\item 3.5\n\\item 3.5\n\\item 4.19\n\\item 5\n\\item 2\n\\item 2.01\n\\item 2\n\\item 2.5\n\\item 3.23\n\\item 2.23\n\\item 2.5\n\\item 6.5\n\\item 1.1\n\\item 3.09\n\\item 3.48\n\\item 3\n\\item 2.5\n\\item 2\n\\item 2.88\n\\item 4.67\n\\item 2\n\\item 3\n\\end{enumerate*}\n",
            "text/plain": [
              " [1] 1.01 3.61 5.00 3.02 1.67 3.50 2.75 2.23 3.00 3.00 2.45 3.07 2.60 5.20 1.50\n",
              "[16] 2.47 1.00 3.00 3.14 5.00 2.20 1.83 5.17 1.00 4.30 3.25 2.50 3.00 2.50 3.48\n",
              "[31] 4.08 4.00 1.00 4.00 3.50 1.50 1.80 2.92 1.68 2.52 4.20 2.00 2.00 2.83 1.50\n",
              "[46] 2.00 3.25 1.25 2.00 2.00 2.75 3.50 5.00 2.30 1.50 1.36 1.63 5.14 3.75 2.61\n",
              "[61] 2.00 3.00 1.61 2.00 4.00 3.50 3.50 4.19 5.00 2.00 2.01 2.00 2.50 3.23 2.23\n",
              "[76] 2.50 6.50 1.10 3.09 3.48 3.00 2.50 2.00 2.88 4.67 2.00 3.00"
            ]
          },
          "metadata": {}
        }
      ]
    },
    {
      "cell_type": "code",
      "source": [
        "df[ df$sex == 'Male', ]$tip"
      ],
      "metadata": {
        "colab": {
          "base_uri": "https://localhost:8080/",
          "height": 121
        },
        "id": "PFnyk08kbN3-",
        "outputId": "91a300a5-502e-4f5c-9d24-4394e2249a54"
      },
      "execution_count": 53,
      "outputs": [
        {
          "output_type": "display_data",
          "data": {
            "text/html": [
              "<style>\n",
              ".list-inline {list-style: none; margin:0; padding: 0}\n",
              ".list-inline>li {display: inline-block}\n",
              ".list-inline>li:not(:last-child)::after {content: \"\\00b7\"; padding: 0 .5ex}\n",
              "</style>\n",
              "<ol class=list-inline><li>1.66</li><li>3.5</li><li>3.31</li><li>4.71</li><li>2</li><li>3.12</li><li>1.96</li><li>3.23</li><li>1.71</li><li>1.57</li><li>3</li><li>3.92</li><li>3.71</li><li>3.35</li><li>4.08</li><li>7.58</li><li>3.18</li><li>2.34</li><li>2</li><li>2</li><li>4.3</li><li>1.45</li><li>2.5</li><li>3.27</li><li>3.6</li><li>2</li><li>2.31</li><li>5</li><li>2.24</li><li>2.54</li><li>3.06</li><li>1.32</li><li>5.6</li><li>3</li><li>5</li><li>6</li><li>2.05</li><li>3</li><li>2.5</li><li>1.56</li><li>4.34</li><li>3.51</li><li>3</li><li>1.76</li><li>6.73</li><li>3.21</li><li>2</li><li>1.98</li><li>3.76</li><li>2.64</li><li>3.15</li><li>2.01</li><li>2.09</li><li>1.97</li><li>1.25</li><li>3.08</li><li>4</li><li>3</li><li>2.71</li><li>3</li><li>3.4</li><li>5</li><li>2.03</li><li>2</li><li>4</li><li>5.85</li><li>3</li><li>3</li><li>3.5</li><li>4.73</li><li>4</li><li>1.5</li><li>3</li><li>1.5</li><li>1.64</li><li>4.06</li><li>4.29</li><li>3.76</li><li>3</li><li>4</li><li>2.55</li><li>5.07</li><li>2.31</li><li>2.5</li><li>2</li><li>1.48</li><li>2.18</li><li>1.5</li><li>2</li><li>6.7</li><li>5</li><li>1.73</li><li>2</li><li>2.5</li><li>2</li><li>2.74</li><li>2</li><li>2</li><li>5</li><li>2</li><li>3.5</li><li>2.5</li><li>2</li><li>3.48</li><li>2.24</li><li>4.5</li><li>10</li><li>3.16</li><li>5.15</li><li>3.18</li><li>4</li><li>3.11</li><li>2</li><li>2</li><li>3.55</li><li>3.68</li><li>5.65</li><li>3.5</li><li>6.5</li><li>3</li><li>5</li><li>2</li><li>4</li><li>1.5</li><li>2.56</li><li>2.02</li><li>4</li><li>1.44</li><li>2</li><li>2</li><li>4</li><li>4</li><li>3.41</li><li>3</li><li>2.03</li><li>2</li><li>5.16</li><li>9</li><li>3</li><li>1.5</li><li>1.44</li><li>2.2</li><li>1.92</li><li>1.58</li><li>3</li><li>2.72</li><li>2</li><li>3</li><li>3.39</li><li>1.47</li><li>3</li><li>1.25</li><li>1</li><li>1.17</li><li>5.92</li><li>2</li><li>1.75</li></ol>\n"
            ],
            "text/markdown": "1. 1.66\n2. 3.5\n3. 3.31\n4. 4.71\n5. 2\n6. 3.12\n7. 1.96\n8. 3.23\n9. 1.71\n10. 1.57\n11. 3\n12. 3.92\n13. 3.71\n14. 3.35\n15. 4.08\n16. 7.58\n17. 3.18\n18. 2.34\n19. 2\n20. 2\n21. 4.3\n22. 1.45\n23. 2.5\n24. 3.27\n25. 3.6\n26. 2\n27. 2.31\n28. 5\n29. 2.24\n30. 2.54\n31. 3.06\n32. 1.32\n33. 5.6\n34. 3\n35. 5\n36. 6\n37. 2.05\n38. 3\n39. 2.5\n40. 1.56\n41. 4.34\n42. 3.51\n43. 3\n44. 1.76\n45. 6.73\n46. 3.21\n47. 2\n48. 1.98\n49. 3.76\n50. 2.64\n51. 3.15\n52. 2.01\n53. 2.09\n54. 1.97\n55. 1.25\n56. 3.08\n57. 4\n58. 3\n59. 2.71\n60. 3\n61. 3.4\n62. 5\n63. 2.03\n64. 2\n65. 4\n66. 5.85\n67. 3\n68. 3\n69. 3.5\n70. 4.73\n71. 4\n72. 1.5\n73. 3\n74. 1.5\n75. 1.64\n76. 4.06\n77. 4.29\n78. 3.76\n79. 3\n80. 4\n81. 2.55\n82. 5.07\n83. 2.31\n84. 2.5\n85. 2\n86. 1.48\n87. 2.18\n88. 1.5\n89. 2\n90. 6.7\n91. 5\n92. 1.73\n93. 2\n94. 2.5\n95. 2\n96. 2.74\n97. 2\n98. 2\n99. 5\n100. 2\n101. 3.5\n102. 2.5\n103. 2\n104. 3.48\n105. 2.24\n106. 4.5\n107. 10\n108. 3.16\n109. 5.15\n110. 3.18\n111. 4\n112. 3.11\n113. 2\n114. 2\n115. 3.55\n116. 3.68\n117. 5.65\n118. 3.5\n119. 6.5\n120. 3\n121. 5\n122. 2\n123. 4\n124. 1.5\n125. 2.56\n126. 2.02\n127. 4\n128. 1.44\n129. 2\n130. 2\n131. 4\n132. 4\n133. 3.41\n134. 3\n135. 2.03\n136. 2\n137. 5.16\n138. 9\n139. 3\n140. 1.5\n141. 1.44\n142. 2.2\n143. 1.92\n144. 1.58\n145. 3\n146. 2.72\n147. 2\n148. 3\n149. 3.39\n150. 1.47\n151. 3\n152. 1.25\n153. 1\n154. 1.17\n155. 5.92\n156. 2\n157. 1.75\n\n\n",
            "text/latex": "\\begin{enumerate*}\n\\item 1.66\n\\item 3.5\n\\item 3.31\n\\item 4.71\n\\item 2\n\\item 3.12\n\\item 1.96\n\\item 3.23\n\\item 1.71\n\\item 1.57\n\\item 3\n\\item 3.92\n\\item 3.71\n\\item 3.35\n\\item 4.08\n\\item 7.58\n\\item 3.18\n\\item 2.34\n\\item 2\n\\item 2\n\\item 4.3\n\\item 1.45\n\\item 2.5\n\\item 3.27\n\\item 3.6\n\\item 2\n\\item 2.31\n\\item 5\n\\item 2.24\n\\item 2.54\n\\item 3.06\n\\item 1.32\n\\item 5.6\n\\item 3\n\\item 5\n\\item 6\n\\item 2.05\n\\item 3\n\\item 2.5\n\\item 1.56\n\\item 4.34\n\\item 3.51\n\\item 3\n\\item 1.76\n\\item 6.73\n\\item 3.21\n\\item 2\n\\item 1.98\n\\item 3.76\n\\item 2.64\n\\item 3.15\n\\item 2.01\n\\item 2.09\n\\item 1.97\n\\item 1.25\n\\item 3.08\n\\item 4\n\\item 3\n\\item 2.71\n\\item 3\n\\item 3.4\n\\item 5\n\\item 2.03\n\\item 2\n\\item 4\n\\item 5.85\n\\item 3\n\\item 3\n\\item 3.5\n\\item 4.73\n\\item 4\n\\item 1.5\n\\item 3\n\\item 1.5\n\\item 1.64\n\\item 4.06\n\\item 4.29\n\\item 3.76\n\\item 3\n\\item 4\n\\item 2.55\n\\item 5.07\n\\item 2.31\n\\item 2.5\n\\item 2\n\\item 1.48\n\\item 2.18\n\\item 1.5\n\\item 2\n\\item 6.7\n\\item 5\n\\item 1.73\n\\item 2\n\\item 2.5\n\\item 2\n\\item 2.74\n\\item 2\n\\item 2\n\\item 5\n\\item 2\n\\item 3.5\n\\item 2.5\n\\item 2\n\\item 3.48\n\\item 2.24\n\\item 4.5\n\\item 10\n\\item 3.16\n\\item 5.15\n\\item 3.18\n\\item 4\n\\item 3.11\n\\item 2\n\\item 2\n\\item 3.55\n\\item 3.68\n\\item 5.65\n\\item 3.5\n\\item 6.5\n\\item 3\n\\item 5\n\\item 2\n\\item 4\n\\item 1.5\n\\item 2.56\n\\item 2.02\n\\item 4\n\\item 1.44\n\\item 2\n\\item 2\n\\item 4\n\\item 4\n\\item 3.41\n\\item 3\n\\item 2.03\n\\item 2\n\\item 5.16\n\\item 9\n\\item 3\n\\item 1.5\n\\item 1.44\n\\item 2.2\n\\item 1.92\n\\item 1.58\n\\item 3\n\\item 2.72\n\\item 2\n\\item 3\n\\item 3.39\n\\item 1.47\n\\item 3\n\\item 1.25\n\\item 1\n\\item 1.17\n\\item 5.92\n\\item 2\n\\item 1.75\n\\end{enumerate*}\n",
            "text/plain": [
              "  [1]  1.66  3.50  3.31  4.71  2.00  3.12  1.96  3.23  1.71  1.57  3.00  3.92\n",
              " [13]  3.71  3.35  4.08  7.58  3.18  2.34  2.00  2.00  4.30  1.45  2.50  3.27\n",
              " [25]  3.60  2.00  2.31  5.00  2.24  2.54  3.06  1.32  5.60  3.00  5.00  6.00\n",
              " [37]  2.05  3.00  2.50  1.56  4.34  3.51  3.00  1.76  6.73  3.21  2.00  1.98\n",
              " [49]  3.76  2.64  3.15  2.01  2.09  1.97  1.25  3.08  4.00  3.00  2.71  3.00\n",
              " [61]  3.40  5.00  2.03  2.00  4.00  5.85  3.00  3.00  3.50  4.73  4.00  1.50\n",
              " [73]  3.00  1.50  1.64  4.06  4.29  3.76  3.00  4.00  2.55  5.07  2.31  2.50\n",
              " [85]  2.00  1.48  2.18  1.50  2.00  6.70  5.00  1.73  2.00  2.50  2.00  2.74\n",
              " [97]  2.00  2.00  5.00  2.00  3.50  2.50  2.00  3.48  2.24  4.50 10.00  3.16\n",
              "[109]  5.15  3.18  4.00  3.11  2.00  2.00  3.55  3.68  5.65  3.50  6.50  3.00\n",
              "[121]  5.00  2.00  4.00  1.50  2.56  2.02  4.00  1.44  2.00  2.00  4.00  4.00\n",
              "[133]  3.41  3.00  2.03  2.00  5.16  9.00  3.00  1.50  1.44  2.20  1.92  1.58\n",
              "[145]  3.00  2.72  2.00  3.00  3.39  1.47  3.00  1.25  1.00  1.17  5.92  2.00\n",
              "[157]  1.75"
            ]
          },
          "metadata": {}
        }
      ]
    },
    {
      "cell_type": "code",
      "source": [
        "mean(df[ df$sex == 'Female', ]$tip)\n",
        "mean(df[ df$sex == 'Male', ]$tip)"
      ],
      "metadata": {
        "colab": {
          "base_uri": "https://localhost:8080/",
          "height": 52
        },
        "id": "ys3u0MVVbVIO",
        "outputId": "7250b216-bbe9-412f-918e-7e798db31249"
      },
      "execution_count": 54,
      "outputs": [
        {
          "output_type": "display_data",
          "data": {
            "text/html": [
              "2.83344827586207"
            ],
            "text/markdown": "2.83344827586207",
            "text/latex": "2.83344827586207",
            "text/plain": [
              "[1] 2.833448"
            ]
          },
          "metadata": {}
        },
        {
          "output_type": "display_data",
          "data": {
            "text/html": [
              "3.0896178343949"
            ],
            "text/markdown": "3.0896178343949",
            "text/latex": "3.0896178343949",
            "text/plain": [
              "[1] 3.089618"
            ]
          },
          "metadata": {}
        }
      ]
    },
    {
      "cell_type": "markdown",
      "source": [
        "### Proporções"
      ],
      "metadata": {
        "id": "6GVPE-_jbfBm"
      }
    },
    {
      "cell_type": "code",
      "source": [
        "table(df$sex)"
      ],
      "metadata": {
        "colab": {
          "base_uri": "https://localhost:8080/",
          "height": 69
        },
        "id": "PE5qgSaLbgCG",
        "outputId": "bc1f1115-0184-48f0-8d7b-c50d73b7c895"
      },
      "execution_count": 55,
      "outputs": [
        {
          "output_type": "display_data",
          "data": {
            "text/plain": [
              "\n",
              "Female   Male \n",
              "    87    157 "
            ]
          },
          "metadata": {}
        }
      ]
    },
    {
      "cell_type": "code",
      "source": [
        "df[ df$sex == 'Male', ]\n"
      ],
      "metadata": {
        "id": "k-enzfzwbw11"
      },
      "execution_count": null,
      "outputs": []
    },
    {
      "cell_type": "code",
      "source": [
        "nrow(df[ df$sex == 'Male', ]) / nrow(df)"
      ],
      "metadata": {
        "colab": {
          "base_uri": "https://localhost:8080/",
          "height": 34
        },
        "id": "T-GUTLnDbqWt",
        "outputId": "edd56d6b-9710-4d4c-f442-d826342c9b8a"
      },
      "execution_count": 60,
      "outputs": [
        {
          "output_type": "display_data",
          "data": {
            "text/html": [
              "0.64344262295082"
            ],
            "text/markdown": "0.64344262295082",
            "text/latex": "0.64344262295082",
            "text/plain": [
              "[1] 0.6434426"
            ]
          },
          "metadata": {}
        }
      ]
    },
    {
      "cell_type": "code",
      "source": [
        "nrow(df[ df$day == 'Sun', ]) / nrow(df)"
      ],
      "metadata": {
        "colab": {
          "base_uri": "https://localhost:8080/",
          "height": 34
        },
        "id": "G1IjinuScLJN",
        "outputId": "0cc5b396-1145-4e02-99d0-1f36d8b994d0"
      },
      "execution_count": 61,
      "outputs": [
        {
          "output_type": "display_data",
          "data": {
            "text/html": [
              "0.311475409836066"
            ],
            "text/markdown": "0.311475409836066",
            "text/latex": "0.311475409836066",
            "text/plain": [
              "[1] 0.3114754"
            ]
          },
          "metadata": {}
        }
      ]
    },
    {
      "cell_type": "markdown",
      "source": [
        "### Proporção dos Valores"
      ],
      "metadata": {
        "id": "a2zT8N-qcR6q"
      }
    },
    {
      "cell_type": "code",
      "source": [
        "sum(df$total_bill)"
      ],
      "metadata": {
        "colab": {
          "base_uri": "https://localhost:8080/",
          "height": 34
        },
        "id": "lpvTZ4YccXXd",
        "outputId": "3f11d259-a4eb-484b-bd2f-1fb96c17a9c3"
      },
      "execution_count": 63,
      "outputs": [
        {
          "output_type": "display_data",
          "data": {
            "text/html": [
              "4827.77"
            ],
            "text/markdown": "4827.77",
            "text/latex": "4827.77",
            "text/plain": [
              "[1] 4827.77"
            ]
          },
          "metadata": {}
        }
      ]
    },
    {
      "cell_type": "code",
      "source": [
        "sum(df[ df$day == 'Sun', ]$total_bill)"
      ],
      "metadata": {
        "colab": {
          "base_uri": "https://localhost:8080/",
          "height": 34
        },
        "id": "i-NrccpXcffM",
        "outputId": "c783d603-60c4-4668-99c4-5a4491dcad10"
      },
      "execution_count": 66,
      "outputs": [
        {
          "output_type": "display_data",
          "data": {
            "text/html": [
              "1627.16"
            ],
            "text/markdown": "1627.16",
            "text/latex": "1627.16",
            "text/plain": [
              "[1] 1627.16"
            ]
          },
          "metadata": {}
        }
      ]
    },
    {
      "cell_type": "code",
      "source": [
        "sum(df[ df$day == 'Sun', ]$total_bill) / sum(df$total_bill)"
      ],
      "metadata": {
        "colab": {
          "base_uri": "https://localhost:8080/",
          "height": 34
        },
        "id": "r4k557Kicx21",
        "outputId": "5f9edd0d-8bbd-422b-a08e-332cc1fc201b"
      },
      "execution_count": 67,
      "outputs": [
        {
          "output_type": "display_data",
          "data": {
            "text/html": [
              "0.33704173976805"
            ],
            "text/markdown": "0.33704173976805",
            "text/latex": "0.33704173976805",
            "text/plain": [
              "[1] 0.3370417"
            ]
          },
          "metadata": {}
        }
      ]
    },
    {
      "cell_type": "markdown",
      "source": [
        "## Explorando Conceitos"
      ],
      "metadata": {
        "id": "1AmawHXfeOGR"
      }
    },
    {
      "cell_type": "markdown",
      "source": [
        "Leia o artigo de Wickham  (2014) intitulado “ Tidy Data”, publicado no Journal of  Statistical Software, v. 59 , n. 10., e entenda mais sobre a organização dos dados. O texto completo está disponível em: [Wickham, H. (2014). Tidy Data. Journal of Statistical Software, 59(10).](https://doi.org/10.18637/jss.v059.i10)\n",
        "\n",
        "Acesse a página datasets  built-in,  disponível em http://stat.ethz.ch/R-manual/R-patched/library/datasets/html/00Index.html, e explore outros conjuntos de dados nativos do pacote R.  "
      ],
      "metadata": {
        "id": "BCfstkFWeROj"
      }
    },
    {
      "cell_type": "markdown",
      "source": [
        "## Aplicando Conhecimento"
      ],
      "metadata": {
        "id": "Fo6cMGSfdqMs"
      }
    },
    {
      "cell_type": "markdown",
      "source": [
        "\n",
        "\n",
        "A partir do dataset: “insurance_dataset.csv” faça um código em R e responda as\n",
        "seguintes perguntas:\n",
        "a) Carregando o arquivo como um dataframe, quais seriam os nomes de\n",
        "cada uma das colunas?   \n",
        "b) Calcule o número de linhas do dataframe.   \n",
        "c) Qual a quantidade de colunas?   \n",
        "d) Quais são os tipos de dados? Descreva cada um deles.   \n",
        "e) Qual a frequência de valores para o atributo company_name?   \n",
        "f) Qual a média das variáveis premiums, claims e claim _premium_ration?   \n",
        "g) Faça uma seleção para encontrar quais são os estados correspondentes à\n",
        "empresa PQ Seguros S.A?   \n",
        "h) Descreva o código em R que utilizou para responder todas as perguntas\n",
        "acima   \n"
      ],
      "metadata": {
        "id": "eD0smMn8TUrE"
      }
    },
    {
      "cell_type": "code",
      "source": [
        "df_ins = read.csv(\"http://meusite.mackenzie.br/rogerio/data_load/insurance.csv\")"
      ],
      "metadata": {
        "id": "5LmqWsD1YjP5"
      },
      "execution_count": 72,
      "outputs": []
    },
    {
      "cell_type": "code",
      "source": [
        "head(df_ins)"
      ],
      "metadata": {
        "colab": {
          "base_uri": "https://localhost:8080/",
          "height": 286
        },
        "id": "HE0NN9UvgMM5",
        "outputId": "ac5ab48b-a9d1-4778-be35-463b80bdfe36"
      },
      "execution_count": 74,
      "outputs": [
        {
          "output_type": "display_data",
          "data": {
            "text/html": [
              "<table class=\"dataframe\">\n",
              "<caption>A data.frame: 6 × 7</caption>\n",
              "<thead>\n",
              "\t<tr><th></th><th scope=col>age</th><th scope=col>sex</th><th scope=col>bmi</th><th scope=col>children</th><th scope=col>smoker</th><th scope=col>region</th><th scope=col>charges</th></tr>\n",
              "\t<tr><th></th><th scope=col>&lt;int&gt;</th><th scope=col>&lt;chr&gt;</th><th scope=col>&lt;dbl&gt;</th><th scope=col>&lt;int&gt;</th><th scope=col>&lt;chr&gt;</th><th scope=col>&lt;chr&gt;</th><th scope=col>&lt;dbl&gt;</th></tr>\n",
              "</thead>\n",
              "<tbody>\n",
              "\t<tr><th scope=row>1</th><td>19</td><td>female</td><td>27.900</td><td>0</td><td>yes</td><td>southwest</td><td>16884.924</td></tr>\n",
              "\t<tr><th scope=row>2</th><td>18</td><td>male  </td><td>33.770</td><td>1</td><td>no </td><td>southeast</td><td> 1725.552</td></tr>\n",
              "\t<tr><th scope=row>3</th><td>28</td><td>male  </td><td>33.000</td><td>3</td><td>no </td><td>southeast</td><td> 4449.462</td></tr>\n",
              "\t<tr><th scope=row>4</th><td>33</td><td>male  </td><td>22.705</td><td>0</td><td>no </td><td>northwest</td><td>21984.471</td></tr>\n",
              "\t<tr><th scope=row>5</th><td>32</td><td>male  </td><td>28.880</td><td>0</td><td>no </td><td>northwest</td><td> 3866.855</td></tr>\n",
              "\t<tr><th scope=row>6</th><td>31</td><td>female</td><td>25.740</td><td>0</td><td>no </td><td>southeast</td><td> 3756.622</td></tr>\n",
              "</tbody>\n",
              "</table>\n"
            ],
            "text/markdown": "\nA data.frame: 6 × 7\n\n| <!--/--> | age &lt;int&gt; | sex &lt;chr&gt; | bmi &lt;dbl&gt; | children &lt;int&gt; | smoker &lt;chr&gt; | region &lt;chr&gt; | charges &lt;dbl&gt; |\n|---|---|---|---|---|---|---|---|\n| 1 | 19 | female | 27.900 | 0 | yes | southwest | 16884.924 |\n| 2 | 18 | male   | 33.770 | 1 | no  | southeast |  1725.552 |\n| 3 | 28 | male   | 33.000 | 3 | no  | southeast |  4449.462 |\n| 4 | 33 | male   | 22.705 | 0 | no  | northwest | 21984.471 |\n| 5 | 32 | male   | 28.880 | 0 | no  | northwest |  3866.855 |\n| 6 | 31 | female | 25.740 | 0 | no  | southeast |  3756.622 |\n\n",
            "text/latex": "A data.frame: 6 × 7\n\\begin{tabular}{r|lllllll}\n  & age & sex & bmi & children & smoker & region & charges\\\\\n  & <int> & <chr> & <dbl> & <int> & <chr> & <chr> & <dbl>\\\\\n\\hline\n\t1 & 19 & female & 27.900 & 0 & yes & southwest & 16884.924\\\\\n\t2 & 18 & male   & 33.770 & 1 & no  & southeast &  1725.552\\\\\n\t3 & 28 & male   & 33.000 & 3 & no  & southeast &  4449.462\\\\\n\t4 & 33 & male   & 22.705 & 0 & no  & northwest & 21984.471\\\\\n\t5 & 32 & male   & 28.880 & 0 & no  & northwest &  3866.855\\\\\n\t6 & 31 & female & 25.740 & 0 & no  & southeast &  3756.622\\\\\n\\end{tabular}\n",
            "text/plain": [
              "  age sex    bmi    children smoker region    charges  \n",
              "1 19  female 27.900 0        yes    southwest 16884.924\n",
              "2 18  male   33.770 1        no     southeast  1725.552\n",
              "3 28  male   33.000 3        no     southeast  4449.462\n",
              "4 33  male   22.705 0        no     northwest 21984.471\n",
              "5 32  male   28.880 0        no     northwest  3866.855\n",
              "6 31  female 25.740 0        no     southeast  3756.622"
            ]
          },
          "metadata": {}
        }
      ]
    },
    {
      "cell_type": "code",
      "source": [
        "# a) Carregando o arquivo como um dataframe, quais seriam os nomes de cada uma das colunas?\n",
        "\n",
        "ncol(df_ins)"
      ],
      "metadata": {
        "colab": {
          "base_uri": "https://localhost:8080/",
          "height": 34
        },
        "id": "9h9cplGAgfSZ",
        "outputId": "ba0690ad-2601-4005-8739-50dd9a1368d4"
      },
      "execution_count": 76,
      "outputs": [
        {
          "output_type": "display_data",
          "data": {
            "text/html": [
              "7"
            ],
            "text/markdown": "7",
            "text/latex": "7",
            "text/plain": [
              "[1] 7"
            ]
          },
          "metadata": {}
        }
      ]
    },
    {
      "cell_type": "code",
      "source": [
        "\n",
        "b) Calcule o número de linhas do dataframe.\n",
        "c) Qual a quantidade de colunas?\n",
        "d) Quais são os tipos de dados? Descreva cada um deles.\n",
        "e) Qual a frequência de valores para o atributo company_name?\n",
        "f) Qual a média das variáveis premiums, claims e claim _premium_ration?\n",
        "g) Faça uma seleção para encontrar quais são os estados correspondentes à\n",
        "empresa PQ Seguros S.A?\n",
        "h) Descreva o código em R que utilizou para responder todas as perguntas\n",
        "acima\n"
      ],
      "metadata": {
        "id": "8aATvlhsgZeq"
      },
      "execution_count": null,
      "outputs": []
    }
  ]
}