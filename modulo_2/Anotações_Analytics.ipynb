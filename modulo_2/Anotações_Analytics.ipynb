{
  "nbformat": 4,
  "nbformat_minor": 0,
  "metadata": {
    "colab": {
      "provenance": [],
      "authorship_tag": "ABX9TyPzC+Scu3WnpPf2qyga4xah",
      "include_colab_link": true
    },
    "kernelspec": {
      "name": "python3",
      "display_name": "Python 3"
    },
    "language_info": {
      "name": "python"
    }
  },
  "cells": [
    {
      "cell_type": "markdown",
      "metadata": {
        "id": "view-in-github",
        "colab_type": "text"
      },
      "source": [
        "<a href=\"https://colab.research.google.com/github/hevertonvalerio/Ciencia_de_dados_Mackenzie/blob/main/modulo_2/Anota%C3%A7%C3%B5es_Analytics.ipynb\" target=\"_parent\"><img src=\"https://colab.research.google.com/assets/colab-badge.svg\" alt=\"Open In Colab\"/></a>"
      ]
    },
    {
      "cell_type": "markdown",
      "source": [
        "# Anotações Analytics - Ciência de Dados"
      ],
      "metadata": {
        "id": "MN5ssmqNftPs"
      }
    },
    {
      "cell_type": "markdown",
      "source": [
        "## Aula 1 - Ciência de Dados"
      ],
      "metadata": {
        "id": "QMlZ1hiogEwl"
      }
    },
    {
      "cell_type": "markdown",
      "source": [
        "**Objetivo da Aula**   \n",
        "Os objetivos desta aula são conceituar Ciência de Dados e compreender Big Data.\n"
      ],
      "metadata": {
        "id": "frQBOn8Mf_jt"
      }
    },
    {
      "cell_type": "markdown",
      "source": [
        "**Conceitos basicos**\n",
        "\n",
        "Estatística, Negócios, Programação"
      ],
      "metadata": {
        "id": "N9X7YtdOhT76"
      }
    },
    {
      "cell_type": "markdown",
      "source": [
        "**Tomada de Decisão**"
      ],
      "metadata": {
        "id": "3_AjuO0pi4UB"
      }
    },
    {
      "cell_type": "markdown",
      "source": [
        "**Processos da Ciência de Dados**\n",
        "1. Definição do Problema\n",
        "2. Preparação dos Dados\n",
        "3. Análise Exploratória dos Dados\n",
        "4. Construção do Modelo Preditivo\n",
        "5. Visualização dos Dados"
      ],
      "metadata": {
        "id": "DZRdt4o8hV9d"
      }
    },
    {
      "cell_type": "markdown",
      "source": [
        "OLTP - sistemas que registram infomrações por transação\n",
        "\n",
        "OLAP - processo de criar, administrar, analisar e gerar relatórios sobre dados"
      ],
      "metadata": {
        "id": "o9CFT49KjVIL"
      }
    },
    {
      "cell_type": "markdown",
      "source": [
        "**Data Warehouse**"
      ],
      "metadata": {
        "id": "xBKvIeTQieKP"
      }
    },
    {
      "cell_type": "markdown",
      "source": [
        "precursos do Data lake\n",
        "\n",
        "buissness inteligence - voltado à histórico\n",
        "\n",
        "Características:\n",
        "*   Orientaçãoa por assunto\n",
        "*   Integração\n",
        "*   Variabilidade no tempo\n",
        "*   Não Volatilidade\n",
        "\n"
      ],
      "metadata": {
        "id": "wR0ru3fPjRXY"
      }
    },
    {
      "cell_type": "markdown",
      "source": [
        "**Data Lake**"
      ],
      "metadata": {
        "id": "Kw08XKVCidxN"
      }
    },
    {
      "cell_type": "markdown",
      "source": [
        "Ele está preocupado em juntar as informações e não coletar"
      ],
      "metadata": {
        "id": "N2L6Vdfjkt6P"
      }
    },
    {
      "cell_type": "markdown",
      "source": [
        "a idiea é ter um único respositório de dados dentro da empres."
      ],
      "metadata": {
        "id": "D2ia8nYrk1yP"
      }
    }
  ]
}