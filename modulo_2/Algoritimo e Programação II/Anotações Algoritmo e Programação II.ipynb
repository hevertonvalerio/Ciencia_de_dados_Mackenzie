{
  "cells": [
    {
      "cell_type": "markdown",
      "metadata": {
        "colab_type": "text",
        "id": "view-in-github"
      },
      "source": [
        "<a href=\"https://colab.research.google.com/github/hevertonvalerio/Ciencia_de_dados_Mackenzie/blob/main/modulo_2/Anota%C3%A7%C3%B5es%20Algoritmo%20e%20Programa%C3%A7%C3%A3o%20II.ipynb\" target=\"_parent\"><img src=\"https://colab.research.google.com/assets/colab-badge.svg\" alt=\"Open In Colab\"/></a>"
      ]
    },
    {
      "cell_type": "markdown",
      "metadata": {
        "id": "Us1jSWPfiTAd"
      },
      "source": [
        "# Anotações Algoritmo e Programação II\n"
      ]
    },
    {
      "cell_type": "markdown",
      "metadata": {
        "id": "a1HFqRm2iWxj"
      },
      "source": [
        "## Aula 1 - Funções e Procedimentos"
      ]
    },
    {
      "cell_type": "markdown",
      "metadata": {
        "id": "htr6Qbhk_cpX"
      },
      "source": [
        "**Objetivo da Aula**  \n",
        "Ao final da aula, você será capaz de construir funções e modularizar o código em Python."
      ]
    },
    {
      "cell_type": "code",
      "execution_count": 47,
      "metadata": {
        "id": "W4g9h-rWAsAi"
      },
      "outputs": [],
      "source": [
        "def nome(paramentros):\n",
        "  comandos"
      ]
    },
    {
      "cell_type": "code",
      "execution_count": 48,
      "metadata": {
        "colab": {
          "base_uri": "https://localhost:8080/"
        },
        "id": "YINHq83bBElQ",
        "outputId": "ce16428e-33ef-43e8-fa01-79b5bae89287"
      },
      "outputs": [
        {
          "name": "stdout",
          "output_type": "stream",
          "text": [
            "soma = 3\n"
          ]
        }
      ],
      "source": [
        "def soma(a,b):\n",
        "  res = a + b\n",
        "  return res\n",
        "\n",
        "x = 1\n",
        "y = 2\n",
        "\n",
        "print('soma =', soma(x,y))"
      ]
    },
    {
      "cell_type": "markdown",
      "metadata": {
        "id": "I2n1cln6Btzk"
      },
      "source": [
        "Variáveis locais e globais\n",
        "\n",
        "variaveis globais são as que estão fora da função\n",
        "\n",
        "```\n",
        "def f1(a):\n",
        "  # variáveis locais comandos\n",
        "  print(a + x)\n",
        "\n",
        "def f2(a):\n",
        "  # variáveis locais comandos\n",
        "  t = 4\n",
        "  print(a+x+y)\n",
        "\n",
        "# Variável global\n",
        "x=10\n",
        "f1(1)\n",
        "f2(2)\n",
        "\n",
        "print(x)\n",
        "\n",
        "```"
      ]
    },
    {
      "cell_type": "code",
      "execution_count": 49,
      "metadata": {
        "colab": {
          "base_uri": "https://localhost:8080/"
        },
        "id": "r28-PpWlBwXU",
        "outputId": "4993307f-51bd-4742-d61b-f157f4c4bacb"
      },
      "outputs": [
        {
          "name": "stdout",
          "output_type": "stream",
          "text": [
            "11\n",
            "14\n",
            "10\n"
          ]
        }
      ],
      "source": [
        "def f1(a):\n",
        "  # variáveis locais comandos\n",
        "  print(a + x)\n",
        "\n",
        "def f2(a):\n",
        "  # variáveis locais comandos\n",
        "  t = 4\n",
        "  print(a+x+y)\n",
        "\n",
        "# Variável global\n",
        "x=10\n",
        "f1(1)\n",
        "f2(2)\n",
        "\n",
        "print(x)"
      ]
    },
    {
      "cell_type": "markdown",
      "metadata": {
        "id": "Ugy9nY3QPz9Q"
      },
      "source": [
        "Aplicando Conhecimento - A1"
      ]
    },
    {
      "cell_type": "markdown",
      "metadata": {
        "id": "DBB0zhcKRFlp"
      },
      "source": [
        "Uma empresa de Data Warehouse precisa calcular o tempo necessário para fazer o\n",
        "backup de seus bancos de dados. Para isso, a empresa utiliza um aparelho\n",
        "específico de backup. Então, você foi contratado(a) para fazer um programa em\n",
        "Python que calcula o total de horas, minutos e segundos para fazer esse backup e\n",
        "quantas mídias (unidades de disco) serão necessárias. Os dados de entrada são: a\n",
        "quantidade de informações a ser copiada, um inteiro - em Megabytes - MB; a\n",
        "capacidade de armazenamento de uma mídia, um inteiro – também em MB; e a\n",
        "velocidade de transferência, um inteiro - representando MB por segundo (MB/s), do\n",
        "aparelho de backup.\n",
        "\n",
        ">\n",
        "\n",
        "A partir do descrito, desenvolva UM arquivo Python que contenha:   \n",
        "a) Uma única função que calcula e retorna quantas horas, minutos e segundos\n",
        "serão necessárias para fazer o backup;    \n",
        "b) Uma função que calcula e retorna quantas unidades de mídia necessárias\n",
        "para armazenar o backup;   \n",
        "c) Um procedimento principal, com o nome principal() e sem parâmetros, que lê\n",
        "os dados de entrada, utiliza as funções dos itens “a” e “b” e imprime os resultados\n",
        "obtidos.   \n",
        "d) Uma chamada ao procedimento principal do item “c”.   \n",
        "\n",
        ">\n",
        "\n",
        "Com a finalidade de nortear o seu desenvolvimento, são apresentados três exemplos\n",
        "de entrada e saída a seguir:\n",
        "Obs.: Tenha atenção às formatações dos resultados na saída.   \n",
        "\n",
        "Primeiro Exemplo   \n",
        "Entrada:\n",
        "Informe a quantidade de dados a ser copiada (em MB): 100   \n",
        "Informe a capacidade de armazenamento da mídia (em MB): 2   \n",
        "Faculdade de Computação e Informática   \n",
        "Informe a velocidade de transferência (em MB/s): 5   \n",
        "Saída:   \n",
        "O backup levará 000 horas, 00 minutos e 20 segundos.   \n",
        "Serão necessárias 50 mídias para armazenar o backup.\n",
        "\n",
        "Segundo Exemplo   \n",
        "Entrada:\n",
        "Informe a quantidade de dados a ser copiada (em MB): 10000\n",
        "Informe a capacidade de armazenamento da mídia (em MB): 3\n",
        "Informe a velocidade de transferência (em MB/s): 4\n",
        "Saída:\n",
        "O backup levará 000 horas, 41 minutos e 40 segundos.\n",
        "Serão necessárias 3334 mídias para armazenar o backup.   \n",
        "\n",
        "Terceiro Exemplo   \n",
        "Entrada:\n",
        "Informe a quantidade de dados a ser copiada (em MB): 100000\n",
        "Informe a capacidade de armazenamento da mídia (em MB): 4\n",
        "Informe a velocidade de transferência (em MB/s): 3\n",
        "Saída:\n",
        "O backup levará 009 horas, 15 minutos e 34 segundos.\n",
        "Serão necessárias 25000 mídias para armazenar o backup"
      ]
    },
    {
      "cell_type": "code",
      "execution_count": 129,
      "metadata": {},
      "outputs": [
        {
          "name": "stdout",
          "output_type": "stream",
          "text": [
            "O backup levará 9 horas, 15 minutos e, 34 segundos. Serão necessárias 25000 mídias para armazenar o backup.\n"
          ]
        }
      ],
      "source": [
        "import time\n",
        "import math\n",
        "\n",
        "# Lendo entradas globais:\n",
        "to_copy_MB = int(input('Informe a quantidade de dados a ser copiada (em MB): '))\n",
        "capacity_MB = int(input('Informe a capacidade de armazenamento da mídia  (em MB): '))\n",
        "veloc_MBS = int(input('Informe a velocidade de transferência (em MB/s): '))\n",
        "\n",
        "# Função A - Cálculo de Tempo necesário\n",
        "def A(to_copy_MB,veloc_MBS):\n",
        "    segundos = math.ceil(to_copy_MB / veloc_MBS) #//60\n",
        "    minutos = to_copy_MB / veloc_MBS #%(60*60)\n",
        "    horas = to_copy_MB / veloc_MBS #%(60*60)\n",
        "\n",
        "    sec = time.gmtime(segundos)\n",
        "    min = time.gmtime(minutos)\n",
        "    hr = time.gmtime(horas)\n",
        "    \n",
        "    return hr.tm_hour, min.tm_min, sec.tm_sec\n",
        "\n",
        "# Função B - Cálculo de Mídia necesária:\n",
        "def B(to_copy_MB,capacity_MB):\n",
        "    midia = math.ceil(to_copy_MB / capacity_MB)\n",
        "    return int(midia)\n",
        "\n",
        "# Função Principal\n",
        "def principal():\n",
        "    return print(f'O backup levará {A(to_copy_MB,veloc_MBS)[0]} horas, ' \n",
        "                                 f'{A(to_copy_MB,veloc_MBS)[1]} minutos e '\n",
        "                                 f'{A(to_copy_MB,veloc_MBS)[2]} segundos. ' \n",
        "        f'Serão necessárias {B(to_copy_MB,capacity_MB)} mídias para armazenar o backup.')\n",
        "\n",
        "# Chamada do Script\n",
        "principal()\n",
        "\n"
      ]
    },
    {
      "cell_type": "markdown",
      "metadata": {
        "id": "5EFmMgBoserl"
      },
      "source": [
        "## Aula 2 - Vetores, Matrizes e Listas"
      ]
    },
    {
      "cell_type": "markdown",
      "metadata": {
        "id": "VI_p0ONbiH8q"
      },
      "source": [
        "**Objetivo da Aula**\n",
        "\n",
        "Ao final da aula, você será capaz de utilizar vetores, matrizes e listas para organizar estruturas em Python."
      ]
    },
    {
      "cell_type": "code",
      "execution_count": 162,
      "metadata": {},
      "outputs": [
        {
          "data": {
            "text/plain": [
              "array([1, 2, 3, 4, 5])"
            ]
          },
          "execution_count": 162,
          "metadata": {},
          "output_type": "execute_result"
        }
      ],
      "source": [
        "import numpy as np\n",
        "\n",
        "# Lista com 5 elementos\n",
        "lista = np.array(range(1,6))\n",
        "lista\n"
      ]
    },
    {
      "cell_type": "code",
      "execution_count": 183,
      "metadata": {},
      "outputs": [
        {
          "data": {
            "text/plain": [
              "array([[1, 2, 3, 4, 5],\n",
              "       [1, 2, 3, 4, 5]])"
            ]
          },
          "execution_count": 183,
          "metadata": {},
          "output_type": "execute_result"
        }
      ],
      "source": [
        "import numpy as np\n",
        "\n",
        "# Matriz 2x5\n",
        "Matriz = np.stack([range(1,6),range(1,6)])\n",
        "Matriz\n"
      ]
    },
    {
      "cell_type": "code",
      "execution_count": 184,
      "metadata": {},
      "outputs": [
        {
          "data": {
            "text/html": [
              "<div>\n",
              "<style scoped>\n",
              "    .dataframe tbody tr th:only-of-type {\n",
              "        vertical-align: middle;\n",
              "    }\n",
              "\n",
              "    .dataframe tbody tr th {\n",
              "        vertical-align: top;\n",
              "    }\n",
              "\n",
              "    .dataframe thead th {\n",
              "        text-align: right;\n",
              "    }\n",
              "</style>\n",
              "<table border=\"1\" class=\"dataframe\">\n",
              "  <thead>\n",
              "    <tr style=\"text-align: right;\">\n",
              "      <th></th>\n",
              "      <th>0</th>\n",
              "      <th>1</th>\n",
              "      <th>2</th>\n",
              "      <th>3</th>\n",
              "      <th>4</th>\n",
              "    </tr>\n",
              "  </thead>\n",
              "  <tbody>\n",
              "    <tr>\n",
              "      <th>0</th>\n",
              "      <td>1</td>\n",
              "      <td>2</td>\n",
              "      <td>3</td>\n",
              "      <td>4</td>\n",
              "      <td>5</td>\n",
              "    </tr>\n",
              "    <tr>\n",
              "      <th>1</th>\n",
              "      <td>1</td>\n",
              "      <td>2</td>\n",
              "      <td>3</td>\n",
              "      <td>4</td>\n",
              "      <td>5</td>\n",
              "    </tr>\n",
              "  </tbody>\n",
              "</table>\n",
              "</div>"
            ],
            "text/plain": [
              "   0  1  2  3  4\n",
              "0  1  2  3  4  5\n",
              "1  1  2  3  4  5"
            ]
          },
          "execution_count": 184,
          "metadata": {},
          "output_type": "execute_result"
        }
      ],
      "source": [
        "import pandas as pd\n",
        "\n",
        "df = pd.DataFrame(Matriz)\n",
        "df"
      ]
    },
    {
      "cell_type": "code",
      "execution_count": 207,
      "metadata": {},
      "outputs": [],
      "source": [
        "df.rename(index = {0:'linha_1',\n",
        "                   1:'linha_2'}, \n",
        "                   inplace=True)"
      ]
    },
    {
      "cell_type": "code",
      "execution_count": 202,
      "metadata": {},
      "outputs": [],
      "source": [
        "df.columns = [f'c_{i+1}' for i in range(len(df.columns))]"
      ]
    },
    {
      "cell_type": "code",
      "execution_count": 215,
      "metadata": {},
      "outputs": [
        {
          "data": {
            "text/html": [
              "<div>\n",
              "<style scoped>\n",
              "    .dataframe tbody tr th:only-of-type {\n",
              "        vertical-align: middle;\n",
              "    }\n",
              "\n",
              "    .dataframe tbody tr th {\n",
              "        vertical-align: top;\n",
              "    }\n",
              "\n",
              "    .dataframe thead th {\n",
              "        text-align: right;\n",
              "    }\n",
              "</style>\n",
              "<table border=\"1\" class=\"dataframe\">\n",
              "  <thead>\n",
              "    <tr style=\"text-align: right;\">\n",
              "      <th></th>\n",
              "      <th>c_1</th>\n",
              "      <th>c_2</th>\n",
              "      <th>c_3</th>\n",
              "      <th>c_4</th>\n",
              "      <th>c_5</th>\n",
              "    </tr>\n",
              "  </thead>\n",
              "  <tbody>\n",
              "    <tr>\n",
              "      <th>linha_1</th>\n",
              "      <td>1</td>\n",
              "      <td>2</td>\n",
              "      <td>3</td>\n",
              "      <td>4</td>\n",
              "      <td>5</td>\n",
              "    </tr>\n",
              "    <tr>\n",
              "      <th>linha_2</th>\n",
              "      <td>1</td>\n",
              "      <td>2</td>\n",
              "      <td>3</td>\n",
              "      <td>4</td>\n",
              "      <td>5</td>\n",
              "    </tr>\n",
              "  </tbody>\n",
              "</table>\n",
              "</div>"
            ],
            "text/plain": [
              "         c_1  c_2  c_3  c_4  c_5\n",
              "linha_1    1    2    3    4    5\n",
              "linha_2    1    2    3    4    5"
            ]
          },
          "execution_count": 215,
          "metadata": {},
          "output_type": "execute_result"
        }
      ],
      "source": [
        "df"
      ]
    },
    {
      "cell_type": "code",
      "execution_count": 218,
      "metadata": {},
      "outputs": [],
      "source": [
        "# Alterando os dados da segunda linha\n",
        "df.loc['linha_2'] = [6, 7, 8, 9, 10]"
      ]
    },
    {
      "cell_type": "code",
      "execution_count": 219,
      "metadata": {},
      "outputs": [
        {
          "data": {
            "text/html": [
              "<div>\n",
              "<style scoped>\n",
              "    .dataframe tbody tr th:only-of-type {\n",
              "        vertical-align: middle;\n",
              "    }\n",
              "\n",
              "    .dataframe tbody tr th {\n",
              "        vertical-align: top;\n",
              "    }\n",
              "\n",
              "    .dataframe thead th {\n",
              "        text-align: right;\n",
              "    }\n",
              "</style>\n",
              "<table border=\"1\" class=\"dataframe\">\n",
              "  <thead>\n",
              "    <tr style=\"text-align: right;\">\n",
              "      <th></th>\n",
              "      <th>c_1</th>\n",
              "      <th>c_2</th>\n",
              "      <th>c_3</th>\n",
              "      <th>c_4</th>\n",
              "      <th>c_5</th>\n",
              "    </tr>\n",
              "  </thead>\n",
              "  <tbody>\n",
              "    <tr>\n",
              "      <th>linha_1</th>\n",
              "      <td>1</td>\n",
              "      <td>2</td>\n",
              "      <td>3</td>\n",
              "      <td>4</td>\n",
              "      <td>5</td>\n",
              "    </tr>\n",
              "    <tr>\n",
              "      <th>linha_2</th>\n",
              "      <td>6</td>\n",
              "      <td>7</td>\n",
              "      <td>8</td>\n",
              "      <td>9</td>\n",
              "      <td>10</td>\n",
              "    </tr>\n",
              "  </tbody>\n",
              "</table>\n",
              "</div>"
            ],
            "text/plain": [
              "         c_1  c_2  c_3  c_4  c_5\n",
              "linha_1    1    2    3    4    5\n",
              "linha_2    6    7    8    9   10"
            ]
          },
          "execution_count": 219,
          "metadata": {},
          "output_type": "execute_result"
        }
      ],
      "source": [
        "df"
      ]
    },
    {
      "cell_type": "code",
      "execution_count": 223,
      "metadata": {},
      "outputs": [],
      "source": [
        "# Acrescentando uma Coluna\n",
        "df['c_6'] = [6,11]"
      ]
    },
    {
      "cell_type": "code",
      "execution_count": 224,
      "metadata": {},
      "outputs": [
        {
          "data": {
            "text/html": [
              "<div>\n",
              "<style scoped>\n",
              "    .dataframe tbody tr th:only-of-type {\n",
              "        vertical-align: middle;\n",
              "    }\n",
              "\n",
              "    .dataframe tbody tr th {\n",
              "        vertical-align: top;\n",
              "    }\n",
              "\n",
              "    .dataframe thead th {\n",
              "        text-align: right;\n",
              "    }\n",
              "</style>\n",
              "<table border=\"1\" class=\"dataframe\">\n",
              "  <thead>\n",
              "    <tr style=\"text-align: right;\">\n",
              "      <th></th>\n",
              "      <th>c_1</th>\n",
              "      <th>c_2</th>\n",
              "      <th>c_3</th>\n",
              "      <th>c_4</th>\n",
              "      <th>c_5</th>\n",
              "      <th>c_6</th>\n",
              "    </tr>\n",
              "  </thead>\n",
              "  <tbody>\n",
              "    <tr>\n",
              "      <th>linha_1</th>\n",
              "      <td>1</td>\n",
              "      <td>2</td>\n",
              "      <td>3</td>\n",
              "      <td>4</td>\n",
              "      <td>5</td>\n",
              "      <td>6</td>\n",
              "    </tr>\n",
              "    <tr>\n",
              "      <th>linha_2</th>\n",
              "      <td>6</td>\n",
              "      <td>7</td>\n",
              "      <td>8</td>\n",
              "      <td>9</td>\n",
              "      <td>10</td>\n",
              "      <td>11</td>\n",
              "    </tr>\n",
              "  </tbody>\n",
              "</table>\n",
              "</div>"
            ],
            "text/plain": [
              "         c_1  c_2  c_3  c_4  c_5  c_6\n",
              "linha_1    1    2    3    4    5    6\n",
              "linha_2    6    7    8    9   10   11"
            ]
          },
          "execution_count": 224,
          "metadata": {},
          "output_type": "execute_result"
        }
      ],
      "source": [
        "df"
      ]
    },
    {
      "cell_type": "code",
      "execution_count": 225,
      "metadata": {},
      "outputs": [],
      "source": [
        "#Acrescentando uma linha\n",
        "df.loc['linha_3'] = [11, 12, 13, 14, 15, 16]"
      ]
    },
    {
      "cell_type": "code",
      "execution_count": 226,
      "metadata": {},
      "outputs": [
        {
          "data": {
            "text/html": [
              "<div>\n",
              "<style scoped>\n",
              "    .dataframe tbody tr th:only-of-type {\n",
              "        vertical-align: middle;\n",
              "    }\n",
              "\n",
              "    .dataframe tbody tr th {\n",
              "        vertical-align: top;\n",
              "    }\n",
              "\n",
              "    .dataframe thead th {\n",
              "        text-align: right;\n",
              "    }\n",
              "</style>\n",
              "<table border=\"1\" class=\"dataframe\">\n",
              "  <thead>\n",
              "    <tr style=\"text-align: right;\">\n",
              "      <th></th>\n",
              "      <th>c_1</th>\n",
              "      <th>c_2</th>\n",
              "      <th>c_3</th>\n",
              "      <th>c_4</th>\n",
              "      <th>c_5</th>\n",
              "      <th>c_6</th>\n",
              "    </tr>\n",
              "  </thead>\n",
              "  <tbody>\n",
              "    <tr>\n",
              "      <th>linha_1</th>\n",
              "      <td>1</td>\n",
              "      <td>2</td>\n",
              "      <td>3</td>\n",
              "      <td>4</td>\n",
              "      <td>5</td>\n",
              "      <td>6</td>\n",
              "    </tr>\n",
              "    <tr>\n",
              "      <th>linha_2</th>\n",
              "      <td>6</td>\n",
              "      <td>7</td>\n",
              "      <td>8</td>\n",
              "      <td>9</td>\n",
              "      <td>10</td>\n",
              "      <td>11</td>\n",
              "    </tr>\n",
              "    <tr>\n",
              "      <th>linha_3</th>\n",
              "      <td>11</td>\n",
              "      <td>12</td>\n",
              "      <td>13</td>\n",
              "      <td>14</td>\n",
              "      <td>15</td>\n",
              "      <td>16</td>\n",
              "    </tr>\n",
              "  </tbody>\n",
              "</table>\n",
              "</div>"
            ],
            "text/plain": [
              "         c_1  c_2  c_3  c_4  c_5  c_6\n",
              "linha_1    1    2    3    4    5    6\n",
              "linha_2    6    7    8    9   10   11\n",
              "linha_3   11   12   13   14   15   16"
            ]
          },
          "execution_count": 226,
          "metadata": {},
          "output_type": "execute_result"
        }
      ],
      "source": [
        "df"
      ]
    },
    {
      "cell_type": "markdown",
      "metadata": {},
      "source": [
        "---"
      ]
    },
    {
      "cell_type": "code",
      "execution_count": null,
      "metadata": {
        "id": "Et3zpMS0lP0t"
      },
      "outputs": [],
      "source": [
        "append\n",
        "del\n",
        "extend\n",
        "in\n",
        "len\n",
        "max\n",
        "min\n",
        "reverse()\n",
        "sort()\n",
        "sum"
      ]
    },
    {
      "cell_type": "code",
      "execution_count": null,
      "metadata": {
        "colab": {
          "base_uri": "https://localhost:8080/"
        },
        "id": "PTd0z-C2yiI6",
        "outputId": "d93ebce9-2b41-45be-8a39-e0fded073bb4"
      },
      "outputs": [
        {
          "name": "stdout",
          "output_type": "stream",
          "text": [
            "[5, 4, 3, 2, 1]\n"
          ]
        }
      ],
      "source": [
        "L = [1,2,3,4,5]\n",
        "L.reverse()\n",
        "print(L)"
      ]
    },
    {
      "cell_type": "code",
      "execution_count": null,
      "metadata": {
        "colab": {
          "base_uri": "https://localhost:8080/",
          "height": 375
        },
        "id": "6ttTyAkQ67HU",
        "outputId": "db384636-63ad-40e7-824a-4e0bbdb667c4"
      },
      "outputs": [],
      "source": [
        "# Faça um Programa que leia seis números inteiros e armazene-os  em um vetor.\n",
        "# Armazene os números pares no vetor PAR e os números ÍMPARES no vetor  ímpar.\n",
        "# Imprima os três vetores.\n",
        "\n",
        "import numpy as np\n",
        "\n",
        "vetor = [input('Digite 6 números inteiros separados por espaço: ').split()]\n",
        "for i in vetor:\n",
        "  if i % 2 == 0:\n",
        "    vetor_par = vetor_par.append(vetor)\n",
        "  else:\n",
        "    vetor_impar = vetor_impar.append(vetor)\n",
        "\n",
        "print(vetor)\n",
        "print(vetor_par)\n",
        "print(vetor_impar)\n",
        "\n",
        "\n"
      ]
    },
    {
      "cell_type": "markdown",
      "metadata": {
        "id": "24fy6L_j6yx4"
      },
      "source": [
        "### Praticando\n"
      ]
    },
    {
      "cell_type": "markdown",
      "metadata": {
        "id": "760Sv_8dXtdX"
      },
      "source": [
        "### Aplicando Conhecimento"
      ]
    },
    {
      "cell_type": "code",
      "execution_count": null,
      "metadata": {
        "id": "vL6ACyPCZDyt"
      },
      "outputs": [],
      "source": []
    },
    {
      "cell_type": "markdown",
      "metadata": {
        "id": "QszfbiW2mERi"
      },
      "source": [
        "----"
      ]
    },
    {
      "cell_type": "code",
      "execution_count": null,
      "metadata": {
        "id": "V45kr096mmoL"
      },
      "outputs": [],
      "source": []
    },
    {
      "cell_type": "markdown",
      "metadata": {},
      "source": [
        "## Aula 3 - "
      ]
    },
    {
      "cell_type": "markdown",
      "metadata": {
        "id": "KNVc_hgA8XIn"
      },
      "source": [
        "## Aula 4 -"
      ]
    },
    {
      "cell_type": "markdown",
      "metadata": {
        "id": "e5obp78j0r2u"
      },
      "source": [
        "### Praticando"
      ]
    },
    {
      "cell_type": "markdown",
      "metadata": {
        "id": "na8nfVnh8ai8"
      },
      "source": [
        "### Aplicando Conhecimento"
      ]
    }
  ],
  "metadata": {
    "colab": {
      "authorship_tag": "ABX9TyM/qLTtZLyla0ASIZEyvBcA",
      "include_colab_link": true,
      "provenance": []
    },
    "kernelspec": {
      "display_name": "Python 3",
      "name": "python3"
    },
    "language_info": {
      "codemirror_mode": {
        "name": "ipython",
        "version": 3
      },
      "file_extension": ".py",
      "mimetype": "text/x-python",
      "name": "python",
      "nbconvert_exporter": "python",
      "pygments_lexer": "ipython3",
      "version": "3.12.5"
    }
  },
  "nbformat": 4,
  "nbformat_minor": 0
}
