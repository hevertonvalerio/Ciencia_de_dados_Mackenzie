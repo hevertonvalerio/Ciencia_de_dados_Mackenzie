{
  "cells": [
    {
      "cell_type": "markdown",
      "metadata": {
        "colab_type": "text",
        "id": "view-in-github"
      },
      "source": [
        "<a href=\"https://colab.research.google.com/github/hevertonvalerio/Ciencia_de_dados_Mackenzie/blob/main/modulo_2/Anota%C3%A7%C3%B5es%20Algoritmo%20e%20Programa%C3%A7%C3%A3o%20II.ipynb\" target=\"_parent\"><img src=\"https://colab.research.google.com/assets/colab-badge.svg\" alt=\"Open In Colab\"/></a>"
      ]
    },
    {
      "cell_type": "markdown",
      "metadata": {
        "id": "Us1jSWPfiTAd"
      },
      "source": [
        "# Anotações Algoritmo e Programação II\n"
      ]
    },
    {
      "cell_type": "markdown",
      "metadata": {
        "id": "a1HFqRm2iWxj"
      },
      "source": [
        "## Aula 1 - Funções e Procedimentos"
      ]
    },
    {
      "cell_type": "markdown",
      "metadata": {
        "id": "htr6Qbhk_cpX"
      },
      "source": [
        "**Objetivo da Aula**  \n",
        "Ao final da aula, você será capaz de construir funções e modularizar o código em Python."
      ]
    },
    {
      "cell_type": "code",
      "execution_count": null,
      "metadata": {
        "id": "W4g9h-rWAsAi"
      },
      "outputs": [],
      "source": [
        "def nome(paramentros):\n",
        "  comandos"
      ]
    },
    {
      "cell_type": "code",
      "execution_count": null,
      "metadata": {
        "colab": {
          "base_uri": "https://localhost:8080/"
        },
        "id": "YINHq83bBElQ",
        "outputId": "ce16428e-33ef-43e8-fa01-79b5bae89287"
      },
      "outputs": [
        {
          "name": "stdout",
          "output_type": "stream",
          "text": [
            "soma = 3\n"
          ]
        }
      ],
      "source": [
        "def soma(a,b):\n",
        "  res = a + b\n",
        "  return res\n",
        "\n",
        "x = 1\n",
        "y = 2\n",
        "\n",
        "print('soma =', soma(x,y))"
      ]
    },
    {
      "cell_type": "markdown",
      "metadata": {
        "id": "I2n1cln6Btzk"
      },
      "source": [
        "Variáveis locais e globais\n",
        "\n",
        "variaveis globais são as que estão fora da função\n",
        "\n",
        "```\n",
        "def f1(a):\n",
        "  # variáveis locais comandos\n",
        "  print(a + x)\n",
        "\n",
        "def f2(a):\n",
        "  # variáveis locais comandos\n",
        "  t = 4\n",
        "  print(a+x+y)\n",
        "\n",
        "# Variável global\n",
        "x=10\n",
        "f1(1)\n",
        "f2(2)\n",
        "\n",
        "print(x)\n",
        "\n",
        "```"
      ]
    },
    {
      "cell_type": "code",
      "execution_count": null,
      "metadata": {
        "colab": {
          "base_uri": "https://localhost:8080/"
        },
        "id": "r28-PpWlBwXU",
        "outputId": "4993307f-51bd-4742-d61b-f157f4c4bacb"
      },
      "outputs": [
        {
          "name": "stdout",
          "output_type": "stream",
          "text": [
            "11\n",
            "14\n",
            "10\n"
          ]
        }
      ],
      "source": [
        "def f1(a):\n",
        "  # variáveis locais comandos\n",
        "  print(a + x)\n",
        "\n",
        "def f2(a):\n",
        "  # variáveis locais comandos\n",
        "  t = 4\n",
        "  print(a+x+y)\n",
        "\n",
        "# Variável global\n",
        "x=10\n",
        "f1(1)\n",
        "f2(2)\n",
        "\n",
        "print(x)"
      ]
    },
    {
      "cell_type": "markdown",
      "metadata": {
        "id": "Ugy9nY3QPz9Q"
      },
      "source": [
        "Aplicando Conhecimento"
      ]
    },
    {
      "cell_type": "markdown",
      "metadata": {
        "id": "DBB0zhcKRFlp"
      },
      "source": [
        "Uma empresa de Data Warehouse precisa calcular o tempo necessário para fazer o\n",
        "backup de seus bancos de dados. Para isso, a empresa utiliza um aparelho\n",
        "específico de backup. Então, você foi contratado(a) para fazer um programa em\n",
        "Python que calcula o total de horas, minutos e segundos para fazer esse backup e\n",
        "quantas mídias (unidades de disco) serão necessárias. Os dados de entrada são: a\n",
        "quantidade de informações a ser copiada, um inteiro - em Megabytes - MB; a\n",
        "capacidade de armazenamento de uma mídia, um inteiro – também em MB; e a\n",
        "velocidade de transferência, um inteiro - representando MB por segundo (MB/s), do\n",
        "aparelho de backup.\n",
        "\n",
        ">\n",
        "\n",
        "A partir do descrito, desenvolva UM arquivo Python que contenha:   \n",
        "a) Uma única função que calcula e retorna quantas horas, minutos e segundos\n",
        "serão necessárias para fazer o backup;    \n",
        "b) Uma função que calcula e retorna quantas unidades de mídia necessárias\n",
        "para armazenar o backup;   \n",
        "c) Um procedimento principal, com o nome principal() e sem parâmetros, que lê\n",
        "os dados de entrada, utiliza as funções dos itens “a” e “b” e imprime os resultados\n",
        "obtidos.   \n",
        "d) Uma chamada ao procedimento principal do item “c”.   \n",
        "\n",
        ">\n",
        "\n",
        "Com a finalidade de nortear o seu desenvolvimento, são apresentados três exemplos\n",
        "de entrada e saída a seguir:\n",
        "Obs.: Tenha atenção às formatações dos resultados na saída.   \n",
        "\n",
        "Primeiro Exemplo   \n",
        "Entrada:\n",
        "Informe a quantidade de dados a ser copiada (em MB): 100   \n",
        "Informe a capacidade de armazenamento da mídia (em MB): 2   \n",
        "Faculdade de Computação e Informática   \n",
        "Informe a velocidade de transferência (em MB/s): 5   \n",
        "Saída:   \n",
        "O backup levará 000 horas, 00 minutos e 20 segundos.   \n",
        "Serão necessárias 50 mídias para armazenar o backup.\n",
        "\n",
        "Segundo Exemplo   \n",
        "Entrada:\n",
        "Informe a quantidade de dados a ser copiada (em MB): 10000\n",
        "Informe a capacidade de armazenamento da mídia (em MB): 3\n",
        "Informe a velocidade de transferência (em MB/s): 4\n",
        "Saída:\n",
        "O backup levará 000 horas, 41 minutos e 40 segundos.\n",
        "Serão necessárias 3334 mídias para armazenar o backup.   \n",
        "\n",
        "Terceiro Exemplo   \n",
        "Entrada:\n",
        "Informe a quantidade de dados a ser copiada (em MB): 100000\n",
        "Informe a capacidade de armazenamento da mídia (em MB): 4\n",
        "Informe a velocidade de transferência (em MB/s): 3\n",
        "Saída:\n",
        "O backup levará 009 horas, 15 minutos e 34 segundos.\n",
        "Serão necessárias 25000 mídias para armazenar o backup"
      ]
    },
    {
      "cell_type": "markdown",
      "metadata": {
        "id": "5EFmMgBoserl"
      },
      "source": [
        "## Aula 2 -"
      ]
    },
    {
      "cell_type": "markdown",
      "metadata": {
        "id": "VI_p0ONbiH8q"
      },
      "source": [
        "**Objetivo da Aula**\n",
        "\n",
        "Ao final da aula, você será capaz de utilizar vetores, matrizes e listas para organizar estruturas em Python."
      ]
    },
    {
      "cell_type": "markdown",
      "metadata": {
        "id": "LBGDZGpzkHn0"
      },
      "source": []
    },
    {
      "cell_type": "code",
      "execution_count": null,
      "metadata": {
        "id": "Et3zpMS0lP0t"
      },
      "outputs": [],
      "source": [
        "append\n",
        "del\n",
        "extend\n",
        "in\n",
        "len\n",
        "max\n",
        "min\n",
        "reverse()\n",
        "sort()\n",
        "sum"
      ]
    },
    {
      "cell_type": "code",
      "execution_count": null,
      "metadata": {
        "colab": {
          "base_uri": "https://localhost:8080/"
        },
        "id": "PTd0z-C2yiI6",
        "outputId": "d93ebce9-2b41-45be-8a39-e0fded073bb4"
      },
      "outputs": [
        {
          "name": "stdout",
          "output_type": "stream",
          "text": [
            "[5, 4, 3, 2, 1]\n"
          ]
        }
      ],
      "source": [
        "L = [1,2,3,4,5]\n",
        "L.reverse()\n",
        "print(L)"
      ]
    },
    {
      "cell_type": "code",
      "execution_count": null,
      "metadata": {
        "colab": {
          "base_uri": "https://localhost:8080/",
          "height": 375
        },
        "id": "6ttTyAkQ67HU",
        "outputId": "db384636-63ad-40e7-824a-4e0bbdb667c4"
      },
      "outputs": [],
      "source": [
        "# Faça um Programa que leia seis números inteiros e armazene-os  em um vetor.\n",
        "# Armazene os números pares no vetor PAR e os números ÍMPARES no vetor  ímpar.\n",
        "# Imprima os três vetores.\n",
        "\n",
        "import numpy as np\n",
        "\n",
        "vetor = [input('Digite 6 números inteiros separados por espaço: ').split()]\n",
        "for i in vetor:\n",
        "  if i % 2 == 0:\n",
        "    vetor_par = vetor_par.append(vetor)\n",
        "  else:\n",
        "    vetor_impar = vetor_impar.append(vetor)\n",
        "\n",
        "print(vetor)\n",
        "print(vetor_par)\n",
        "print(vetor_impar)\n",
        "\n",
        "\n"
      ]
    },
    {
      "cell_type": "markdown",
      "metadata": {
        "id": "24fy6L_j6yx4"
      },
      "source": [
        "### Praticando\n"
      ]
    },
    {
      "cell_type": "markdown",
      "metadata": {
        "id": "760Sv_8dXtdX"
      },
      "source": [
        "### Aplicando Conhecimento"
      ]
    },
    {
      "cell_type": "code",
      "execution_count": null,
      "metadata": {
        "id": "vL6ACyPCZDyt"
      },
      "outputs": [],
      "source": []
    },
    {
      "cell_type": "markdown",
      "metadata": {
        "id": "QszfbiW2mERi"
      },
      "source": [
        "----"
      ]
    },
    {
      "cell_type": "code",
      "execution_count": null,
      "metadata": {
        "id": "V45kr096mmoL"
      },
      "outputs": [],
      "source": []
    },
    {
      "cell_type": "markdown",
      "metadata": {},
      "source": [
        "## Aula 3 - "
      ]
    },
    {
      "cell_type": "markdown",
      "metadata": {
        "id": "KNVc_hgA8XIn"
      },
      "source": [
        "## Aula 4 -"
      ]
    },
    {
      "cell_type": "markdown",
      "metadata": {
        "id": "e5obp78j0r2u"
      },
      "source": [
        "### Praticando"
      ]
    },
    {
      "cell_type": "markdown",
      "metadata": {
        "id": "na8nfVnh8ai8"
      },
      "source": [
        "### Aplicando Conhecimento"
      ]
    }
  ],
  "metadata": {
    "colab": {
      "authorship_tag": "ABX9TyM/qLTtZLyla0ASIZEyvBcA",
      "include_colab_link": true,
      "provenance": []
    },
    "kernelspec": {
      "display_name": "Python 3",
      "name": "python3"
    },
    "language_info": {
      "name": "python"
    }
  },
  "nbformat": 4,
  "nbformat_minor": 0
}
