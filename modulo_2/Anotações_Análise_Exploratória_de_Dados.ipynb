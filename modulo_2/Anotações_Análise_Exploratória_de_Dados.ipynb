{
  "nbformat": 4,
  "nbformat_minor": 0,
  "metadata": {
    "colab": {
      "provenance": [],
      "authorship_tag": "ABX9TyPdwiWi9CnDxMYGtFetiZI7",
      "include_colab_link": true
    },
    "kernelspec": {
      "name": "python3",
      "display_name": "Python 3"
    },
    "language_info": {
      "name": "python"
    }
  },
  "cells": [
    {
      "cell_type": "markdown",
      "metadata": {
        "id": "view-in-github",
        "colab_type": "text"
      },
      "source": [
        "<a href=\"https://colab.research.google.com/github/hevertonvalerio/Ciencia_de_dados_Mackenzie/blob/main/modulo_2/Anota%C3%A7%C3%B5es_An%C3%A1lise_Explorat%C3%B3ria_de_Dados.ipynb\" target=\"_parent\"><img src=\"https://colab.research.google.com/assets/colab-badge.svg\" alt=\"Open In Colab\"/></a>"
      ]
    },
    {
      "cell_type": "markdown",
      "source": [
        "# Anotações Análise Exploratória de Dados"
      ],
      "metadata": {
        "id": "Ij_OT1vcC5T0"
      }
    },
    {
      "cell_type": "markdown",
      "source": [
        "## Aula 1 - Introdução à Análise Exploratória e aos Ambientes R"
      ],
      "metadata": {
        "id": "p_Klt5lvDKJr"
      }
    },
    {
      "cell_type": "markdown",
      "source": [
        "**Objetivo da Aula**   \n",
        "Nesta aula, você aprenderá sobre o que é a Análise Exploratória de Dados e sua importância, onde se insere a Análise Exploratória de Dados no contexto geral da Ciência de Dados e o que é a linguagem R e como empregar seus ambientes na programação.\n",
        "\n"
      ],
      "metadata": {
        "id": "rQ9-tCNjDVNZ"
      }
    },
    {
      "cell_type": "markdown",
      "source": [
        "https://www.r-project.org/\n",
        "\n",
        "rstudio.com -> https://posit.co/"
      ],
      "metadata": {
        "id": "0MyGfV_WGxJk"
      }
    },
    {
      "cell_type": "code",
      "source": [
        "colab.to/r"
      ],
      "metadata": {
        "id": "y6qMaOppGxxf"
      },
      "execution_count": null,
      "outputs": []
    }
  ]
}