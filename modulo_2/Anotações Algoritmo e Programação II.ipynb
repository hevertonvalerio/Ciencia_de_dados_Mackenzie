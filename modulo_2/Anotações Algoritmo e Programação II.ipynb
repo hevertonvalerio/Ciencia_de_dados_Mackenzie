{
  "nbformat": 4,
  "nbformat_minor": 0,
  "metadata": {
    "colab": {
      "provenance": [],
      "authorship_tag": "ABX9TyNcFs/uafn2CNveBxJK2oEw",
      "include_colab_link": true
    },
    "kernelspec": {
      "name": "python3",
      "display_name": "Python 3"
    },
    "language_info": {
      "name": "python"
    }
  },
  "cells": [
    {
      "cell_type": "markdown",
      "metadata": {
        "id": "view-in-github",
        "colab_type": "text"
      },
      "source": [
        "<a href=\"https://colab.research.google.com/github/hevertonvalerio/Ciencia_de_dados_Mackenzie/blob/main/modulo_2/Anota%C3%A7%C3%B5es%20Algoritmo%20e%20Programa%C3%A7%C3%A3o%20II.ipynb\" target=\"_parent\"><img src=\"https://colab.research.google.com/assets/colab-badge.svg\" alt=\"Open In Colab\"/></a>"
      ]
    },
    {
      "cell_type": "markdown",
      "source": [
        "# Anotações Algoritmo e Programação II\n"
      ],
      "metadata": {
        "id": "Us1jSWPfiTAd"
      }
    },
    {
      "cell_type": "markdown",
      "source": [
        "## Aula 1 - Funções e Procedimentos"
      ],
      "metadata": {
        "id": "a1HFqRm2iWxj"
      }
    },
    {
      "cell_type": "markdown",
      "source": [
        "**Objetivo da Aula**  \n",
        "Ao final da aula, você será capaz de construir funções e modularizar o código em Python."
      ],
      "metadata": {
        "id": "htr6Qbhk_cpX"
      }
    },
    {
      "cell_type": "code",
      "source": [
        "def nome(paramentros):\n",
        "  comandos"
      ],
      "metadata": {
        "id": "W4g9h-rWAsAi"
      },
      "execution_count": null,
      "outputs": []
    },
    {
      "cell_type": "code",
      "source": [
        "def soma(a,b):\n",
        "  res = a + b\n",
        "  return res\n",
        "\n",
        "x = 1\n",
        "y = 2\n",
        "\n",
        "print('soma =', soma(x,y))"
      ],
      "metadata": {
        "id": "YINHq83bBElQ",
        "outputId": "ce16428e-33ef-43e8-fa01-79b5bae89287",
        "colab": {
          "base_uri": "https://localhost:8080/"
        }
      },
      "execution_count": null,
      "outputs": [
        {
          "output_type": "stream",
          "name": "stdout",
          "text": [
            "soma = 3\n"
          ]
        }
      ]
    },
    {
      "cell_type": "markdown",
      "source": [
        "Variáveis locais e globais\n",
        "\n",
        "variaveis globais são as que estão fora da função\n",
        "\n",
        "```\n",
        "def f1(a):\n",
        "  # variáveis locais comandos\n",
        "  print(a + x)\n",
        "\n",
        "def f2(a):\n",
        "  # variáveis locais comandos\n",
        "  t = 4\n",
        "  print(a+x+y)\n",
        "\n",
        "# Variável global\n",
        "x=10\n",
        "f1(1)\n",
        "f2(2)\n",
        "\n",
        "print(x)\n",
        "\n",
        "```"
      ],
      "metadata": {
        "id": "I2n1cln6Btzk"
      }
    },
    {
      "cell_type": "code",
      "source": [
        "def f1(a):\n",
        "  # variáveis locais comandos\n",
        "  print(a + x)\n",
        "\n",
        "def f2(a):\n",
        "  # variáveis locais comandos\n",
        "  t = 4\n",
        "  print(a+x+y)\n",
        "\n",
        "# Variável global\n",
        "x=10\n",
        "f1(1)\n",
        "f2(2)\n",
        "\n",
        "print(x)"
      ],
      "metadata": {
        "id": "r28-PpWlBwXU",
        "outputId": "4993307f-51bd-4742-d61b-f157f4c4bacb",
        "colab": {
          "base_uri": "https://localhost:8080/"
        }
      },
      "execution_count": null,
      "outputs": [
        {
          "output_type": "stream",
          "name": "stdout",
          "text": [
            "11\n",
            "14\n",
            "10\n"
          ]
        }
      ]
    },
    {
      "cell_type": "markdown",
      "source": [],
      "metadata": {
        "id": "uuYIsjOARnzt"
      }
    },
    {
      "cell_type": "markdown",
      "source": [
        "Aplicando Conhecimento"
      ],
      "metadata": {
        "id": "Ugy9nY3QPz9Q"
      }
    },
    {
      "cell_type": "markdown",
      "source": [
        "Uma empresa de Data Warehouse precisa calcular o tempo necessário para fazer o\n",
        "backup de seus bancos de dados. Para isso, a empresa utiliza um aparelho\n",
        "específico de backup. Então, você foi contratado(a) para fazer um programa em\n",
        "Python que calcula o total de horas, minutos e segundos para fazer esse backup e\n",
        "quantas mídias (unidades de disco) serão necessárias. Os dados de entrada são: a\n",
        "quantidade de informações a ser copiada, um inteiro - em Megabytes - MB; a\n",
        "capacidade de armazenamento de uma mídia, um inteiro – também em MB; e a\n",
        "velocidade de transferência, um inteiro - representando MB por segundo (MB/s), do\n",
        "aparelho de backup.\n",
        "\n",
        ">\n",
        "\n",
        "A partir do descrito, desenvolva UM arquivo Python que contenha:   \n",
        "a) Uma única função que calcula e retorna quantas horas, minutos e segundos\n",
        "serão necessárias para fazer o backup;    \n",
        "b) Uma função que calcula e retorna quantas unidades de mídia necessárias\n",
        "para armazenar o backup;   \n",
        "c) Um procedimento principal, com o nome principal() e sem parâmetros, que lê\n",
        "os dados de entrada, utiliza as funções dos itens “a” e “b” e imprime os resultados\n",
        "obtidos.   \n",
        "d) Uma chamada ao procedimento principal do item “c”.   \n",
        "\n",
        ">\n",
        "\n",
        "Com a finalidade de nortear o seu desenvolvimento, são apresentados três exemplos\n",
        "de entrada e saída a seguir:\n",
        "Obs.: Tenha atenção às formatações dos resultados na saída.   \n",
        "\n",
        "Primeiro Exemplo   \n",
        "Entrada:\n",
        "Informe a quantidade de dados a ser copiada (em MB): 100   \n",
        "Informe a capacidade de armazenamento da mídia (em MB): 2   \n",
        "Faculdade de Computação e Informática   \n",
        "Informe a velocidade de transferência (em MB/s): 5   \n",
        "Saída:   \n",
        "O backup levará 000 horas, 00 minutos e 20 segundos.   \n",
        "Serão necessárias 50 mídias para armazenar o backup.\n",
        "\n",
        "Segundo Exemplo   \n",
        "Entrada:\n",
        "Informe a quantidade de dados a ser copiada (em MB): 10000\n",
        "Informe a capacidade de armazenamento da mídia (em MB): 3\n",
        "Informe a velocidade de transferência (em MB/s): 4\n",
        "Saída:\n",
        "O backup levará 000 horas, 41 minutos e 40 segundos.\n",
        "Serão necessárias 3334 mídias para armazenar o backup.   \n",
        "\n",
        "Terceiro Exemplo   \n",
        "Entrada:\n",
        "Informe a quantidade de dados a ser copiada (em MB): 100000\n",
        "Informe a capacidade de armazenamento da mídia (em MB): 4\n",
        "Informe a velocidade de transferência (em MB/s): 3\n",
        "Saída:\n",
        "O backup levará 009 horas, 15 minutos e 34 segundos.\n",
        "Serão necessárias 25000 mídias para armazenar o backup"
      ],
      "metadata": {
        "id": "DBB0zhcKRFlp"
      }
    },
    {
      "cell_type": "code",
      "source": [
        "# a) Uma única função que calcula e retorna quantas horas, minutos e segundos serão necessárias para fazer o backup;\n",
        "def calcular_tempo_backup(tamanho_dados, velocidade_transferencia):\n",
        "    total_segundos = tamanho_dados // velocidade_transferencia\n",
        "    horas = total_segundos // 3600\n",
        "    minutos = (total_segundos % 3600) // 60\n",
        "    segundos = total_segundos % 60\n",
        "    return horas, minutos, segundos\n",
        "\n",
        "# b) Uma função que calcula e retorna quantas unidades de mídia necessárias para armazenar o backup;\n",
        "def calcular_midias_necessarias(tamanho_dados, capacidade_midia):\n",
        "    if tamanho_dados % capacidade_midia == 0:\n",
        "        midias = tamanho_dados // capacidade_midia\n",
        "    else:\n",
        "        midias = (tamanho_dados // capacidade_midia) + 1\n",
        "    return midias\n",
        "\n",
        "# c) Um procedimento principal, com o nome principal() e sem parâmetros, que lê os dados de entrada, utiliza as funções dos itens “a” e “b” e imprime os resultados obtidos.\n",
        "def principal():\n",
        "    tamanho_dados = int(input(\"Informe a quantidade de dados a ser copiada (em MB): \"))\n",
        "    capacidade_midia = int(input(\"Informe a capacidade de armazenamento da mídia (em MB): \"))\n",
        "    velocidade_transferencia = int(input(\"Informe a velocidade de transferência (em MB/s): \"))\n",
        "\n",
        "    horas, minutos, segundos = calcular_tempo_backup(tamanho_dados, velocidade_transferencia)\n",
        "    midias = calcular_midias_necessarias(tamanho_dados, capacidade_midia)\n",
        "\n",
        "    print(f\"O backup levará {horas:03} horas, {minutos:02} minutos e {segundos:02} segundos.\")\n",
        "    print(f\"Serão necessárias {midias} mídias para armazenar o backup.\")\n",
        "\n",
        "# d) Uma chamada ao procedimento principal do item “c”.\n",
        "principal()\n"
      ],
      "metadata": {
        "id": "IBTN6edinZ-J",
        "outputId": "96b625b8-6973-41e2-e6dd-3149f249cbc7",
        "colab": {
          "base_uri": "https://localhost:8080/"
        }
      },
      "execution_count": null,
      "outputs": [
        {
          "output_type": "stream",
          "name": "stdout",
          "text": [
            "Informe a quantidade de dados a ser copiada (em MB): 100000\n",
            "Informe a capacidade de armazenamento da mídia (em MB): 4\n",
            "Informe a velocidade de transferência (em MB/s): 3\n",
            "O backup levará 009 horas, 15 minutos e 33 segundos.\n",
            "Serão necessárias 25000 mídias para armazenar o backup.\n"
          ]
        }
      ]
    },
    {
      "cell_type": "code",
      "source": [
        "# primeiro resolver os calculos\n",
        "# depois resolver a estrutura de defs\n",
        "\n",
        "\n",
        "#  total de horas, minutos e segundos para fazer esse backup e quantas mídias (unidades de disco) serão necessárias\n",
        "\n",
        "# Os dados de entrada são: a quantidade de informações a ser copiada, um inteiro - em Megabytes - MB;\n",
        "# a capacidade de armazenamento de uma mídia, um inteiro – também em MB;\n",
        "# e a velocidade de transferência, um inteiro - representando MB por segundo (MB/s), do aparelho de backup\n",
        "\n",
        "\n",
        "  # que lê os dados de entrada,\n",
        "dados_a_ser_copiados = int(input(\"Informe a quantidade de dados a ser copiada (em MB): \"))\n",
        "capacidade_de_armazenamento = int(input(\"Informe a capacidade de armazenamento da mídia (em MB): \"))\n",
        "velocidade_de_transferencia = int(input(\"Informe a velocidade de transferência (em MB/s):\"))\n",
        "\n",
        "\n",
        "  # utiliza as funções dos itens “a” e “b”\n",
        "\n",
        "    # a) Uma única função que calcula e retorna quantas horas, minutos e segundos serão necessárias para fazer o backup;\n",
        "horas = (dados_a_ser_copiados / velocidade_de_transferencia) // 3600\n",
        "minutos = ((dados_a_ser_copiados / velocidade_de_transferencia) % 3600) // 60\n",
        "segundos = ((dados_a_ser_copiados / velocidade_de_transferencia) % 3600) % 60\n",
        "if ((dados_a_ser_copiados / velocidade_de_transferencia) % 3600) % 60 != 0:\n",
        "    segundos += 1\n",
        "\n",
        "print(f\"O backup levará {horas:.0f} horas, {minutos:.0f} minutos e {segundos:.0f} segundos.\") #Serão necessárias {midias:.0f} mídias para armazenar o backup\n",
        "\n",
        "    # b) Uma função que calcula e retorna quantas unidades de mídia necessárias para armazenar o backup;\n",
        "midias = dados_a_ser_copiados // capacidade_de_armazenamento\n",
        "print(f\"Serão necessárias {midias:.0f} mídias para armazenar o backup\")\n",
        "\n",
        "  # e imprime os resultados obtidos.\n",
        "\n"
      ],
      "metadata": {
        "id": "V-LzJAIUWF8i",
        "outputId": "dda1e472-61ee-485a-e248-f170c8129ff7",
        "colab": {
          "base_uri": "https://localhost:8080/"
        }
      },
      "execution_count": null,
      "outputs": [
        {
          "output_type": "stream",
          "name": "stdout",
          "text": [
            "Informe a quantidade de dados a ser copiada (em MB): 10000\n",
            "Informe a capacidade de armazenamento da mídia (em MB): 3\n",
            "Informe a velocidade de transferência (em MB/s):4\n",
            "O backup levará 1 horas, 42 minutos e 40 segundos.\n",
            "Serão necessárias 3333 mídias para armazenar o backup\n"
          ]
        }
      ]
    },
    {
      "cell_type": "code",
      "source": [
        "dados_a_ser_copiados = int(input(\"Informe a quantidade de dados a ser copiada (em MB): \"))\n",
        "capacidade_de_armazenamento = int(input(\"Informe a capacidade de armazenamento da mídia (em MB): \"))\n",
        "velocidade_de_transferencia = int(input(\"Informe a velocidade de transferência (em MB/s):\"))\n",
        "\n",
        "horas = (dados_a_ser_copiados / velocidade_de_transferencia) // 3600\n",
        "minutos = ((dados_a_ser_copiados / velocidade_de_transferencia) % 3600) // 60\n",
        "segundos = ((dados_a_ser_copiados / velocidade_de_transferencia) % 3600) % 60\n",
        "\n",
        "\n",
        "print(f\"O backup levará {horas:.0f} horas, {minutos:.0f} minutos e {segundos:.0f} segundos.\")\n",
        "\n",
        "midias = dados_a_ser_copiados // capacidade_de_armazenamento\n",
        "print(f\"Serão necessárias {midias:.0f} mídias para armazenar o backup\")\n"
      ],
      "metadata": {
        "id": "B9QFO_mvlt5Y"
      },
      "execution_count": null,
      "outputs": []
    },
    {
      "source": [
        "dados_a_ser_copiados = int(input(\"Informe a quantidade de dados a ser copiada (em MB): \"))\n",
        "capacidade_de_armazenamento = int(input(\"Informe a capacidade de armazenamento da mídia (em MB): \"))\n",
        "velocidade_de_transferencia = int(input(\"Informe a velocidade de transferência (em MB/s):\"))\n",
        "\n",
        "\n",
        "horas = (dados_a_ser_copiados / velocidade_de_transferencia) // 3600\n",
        "if (dados_a_ser_copiados / velocidade_de_transferencia) % 3600 != 0:\n",
        "    horas += 1\n",
        "\n",
        "minutos = ((dados_a_ser_copiados / velocidade_de_transferencia) % 3600) // 60\n",
        "if ((dados_a_ser_copiados / velocidade_de_transferencia) % 3600) % 60 != 0:\n",
        "    minutos += 1\n",
        "\n",
        "segundos = ((dados_a_ser_copiados / velocidade_de_transferencia) % 3600) % 60\n",
        "if ((dados_a_ser_copiados / velocidade_de_transferencia) % 3600) % 60 != 0:\n",
        "    segundos += 1\n",
        "\n",
        "# Formatar a saída para ter 3 dígitos, preenchendo com zeros à esquerda\n",
        "print(f\"Horas: {str(int(horas)).zfill(3)}, Minutos: {str(int(minutos)).zfill(3)}, Segundos: {str(int(segundos)).zfill(3)}\")"
      ],
      "cell_type": "code",
      "metadata": {
        "id": "X-otIY70jbe0",
        "outputId": "811c854d-8cd0-41e6-c2ee-46087861dcba",
        "colab": {
          "base_uri": "https://localhost:8080/"
        }
      },
      "execution_count": null,
      "outputs": [
        {
          "output_type": "stream",
          "name": "stdout",
          "text": [
            "Informe a quantidade de dados a ser copiada (em MB): 100000\n",
            "Informe a capacidade de armazenamento da mídia (em MB): 4\n",
            "Informe a velocidade de transferência (em MB/s):3\n",
            "Horas: 010, Minutos: 016, Segundos: 034\n"
          ]
        }
      ]
    },
    {
      "cell_type": "code",
      "source": [
        "10%3"
      ],
      "metadata": {
        "id": "fFK40X7leWCi",
        "outputId": "a3116cbd-9d76-4f60-f732-09ce98e0d310",
        "colab": {
          "base_uri": "https://localhost:8080/"
        }
      },
      "execution_count": null,
      "outputs": [
        {
          "output_type": "execute_result",
          "data": {
            "text/plain": [
              "1"
            ]
          },
          "metadata": {},
          "execution_count": 22
        }
      ]
    },
    {
      "cell_type": "markdown",
      "source": [],
      "metadata": {
        "id": "MdmEalPcXJV_"
      }
    },
    {
      "cell_type": "markdown",
      "source": [
        "Curso: Ciência de Dados   \n",
        "Disciplina: Algoritmos e Programação II   \n",
        "Aula 1 - Funções e Procedimentos    \n",
        "A1 - Aplicando Conhecimento   \n",
        "Possível solução realizada em \"Sun Sep 1 08:30:00 2024\"   \n",
        "@author: Heverton Valério de Lima   "
      ],
      "metadata": {
        "id": "3OuO-vAVWbEc"
      }
    },
    {
      "cell_type": "markdown",
      "source": [
        "## Aula 2 -"
      ],
      "metadata": {
        "id": "5EFmMgBoserl"
      }
    },
    {
      "cell_type": "markdown",
      "source": [
        "**Objetivo da Aula**\n",
        "\n",
        "Ao final da aula, você será capaz de utilizar vetores, matrizes e listas para organizar estruturas em Python."
      ],
      "metadata": {
        "id": "VI_p0ONbiH8q"
      }
    },
    {
      "cell_type": "markdown",
      "source": [],
      "metadata": {
        "id": "LBGDZGpzkHn0"
      }
    },
    {
      "cell_type": "code",
      "source": [
        "append\n",
        "del\n",
        "extend\n",
        "in\n",
        "len\n",
        "max\n",
        "min\n",
        "reverse()\n",
        "sort()\n",
        "sum"
      ],
      "metadata": {
        "id": "Et3zpMS0lP0t"
      },
      "execution_count": null,
      "outputs": []
    },
    {
      "cell_type": "code",
      "source": [
        "L = [1,2,3,4,5]\n",
        "L.reverse()\n",
        "print(L)"
      ],
      "metadata": {
        "id": "PTd0z-C2yiI6",
        "outputId": "d93ebce9-2b41-45be-8a39-e0fded073bb4",
        "colab": {
          "base_uri": "https://localhost:8080/"
        }
      },
      "execution_count": null,
      "outputs": [
        {
          "output_type": "stream",
          "name": "stdout",
          "text": [
            "[5, 4, 3, 2, 1]\n"
          ]
        }
      ]
    },
    {
      "cell_type": "code",
      "source": [
        "# Faça um Programa que leia seis números inteiros e armazene-os  em um vetor.\n",
        "# Armazene os números pares no vetor PAR e os números ÍMPARES no vetor  ímpar.\n",
        "# Imprima os três vetores.\n",
        "\n",
        "import numpy as np\n",
        "\n",
        "vetor = [input('Digite 6 números inteiros separados por espaço: ').split()]\n",
        "for i in vetor:\n",
        "  if i % 2 == 0:\n",
        "    vetor_par = vetor_par.append(vetor)\n",
        "  else:\n",
        "    vetor_impar = vetor_impar.append(vetor)\n",
        "\n",
        "print(vetor)\n",
        "print(vetor_par)\n",
        "print(vetor_impar)\n",
        "\n",
        "\n"
      ],
      "metadata": {
        "id": "6ttTyAkQ67HU",
        "outputId": "db384636-63ad-40e7-824a-4e0bbdb667c4",
        "colab": {
          "base_uri": "https://localhost:8080/",
          "height": 375
        }
      },
      "execution_count": null,
      "outputs": [
        {
          "output_type": "error",
          "ename": "KeyboardInterrupt",
          "evalue": "Interrupted by user",
          "traceback": [
            "\u001b[0;31m---------------------------------------------------------------------------\u001b[0m",
            "\u001b[0;31mKeyboardInterrupt\u001b[0m                         Traceback (most recent call last)",
            "\u001b[0;32m<ipython-input-1-991d56847aa7>\u001b[0m in \u001b[0;36m<cell line: 7>\u001b[0;34m()\u001b[0m\n\u001b[1;32m      5\u001b[0m \u001b[0;32mimport\u001b[0m \u001b[0mnumpy\u001b[0m \u001b[0;32mas\u001b[0m \u001b[0mnp\u001b[0m\u001b[0;34m\u001b[0m\u001b[0;34m\u001b[0m\u001b[0m\n\u001b[1;32m      6\u001b[0m \u001b[0;34m\u001b[0m\u001b[0m\n\u001b[0;32m----> 7\u001b[0;31m \u001b[0mvetor\u001b[0m \u001b[0;34m=\u001b[0m \u001b[0;34m[\u001b[0m\u001b[0minput\u001b[0m\u001b[0;34m(\u001b[0m\u001b[0;34m'Digite 6 números inteiros separados por espaço: '\u001b[0m\u001b[0;34m)\u001b[0m\u001b[0;34m.\u001b[0m\u001b[0msplit\u001b[0m\u001b[0;34m(\u001b[0m\u001b[0;34m)\u001b[0m\u001b[0;34m]\u001b[0m\u001b[0;34m\u001b[0m\u001b[0;34m\u001b[0m\u001b[0m\n\u001b[0m\u001b[1;32m      8\u001b[0m \u001b[0;32mfor\u001b[0m \u001b[0mi\u001b[0m \u001b[0;32min\u001b[0m \u001b[0mvetor\u001b[0m\u001b[0;34m:\u001b[0m\u001b[0;34m\u001b[0m\u001b[0;34m\u001b[0m\u001b[0m\n\u001b[1;32m      9\u001b[0m   \u001b[0;32mif\u001b[0m \u001b[0mi\u001b[0m \u001b[0;34m%\u001b[0m \u001b[0;36m2\u001b[0m \u001b[0;34m==\u001b[0m \u001b[0;36m0\u001b[0m\u001b[0;34m:\u001b[0m\u001b[0;34m\u001b[0m\u001b[0;34m\u001b[0m\u001b[0m\n",
            "\u001b[0;32m/usr/local/lib/python3.10/dist-packages/ipykernel/kernelbase.py\u001b[0m in \u001b[0;36mraw_input\u001b[0;34m(self, prompt)\u001b[0m\n\u001b[1;32m    849\u001b[0m                 \u001b[0;34m\"raw_input was called, but this frontend does not support input requests.\"\u001b[0m\u001b[0;34m\u001b[0m\u001b[0;34m\u001b[0m\u001b[0m\n\u001b[1;32m    850\u001b[0m             )\n\u001b[0;32m--> 851\u001b[0;31m         return self._input_request(str(prompt),\n\u001b[0m\u001b[1;32m    852\u001b[0m             \u001b[0mself\u001b[0m\u001b[0;34m.\u001b[0m\u001b[0m_parent_ident\u001b[0m\u001b[0;34m,\u001b[0m\u001b[0;34m\u001b[0m\u001b[0;34m\u001b[0m\u001b[0m\n\u001b[1;32m    853\u001b[0m             \u001b[0mself\u001b[0m\u001b[0;34m.\u001b[0m\u001b[0m_parent_header\u001b[0m\u001b[0;34m,\u001b[0m\u001b[0;34m\u001b[0m\u001b[0;34m\u001b[0m\u001b[0m\n",
            "\u001b[0;32m/usr/local/lib/python3.10/dist-packages/ipykernel/kernelbase.py\u001b[0m in \u001b[0;36m_input_request\u001b[0;34m(self, prompt, ident, parent, password)\u001b[0m\n\u001b[1;32m    893\u001b[0m             \u001b[0;32mexcept\u001b[0m \u001b[0mKeyboardInterrupt\u001b[0m\u001b[0;34m:\u001b[0m\u001b[0;34m\u001b[0m\u001b[0;34m\u001b[0m\u001b[0m\n\u001b[1;32m    894\u001b[0m                 \u001b[0;31m# re-raise KeyboardInterrupt, to truncate traceback\u001b[0m\u001b[0;34m\u001b[0m\u001b[0;34m\u001b[0m\u001b[0m\n\u001b[0;32m--> 895\u001b[0;31m                 \u001b[0;32mraise\u001b[0m \u001b[0mKeyboardInterrupt\u001b[0m\u001b[0;34m(\u001b[0m\u001b[0;34m\"Interrupted by user\"\u001b[0m\u001b[0;34m)\u001b[0m \u001b[0;32mfrom\u001b[0m \u001b[0;32mNone\u001b[0m\u001b[0;34m\u001b[0m\u001b[0;34m\u001b[0m\u001b[0m\n\u001b[0m\u001b[1;32m    896\u001b[0m             \u001b[0;32mexcept\u001b[0m \u001b[0mException\u001b[0m \u001b[0;32mas\u001b[0m \u001b[0me\u001b[0m\u001b[0;34m:\u001b[0m\u001b[0;34m\u001b[0m\u001b[0;34m\u001b[0m\u001b[0m\n\u001b[1;32m    897\u001b[0m                 \u001b[0mself\u001b[0m\u001b[0;34m.\u001b[0m\u001b[0mlog\u001b[0m\u001b[0;34m.\u001b[0m\u001b[0mwarning\u001b[0m\u001b[0;34m(\u001b[0m\u001b[0;34m\"Invalid Message:\"\u001b[0m\u001b[0;34m,\u001b[0m \u001b[0mexc_info\u001b[0m\u001b[0;34m=\u001b[0m\u001b[0;32mTrue\u001b[0m\u001b[0;34m)\u001b[0m\u001b[0;34m\u001b[0m\u001b[0;34m\u001b[0m\u001b[0m\n",
            "\u001b[0;31mKeyboardInterrupt\u001b[0m: Interrupted by user"
          ]
        }
      ]
    },
    {
      "cell_type": "markdown",
      "source": [
        "### Praticando\n"
      ],
      "metadata": {
        "id": "24fy6L_j6yx4"
      }
    },
    {
      "cell_type": "code",
      "source": [
        "import numpy as np\n",
        "\n",
        "# Matriz bidimensional com números aleatórios\n",
        "matrix = input('Digite 4 números separados por espaço: ').split()\n",
        "print(matrix)\n",
        "\n",
        "matrix.reverse()\n",
        "print(matrix)\n"
      ],
      "metadata": {
        "id": "QP73btba637E",
        "outputId": "30a68236-5416-4967-fbe3-7d163fa1b6a0",
        "colab": {
          "base_uri": "https://localhost:8080/"
        }
      },
      "execution_count": null,
      "outputs": [
        {
          "output_type": "stream",
          "name": "stdout",
          "text": [
            "Digite 4 números separados por espaço: 4 5 6 7\n",
            "['4', '5', '6', '7']\n",
            "['7', '6', '5', '4']\n"
          ]
        }
      ]
    },
    {
      "cell_type": "code",
      "source": [
        "# Faça um Programa que leia seis números inteiros e armazene-os  em um vetor.\n",
        "# Armazene os números pares no vetor PAR e os números ÍMPARES no vetor  ímpar.\n",
        "# Imprima os três vetores.\n",
        "\n",
        "import numpy as np\n",
        "\n",
        "vetor = input('Digite 6 números inteiros separados por espaço: ').split() # remove extra brackets\n",
        "vetor = [int(x) for x in vetor] # converts the string elements of the list to integers\n",
        "\n",
        "vetor_par = [] # initializes vetor_par as an empty list\n",
        "vetor_impar = [] # initializes vetor_impar as an empty list\n",
        "for i in vetor:\n",
        "  if i % 2 == 0:\n",
        "    vetor_par.append(i) # appends the element i to the list\n",
        "  else:\n",
        "    vetor_impar.append(i) # appends the element i to the list\n",
        "\n",
        "print(vetor)\n",
        "print(vetor_par)\n",
        "print(vetor_impar)"
      ],
      "metadata": {
        "id": "F6Ik4SYw9aXw",
        "outputId": "4b3c1a1a-b0ff-48c6-de7c-12d06b40204c",
        "colab": {
          "base_uri": "https://localhost:8080/"
        }
      },
      "execution_count": null,
      "outputs": [
        {
          "output_type": "stream",
          "name": "stdout",
          "text": [
            "Digite 6 números inteiros separados por espaço: 1 2 3 5 4 6\n",
            "[1, 2, 3, 5, 4, 6]\n",
            "[2, 4, 6]\n",
            "[1, 3, 5]\n"
          ]
        }
      ]
    },
    {
      "cell_type": "code",
      "source": [
        "# 3. Faça um algoritmo que leia as idades e alturas de cinco alunos.\n",
        "# Faça um Programa que determine quantos alunos com mais de 13 anos possuem altura inferior à média de altura desses alunos.\n",
        "\n",
        "# Inicializando listas para armazenar as idades e alturas\n",
        "idades = []\n",
        "alturas = []\n",
        "\n",
        "# Coletando as idades e alturas de cinco alunos\n",
        "for i in range(5):\n",
        "    idade = int(input(f\"Digite a idade do aluno {i+1}: \"))\n",
        "    altura = float(input(f\"Digite a altura (em metros) do aluno {i+1}: \"))\n",
        "    idades.append(idade)\n",
        "    alturas.append(altura)\n",
        "\n",
        "# Calculando a média das alturas\n",
        "media_altura = sum(alturas) / len(alturas)\n",
        "\n",
        "# Contando quantos alunos têm mais de 13 anos e altura inferior à média\n",
        "contador = 0\n",
        "for i in range(5):\n",
        "    if idades[i] > 13 and alturas[i] < media_altura:\n",
        "        contador += 1\n",
        "\n",
        "# Exibindo o resultado\n",
        "print(f\"Quantidade de alunos com mais de 13 anos e altura inferior à média: {contador}\")\n"
      ],
      "metadata": {
        "id": "pXbvx4oxVAt0",
        "outputId": "389f407b-477a-4416-ac86-7f7b4ac3b77d",
        "colab": {
          "base_uri": "https://localhost:8080/",
          "height": 295
        }
      },
      "execution_count": null,
      "outputs": [
        {
          "name": "stdout",
          "output_type": "stream",
          "text": [
            "Digite a idade do aluno 1: 5\n",
            "Digite a altura (em metros) do aluno 1: 10\n",
            "Digite a idade do aluno 2: 25\n",
            "Digite a altura (em metros) do aluno 2: 1,88\n"
          ]
        },
        {
          "output_type": "error",
          "ename": "ValueError",
          "evalue": "could not convert string to float: '1,88'",
          "traceback": [
            "\u001b[0;31m---------------------------------------------------------------------------\u001b[0m",
            "\u001b[0;31mValueError\u001b[0m                                Traceback (most recent call last)",
            "\u001b[0;32m<ipython-input-2-c3caef399f1b>\u001b[0m in \u001b[0;36m<cell line: 9>\u001b[0;34m()\u001b[0m\n\u001b[1;32m      9\u001b[0m \u001b[0;32mfor\u001b[0m \u001b[0mi\u001b[0m \u001b[0;32min\u001b[0m \u001b[0mrange\u001b[0m\u001b[0;34m(\u001b[0m\u001b[0;36m5\u001b[0m\u001b[0;34m)\u001b[0m\u001b[0;34m:\u001b[0m\u001b[0;34m\u001b[0m\u001b[0;34m\u001b[0m\u001b[0m\n\u001b[1;32m     10\u001b[0m     \u001b[0midade\u001b[0m \u001b[0;34m=\u001b[0m \u001b[0mint\u001b[0m\u001b[0;34m(\u001b[0m\u001b[0minput\u001b[0m\u001b[0;34m(\u001b[0m\u001b[0;34mf\"Digite a idade do aluno {i+1}: \"\u001b[0m\u001b[0;34m)\u001b[0m\u001b[0;34m)\u001b[0m\u001b[0;34m\u001b[0m\u001b[0;34m\u001b[0m\u001b[0m\n\u001b[0;32m---> 11\u001b[0;31m     \u001b[0maltura\u001b[0m \u001b[0;34m=\u001b[0m \u001b[0mfloat\u001b[0m\u001b[0;34m(\u001b[0m\u001b[0minput\u001b[0m\u001b[0;34m(\u001b[0m\u001b[0;34mf\"Digite a altura (em metros) do aluno {i+1}: \"\u001b[0m\u001b[0;34m)\u001b[0m\u001b[0;34m)\u001b[0m\u001b[0;34m\u001b[0m\u001b[0;34m\u001b[0m\u001b[0m\n\u001b[0m\u001b[1;32m     12\u001b[0m     \u001b[0midades\u001b[0m\u001b[0;34m.\u001b[0m\u001b[0mappend\u001b[0m\u001b[0;34m(\u001b[0m\u001b[0midade\u001b[0m\u001b[0;34m)\u001b[0m\u001b[0;34m\u001b[0m\u001b[0;34m\u001b[0m\u001b[0m\n\u001b[1;32m     13\u001b[0m     \u001b[0malturas\u001b[0m\u001b[0;34m.\u001b[0m\u001b[0mappend\u001b[0m\u001b[0;34m(\u001b[0m\u001b[0maltura\u001b[0m\u001b[0;34m)\u001b[0m\u001b[0;34m\u001b[0m\u001b[0;34m\u001b[0m\u001b[0m\n",
            "\u001b[0;31mValueError\u001b[0m: could not convert string to float: '1,88'"
          ]
        }
      ]
    },
    {
      "cell_type": "markdown",
      "source": [
        "### Aplicando Conhecimento"
      ],
      "metadata": {
        "id": "760Sv_8dXtdX"
      }
    },
    {
      "cell_type": "code",
      "source": [
        "def leVetor():\n",
        "    tam = int(input(\"Tamanho do vetor: \"))\n",
        "    vOriginal = list()\n",
        "    for i in range(tam):\n",
        "        vOriginal.append(input(\"v[\"+str((i))+\"] = \"))\n",
        "\n",
        "    return vOriginal\n",
        "\n",
        "def qtdeVezes(vetor):\n",
        "    # Dicionário para armazenar os valores e suas quantidades\n",
        "    contagem = {}\n",
        "\n",
        "    # Conta a quantidade de vezes que cada valor aparece no vetor\n",
        "    for valor in vetor:\n",
        "        if valor in contagem:\n",
        "            contagem[valor] += 1\n",
        "        else:\n",
        "            contagem[valor] = 1\n",
        "\n",
        "    # Converte o dicionário em uma lista de tuplas [(valor, quantidade), ...]\n",
        "    vResultado = []\n",
        "    for chave, valor in contagem.items():\n",
        "        vResultado.append(f\"{chave} aparece {valor} vezes\")\n",
        "\n",
        "    return vResultado\n",
        "\n",
        "def imprimeVetor(nome, vetor):\n",
        "    print(f\"{nome} = [ \" ,end=\"\")\n",
        "    for valor in vetor:\n",
        "        print(f\"{valor} \", end=\"\")\n",
        "    print(\"]\")\n",
        "\n",
        "def principal():\n",
        "    vOriginal = leVetor()\n",
        "    vResultado = qtdeVezes(vOriginal)\n",
        "    imprimeVetor(\"\\nvOriginal\", vOriginal)\n",
        "    imprimeVetor(\"\\nvResultado\", vResultado)\n",
        "\n",
        "principal()\n"
      ],
      "metadata": {
        "id": "viDK3CkaXw7I",
        "outputId": "36f7728a-931a-4c61-d42d-f3e0a60f0e55",
        "colab": {
          "base_uri": "https://localhost:8080/"
        }
      },
      "execution_count": 3,
      "outputs": [
        {
          "output_type": "stream",
          "name": "stdout",
          "text": [
            "Tamanho do vetor: 5\n",
            "v[0] = 1\n",
            "v[1] = 2\n",
            "v[2] = 1\n",
            "v[3] = 1\n",
            "v[4] = 2\n",
            "\n",
            "vOriginal = [ 1 2 1 1 2 ]\n",
            "\n",
            "vResultado = [ 1 aparece 3 vezes 2 aparece 2 vezes ]\n"
          ]
        }
      ]
    },
    {
      "cell_type": "markdown",
      "source": [],
      "metadata": {
        "id": "q53gGHj7Xvnu"
      }
    },
    {
      "cell_type": "code",
      "source": [
        "def leVetor():\n",
        "    tam = int(input(\"Tamanho do vetor: \"))\n",
        "    vOriginal = list()\n",
        "    for i in range(tam):\n",
        "        vOriginal.append(input(\"v[\"+str((i))+\"] = \"))\n",
        "\n",
        "    return vOriginal\n",
        "\n",
        "def qtdeVezes(vetor):\n",
        "    # Dicionário para armazenar os valores e suas quantidades\n",
        "    contagem = {}\n",
        "\n",
        "    # Conta a quantidade de vezes que cada valor aparece no vetor\n",
        "    for valor in vetor:\n",
        "        if valor in contagem:\n",
        "            contagem[valor] += 1\n",
        "        else:\n",
        "            contagem[valor] = 1\n",
        "\n",
        "    # Converte o dicionário em uma lista de tuplas [(valor, quantidade), ...]\n",
        "    vResultado = []\n",
        "    for chave, valor in contagem.items():\n",
        "        vResultado.append(f\"{chave} aparece {valor} vezes\")\n",
        "\n",
        "\n",
        "def imprimeVetor(nome, vetor):\n",
        "    print(f\"{nome} = [ \" ,end=\"\")\n",
        "    for valor in vetor:\n",
        "        print(f\"{valor} \", end=\"\")\n",
        "    print(\"]\")\n",
        "\n",
        "def principal():\n",
        "    vOriginal = leVetor()\n",
        "    vResultado = qtdeVezes(vOriginal)\n",
        "    imprimeVetor(\"\\nvOriginal\", vOriginal)\n",
        "    imprimeVetor(\"\\nvResultado\", vResultado)\n",
        "\n",
        "principal()"
      ],
      "metadata": {
        "id": "gqEu_OJmYBF5",
        "outputId": "24aac5c1-8a18-4c69-bebd-2730de1c3d0f",
        "colab": {
          "base_uri": "https://localhost:8080/",
          "height": 522
        }
      },
      "execution_count": 4,
      "outputs": [
        {
          "output_type": "stream",
          "name": "stdout",
          "text": [
            "Tamanho do vetor: 5\n",
            "v[0] = 1\n",
            "v[1] = 2\n",
            "v[2] = 1\n",
            "v[3] = 1\n",
            "v[4] = 2\n",
            "\n",
            "vOriginal = [ 1 2 1 1 2 ]\n",
            "\n",
            "vResultado = [ "
          ]
        },
        {
          "output_type": "error",
          "ename": "TypeError",
          "evalue": "'NoneType' object is not iterable",
          "traceback": [
            "\u001b[0;31m---------------------------------------------------------------------------\u001b[0m",
            "\u001b[0;31mTypeError\u001b[0m                                 Traceback (most recent call last)",
            "\u001b[0;32m<ipython-input-4-3f1627930b17>\u001b[0m in \u001b[0;36m<cell line: 38>\u001b[0;34m()\u001b[0m\n\u001b[1;32m     36\u001b[0m     \u001b[0mimprimeVetor\u001b[0m\u001b[0;34m(\u001b[0m\u001b[0;34m\"\\nvResultado\"\u001b[0m\u001b[0;34m,\u001b[0m \u001b[0mvResultado\u001b[0m\u001b[0;34m)\u001b[0m\u001b[0;34m\u001b[0m\u001b[0;34m\u001b[0m\u001b[0m\n\u001b[1;32m     37\u001b[0m \u001b[0;34m\u001b[0m\u001b[0m\n\u001b[0;32m---> 38\u001b[0;31m \u001b[0mprincipal\u001b[0m\u001b[0;34m(\u001b[0m\u001b[0;34m)\u001b[0m\u001b[0;34m\u001b[0m\u001b[0;34m\u001b[0m\u001b[0m\n\u001b[0m",
            "\u001b[0;32m<ipython-input-4-3f1627930b17>\u001b[0m in \u001b[0;36mprincipal\u001b[0;34m()\u001b[0m\n\u001b[1;32m     34\u001b[0m     \u001b[0mvResultado\u001b[0m \u001b[0;34m=\u001b[0m \u001b[0mqtdeVezes\u001b[0m\u001b[0;34m(\u001b[0m\u001b[0mvOriginal\u001b[0m\u001b[0;34m)\u001b[0m\u001b[0;34m\u001b[0m\u001b[0;34m\u001b[0m\u001b[0m\n\u001b[1;32m     35\u001b[0m     \u001b[0mimprimeVetor\u001b[0m\u001b[0;34m(\u001b[0m\u001b[0;34m\"\\nvOriginal\"\u001b[0m\u001b[0;34m,\u001b[0m \u001b[0mvOriginal\u001b[0m\u001b[0;34m)\u001b[0m\u001b[0;34m\u001b[0m\u001b[0;34m\u001b[0m\u001b[0m\n\u001b[0;32m---> 36\u001b[0;31m     \u001b[0mimprimeVetor\u001b[0m\u001b[0;34m(\u001b[0m\u001b[0;34m\"\\nvResultado\"\u001b[0m\u001b[0;34m,\u001b[0m \u001b[0mvResultado\u001b[0m\u001b[0;34m)\u001b[0m\u001b[0;34m\u001b[0m\u001b[0;34m\u001b[0m\u001b[0m\n\u001b[0m\u001b[1;32m     37\u001b[0m \u001b[0;34m\u001b[0m\u001b[0m\n\u001b[1;32m     38\u001b[0m \u001b[0mprincipal\u001b[0m\u001b[0;34m(\u001b[0m\u001b[0;34m)\u001b[0m\u001b[0;34m\u001b[0m\u001b[0;34m\u001b[0m\u001b[0m\n",
            "\u001b[0;32m<ipython-input-4-3f1627930b17>\u001b[0m in \u001b[0;36mimprimeVetor\u001b[0;34m(nome, vetor)\u001b[0m\n\u001b[1;32m     26\u001b[0m \u001b[0;32mdef\u001b[0m \u001b[0mimprimeVetor\u001b[0m\u001b[0;34m(\u001b[0m\u001b[0mnome\u001b[0m\u001b[0;34m,\u001b[0m \u001b[0mvetor\u001b[0m\u001b[0;34m)\u001b[0m\u001b[0;34m:\u001b[0m\u001b[0;34m\u001b[0m\u001b[0;34m\u001b[0m\u001b[0m\n\u001b[1;32m     27\u001b[0m     \u001b[0mprint\u001b[0m\u001b[0;34m(\u001b[0m\u001b[0;34mf\"{nome} = [ \"\u001b[0m \u001b[0;34m,\u001b[0m\u001b[0mend\u001b[0m\u001b[0;34m=\u001b[0m\u001b[0;34m\"\"\u001b[0m\u001b[0;34m)\u001b[0m\u001b[0;34m\u001b[0m\u001b[0;34m\u001b[0m\u001b[0m\n\u001b[0;32m---> 28\u001b[0;31m     \u001b[0;32mfor\u001b[0m \u001b[0mvalor\u001b[0m \u001b[0;32min\u001b[0m \u001b[0mvetor\u001b[0m\u001b[0;34m:\u001b[0m\u001b[0;34m\u001b[0m\u001b[0;34m\u001b[0m\u001b[0m\n\u001b[0m\u001b[1;32m     29\u001b[0m         \u001b[0mprint\u001b[0m\u001b[0;34m(\u001b[0m\u001b[0;34mf\"{valor} \"\u001b[0m\u001b[0;34m,\u001b[0m \u001b[0mend\u001b[0m\u001b[0;34m=\u001b[0m\u001b[0;34m\"\"\u001b[0m\u001b[0;34m)\u001b[0m\u001b[0;34m\u001b[0m\u001b[0;34m\u001b[0m\u001b[0m\n\u001b[1;32m     30\u001b[0m     \u001b[0mprint\u001b[0m\u001b[0;34m(\u001b[0m\u001b[0;34m\"]\"\u001b[0m\u001b[0;34m)\u001b[0m\u001b[0;34m\u001b[0m\u001b[0;34m\u001b[0m\u001b[0m\n",
            "\u001b[0;31mTypeError\u001b[0m: 'NoneType' object is not iterable"
          ]
        }
      ]
    },
    {
      "cell_type": "code",
      "source": [
        "def leVetor():\n",
        "    tam = int(input(\"Tamanho do vetor: \"))\n",
        "    vOriginal = list()\n",
        "    for i in range(tam):\n",
        "        vOriginal.append(input(\"v[\"+str((i))+\"] = \"))\n",
        "\n",
        "    return vOriginal\n",
        "\n",
        "def qtdeVezes(vetor):\n",
        "    contagem = {}\n",
        "\n",
        "    for valor in vetor:\n",
        "        if valor in contagem:\n",
        "            contagem[valor] += 1\n",
        "        else:\n",
        "            contagem[valor] = 1\n",
        "\n",
        "    vResultado = []\n",
        "    for chave, valor in contagem.items():\n",
        "        vResultado.append(f\"{chave} aparece {valor} vezes\")\n",
        "\n",
        "    return vResultado # Added return statement to return the result\n",
        "\n",
        "def imprimeVetor(nome, vetor):\n",
        "    print(f\"{nome} = [ \" ,end=\"\")\n",
        "    for valor in vetor:\n",
        "        print(f\"{valor} \", end=\"\")\n",
        "    print(\"]\")\n",
        "\n",
        "def principal():\n",
        "    vOriginal = leVetor()\n",
        "    vResultado = qtdeVezes(vOriginal)\n",
        "    imprimeVetor(\"\\nvOriginal\", vOriginal)\n",
        "    imprimeVetor(\"\\nvResultado\", vResultado)\n",
        "\n",
        "principal()"
      ],
      "metadata": {
        "id": "x7_JGXyHYWCn",
        "outputId": "c58439f7-28a9-43e0-c584-a9f038d0fe2f",
        "colab": {
          "base_uri": "https://localhost:8080/"
        }
      },
      "execution_count": 8,
      "outputs": [
        {
          "output_type": "stream",
          "name": "stdout",
          "text": [
            "Tamanho do vetor: 14\n",
            "v[0] = 5\n",
            "v[1] = 1\n",
            "v[2] = 5\n",
            "v[3] = 2\n",
            "v[4] = 0\n",
            "v[5] = 4\n",
            "v[6] = 5\n",
            "v[7] = 0\n",
            "v[8] = 5\n",
            "v[9] = 3\n",
            "v[10] = 4\n",
            "v[11] = 5\n",
            "v[12] = 5\n",
            "v[13] = 0\n",
            "\n",
            "vOriginal = [ 5 1 5 2 0 4 5 0 5 3 4 5 5 0 ]\n",
            "\n",
            "vResultado = [ 5 aparece 6 vezes 1 aparece 1 vezes 2 aparece 1 vezes 0 aparece 3 vezes 4 aparece 2 vezes 3 aparece 1 vezes ]\n"
          ]
        }
      ]
    },
    {
      "cell_type": "code",
      "source": [],
      "metadata": {
        "id": "vL6ACyPCZDyt"
      },
      "execution_count": null,
      "outputs": []
    }
  ]
}