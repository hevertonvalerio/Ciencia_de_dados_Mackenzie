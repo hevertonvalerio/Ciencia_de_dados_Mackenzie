  "cells": [
    {
      "cell_type": "markdown",
      "metadata": {
        "id": "view-in-github",
        "colab_type": "text"
      },
      "source": [
        "<a href=\"https://colab.research.google.com/github/hevertonvalerio/Ciencia_de_dados_Mackenzie/blob/main/modulo_2/Anota%C3%A7%C3%B5es%20Algoritmo%20e%20Programa%C3%A7%C3%A3o%20II.ipynb\" target=\"_parent\"><img src=\"https://colab.research.google.com/assets/colab-badge.svg\" alt=\"Open In Colab\"/></a>"
      ]
    },
    {
      "cell_type": "markdown",
      "source": [
        "# Anotações Algoritmo e Programação II\n"
      ],
      "metadata": {
        "id": "Us1jSWPfiTAd"
      }
    },
    {
      "cell_type": "markdown",
      "source": [
        "## Aula 1 -"
      ],
      "metadata": {
        "id": "a1HFqRm2iWxj"
      }
    },
    {
      "cell_type": "markdown",
      "source": [
        "## Aula 2 -"
      ],
      "metadata": {
        "id": "5EFmMgBoserl"
      }
    },
    {
      "cell_type": "code",
      "execution_count": null,
      "metadata": {
        "id": "VI_p0ONbiH8q"
      },
      "outputs": [],
      "source": []
    }
  ]
}
