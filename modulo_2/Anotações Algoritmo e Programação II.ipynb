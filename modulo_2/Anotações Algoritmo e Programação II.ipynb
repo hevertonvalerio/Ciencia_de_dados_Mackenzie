{
  "nbformat": 4,
  "nbformat_minor": 0,
  "metadata": {
    "colab": {
      "provenance": [],
      "authorship_tag": "ABX9TyPGZuJ2X4ToKy2FtHU+ebLx",
      "include_colab_link": true
    },
    "kernelspec": {
      "name": "python3",
      "display_name": "Python 3"
    },
    "language_info": {
      "name": "python"
    }
  },
  "cells": [
    {
      "cell_type": "markdown",
      "metadata": {
        "id": "view-in-github",
        "colab_type": "text"
      },
      "source": [
        "<a href=\"https://colab.research.google.com/github/hevertonvalerio/Ciencia_de_dados_Mackenzie/blob/main/modulo_2/Anota%C3%A7%C3%B5es%20Algoritmo%20e%20Programa%C3%A7%C3%A3o%20II.ipynb\" target=\"_parent\"><img src=\"https://colab.research.google.com/assets/colab-badge.svg\" alt=\"Open In Colab\"/></a>"
      ]
    },
    {
      "cell_type": "markdown",
      "source": [
        "# Anotações Algoritmo e Programação II\n"
      ],
      "metadata": {
        "id": "Us1jSWPfiTAd"
      }
    },
    {
      "cell_type": "markdown",
      "source": [
        "## Aula 1 - Funções e Procedimentos"
      ],
      "metadata": {
        "id": "a1HFqRm2iWxj"
      }
    },
    {
      "cell_type": "markdown",
      "source": [
        "**Objetivo da Aula**  \n",
        "Ao final da aula, você será capaz de construir funções e modularizar o código em Python."
      ],
      "metadata": {
        "id": "htr6Qbhk_cpX"
      }
    },
    {
      "cell_type": "code",
      "source": [
        "def nome(paramentros):\n",
        "  comandos"
      ],
      "metadata": {
        "id": "W4g9h-rWAsAi"
      },
      "execution_count": null,
      "outputs": []
    },
    {
      "cell_type": "code",
      "source": [
        "def soma(a,b):\n",
        "  res = a + b\n",
        "  return res\n",
        "\n",
        "x = 1\n",
        "y = 2\n",
        "\n",
        "print('soma =', soma(x,y))"
      ],
      "metadata": {
        "id": "YINHq83bBElQ",
        "outputId": "ce16428e-33ef-43e8-fa01-79b5bae89287",
        "colab": {
          "base_uri": "https://localhost:8080/"
        }
      },
      "execution_count": null,
      "outputs": [
        {
          "output_type": "stream",
          "name": "stdout",
          "text": [
            "soma = 3\n"
          ]
        }
      ]
    },
    {
      "cell_type": "markdown",
      "source": [
        "Variáveis locais e globais\n",
        "\n",
        "variaveis globais são as que estão fora da função\n",
        "\n",
        "```\n",
        "def f1(a):\n",
        "  # variáveis locais comandos\n",
        "  print(a + x)\n",
        "\n",
        "def f2(a):\n",
        "  # variáveis locais comandos\n",
        "  t = 4\n",
        "  print(a+x+y)\n",
        "\n",
        "# Variável global\n",
        "x=10\n",
        "f1(1)\n",
        "f2(2)\n",
        "\n",
        "print(x)\n",
        "\n",
        "```"
      ],
      "metadata": {
        "id": "I2n1cln6Btzk"
      }
    },
    {
      "cell_type": "code",
      "source": [
        "def f1(a):\n",
        "  # variáveis locais comandos\n",
        "  print(a + x)\n",
        "\n",
        "def f2(a):\n",
        "  # variáveis locais comandos\n",
        "  t = 4\n",
        "  print(a+x+y)\n",
        "\n",
        "# Variável global\n",
        "x=10\n",
        "f1(1)\n",
        "f2(2)\n",
        "\n",
        "print(x)"
      ],
      "metadata": {
        "id": "r28-PpWlBwXU",
        "outputId": "4993307f-51bd-4742-d61b-f157f4c4bacb",
        "colab": {
          "base_uri": "https://localhost:8080/"
        }
      },
      "execution_count": null,
      "outputs": [
        {
          "output_type": "stream",
          "name": "stdout",
          "text": [
            "11\n",
            "14\n",
            "10\n"
          ]
        }
      ]
    },
    {
      "cell_type": "markdown",
      "source": [],
      "metadata": {
        "id": "uuYIsjOARnzt"
      }
    },
    {
      "cell_type": "markdown",
      "source": [
        "Aplicando Conhecimento"
      ],
      "metadata": {
        "id": "Ugy9nY3QPz9Q"
      }
    },
    {
      "cell_type": "markdown",
      "source": [
        "Uma empresa de Data Warehouse precisa calcular o tempo necessário para fazer o\n",
        "backup de seus bancos de dados. Para isso, a empresa utiliza um aparelho\n",
        "específico de backup. Então, você foi contratado(a) para fazer um programa em\n",
        "Python que calcula o total de horas, minutos e segundos para fazer esse backup e\n",
        "quantas mídias (unidades de disco) serão necessárias. Os dados de entrada são: a\n",
        "quantidade de informações a ser copiada, um inteiro - em Megabytes - MB; a\n",
        "capacidade de armazenamento de uma mídia, um inteiro – também em MB; e a\n",
        "velocidade de transferência, um inteiro - representando MB por segundo (MB/s), do\n",
        "aparelho de backup.\n",
        "\n",
        ">\n",
        "\n",
        "A partir do descrito, desenvolva UM arquivo Python que contenha:   \n",
        "a) Uma única função que calcula e retorna quantas horas, minutos e segundos\n",
        "serão necessárias para fazer o backup;    \n",
        "b) Uma função que calcula e retorna quantas unidades de mídia necessárias\n",
        "para armazenar o backup;   \n",
        "c) Um procedimento principal, com o nome principal() e sem parâmetros, que lê\n",
        "os dados de entrada, utiliza as funções dos itens “a” e “b” e imprime os resultados\n",
        "obtidos.   \n",
        "d) Uma chamada ao procedimento principal do item “c”.   \n",
        "\n",
        ">\n",
        "\n",
        "Com a finalidade de nortear o seu desenvolvimento, são apresentados três exemplos\n",
        "de entrada e saída a seguir:\n",
        "Obs.: Tenha atenção às formatações dos resultados na saída.   \n",
        "\n",
        "Primeiro Exemplo   \n",
        "Entrada:\n",
        "Informe a quantidade de dados a ser copiada (em MB): 100   \n",
        "Informe a capacidade de armazenamento da mídia (em MB): 2   \n",
        "Faculdade de Computação e Informática   \n",
        "Informe a velocidade de transferência (em MB/s): 5   \n",
        "Saída:   \n",
        "O backup levará 000 horas, 00 minutos e 20 segundos.   \n",
        "Serão necessárias 50 mídias para armazenar o backup.\n",
        "\n",
        "Segundo Exemplo   \n",
        "Entrada:\n",
        "Informe a quantidade de dados a ser copiada (em MB): 10000\n",
        "Informe a capacidade de armazenamento da mídia (em MB): 3\n",
        "Informe a velocidade de transferência (em MB/s): 4\n",
        "Saída:\n",
        "O backup levará 000 horas, 41 minutos e 40 segundos.\n",
        "Serão necessárias 3334 mídias para armazenar o backup.   \n",
        "\n",
        "Terceiro Exemplo   \n",
        "Entrada:\n",
        "Informe a quantidade de dados a ser copiada (em MB): 100000\n",
        "Informe a capacidade de armazenamento da mídia (em MB): 4\n",
        "Informe a velocidade de transferência (em MB/s): 3\n",
        "Saída:\n",
        "O backup levará 009 horas, 15 minutos e 34 segundos.\n",
        "Serão necessárias 25000 mídias para armazenar o backup"
      ],
      "metadata": {
        "id": "DBB0zhcKRFlp"
      }
    },
    {
      "cell_type": "code",
      "source": [
        "# a) Uma única função que calcula e retorna quantas horas, minutos e segundos serão necessárias para fazer o backup;\n",
        "def calcular_tempo_backup(tamanho_dados, velocidade_transferencia):\n",
        "    total_segundos = tamanho_dados // velocidade_transferencia\n",
        "    horas = total_segundos // 3600\n",
        "    minutos = (total_segundos % 3600) // 60\n",
        "    segundos = total_segundos % 60\n",
        "    return horas, minutos, segundos\n",
        "\n",
        "# b) Uma função que calcula e retorna quantas unidades de mídia necessárias para armazenar o backup;\n",
        "def calcular_midias_necessarias(tamanho_dados, capacidade_midia):\n",
        "    if tamanho_dados % capacidade_midia == 0:\n",
        "        midias = tamanho_dados // capacidade_midia\n",
        "    else:\n",
        "        midias = (tamanho_dados // capacidade_midia) + 1\n",
        "    return midias\n",
        "\n",
        "# c) Um procedimento principal, com o nome principal() e sem parâmetros, que lê os dados de entrada, utiliza as funções dos itens “a” e “b” e imprime os resultados obtidos.\n",
        "def principal():\n",
        "    tamanho_dados = int(input(\"Informe a quantidade de dados a ser copiada (em MB): \"))\n",
        "    capacidade_midia = int(input(\"Informe a capacidade de armazenamento da mídia (em MB): \"))\n",
        "    velocidade_transferencia = int(input(\"Informe a velocidade de transferência (em MB/s): \"))\n",
        "\n",
        "    horas, minutos, segundos = calcular_tempo_backup(tamanho_dados, velocidade_transferencia)\n",
        "    midias = calcular_midias_necessarias(tamanho_dados, capacidade_midia)\n",
        "\n",
        "    print(f\"O backup levará {horas:03} horas, {minutos:02} minutos e {segundos:02} segundos.\")\n",
        "    print(f\"Serão necessárias {midias} mídias para armazenar o backup.\")\n",
        "\n",
        "# d) Uma chamada ao procedimento principal do item “c”.\n",
        "principal()\n"
      ],
      "metadata": {
        "id": "IBTN6edinZ-J",
        "outputId": "96b625b8-6973-41e2-e6dd-3149f249cbc7",
        "colab": {
          "base_uri": "https://localhost:8080/"
        }
      },
      "execution_count": 51,
      "outputs": [
        {
          "output_type": "stream",
          "name": "stdout",
          "text": [
            "Informe a quantidade de dados a ser copiada (em MB): 100000\n",
            "Informe a capacidade de armazenamento da mídia (em MB): 4\n",
            "Informe a velocidade de transferência (em MB/s): 3\n",
            "O backup levará 009 horas, 15 minutos e 33 segundos.\n",
            "Serão necessárias 25000 mídias para armazenar o backup.\n"
          ]
        }
      ]
    },
    {
      "cell_type": "code",
      "source": [
        "# primeiro resolver os calculos\n",
        "# depois resolver a estrutura de defs\n",
        "\n",
        "\n",
        "#  total de horas, minutos e segundos para fazer esse backup e quantas mídias (unidades de disco) serão necessárias\n",
        "\n",
        "# Os dados de entrada são: a quantidade de informações a ser copiada, um inteiro - em Megabytes - MB;\n",
        "# a capacidade de armazenamento de uma mídia, um inteiro – também em MB;\n",
        "# e a velocidade de transferência, um inteiro - representando MB por segundo (MB/s), do aparelho de backup\n",
        "\n",
        "\n",
        "  # que lê os dados de entrada,\n",
        "dados_a_ser_copiados = int(input(\"Informe a quantidade de dados a ser copiada (em MB): \"))\n",
        "capacidade_de_armazenamento = int(input(\"Informe a capacidade de armazenamento da mídia (em MB): \"))\n",
        "velocidade_de_transferencia = int(input(\"Informe a velocidade de transferência (em MB/s):\"))\n",
        "\n",
        "\n",
        "  # utiliza as funções dos itens “a” e “b”\n",
        "\n",
        "    # a) Uma única função que calcula e retorna quantas horas, minutos e segundos serão necessárias para fazer o backup;\n",
        "horas = (dados_a_ser_copiados / velocidade_de_transferencia) // 3600\n",
        "minutos = ((dados_a_ser_copiados / velocidade_de_transferencia) % 3600) // 60\n",
        "segundos = ((dados_a_ser_copiados / velocidade_de_transferencia) % 3600) % 60\n",
        "if ((dados_a_ser_copiados / velocidade_de_transferencia) % 3600) % 60 != 0:\n",
        "    segundos += 1\n",
        "\n",
        "print(f\"O backup levará {horas:.0f} horas, {minutos:.0f} minutos e {segundos:.0f} segundos.\") #Serão necessárias {midias:.0f} mídias para armazenar o backup\n",
        "\n",
        "    # b) Uma função que calcula e retorna quantas unidades de mídia necessárias para armazenar o backup;\n",
        "midias = dados_a_ser_copiados // capacidade_de_armazenamento\n",
        "print(f\"Serão necessárias {midias:.0f} mídias para armazenar o backup\")\n",
        "\n",
        "  # e imprime os resultados obtidos.\n",
        "\n"
      ],
      "metadata": {
        "id": "V-LzJAIUWF8i",
        "outputId": "dda1e472-61ee-485a-e248-f170c8129ff7",
        "colab": {
          "base_uri": "https://localhost:8080/"
        }
      },
      "execution_count": 47,
      "outputs": [
        {
          "output_type": "stream",
          "name": "stdout",
          "text": [
            "Informe a quantidade de dados a ser copiada (em MB): 10000\n",
            "Informe a capacidade de armazenamento da mídia (em MB): 3\n",
            "Informe a velocidade de transferência (em MB/s):4\n",
            "O backup levará 1 horas, 42 minutos e 40 segundos.\n",
            "Serão necessárias 3333 mídias para armazenar o backup\n"
          ]
        }
      ]
    },
    {
      "cell_type": "code",
      "source": [
        "dados_a_ser_copiados = int(input(\"Informe a quantidade de dados a ser copiada (em MB): \"))\n",
        "capacidade_de_armazenamento = int(input(\"Informe a capacidade de armazenamento da mídia (em MB): \"))\n",
        "velocidade_de_transferencia = int(input(\"Informe a velocidade de transferência (em MB/s):\"))\n",
        "\n",
        "horas = (dados_a_ser_copiados / velocidade_de_transferencia) // 3600\n",
        "minutos = ((dados_a_ser_copiados / velocidade_de_transferencia) % 3600) // 60\n",
        "segundos = ((dados_a_ser_copiados / velocidade_de_transferencia) % 3600) % 60\n",
        "\n",
        "\n",
        "print(f\"O backup levará {horas:.0f} horas, {minutos:.0f} minutos e {segundos:.0f} segundos.\")\n",
        "\n",
        "midias = dados_a_ser_copiados // capacidade_de_armazenamento\n",
        "print(f\"Serão necessárias {midias:.0f} mídias para armazenar o backup\")\n"
      ],
      "metadata": {
        "id": "B9QFO_mvlt5Y"
      },
      "execution_count": null,
      "outputs": []
    },
    {
      "source": [
        "dados_a_ser_copiados = int(input(\"Informe a quantidade de dados a ser copiada (em MB): \"))\n",
        "capacidade_de_armazenamento = int(input(\"Informe a capacidade de armazenamento da mídia (em MB): \"))\n",
        "velocidade_de_transferencia = int(input(\"Informe a velocidade de transferência (em MB/s):\"))\n",
        "\n",
        "\n",
        "horas = (dados_a_ser_copiados / velocidade_de_transferencia) // 3600\n",
        "if (dados_a_ser_copiados / velocidade_de_transferencia) % 3600 != 0:\n",
        "    horas += 1\n",
        "\n",
        "minutos = ((dados_a_ser_copiados / velocidade_de_transferencia) % 3600) // 60\n",
        "if ((dados_a_ser_copiados / velocidade_de_transferencia) % 3600) % 60 != 0:\n",
        "    minutos += 1\n",
        "\n",
        "segundos = ((dados_a_ser_copiados / velocidade_de_transferencia) % 3600) % 60\n",
        "if ((dados_a_ser_copiados / velocidade_de_transferencia) % 3600) % 60 != 0:\n",
        "    segundos += 1\n",
        "\n",
        "# Formatar a saída para ter 3 dígitos, preenchendo com zeros à esquerda\n",
        "print(f\"Horas: {str(int(horas)).zfill(3)}, Minutos: {str(int(minutos)).zfill(3)}, Segundos: {str(int(segundos)).zfill(3)}\")"
      ],
      "cell_type": "code",
      "metadata": {
        "id": "X-otIY70jbe0",
        "outputId": "811c854d-8cd0-41e6-c2ee-46087861dcba",
        "colab": {
          "base_uri": "https://localhost:8080/"
        }
      },
      "execution_count": 39,
      "outputs": [
        {
          "output_type": "stream",
          "name": "stdout",
          "text": [
            "Informe a quantidade de dados a ser copiada (em MB): 100000\n",
            "Informe a capacidade de armazenamento da mídia (em MB): 4\n",
            "Informe a velocidade de transferência (em MB/s):3\n",
            "Horas: 010, Minutos: 016, Segundos: 034\n"
          ]
        }
      ]
    },
    {
      "cell_type": "code",
      "source": [
        "10%3"
      ],
      "metadata": {
        "id": "fFK40X7leWCi",
        "outputId": "a3116cbd-9d76-4f60-f732-09ce98e0d310",
        "colab": {
          "base_uri": "https://localhost:8080/"
        }
      },
      "execution_count": 22,
      "outputs": [
        {
          "output_type": "execute_result",
          "data": {
            "text/plain": [
              "1"
            ]
          },
          "metadata": {},
          "execution_count": 22
        }
      ]
    },
    {
      "cell_type": "markdown",
      "source": [],
      "metadata": {
        "id": "MdmEalPcXJV_"
      }
    },
    {
      "cell_type": "markdown",
      "source": [
        "Curso: Ciência de Dados   \n",
        "Disciplina: Algoritmos e Programação II   \n",
        "Aula 1 - Funções e Procedimentos    \n",
        "A1 - Aplicando Conhecimento   \n",
        "Possível solução realizada em \"Sun Sep 1 08:30:00 2024\"   \n",
        "@author: Heverton Valério de Lima   "
      ],
      "metadata": {
        "id": "3OuO-vAVWbEc"
      }
    },
    {
      "cell_type": "markdown",
      "source": [
        "## Aula 2 -"
      ],
      "metadata": {
        "id": "5EFmMgBoserl"
      }
    },
    {
      "cell_type": "code",
      "execution_count": null,
      "metadata": {
        "id": "VI_p0ONbiH8q"
      },
      "outputs": [],
      "source": []
    }
  ]
}