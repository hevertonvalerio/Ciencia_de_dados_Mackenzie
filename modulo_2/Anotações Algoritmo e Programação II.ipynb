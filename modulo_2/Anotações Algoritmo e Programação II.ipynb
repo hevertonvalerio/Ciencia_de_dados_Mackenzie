{
  "nbformat": 4,
  "nbformat_minor": 0,
  "metadata": {
    "colab": {
      "provenance": [],
      "authorship_tag": "ABX9TyMlGQyV0p0p02lCCssBNQzs",
      "include_colab_link": true
    },
    "kernelspec": {
      "name": "python3",
      "display_name": "Python 3"
    },
    "language_info": {
      "name": "python"
    }
  },
  "cells": [
    {
      "cell_type": "markdown",
      "metadata": {
        "id": "view-in-github",
        "colab_type": "text"
      },
      "source": [
        "<a href=\"https://colab.research.google.com/github/hevertonvalerio/Ciencia_de_dados_Mackenzie/blob/main/modulo_2/Anota%C3%A7%C3%B5es%20Algoritmo%20e%20Programa%C3%A7%C3%A3o%20II.ipynb\" target=\"_parent\"><img src=\"https://colab.research.google.com/assets/colab-badge.svg\" alt=\"Open In Colab\"/></a>"
      ]
    },
    {
      "cell_type": "markdown",
      "source": [
        "# Anotações Algoritmo e Programação II\n"
      ],
      "metadata": {
        "id": "Us1jSWPfiTAd"
      }
    },
    {
      "cell_type": "markdown",
      "source": [
        "## Aula 1 - Funções e Procedimentos"
      ],
      "metadata": {
        "id": "a1HFqRm2iWxj"
      }
    },
    {
      "cell_type": "markdown",
      "source": [
        "**Objetivo da Aula**  \n",
        "Ao final da aula, você será capaz de construir funções e modularizar o código em Python."
      ],
      "metadata": {
        "id": "htr6Qbhk_cpX"
      }
    },
    {
      "cell_type": "code",
      "source": [
        "def nome(paramentros):\n",
        "  comandos"
      ],
      "metadata": {
        "id": "W4g9h-rWAsAi"
      },
      "execution_count": null,
      "outputs": []
    },
    {
      "cell_type": "code",
      "source": [
        "def soma(a,b):\n",
        "  res = a + b\n",
        "  return res\n",
        "\n",
        "x = 1\n",
        "y = 2\n",
        "\n",
        "print('soma =', soma(x,y))"
      ],
      "metadata": {
        "id": "YINHq83bBElQ",
        "outputId": "ce16428e-33ef-43e8-fa01-79b5bae89287",
        "colab": {
          "base_uri": "https://localhost:8080/"
        }
      },
      "execution_count": 2,
      "outputs": [
        {
          "output_type": "stream",
          "name": "stdout",
          "text": [
            "soma = 3\n"
          ]
        }
      ]
    },
    {
      "cell_type": "markdown",
      "source": [
        "Variáveis locais e globais\n",
        "\n",
        "variaveis globais são as que estão fora da função\n",
        "\n",
        "```\n",
        "def f1(a):\n",
        "  # variáveis locais comandos\n",
        "  print(a + x)\n",
        "\n",
        "def f2(a):\n",
        "  # variáveis locais comandos\n",
        "  t = 4\n",
        "  print(a+x+y)\n",
        "\n",
        "# Variável global\n",
        "x=10\n",
        "f1(1)\n",
        "f2(2)\n",
        "\n",
        "print(x)\n",
        "\n",
        "```"
      ],
      "metadata": {
        "id": "I2n1cln6Btzk"
      }
    },
    {
      "cell_type": "code",
      "source": [
        "def f1(a):\n",
        "  # variáveis locais comandos\n",
        "  print(a + x)\n",
        "\n",
        "def f2(a):\n",
        "  # variáveis locais comandos\n",
        "  t = 4\n",
        "  print(a+x+y)\n",
        "\n",
        "# Variável global\n",
        "x=10\n",
        "f1(1)\n",
        "f2(2)\n",
        "\n",
        "print(x)"
      ],
      "metadata": {
        "id": "r28-PpWlBwXU",
        "outputId": "4993307f-51bd-4742-d61b-f157f4c4bacb",
        "colab": {
          "base_uri": "https://localhost:8080/"
        }
      },
      "execution_count": 3,
      "outputs": [
        {
          "output_type": "stream",
          "name": "stdout",
          "text": [
            "11\n",
            "14\n",
            "10\n"
          ]
        }
      ]
    },
    {
      "cell_type": "markdown",
      "source": [
        "## Aula 2 -"
      ],
      "metadata": {
        "id": "5EFmMgBoserl"
      }
    },
    {
      "cell_type": "code",
      "execution_count": null,
      "metadata": {
        "id": "VI_p0ONbiH8q"
      },
      "outputs": [],
      "source": []
    }
  ]
}